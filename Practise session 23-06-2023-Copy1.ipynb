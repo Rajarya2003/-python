{
 "cells": [
  {
   "cell_type": "code",
   "execution_count": 2,
   "id": "578588f6",
   "metadata": {},
   "outputs": [
    {
     "ename": "SyntaxError",
     "evalue": "leading zeros in decimal integer literals are not permitted; use an 0o prefix for octal integers (1881636178.py, line 1)",
     "output_type": "error",
     "traceback": [
      "\u001b[1;36m  Cell \u001b[1;32mIn[2], line 1\u001b[1;36m\u001b[0m\n\u001b[1;33m    print('my name is raj arya','DOB',28-04-2003)\u001b[0m\n\u001b[1;37m                                         ^\u001b[0m\n\u001b[1;31mSyntaxError\u001b[0m\u001b[1;31m:\u001b[0m leading zeros in decimal integer literals are not permitted; use an 0o prefix for octal integers\n"
     ]
    }
   ],
   "source": [
    "print('my name is raj arya','DOB',28-04-2003)"
   ]
  },
  {
   "cell_type": "code",
   "execution_count": 3,
   "id": "124feb4b",
   "metadata": {},
   "outputs": [
    {
     "name": "stdout",
     "output_type": "stream",
     "text": [
      "my name is raj arya DOB -1979\n"
     ]
    }
   ],
   "source": [
    "print('my name is raj arya','DOB',28-4-2003)"
   ]
  },
  {
   "cell_type": "code",
   "execution_count": 4,
   "id": "48b9ba3f",
   "metadata": {},
   "outputs": [
    {
     "ename": "SyntaxError",
     "evalue": "unexpected character after line continuation character (2200710295.py, line 1)",
     "output_type": "error",
     "traceback": [
      "\u001b[1;36m  Cell \u001b[1;32mIn[4], line 1\u001b[1;36m\u001b[0m\n\u001b[1;33m    print('my name is raj arya','DOB',28\\4\\2003)\u001b[0m\n\u001b[1;37m                                         ^\u001b[0m\n\u001b[1;31mSyntaxError\u001b[0m\u001b[1;31m:\u001b[0m unexpected character after line continuation character\n"
     ]
    }
   ],
   "source": [
    "print('my name is raj arya','DOB',28\\4\\2003)"
   ]
  },
  {
   "cell_type": "code",
   "execution_count": 5,
   "id": "1eb5fb5c",
   "metadata": {},
   "outputs": [
    {
     "ename": "SyntaxError",
     "evalue": "invalid syntax (939943138.py, line 1)",
     "output_type": "error",
     "traceback": [
      "\u001b[1;36m  Cell \u001b[1;32mIn[5], line 1\u001b[1;36m\u001b[0m\n\u001b[1;33m    print('my name is raj arya',\"DOB\";28;4;2003)\u001b[0m\n\u001b[1;37m                                     ^\u001b[0m\n\u001b[1;31mSyntaxError\u001b[0m\u001b[1;31m:\u001b[0m invalid syntax\n"
     ]
    }
   ],
   "source": [
    "print('my name is raj arya',\"DOB\";28;4;2003)"
   ]
  },
  {
   "cell_type": "code",
   "execution_count": 6,
   "id": "1621b84e",
   "metadata": {},
   "outputs": [
    {
     "ename": "SyntaxError",
     "evalue": "invalid syntax (1562788717.py, line 1)",
     "output_type": "error",
     "traceback": [
      "\u001b[1;36m  Cell \u001b[1;32mIn[6], line 1\u001b[1;36m\u001b[0m\n\u001b[1;33m    print('my name is raj arya','DOB is',28;4;2003)\u001b[0m\n\u001b[1;37m                                           ^\u001b[0m\n\u001b[1;31mSyntaxError\u001b[0m\u001b[1;31m:\u001b[0m invalid syntax\n"
     ]
    }
   ],
   "source": [
    "print('my name is raj arya','DOB is',28;4;2003)"
   ]
  },
  {
   "cell_type": "code",
   "execution_count": 11,
   "id": "ccc64097",
   "metadata": {},
   "outputs": [
    {
     "name": "stdout",
     "output_type": "stream",
     "text": [
      "my name is raj arya my DOB is 28 4 2003\n"
     ]
    }
   ],
   "source": [
    "print('my name is raj arya','my DOB is',28 ,4 ,2003)"
   ]
  },
  {
   "cell_type": "code",
   "execution_count": 9,
   "id": "ea17f8e8",
   "metadata": {},
   "outputs": [
    {
     "name": "stdout",
     "output_type": "stream",
     "text": [
      "my name is raj arya my DOB is ,28,04,2003\n"
     ]
    }
   ],
   "source": [
    "print('my name is raj arya','my DOB is ,28,04,2003')"
   ]
  },
  {
   "cell_type": "code",
   "execution_count": 12,
   "id": "d14d0d18",
   "metadata": {},
   "outputs": [],
   "source": [
    "x=10+24+55+\\\n",
    "45+67+43"
   ]
  },
  {
   "cell_type": "code",
   "execution_count": 13,
   "id": "1c558988",
   "metadata": {},
   "outputs": [
    {
     "name": "stdout",
     "output_type": "stream",
     "text": [
      "244\n"
     ]
    }
   ],
   "source": [
    "print(x)"
   ]
  },
  {
   "cell_type": "code",
   "execution_count": 15,
   "id": "76a82bc9",
   "metadata": {},
   "outputs": [
    {
     "ename": "SyntaxError",
     "evalue": "invalid syntax (2168949045.py, line 1)",
     "output_type": "error",
     "traceback": [
      "\u001b[1;36m  Cell \u001b[1;32mIn[15], line 1\u001b[1;36m\u001b[0m\n\u001b[1;33m    y=22-10+34+54-67/\u001b[0m\n\u001b[1;37m                     ^\u001b[0m\n\u001b[1;31mSyntaxError\u001b[0m\u001b[1;31m:\u001b[0m invalid syntax\n"
     ]
    }
   ],
   "source": [
    "y=22-10+34+54-67/\n",
    "78+56+-43+56+45\\\n",
    "67-78+56+-67\n"
   ]
  },
  {
   "cell_type": "code",
   "execution_count": 17,
   "id": "3c632301",
   "metadata": {},
   "outputs": [],
   "source": [
    "y=23+45+67+89+\\\n",
    "67+25+65+56+\\\n",
    "45+56+56+89"
   ]
  },
  {
   "cell_type": "code",
   "execution_count": 18,
   "id": "b606dc28",
   "metadata": {},
   "outputs": [
    {
     "name": "stdout",
     "output_type": "stream",
     "text": [
      "683\n"
     ]
    }
   ],
   "source": [
    "print(y)"
   ]
  },
  {
   "cell_type": "code",
   "execution_count": 20,
   "id": "f4705034",
   "metadata": {},
   "outputs": [],
   "source": [
    "x=56+32+54+95+965+98+5+65+78+\\\n",
    "56+456+78+21+32+\\\n",
    "45+25"
   ]
  },
  {
   "cell_type": "code",
   "execution_count": 21,
   "id": "a7a85535",
   "metadata": {},
   "outputs": [
    {
     "name": "stdout",
     "output_type": "stream",
     "text": [
      "2161\n"
     ]
    }
   ],
   "source": [
    "print(x)"
   ]
  },
  {
   "cell_type": "code",
   "execution_count": 2,
   "id": "50125cf0",
   "metadata": {},
   "outputs": [
    {
     "data": {
      "text/plain": [
       "'hello'"
      ]
     },
     "execution_count": 2,
     "metadata": {},
     "output_type": "execute_result"
    }
   ],
   "source": [
    "x=23;y=45;('hello')"
   ]
  },
  {
   "cell_type": "code",
   "execution_count": 1,
   "id": "ee716492",
   "metadata": {},
   "outputs": [
    {
     "data": {
      "text/plain": [
       "'hello'"
      ]
     },
     "execution_count": 1,
     "metadata": {},
     "output_type": "execute_result"
    }
   ],
   "source": [
    "\"hello\""
   ]
  },
  {
   "cell_type": "code",
   "execution_count": 3,
   "id": "8455a3e7",
   "metadata": {},
   "outputs": [
    {
     "name": "stdout",
     "output_type": "stream",
     "text": [
      "23 45\n"
     ]
    }
   ],
   "source": [
    "print(x,y)"
   ]
  },
  {
   "cell_type": "code",
   "execution_count": 2,
   "id": "79057d6e",
   "metadata": {},
   "outputs": [
    {
     "ename": "SyntaxError",
     "evalue": "invalid syntax (3612838045.py, line 1)",
     "output_type": "error",
     "traceback": [
      "\u001b[1;36m  Cell \u001b[1;32mIn[2], line 1\u001b[1;36m\u001b[0m\n\u001b[1;33m    x= I am the best data scientist\u001b[0m\n\u001b[1;37m         ^\u001b[0m\n\u001b[1;31mSyntaxError\u001b[0m\u001b[1;31m:\u001b[0m invalid syntax\n"
     ]
    }
   ],
   "source": [
    "x= I am the best data scientist                 "
   ]
  },
  {
   "cell_type": "code",
   "execution_count": 3,
   "id": "f4feedd1",
   "metadata": {},
   "outputs": [
    {
     "ename": "SyntaxError",
     "evalue": "invalid syntax (3491479443.py, line 1)",
     "output_type": "error",
     "traceback": [
      "\u001b[1;36m  Cell \u001b[1;32mIn[3], line 1\u001b[1;36m\u001b[0m\n\u001b[1;33m    x= I Am the best data scientist\u001b[0m\n\u001b[1;37m         ^\u001b[0m\n\u001b[1;31mSyntaxError\u001b[0m\u001b[1;31m:\u001b[0m invalid syntax\n"
     ]
    }
   ],
   "source": [
    "x= I Am the best data scientist"
   ]
  },
  {
   "cell_type": "code",
   "execution_count": 4,
   "id": "7fe36aa8",
   "metadata": {},
   "outputs": [
    {
     "ename": "SyntaxError",
     "evalue": "invalid syntax (2456955175.py, line 1)",
     "output_type": "error",
     "traceback": [
      "\u001b[1;36m  Cell \u001b[1;32mIn[4], line 1\u001b[1;36m\u001b[0m\n\u001b[1;33m    x=raj is the best data scientist\u001b[0m\n\u001b[1;37m                 ^\u001b[0m\n\u001b[1;31mSyntaxError\u001b[0m\u001b[1;31m:\u001b[0m invalid syntax\n"
     ]
    }
   ],
   "source": [
    "x=raj is the best data scientist"
   ]
  },
  {
   "cell_type": "code",
   "execution_count": 1,
   "id": "3e283a56",
   "metadata": {},
   "outputs": [],
   "source": [
    " x = \"my name is raj arya\""
   ]
  },
  {
   "cell_type": "code",
   "execution_count": 6,
   "id": "831de5b2",
   "metadata": {},
   "outputs": [
    {
     "name": "stdout",
     "output_type": "stream",
     "text": [
      "I am the best data scientist\n"
     ]
    }
   ],
   "source": [
    "print('I am the best data scientist')"
   ]
  },
  {
   "cell_type": "code",
   "execution_count": 8,
   "id": "13c9be5b",
   "metadata": {},
   "outputs": [
    {
     "ename": "SyntaxError",
     "evalue": "invalid syntax. Perhaps you forgot a comma? (2141919781.py, line 1)",
     "output_type": "error",
     "traceback": [
      "\u001b[1;36m  Cell \u001b[1;32mIn[8], line 1\u001b[1;36m\u001b[0m\n\u001b[1;33m    print(I am the best,' data ',scientist)\u001b[0m\n\u001b[1;37m          ^\u001b[0m\n\u001b[1;31mSyntaxError\u001b[0m\u001b[1;31m:\u001b[0m invalid syntax. Perhaps you forgot a comma?\n"
     ]
    }
   ],
   "source": [
    "print(I am the best,' data ',scientist)"
   ]
  },
  {
   "cell_type": "code",
   "execution_count": 9,
   "id": "e9a09d7b",
   "metadata": {},
   "outputs": [
    {
     "ename": "SyntaxError",
     "evalue": "invalid syntax (3897829995.py, line 2)",
     "output_type": "error",
     "traceback": [
      "\u001b[1;36m  Cell \u001b[1;32mIn[9], line 2\u001b[1;36m\u001b[0m\n\u001b[1;33m    45+56+12\\\u001b[0m\n\u001b[1;37m    ^\u001b[0m\n\u001b[1;31mSyntaxError\u001b[0m\u001b[1;31m:\u001b[0m invalid syntax\n"
     ]
    }
   ],
   "source": [
    "x=10+30+20\\\n",
    "45+56+12\\\n",
    "print ( x,'this is my marks')"
   ]
  },
  {
   "cell_type": "code",
   "execution_count": 1,
   "id": "7dab4402",
   "metadata": {},
   "outputs": [
    {
     "ename": "SyntaxError",
     "evalue": "invalid syntax (2572597238.py, line 2)",
     "output_type": "error",
     "traceback": [
      "\u001b[1;36m  Cell \u001b[1;32mIn[1], line 2\u001b[1;36m\u001b[0m\n\u001b[1;33m    45+56+96\\\u001b[0m\n\u001b[1;37m    ^\u001b[0m\n\u001b[1;31mSyntaxError\u001b[0m\u001b[1;31m:\u001b[0m invalid syntax\n"
     ]
    }
   ],
   "source": [
    "x=10+23+56+23+1\\\n",
    "45+56+96\\\n",
    "45+56"
   ]
  },
  {
   "cell_type": "code",
   "execution_count": 2,
   "id": "8bd516f2",
   "metadata": {},
   "outputs": [],
   "source": [
    "x= 10+23+56+59+56+\\\n",
    "56+65+569+45+45+\\\n",
    "45+56+894+98"
   ]
  },
  {
   "cell_type": "code",
   "execution_count": 3,
   "id": "6f3a9791",
   "metadata": {},
   "outputs": [
    {
     "name": "stdout",
     "output_type": "stream",
     "text": [
      "2077 my runs in odi format in 2023\n"
     ]
    }
   ],
   "source": [
    "print(x,\"my runs in odi format in 2023\")"
   ]
  },
  {
   "cell_type": "code",
   "execution_count": 6,
   "id": "113b7bbe",
   "metadata": {},
   "outputs": [
    {
     "name": "stdout",
     "output_type": "stream",
     "text": [
      "30.928571428571427 raj arya batting  average in 2023 odi format\n"
     ]
    }
   ],
   "source": [
    "print(x/14,\"raj arya batting  average in 2023 odi format\")"
   ]
  },
  {
   "cell_type": "code",
   "execution_count": 4,
   "id": "117162d0",
   "metadata": {},
   "outputs": [
    {
     "name": "stdout",
     "output_type": "stream",
     "text": [
      "Raj\n",
      "12\n",
      "433\n"
     ]
    }
   ],
   "source": [
    "x=90+98+94+95+56\n",
    "print('Raj')\n",
    "print('12')\n",
    "print(x)"
   ]
  },
  {
   "cell_type": "code",
   "execution_count": 5,
   "id": "b09d6f06",
   "metadata": {},
   "outputs": [
    {
     "name": "stdout",
     "output_type": "stream",
     "text": [
      "86.6\n"
     ]
    }
   ],
   "source": [
    "print(x/5)"
   ]
  },
  {
   "cell_type": "code",
   "execution_count": 7,
   "id": "b1565f0d",
   "metadata": {},
   "outputs": [],
   "source": [
    "x=2077"
   ]
  },
  {
   "cell_type": "code",
   "execution_count": 8,
   "id": "ed670590",
   "metadata": {},
   "outputs": [
    {
     "name": "stdout",
     "output_type": "stream",
     "text": [
      "148.35714285714286\n"
     ]
    }
   ],
   "source": [
    "print(x/14)"
   ]
  },
  {
   "cell_type": "code",
   "execution_count": 9,
   "id": "aa85c9ab",
   "metadata": {},
   "outputs": [
    {
     "name": "stdout",
     "output_type": "stream",
     "text": [
      "148.35714285714286 is the batting average of raj arya in odi format in 2023\n"
     ]
    }
   ],
   "source": [
    "print(x/14,'is the batting average of raj arya in odi format in 2023')"
   ]
  },
  {
   "cell_type": "code",
   "execution_count": null,
   "id": "b13203fe",
   "metadata": {},
   "outputs": [],
   "source": []
  },
  {
   "cell_type": "code",
   "execution_count": null,
   "id": "e2a67ac0",
   "metadata": {},
   "outputs": [],
   "source": []
  },
  {
   "cell_type": "code",
   "execution_count": null,
   "id": "93f28579",
   "metadata": {},
   "outputs": [],
   "source": []
  },
  {
   "cell_type": "code",
   "execution_count": null,
   "id": "ed613d78",
   "metadata": {},
   "outputs": [],
   "source": []
  }
 ],
 "metadata": {
  "kernelspec": {
   "display_name": "Python 3 (ipykernel)",
   "language": "python",
   "name": "python3"
  },
  "language_info": {
   "codemirror_mode": {
    "name": "ipython",
    "version": 3
   },
   "file_extension": ".py",
   "mimetype": "text/x-python",
   "name": "python",
   "nbconvert_exporter": "python",
   "pygments_lexer": "ipython3",
   "version": "3.10.9"
  }
 },
 "nbformat": 4,
 "nbformat_minor": 5
}
