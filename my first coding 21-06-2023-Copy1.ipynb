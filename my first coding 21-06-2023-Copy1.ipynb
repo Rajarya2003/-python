{
 "cells": [
  {
   "cell_type": "code",
   "execution_count": 1,
   "id": "85b3a362",
   "metadata": {},
   "outputs": [
    {
     "ename": "SyntaxError",
     "evalue": "invalid syntax. Perhaps you forgot a comma? (1056318764.py, line 1)",
     "output_type": "error",
     "traceback": [
      "\u001b[1;36m  Cell \u001b[1;32mIn[1], line 1\u001b[1;36m\u001b[0m\n\u001b[1;33m    print(i am raj)\u001b[0m\n\u001b[1;37m          ^\u001b[0m\n\u001b[1;31mSyntaxError\u001b[0m\u001b[1;31m:\u001b[0m invalid syntax. Perhaps you forgot a comma?\n"
     ]
    }
   ],
   "source": [
    "print(i am raj)"
   ]
  },
  {
   "cell_type": "code",
   "execution_count": 2,
   "id": "d977ab26",
   "metadata": {},
   "outputs": [
    {
     "name": "stdout",
     "output_type": "stream",
     "text": [
      "i am raj\n"
     ]
    }
   ],
   "source": [
    "print (\"i am raj\")"
   ]
  },
  {
   "cell_type": "markdown",
   "id": "d5be8a26",
   "metadata": {},
   "source": [
    "i am raj"
   ]
  },
  {
   "cell_type": "code",
   "execution_count": null,
   "id": "ea580f36",
   "metadata": {},
   "outputs": [],
   "source": []
  }
 ],
 "metadata": {
  "kernelspec": {
   "display_name": "Python 3 (ipykernel)",
   "language": "python",
   "name": "python3"
  },
  "language_info": {
   "codemirror_mode": {
    "name": "ipython",
    "version": 3
   },
   "file_extension": ".py",
   "mimetype": "text/x-python",
   "name": "python",
   "nbconvert_exporter": "python",
   "pygments_lexer": "ipython3",
   "version": "3.10.9"
  }
 },
 "nbformat": 4,
 "nbformat_minor": 5
}
