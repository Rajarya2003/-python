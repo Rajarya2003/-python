{
 "cells": [
  {
   "cell_type": "markdown",
   "id": "b0366cdf",
   "metadata": {},
   "source": [
    "# Exponent**"
   ]
  },
  {
   "cell_type": "code",
   "execution_count": 1,
   "id": "3d7aeba5",
   "metadata": {},
   "outputs": [
    {
     "name": "stdout",
     "output_type": "stream",
     "text": [
      "125\n"
     ]
    }
   ],
   "source": [
    "x=5\n",
    "print(x**3)"
   ]
  },
  {
   "cell_type": "code",
   "execution_count": 2,
   "id": "7d7bde91",
   "metadata": {},
   "outputs": [
    {
     "name": "stdout",
     "output_type": "stream",
     "text": [
      "4\n"
     ]
    }
   ],
   "source": [
    "x=2\n",
    "print(x**2)"
   ]
  },
  {
   "cell_type": "code",
   "execution_count": 3,
   "id": "35154ae8",
   "metadata": {},
   "outputs": [
    {
     "name": "stdout",
     "output_type": "stream",
     "text": [
      "9\n"
     ]
    }
   ],
   "source": [
    "y=3\n",
    "print(y**2)"
   ]
  },
  {
   "cell_type": "code",
   "execution_count": 6,
   "id": "b0c24801",
   "metadata": {},
   "outputs": [
    {
     "name": "stdout",
     "output_type": "stream",
     "text": [
      "8\n"
     ]
    }
   ],
   "source": [
    "y=2\n",
    "print(y**3)"
   ]
  },
  {
   "cell_type": "code",
   "execution_count": 3,
   "id": "9b02bb57",
   "metadata": {},
   "outputs": [
    {
     "name": "stdout",
     "output_type": "stream",
     "text": [
      "3125\n"
     ]
    }
   ],
   "source": [
    "x=5\n",
    "print(x**5)"
   ]
  },
  {
   "cell_type": "code",
   "execution_count": 5,
   "id": "09741744",
   "metadata": {},
   "outputs": [
    {
     "data": {
      "text/plain": [
       "43.0"
      ]
     },
     "execution_count": 5,
     "metadata": {},
     "output_type": "execute_result"
    }
   ],
   "source": [
    "10+34\\\n",
    "-5*10\\\n",
    "/5//10\\\n",
    "%8**7"
   ]
  },
  {
   "cell_type": "markdown",
   "id": "3ceda300",
   "metadata": {},
   "source": [
    "#  Comparision operators\n",
    "\n",
    "- Relational  comparison opeator"
   ]
  },
  {
   "cell_type": "code",
   "execution_count": 2,
   "id": "0d6ec37e",
   "metadata": {},
   "outputs": [
    {
     "name": "stdout",
     "output_type": "stream",
     "text": [
      "False\n",
      "True\n",
      "False\n",
      "True\n",
      "True\n",
      "False\n"
     ]
    }
   ],
   "source": [
    "x=8\n",
    "y=10                    # this is a six type of comparision operator.\n",
    "\n",
    "print(x==y)\n",
    "print(x!=y)\n",
    "print(x>y)\n",
    "print(x<y)\n",
    "print(x<=y)\n",
    "print(x>=y)"
   ]
  },
  {
   "cell_type": "code",
   "execution_count": 4,
   "id": "7a268fca",
   "metadata": {},
   "outputs": [
    {
     "data": {
      "text/plain": [
       "False"
      ]
     },
     "execution_count": 4,
     "metadata": {},
     "output_type": "execute_result"
    }
   ],
   "source": [
    "z=\"hello world\"\n",
    "\"string\"==z"
   ]
  },
  {
   "cell_type": "code",
   "execution_count": 9,
   "id": "fc6c6734",
   "metadata": {},
   "outputs": [
    {
     "data": {
      "text/plain": [
       "False"
      ]
     },
     "execution_count": 9,
     "metadata": {},
     "output_type": "execute_result"
    }
   ],
   "source": [
    "a=\"123\"                        # in python alphabets have more value than numbers or integers.\n",
    "b=\"xyz\"\n",
    "\n",
    "a>=b"
   ]
  },
  {
   "cell_type": "code",
   "execution_count": 10,
   "id": "3df46426",
   "metadata": {},
   "outputs": [
    {
     "data": {
      "text/plain": [
       "True"
      ]
     },
     "execution_count": 10,
     "metadata": {},
     "output_type": "execute_result"
    }
   ],
   "source": [
    "a=\"a\"\n",
    "b=\"A\"                               # lower case alphabet contain more value than upper case alphabet.\n",
    "a>b"
   ]
  },
  {
   "cell_type": "code",
   "execution_count": 8,
   "id": "912c8d60",
   "metadata": {},
   "outputs": [
    {
     "data": {
      "text/plain": [
       "True"
      ]
     },
     "execution_count": 8,
     "metadata": {},
     "output_type": "execute_result"
    }
   ],
   "source": [
    "a=\"a\"\n",
    "b=\"A\"\n",
    "a>b"
   ]
  },
  {
   "cell_type": "code",
   "execution_count": 11,
   "id": "29603d3f",
   "metadata": {},
   "outputs": [
    {
     "name": "stdout",
     "output_type": "stream",
     "text": [
      "True\n"
     ]
    }
   ],
   "source": [
    "q=\"a\"\n",
    "p=\"1\"\n",
    "print(p<q)"
   ]
  },
  {
   "cell_type": "markdown",
   "id": "b095c58e",
   "metadata": {},
   "source": [
    "# \"numbers\"<\"alphabets\"\n",
    "# \"lowe-case \"alphabets\">\"uppercase alphabets\""
   ]
  },
  {
   "cell_type": "code",
   "execution_count": 4,
   "id": "2f9eebbb",
   "metadata": {},
   "outputs": [
    {
     "data": {
      "text/plain": [
       "True"
      ]
     },
     "execution_count": 4,
     "metadata": {},
     "output_type": "execute_result"
    }
   ],
   "source": [
    "x=10;y=5\n",
    "x>y           # greater than"
   ]
  },
  {
   "cell_type": "code",
   "execution_count": null,
   "id": "54de37c9",
   "metadata": {},
   "outputs": [],
   "source": []
  },
  {
   "cell_type": "code",
   "execution_count": 5,
   "id": "c7b861ec",
   "metadata": {},
   "outputs": [
    {
     "data": {
      "text/plain": [
       "False"
      ]
     },
     "execution_count": 5,
     "metadata": {},
     "output_type": "execute_result"
    }
   ],
   "source": [
    "x<y          # less than"
   ]
  },
  {
   "cell_type": "code",
   "execution_count": 6,
   "id": "5d19a4f5",
   "metadata": {},
   "outputs": [
    {
     "data": {
      "text/plain": [
       "False"
      ]
     },
     "execution_count": 6,
     "metadata": {},
     "output_type": "execute_result"
    }
   ],
   "source": [
    "x==y        #equal to"
   ]
  },
  {
   "cell_type": "code",
   "execution_count": 7,
   "id": "4cc710e7",
   "metadata": {},
   "outputs": [
    {
     "data": {
      "text/plain": [
       "True"
      ]
     },
     "execution_count": 7,
     "metadata": {},
     "output_type": "execute_result"
    }
   ],
   "source": [
    "x!=y       # not equal to"
   ]
  },
  {
   "cell_type": "code",
   "execution_count": 9,
   "id": "e85dce2e",
   "metadata": {},
   "outputs": [
    {
     "data": {
      "text/plain": [
       "True"
      ]
     },
     "execution_count": 9,
     "metadata": {},
     "output_type": "execute_result"
    }
   ],
   "source": [
    "x>=y   # greter than or equal to"
   ]
  },
  {
   "cell_type": "code",
   "execution_count": 10,
   "id": "2c8690a7",
   "metadata": {},
   "outputs": [
    {
     "data": {
      "text/plain": [
       "False"
      ]
     },
     "execution_count": 10,
     "metadata": {},
     "output_type": "execute_result"
    }
   ],
   "source": [
    "x<=y   # less than or equal to"
   ]
  },
  {
   "cell_type": "code",
   "execution_count": 11,
   "id": "198ab27e",
   "metadata": {},
   "outputs": [],
   "source": [
    "x=10\n",
    "y=5\n",
    "z=2\n"
   ]
  },
  {
   "cell_type": "code",
   "execution_count": 12,
   "id": "ccdca0f6",
   "metadata": {},
   "outputs": [
    {
     "data": {
      "text/plain": [
       "False"
      ]
     },
     "execution_count": 12,
     "metadata": {},
     "output_type": "execute_result"
    }
   ],
   "source": [
    "x<y"
   ]
  },
  {
   "cell_type": "code",
   "execution_count": 13,
   "id": "f779fddd",
   "metadata": {},
   "outputs": [
    {
     "data": {
      "text/plain": [
       "True"
      ]
     },
     "execution_count": 13,
     "metadata": {},
     "output_type": "execute_result"
    }
   ],
   "source": [
    "x>2"
   ]
  },
  {
   "cell_type": "code",
   "execution_count": 16,
   "id": "a0a8895a",
   "metadata": {},
   "outputs": [
    {
     "data": {
      "text/plain": [
       "True"
      ]
     },
     "execution_count": 16,
     "metadata": {},
     "output_type": "execute_result"
    }
   ],
   "source": [
    "x==y"
   ]
  },
  {
   "cell_type": "code",
   "execution_count": 17,
   "id": "770f1d4e",
   "metadata": {},
   "outputs": [
    {
     "data": {
      "text/plain": [
       "True"
      ]
     },
     "execution_count": 17,
     "metadata": {},
     "output_type": "execute_result"
    }
   ],
   "source": [
    "x>=y"
   ]
  },
  {
   "cell_type": "code",
   "execution_count": 18,
   "id": "3a0fc0d9",
   "metadata": {},
   "outputs": [
    {
     "data": {
      "text/plain": [
       "True"
      ]
     },
     "execution_count": 18,
     "metadata": {},
     "output_type": "execute_result"
    }
   ],
   "source": [
    "z<x"
   ]
  },
  {
   "cell_type": "code",
   "execution_count": 19,
   "id": "b08b30ba",
   "metadata": {},
   "outputs": [
    {
     "data": {
      "text/plain": [
       "False"
      ]
     },
     "execution_count": 19,
     "metadata": {},
     "output_type": "execute_result"
    }
   ],
   "source": [
    "z==y<z"
   ]
  },
  {
   "cell_type": "code",
   "execution_count": 20,
   "id": "75f98c01",
   "metadata": {},
   "outputs": [
    {
     "ename": "SyntaxError",
     "evalue": "invalid syntax (486106726.py, line 1)",
     "output_type": "error",
     "traceback": [
      "\u001b[1;36m  Cell \u001b[1;32mIn[20], line 1\u001b[1;36m\u001b[0m\n\u001b[1;33m    x!y\u001b[0m\n\u001b[1;37m     ^\u001b[0m\n\u001b[1;31mSyntaxError\u001b[0m\u001b[1;31m:\u001b[0m invalid syntax\n"
     ]
    }
   ],
   "source": [
    "x!y"
   ]
  },
  {
   "cell_type": "code",
   "execution_count": 3,
   "id": "e6590b34",
   "metadata": {},
   "outputs": [
    {
     "data": {
      "text/plain": [
       "True"
      ]
     },
     "execution_count": 3,
     "metadata": {},
     "output_type": "execute_result"
    }
   ],
   "source": [
    "x!=y"
   ]
  },
  {
   "cell_type": "code",
   "execution_count": 21,
   "id": "8f296a4e",
   "metadata": {},
   "outputs": [
    {
     "data": {
      "text/plain": [
       "False"
      ]
     },
     "execution_count": 21,
     "metadata": {},
     "output_type": "execute_result"
    }
   ],
   "source": [
    "x!=y"
   ]
  },
  {
   "cell_type": "code",
   "execution_count": 22,
   "id": "b254baf3",
   "metadata": {},
   "outputs": [
    {
     "data": {
      "text/plain": [
       "True"
      ]
     },
     "execution_count": 22,
     "metadata": {},
     "output_type": "execute_result"
    }
   ],
   "source": [
    "x=2\n",
    "y=4\n",
    "x!=y"
   ]
  },
  {
   "cell_type": "code",
   "execution_count": 23,
   "id": "107d7939",
   "metadata": {},
   "outputs": [
    {
     "data": {
      "text/plain": [
       "False"
      ]
     },
     "execution_count": 23,
     "metadata": {},
     "output_type": "execute_result"
    }
   ],
   "source": [
    "x==y"
   ]
  },
  {
   "cell_type": "markdown",
   "id": "707bb607",
   "metadata": {},
   "source": [
    "# Assignment operators(=)"
   ]
  },
  {
   "cell_type": "code",
   "execution_count": 24,
   "id": "722b26ca",
   "metadata": {},
   "outputs": [],
   "source": [
    "a=4\n",
    "b=2\n",
    "a+=b     # is meaning is a=a+b"
   ]
  },
  {
   "cell_type": "code",
   "execution_count": 25,
   "id": "89f2d4f9",
   "metadata": {},
   "outputs": [],
   "source": [
    "a-=b     # is meaning is a=a-b\n"
   ]
  },
  {
   "cell_type": "code",
   "execution_count": 26,
   "id": "becb573e",
   "metadata": {},
   "outputs": [],
   "source": [
    "a*=b   # is meaning is a=a*b"
   ]
  },
  {
   "cell_type": "code",
   "execution_count": 27,
   "id": "6b071c34",
   "metadata": {},
   "outputs": [],
   "source": [
    "a/=b    # is meaning us a=a/b"
   ]
  },
  {
   "cell_type": "code",
   "execution_count": 28,
   "id": "6dd57df3",
   "metadata": {},
   "outputs": [],
   "source": [
    "a%=b    # is meaning is a= a%b"
   ]
  },
  {
   "cell_type": "code",
   "execution_count": 29,
   "id": "0234fefd",
   "metadata": {},
   "outputs": [],
   "source": [
    "a**=b     # a=a**b"
   ]
  },
  {
   "cell_type": "code",
   "execution_count": 30,
   "id": "86c780c5",
   "metadata": {},
   "outputs": [],
   "source": [
    "a//=b    # a=a//b"
   ]
  },
  {
   "cell_type": "code",
   "execution_count": 33,
   "id": "be1562e1",
   "metadata": {},
   "outputs": [
    {
     "name": "stdout",
     "output_type": "stream",
     "text": [
      "6\n"
     ]
    }
   ],
   "source": [
    "a=4\n",
    "b=2\n",
    "a+=b\n",
    "print(a)"
   ]
  },
  {
   "cell_type": "code",
   "execution_count": 34,
   "id": "315f7b9b",
   "metadata": {},
   "outputs": [
    {
     "name": "stdout",
     "output_type": "stream",
     "text": [
      "4\n"
     ]
    }
   ],
   "source": [
    "a-=b\n",
    "print(a)"
   ]
  },
  {
   "cell_type": "code",
   "execution_count": 35,
   "id": "c0e59e73",
   "metadata": {},
   "outputs": [
    {
     "name": "stdout",
     "output_type": "stream",
     "text": [
      "8\n"
     ]
    }
   ],
   "source": [
    "a*=b\n",
    "print(a)"
   ]
  },
  {
   "cell_type": "code",
   "execution_count": 36,
   "id": "c69e53d4",
   "metadata": {},
   "outputs": [
    {
     "name": "stdout",
     "output_type": "stream",
     "text": [
      "4.0\n"
     ]
    }
   ],
   "source": [
    "a/=b\n",
    "print(a)"
   ]
  },
  {
   "cell_type": "code",
   "execution_count": 37,
   "id": "de81a2b6",
   "metadata": {},
   "outputs": [
    {
     "name": "stdout",
     "output_type": "stream",
     "text": [
      "2.0\n"
     ]
    }
   ],
   "source": [
    "a//=b\n",
    "print(a)"
   ]
  },
  {
   "cell_type": "code",
   "execution_count": 38,
   "id": "bbe19f09",
   "metadata": {},
   "outputs": [
    {
     "name": "stdout",
     "output_type": "stream",
     "text": [
      "0.0\n"
     ]
    }
   ],
   "source": [
    "a%=b\n",
    "print(a)"
   ]
  },
  {
   "cell_type": "code",
   "execution_count": 40,
   "id": "40e9341f",
   "metadata": {},
   "outputs": [
    {
     "name": "stdout",
     "output_type": "stream",
     "text": [
      "0.0\n"
     ]
    }
   ],
   "source": [
    "a**=b\n",
    "print(a)"
   ]
  },
  {
   "cell_type": "code",
   "execution_count": 42,
   "id": "5c5b8019",
   "metadata": {},
   "outputs": [
    {
     "name": "stdout",
     "output_type": "stream",
     "text": [
      "10000000000000000000000000\n"
     ]
    }
   ],
   "source": [
    "a=10\n",
    "b=25\n",
    "a**=b\n",
    "print(a)"
   ]
  },
  {
   "cell_type": "code",
   "execution_count": 43,
   "id": "5d25ccf2",
   "metadata": {},
   "outputs": [
    {
     "name": "stdout",
     "output_type": "stream",
     "text": [
      "0\n"
     ]
    }
   ],
   "source": [
    "a%=b\n",
    "print(a)"
   ]
  },
  {
   "cell_type": "markdown",
   "id": "e7e15b72",
   "metadata": {},
   "source": [
    "# Logical operators-their are three logical operators .and ,or ,not\n"
   ]
  },
  {
   "cell_type": "markdown",
   "id": "62463339",
   "metadata": {},
   "source": [
    "# and (logical and)"
   ]
  },
  {
   "cell_type": "markdown",
   "id": "33c77b9d",
   "metadata": {},
   "source": [
    "# if both the condition have value of true so and operators gives output a true otherwise (and operators )give output false"
   ]
  },
  {
   "cell_type": "code",
   "execution_count": 45,
   "id": "55beccc4",
   "metadata": {
    "scrolled": true
   },
   "outputs": [
    {
     "name": "stdout",
     "output_type": "stream",
     "text": [
      "False\n"
     ]
    }
   ],
   "source": [
    "print(True and False )                    "
   ]
  },
  {
   "cell_type": "code",
   "execution_count": null,
   "id": "3b5c3866",
   "metadata": {},
   "outputs": [],
   "source": []
  },
  {
   "cell_type": "code",
   "execution_count": 46,
   "id": "0f041cf5",
   "metadata": {},
   "outputs": [
    {
     "name": "stdout",
     "output_type": "stream",
     "text": [
      "True\n"
     ]
    }
   ],
   "source": [
    "print(True and True)"
   ]
  },
  {
   "cell_type": "code",
   "execution_count": 47,
   "id": "59daac9b",
   "metadata": {},
   "outputs": [
    {
     "name": "stdout",
     "output_type": "stream",
     "text": [
      "False\n"
     ]
    }
   ],
   "source": [
    "print(False and False)"
   ]
  },
  {
   "cell_type": "code",
   "execution_count": 48,
   "id": "e06944af",
   "metadata": {},
   "outputs": [
    {
     "name": "stdout",
     "output_type": "stream",
     "text": [
      "False\n"
     ]
    }
   ],
   "source": [
    "print(False and True)"
   ]
  },
  {
   "cell_type": "code",
   "execution_count": 4,
   "id": "4cf79a99",
   "metadata": {},
   "outputs": [
    {
     "ename": "SyntaxError",
     "evalue": "invalid syntax (2720049155.py, line 6)",
     "output_type": "error",
     "traceback": [
      "\u001b[1;36m  Cell \u001b[1;32mIn[4], line 6\u001b[1;36m\u001b[0m\n\u001b[1;33m    else:\u001b[0m\n\u001b[1;37m    ^\u001b[0m\n\u001b[1;31mSyntaxError\u001b[0m\u001b[1;31m:\u001b[0m invalid syntax\n"
     ]
    }
   ],
   "source": [
    "a=2\n",
    "b=4\n",
    "\n",
    "if a>0 and b>0:\n",
    "    print(a*b)\n",
    "    else:\n",
    "        print(\"do nothing\")"
   ]
  },
  {
   "cell_type": "code",
   "execution_count": 1,
   "id": "77412a59",
   "metadata": {},
   "outputs": [
    {
     "name": "stdout",
     "output_type": "stream",
     "text": [
      "8\n"
     ]
    }
   ],
   "source": [
    "a=2\n",
    "b=4\n",
    "if a>0 and b>0:\n",
    "    print(a*b)\n",
    "else:\n",
    "    print (\"do nothing\")"
   ]
  },
  {
   "cell_type": "code",
   "execution_count": 2,
   "id": "89242f0b",
   "metadata": {},
   "outputs": [
    {
     "name": "stdout",
     "output_type": "stream",
     "text": [
      "do nothing\n"
     ]
    }
   ],
   "source": [
    "a=2\n",
    "b=4\n",
    "if a<0 and b<0:\n",
    "    print (a*b)\n",
    "else:\n",
    "    print(\"do nothing\")"
   ]
  },
  {
   "cell_type": "code",
   "execution_count": 3,
   "id": "290595ab",
   "metadata": {},
   "outputs": [
    {
     "name": "stdout",
     "output_type": "stream",
     "text": [
      "do nothing\n"
     ]
    }
   ],
   "source": [
    "a=2\n",
    "b=4\n",
    "if a<0 and b>o:\n",
    "    print (a*b)\n",
    "else:\n",
    "    print(\"do nothing\")"
   ]
  },
  {
   "cell_type": "code",
   "execution_count": 1,
   "id": "c1386904",
   "metadata": {},
   "outputs": [
    {
     "name": "stdout",
     "output_type": "stream",
     "text": [
      "arya\n"
     ]
    }
   ],
   "source": [
    "a=10;b=20\n",
    "if a==b/2 and a==2*a:\n",
    "    print(\"raj\")\n",
    "else:\n",
    "    print(\"arya\")"
   ]
  },
  {
   "cell_type": "code",
   "execution_count": null,
   "id": "65f3969e",
   "metadata": {},
   "outputs": [],
   "source": []
  },
  {
   "cell_type": "markdown",
   "id": "ab015cde",
   "metadata": {},
   "source": [
    "# In the case of arithmetic values , Logical (and) always return the second value."
   ]
  },
  {
   "cell_type": "code",
   "execution_count": 5,
   "id": "717ff899",
   "metadata": {},
   "outputs": [
    {
     "name": "stdout",
     "output_type": "stream",
     "text": [
      "20\n"
     ]
    }
   ],
   "source": [
    "print(10 and 20)"
   ]
  },
  {
   "cell_type": "code",
   "execution_count": 6,
   "id": "ddd8bab0",
   "metadata": {},
   "outputs": [
    {
     "name": "stdout",
     "output_type": "stream",
     "text": [
      "90\n"
     ]
    }
   ],
   "source": [
    "print(50 and 90)"
   ]
  },
  {
   "cell_type": "code",
   "execution_count": 7,
   "id": "b956120e",
   "metadata": {},
   "outputs": [
    {
     "name": "stdout",
     "output_type": "stream",
     "text": [
      "10\n"
     ]
    }
   ],
   "source": [
    "print( 5 and 10)"
   ]
  },
  {
   "cell_type": "code",
   "execution_count": 8,
   "id": "c62a31d5",
   "metadata": {},
   "outputs": [
    {
     "name": "stdout",
     "output_type": "stream",
     "text": [
      "30\n"
     ]
    }
   ],
   "source": [
    "print(20 and 30)"
   ]
  },
  {
   "cell_type": "code",
   "execution_count": 1,
   "id": "320a39d8",
   "metadata": {},
   "outputs": [
    {
     "name": "stdout",
     "output_type": "stream",
     "text": [
      "20\n"
     ]
    }
   ],
   "source": [
    "print(20 or 30)"
   ]
  },
  {
   "cell_type": "code",
   "execution_count": null,
   "id": "37cff158",
   "metadata": {},
   "outputs": [],
   "source": []
  }
 ],
 "metadata": {
  "kernelspec": {
   "display_name": "Python 3 (ipykernel)",
   "language": "python",
   "name": "python3"
  },
  "language_info": {
   "codemirror_mode": {
    "name": "ipython",
    "version": 3
   },
   "file_extension": ".py",
   "mimetype": "text/x-python",
   "name": "python",
   "nbconvert_exporter": "python",
   "pygments_lexer": "ipython3",
   "version": "3.10.9"
  }
 },
 "nbformat": 4,
 "nbformat_minor": 5
}
