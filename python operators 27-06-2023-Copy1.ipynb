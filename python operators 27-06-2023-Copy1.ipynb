{
 "cells": [
  {
   "cell_type": "markdown",
   "id": "84b01e37",
   "metadata": {},
   "source": [
    "# Python has seven types of operators that we can use to perform different operation and produce a result.\n",
    "- Arithmetic operators\n",
    "- Relational operators or cmparison opertor\n",
    "- Assignment operators\n",
    "- Logical operators\n",
    "- Membership operators \n",
    "- Identify operators \n",
    "- Bitwise operators"
   ]
  },
  {
   "cell_type": "markdown",
   "id": "64a63242",
   "metadata": {},
   "source": [
    "# Arithmetic operators- seven types of arithmatic operators\n",
    "\n",
    "- Addition\n",
    "- Subtraction\n",
    "- Multiplication\n",
    "- Division\n",
    "- Floor division\n",
    "- Modulus\n",
    "- Exponentiation"
   ]
  },
  {
   "cell_type": "code",
   "execution_count": 1,
   "id": "7db1398d",
   "metadata": {},
   "outputs": [],
   "source": [
    "# Addition operator\n"
   ]
  },
  {
   "cell_type": "code",
   "execution_count": 3,
   "id": "5af941fc",
   "metadata": {},
   "outputs": [
    {
     "name": "stdout",
     "output_type": "stream",
     "text": [
      "rajarya\n"
     ]
    }
   ],
   "source": [
    "x=\"raj\"               # when two string add together so this is called concatenation.\n",
    "y=\"arya\"\n",
    "print(x+y)"
   ]
  },
  {
   "cell_type": "code",
   "execution_count": 4,
   "id": "f4ce16bc",
   "metadata": {},
   "outputs": [
    {
     "name": "stdout",
     "output_type": "stream",
     "text": [
      "raj  arya\n"
     ]
    }
   ],
   "source": [
    "x=\"raj\"\n",
    "y=\"arya\"\n",
    "print(x + \" \" ,y)"
   ]
  },
  {
   "cell_type": "code",
   "execution_count": 3,
   "id": "53eda0b0",
   "metadata": {},
   "outputs": [
    {
     "name": "stdout",
     "output_type": "stream",
     "text": [
      "     raj          arya\n"
     ]
    }
   ],
   "source": [
    "x=\"     raj\"\n",
    "y=\"          arya\"\n",
    "print(x       +           y)"
   ]
  },
  {
   "cell_type": "code",
   "execution_count": 5,
   "id": "ddbea1ae",
   "metadata": {},
   "outputs": [
    {
     "name": "stdout",
     "output_type": "stream",
     "text": [
      "raj    arya\n"
     ]
    }
   ],
   "source": [
    "print(x+\"   \",y)"
   ]
  },
  {
   "cell_type": "code",
   "execution_count": 7,
   "id": "1a35d70a",
   "metadata": {
    "scrolled": true
   },
   "outputs": [
    {
     "data": {
      "text/plain": [
       "False"
      ]
     },
     "execution_count": 7,
     "metadata": {},
     "output_type": "execute_result"
    }
   ],
   "source": [
    "0 or False"
   ]
  },
  {
   "cell_type": "code",
   "execution_count": 8,
   "id": "58883967",
   "metadata": {},
   "outputs": [
    {
     "data": {
      "text/plain": [
       "5"
      ]
     },
     "execution_count": 8,
     "metadata": {},
     "output_type": "execute_result"
    }
   ],
   "source": [
    "5 or True"
   ]
  },
  {
   "cell_type": "code",
   "execution_count": 6,
   "id": "d3322489",
   "metadata": {},
   "outputs": [
    {
     "data": {
      "text/plain": [
       "False"
      ]
     },
     "execution_count": 6,
     "metadata": {},
     "output_type": "execute_result"
    }
   ],
   "source": [
    "False and 0"
   ]
  },
  {
   "cell_type": "code",
   "execution_count": 9,
   "id": "5e8f44ed",
   "metadata": {},
   "outputs": [
    {
     "data": {
      "text/plain": [
       "0"
      ]
     },
     "execution_count": 9,
     "metadata": {},
     "output_type": "execute_result"
    }
   ],
   "source": [
    "False or 0"
   ]
  },
  {
   "cell_type": "code",
   "execution_count": null,
   "id": "24eeb88d",
   "metadata": {},
   "outputs": [],
   "source": []
  },
  {
   "cell_type": "code",
   "execution_count": 5,
   "id": "7142a855",
   "metadata": {},
   "outputs": [
    {
     "data": {
      "text/plain": [
       "True"
      ]
     },
     "execution_count": 5,
     "metadata": {},
     "output_type": "execute_result"
    }
   ],
   "source": [
    "5 and True"
   ]
  },
  {
   "cell_type": "code",
   "execution_count": null,
   "id": "530dd12c",
   "metadata": {},
   "outputs": [],
   "source": [
    "x="
   ]
  },
  {
   "cell_type": "code",
   "execution_count": 2,
   "id": "254f349b",
   "metadata": {},
   "outputs": [
    {
     "name": "stdout",
     "output_type": "stream",
     "text": [
      "50\n"
     ]
    }
   ],
   "source": [
    "x=10\n",
    "y=40\n",
    "print(x+y)"
   ]
  },
  {
   "cell_type": "code",
   "execution_count": 3,
   "id": "fd4b7d3f",
   "metadata": {},
   "outputs": [
    {
     "name": "stdout",
     "output_type": "stream",
     "text": [
      "80\n"
     ]
    }
   ],
   "source": [
    "x=34\n",
    "y=46\n",
    "print(x+y)"
   ]
  },
  {
   "cell_type": "code",
   "execution_count": 4,
   "id": "49bf2d28",
   "metadata": {},
   "outputs": [
    {
     "name": "stdout",
     "output_type": "stream",
     "text": [
      "188\n"
     ]
    }
   ],
   "source": [
    "x=87\n",
    "y=45\n",
    "z=56\n",
    "print(x+y+z)"
   ]
  },
  {
   "cell_type": "code",
   "execution_count": 5,
   "id": "b63319b2",
   "metadata": {},
   "outputs": [
    {
     "name": "stdout",
     "output_type": "stream",
     "text": [
      "169\n"
     ]
    }
   ],
   "source": [
    "a=45\n",
    "x=45\n",
    "y=34\n",
    "z=45\n",
    "print(x+y+z+a)"
   ]
  },
  {
   "cell_type": "code",
   "execution_count": 6,
   "id": "db869ac9",
   "metadata": {},
   "outputs": [
    {
     "ename": "SyntaxError",
     "evalue": "invalid syntax. Maybe you meant '==' or ':=' instead of '='? (2985082246.py, line 1)",
     "output_type": "error",
     "traceback": [
      "\u001b[1;36m  Cell \u001b[1;32mIn[6], line 1\u001b[1;36m\u001b[0m\n\u001b[1;33m    x=45,y=4,z=45\u001b[0m\n\u001b[1;37m    ^\u001b[0m\n\u001b[1;31mSyntaxError\u001b[0m\u001b[1;31m:\u001b[0m invalid syntax. Maybe you meant '==' or ':=' instead of '='?\n"
     ]
    }
   ],
   "source": [
    "x=45,y=4,z=45\n",
    "print(x+y+z)"
   ]
  },
  {
   "cell_type": "code",
   "execution_count": 13,
   "id": "05eadfea",
   "metadata": {},
   "outputs": [
    {
     "ename": "ZeroDivisionError",
     "evalue": "division by zero",
     "output_type": "error",
     "traceback": [
      "\u001b[1;31m---------------------------------------------------------------------------\u001b[0m",
      "\u001b[1;31mZeroDivisionError\u001b[0m                         Traceback (most recent call last)",
      "Cell \u001b[1;32mIn[13], line 1\u001b[0m\n\u001b[1;32m----> 1\u001b[0m \u001b[38;5;241;43m10\u001b[39;49m\u001b[38;5;241;43m/\u001b[39;49m\u001b[38;5;241;43m0\u001b[39;49m\n",
      "\u001b[1;31mZeroDivisionError\u001b[0m: division by zero"
     ]
    }
   ],
   "source": [
    "10/0"
   ]
  },
  {
   "cell_type": "code",
   "execution_count": 15,
   "id": "82349393",
   "metadata": {},
   "outputs": [
    {
     "data": {
      "text/plain": [
       "1"
      ]
     },
     "execution_count": 15,
     "metadata": {},
     "output_type": "execute_result"
    }
   ],
   "source": [
    "10//10"
   ]
  },
  {
   "cell_type": "code",
   "execution_count": 7,
   "id": "53272b1a",
   "metadata": {},
   "outputs": [
    {
     "name": "stdout",
     "output_type": "stream",
     "text": [
      "102\n"
     ]
    }
   ],
   "source": [
    "x=34;y=34;z=34\n",
    "print (x+y+z)"
   ]
  },
  {
   "cell_type": "code",
   "execution_count": 10,
   "id": "0afaa00c",
   "metadata": {},
   "outputs": [
    {
     "ename": "SyntaxError",
     "evalue": "invalid syntax. Maybe you meant '==' or ':=' instead of '='? (1270990468.py, line 1)",
     "output_type": "error",
     "traceback": [
      "\u001b[1;36m  Cell \u001b[1;32mIn[10], line 1\u001b[1;36m\u001b[0m\n\u001b[1;33m    x=34,y=34,z=34\u001b[0m\n\u001b[1;37m    ^\u001b[0m\n\u001b[1;31mSyntaxError\u001b[0m\u001b[1;31m:\u001b[0m invalid syntax. Maybe you meant '==' or ':=' instead of '='?\n"
     ]
    }
   ],
   "source": [
    "x=34,y=34,z=34\n",
    "print (x+y+z)"
   ]
  },
  {
   "cell_type": "code",
   "execution_count": 12,
   "id": "8694e73b",
   "metadata": {},
   "outputs": [
    {
     "name": "stdout",
     "output_type": "stream",
     "text": [
      "34 54 45\n"
     ]
    }
   ],
   "source": [
    "x=34;\\\n",
    "y=54;\\\n",
    "z=45\n",
    "print(x,y,z)"
   ]
  },
  {
   "cell_type": "code",
   "execution_count": 8,
   "id": "47fd4a34",
   "metadata": {},
   "outputs": [],
   "source": [
    "x=10+50"
   ]
  },
  {
   "cell_type": "code",
   "execution_count": 9,
   "id": "5780ba37",
   "metadata": {},
   "outputs": [
    {
     "data": {
      "text/plain": [
       "4.0"
      ]
     },
     "execution_count": 9,
     "metadata": {},
     "output_type": "execute_result"
    }
   ],
   "source": [
    "40/10"
   ]
  },
  {
   "cell_type": "code",
   "execution_count": 10,
   "id": "dfd0e59e",
   "metadata": {},
   "outputs": [
    {
     "data": {
      "text/plain": [
       "1530"
      ]
     },
     "execution_count": 10,
     "metadata": {},
     "output_type": "execute_result"
    }
   ],
   "source": [
    "45*34"
   ]
  },
  {
   "cell_type": "code",
   "execution_count": 11,
   "id": "660e9a16",
   "metadata": {},
   "outputs": [
    {
     "data": {
      "text/plain": [
       "8"
      ]
     },
     "execution_count": 11,
     "metadata": {},
     "output_type": "execute_result"
    }
   ],
   "source": [
    "2**3"
   ]
  },
  {
   "cell_type": "code",
   "execution_count": 13,
   "id": "4619ecb6",
   "metadata": {},
   "outputs": [
    {
     "data": {
      "text/plain": [
       "3125"
      ]
     },
     "execution_count": 13,
     "metadata": {},
     "output_type": "execute_result"
    }
   ],
   "source": [
    "5**5"
   ]
  },
  {
   "cell_type": "code",
   "execution_count": 14,
   "id": "e02acee9",
   "metadata": {},
   "outputs": [
    {
     "name": "stdout",
     "output_type": "stream",
     "text": [
      "aryaraj\n"
     ]
    }
   ],
   "source": [
    "name=\"raj\"\n",
    "surname=\"arya\"\n",
    "print(surname+name)"
   ]
  },
  {
   "cell_type": "code",
   "execution_count": 15,
   "id": "44bdc279",
   "metadata": {},
   "outputs": [],
   "source": [
    "name=\"i am a datascientist and my rool no is 28\""
   ]
  },
  {
   "cell_type": "code",
   "execution_count": 16,
   "id": "ae6d18fe",
   "metadata": {},
   "outputs": [
    {
     "name": "stdout",
     "output_type": "stream",
     "text": [
      "i am a datascientist and my rool no is 28\n"
     ]
    }
   ],
   "source": [
    "print(name)"
   ]
  },
  {
   "cell_type": "code",
   "execution_count": 21,
   "id": "1b13afa9",
   "metadata": {},
   "outputs": [],
   "source": [
    "x= \"my name raj arya and my date of birth is 28\""
   ]
  },
  {
   "cell_type": "code",
   "execution_count": 22,
   "id": "4d430391",
   "metadata": {},
   "outputs": [
    {
     "name": "stdout",
     "output_type": "stream",
     "text": [
      "my name raj arya and my date of birth is 28\n"
     ]
    }
   ],
   "source": [
    "print(x)"
   ]
  },
  {
   "cell_type": "code",
   "execution_count": 23,
   "id": "b33cfd5f",
   "metadata": {},
   "outputs": [
    {
     "ename": "TypeError",
     "evalue": "can only concatenate str (not \"int\") to str",
     "output_type": "error",
     "traceback": [
      "\u001b[1;31m---------------------------------------------------------------------------\u001b[0m",
      "\u001b[1;31mTypeError\u001b[0m                                 Traceback (most recent call last)",
      "Cell \u001b[1;32mIn[23], line 1\u001b[0m\n\u001b[1;32m----> 1\u001b[0m \u001b[38;5;28mprint\u001b[39m(\u001b[43mx\u001b[49m\u001b[38;5;241;43m+\u001b[39;49m\u001b[38;5;241;43m23\u001b[39;49m)\n",
      "\u001b[1;31mTypeError\u001b[0m: can only concatenate str (not \"int\") to str"
     ]
    }
   ],
   "source": [
    "print(x+23)"
   ]
  },
  {
   "cell_type": "code",
   "execution_count": 5,
   "id": "1dd63292",
   "metadata": {},
   "outputs": [],
   "source": [
    "x=\"raj arya\""
   ]
  },
  {
   "cell_type": "code",
   "execution_count": 6,
   "id": "0a514e21",
   "metadata": {},
   "outputs": [
    {
     "name": "stdout",
     "output_type": "stream",
     "text": [
      "x+23\n"
     ]
    }
   ],
   "source": [
    "print(\"x+23\")"
   ]
  },
  {
   "cell_type": "code",
   "execution_count": 24,
   "id": "8ba39923",
   "metadata": {},
   "outputs": [
    {
     "name": "stdout",
     "output_type": "stream",
     "text": [
      "62\n"
     ]
    }
   ],
   "source": [
    "raj =28\n",
    "print(raj+34)"
   ]
  },
  {
   "cell_type": "code",
   "execution_count": 26,
   "id": "bf30afb4",
   "metadata": {},
   "outputs": [
    {
     "name": "stdout",
     "output_type": "stream",
     "text": [
      "raj     arya\n"
     ]
    }
   ],
   "source": [
    "name= \"raj\"                               # Space is a charactor which can be used with Quatation mark (\"\")\n",
    "surname=\"arya\"\n",
    "print(name + \"     \"+ surname)"
   ]
  },
  {
   "cell_type": "code",
   "execution_count": 27,
   "id": "3b4e4fde",
   "metadata": {},
   "outputs": [
    {
     "name": "stdout",
     "output_type": "stream",
     "text": [
      "raj 28-04-2003\n"
     ]
    }
   ],
   "source": [
    "x=\"raj 28-04-2003\"\n",
    "print(x)"
   ]
  },
  {
   "cell_type": "code",
   "execution_count": 31,
   "id": "4fccd6d9",
   "metadata": {},
   "outputs": [
    {
     "name": "stdout",
     "output_type": "stream",
     "text": [
      "kohli-rohit\n"
     ]
    }
   ],
   "source": [
    "kohlo=52\n",
    "rohit=34\n",
    "print(\"kohli-rohit\")"
   ]
  },
  {
   "cell_type": "code",
   "execution_count": 32,
   "id": "a20814c4",
   "metadata": {},
   "outputs": [
    {
     "name": "stdout",
     "output_type": "stream",
     "text": [
      "aryaraj\n"
     ]
    }
   ],
   "source": [
    "name= 'raj'\n",
    "surname='arya'\n",
    "print(surname+\"\"+name)"
   ]
  },
  {
   "cell_type": "code",
   "execution_count": 33,
   "id": "d834594f",
   "metadata": {},
   "outputs": [
    {
     "ename": "TypeError",
     "evalue": "unsupported operand type(s) for +: 'int' and 'str'",
     "output_type": "error",
     "traceback": [
      "\u001b[1;31m---------------------------------------------------------------------------\u001b[0m",
      "\u001b[1;31mTypeError\u001b[0m                                 Traceback (most recent call last)",
      "Cell \u001b[1;32mIn[33], line 3\u001b[0m\n\u001b[0;32m      1\u001b[0m x\u001b[38;5;241m=\u001b[39m\u001b[38;5;241m10\u001b[39m\n\u001b[0;32m      2\u001b[0m name\u001b[38;5;241m=\u001b[39m\u001b[38;5;124m\"\u001b[39m\u001b[38;5;124mudit\u001b[39m\u001b[38;5;124m\"\u001b[39m\n\u001b[1;32m----> 3\u001b[0m \u001b[38;5;28mprint\u001b[39m(\u001b[43mx\u001b[49m\u001b[38;5;241;43m+\u001b[39;49m\u001b[43mname\u001b[49m)\n",
      "\u001b[1;31mTypeError\u001b[0m: unsupported operand type(s) for +: 'int' and 'str'"
     ]
    }
   ],
   "source": [
    "x=10\n",
    "name=\"udit\"\n",
    "print(x+name)"
   ]
  },
  {
   "cell_type": "code",
   "execution_count": 35,
   "id": "32ad2907",
   "metadata": {},
   "outputs": [
    {
     "name": "stdout",
     "output_type": "stream",
     "text": [
      "10raj\n"
     ]
    }
   ],
   "source": [
    "x=\"10\"\n",
    "name= \"raj\"\n",
    "print(x+name)"
   ]
  },
  {
   "cell_type": "code",
   "execution_count": 36,
   "id": "e34560af",
   "metadata": {},
   "outputs": [
    {
     "ename": "SyntaxError",
     "evalue": "invalid syntax (1523979533.py, line 3)",
     "output_type": "error",
     "traceback": [
      "\u001b[1;36m  Cell \u001b[1;32mIn[36], line 3\u001b[1;36m\u001b[0m\n\u001b[1;33m    print(name \"\"+x)\u001b[0m\n\u001b[1;37m               ^\u001b[0m\n\u001b[1;31mSyntaxError\u001b[0m\u001b[1;31m:\u001b[0m invalid syntax\n"
     ]
    }
   ],
   "source": [
    "name=\"raj\"\n",
    "x= \"28\"\n",
    "print(name \"\"+x)"
   ]
  },
  {
   "cell_type": "code",
   "execution_count": 37,
   "id": "9cf4410b",
   "metadata": {},
   "outputs": [
    {
     "name": "stdout",
     "output_type": "stream",
     "text": [
      "2020\n"
     ]
    }
   ],
   "source": [
    "z='20'                          #this is an exampel of concatenation\n",
    "k=\"20\"\n",
    "print(z+k)"
   ]
  },
  {
   "cell_type": "markdown",
   "id": "01ed6145",
   "metadata": {},
   "source": [
    "# Subtraction\n"
   ]
  },
  {
   "cell_type": "code",
   "execution_count": 38,
   "id": "8ff2ac50",
   "metadata": {},
   "outputs": [
    {
     "name": "stdout",
     "output_type": "stream",
     "text": [
      "-30\n"
     ]
    }
   ],
   "source": [
    "x=10\n",
    "y=40\n",
    "print(x-y)"
   ]
  },
  {
   "cell_type": "code",
   "execution_count": 39,
   "id": "38206fc6",
   "metadata": {},
   "outputs": [
    {
     "name": "stdout",
     "output_type": "stream",
     "text": [
      "22\n"
     ]
    }
   ],
   "source": [
    "x=45\n",
    "y=23\n",
    "print(x-y)"
   ]
  },
  {
   "cell_type": "code",
   "execution_count": 40,
   "id": "70c9270c",
   "metadata": {},
   "outputs": [
    {
     "name": "stdout",
     "output_type": "stream",
     "text": [
      "0\n"
     ]
    }
   ],
   "source": [
    "x=34\n",
    "y=34\n",
    "print(x-y)"
   ]
  },
  {
   "cell_type": "code",
   "execution_count": 43,
   "id": "066ffb2c",
   "metadata": {},
   "outputs": [
    {
     "ename": "NameError",
     "evalue": "name 'Print' is not defined",
     "output_type": "error",
     "traceback": [
      "\u001b[1;31m---------------------------------------------------------------------------\u001b[0m",
      "\u001b[1;31mNameError\u001b[0m                                 Traceback (most recent call last)",
      "Cell \u001b[1;32mIn[43], line 3\u001b[0m\n\u001b[0;32m      1\u001b[0m x\u001b[38;5;241m=\u001b[39m\u001b[38;5;124m\"\u001b[39m\u001b[38;5;124m34\u001b[39m\u001b[38;5;124m\"\u001b[39m\n\u001b[0;32m      2\u001b[0m y\u001b[38;5;241m=\u001b[39m\u001b[38;5;124m'\u001b[39m\u001b[38;5;124m23\u001b[39m\u001b[38;5;124m'\u001b[39m                             \u001b[38;5;66;03m# string can not to be subtract\u001b[39;00m\n\u001b[1;32m----> 3\u001b[0m \u001b[43mPrint\u001b[49m(x\u001b[38;5;241m-\u001b[39my)\n",
      "\u001b[1;31mNameError\u001b[0m: name 'Print' is not defined"
     ]
    }
   ],
   "source": [
    "x=\"34\"\n",
    "y='23'                             # string can not to be subtract\n",
    "Print(x-y)"
   ]
  },
  {
   "cell_type": "code",
   "execution_count": 42,
   "id": "5204aea6",
   "metadata": {},
   "outputs": [
    {
     "ename": "TypeError",
     "evalue": "unsupported operand type(s) for -: 'str' and 'str'",
     "output_type": "error",
     "traceback": [
      "\u001b[1;31m---------------------------------------------------------------------------\u001b[0m",
      "\u001b[1;31mTypeError\u001b[0m                                 Traceback (most recent call last)",
      "Cell \u001b[1;32mIn[42], line 3\u001b[0m\n\u001b[0;32m      1\u001b[0m x\u001b[38;5;241m=\u001b[39m\u001b[38;5;124m\"\u001b[39m\u001b[38;5;124m50\u001b[39m\u001b[38;5;124m\"\u001b[39m\n\u001b[0;32m      2\u001b[0m y\u001b[38;5;241m=\u001b[39m\u001b[38;5;124m\"\u001b[39m\u001b[38;5;124m30\u001b[39m\u001b[38;5;124m\"\u001b[39m\n\u001b[1;32m----> 3\u001b[0m \u001b[38;5;28mprint\u001b[39m(\u001b[43mx\u001b[49m\u001b[38;5;241;43m-\u001b[39;49m\u001b[43my\u001b[49m)\n",
      "\u001b[1;31mTypeError\u001b[0m: unsupported operand type(s) for -: 'str' and 'str'"
     ]
    }
   ],
   "source": [
    "x=\"50\"\n",
    "y=\"30\"\n",
    "print(x-y)"
   ]
  },
  {
   "cell_type": "markdown",
   "id": "bb93bdef",
   "metadata": {},
   "source": [
    "#Todays keywords -\n",
    "\n",
    "- Operators = +,-,/,*\n",
    "- operands= like 10 +20 \"+\"is a operators and 10 , 20 is operands \n",
    "- Addition=10+20\n",
    "- Subtraction=20-10\n",
    "- Concatenation- eg. addition of two strings like "
   ]
  },
  {
   "cell_type": "code",
   "execution_count": 1,
   "id": "87b6df77",
   "metadata": {},
   "outputs": [
    {
     "name": "stdout",
     "output_type": "stream",
     "text": [
      "20455\n"
     ]
    }
   ],
   "source": [
    "x=\"20\"    # this is the example of concatenaion the two string is merge with each others\n",
    "y=\"455\"\n",
    "print(x+y)"
   ]
  },
  {
   "cell_type": "code",
   "execution_count": 7,
   "id": "ed1b1d82",
   "metadata": {},
   "outputs": [
    {
     "ename": "TypeError",
     "evalue": "can only concatenate str (not \"int\") to str",
     "output_type": "error",
     "traceback": [
      "\u001b[1;31m---------------------------------------------------------------------------\u001b[0m",
      "\u001b[1;31mTypeError\u001b[0m                                 Traceback (most recent call last)",
      "Cell \u001b[1;32mIn[7], line 2\u001b[0m\n\u001b[0;32m      1\u001b[0m x\u001b[38;5;241m=\u001b[39m\u001b[38;5;124m\"\u001b[39m\u001b[38;5;124mmy name is raj arya\u001b[39m\u001b[38;5;124m\"\u001b[39m\n\u001b[1;32m----> 2\u001b[0m \u001b[38;5;28mprint\u001b[39m(\u001b[43mx\u001b[49m\u001b[38;5;241;43m+\u001b[39;49m\u001b[38;5;241;43m45\u001b[39;49m)\n",
      "\u001b[1;31mTypeError\u001b[0m: can only concatenate str (not \"int\") to str"
     ]
    }
   ],
   "source": [
    "x=\"my name is raj arya\"\n",
    "print(x+45)"
   ]
  },
  {
   "cell_type": "code",
   "execution_count": 8,
   "id": "0682d995",
   "metadata": {},
   "outputs": [
    {
     "name": "stdout",
     "output_type": "stream",
     "text": [
      "x+45\n"
     ]
    }
   ],
   "source": [
    "x=\"my name is raj arya\"\n",
    "print(\"x+45\")"
   ]
  },
  {
   "cell_type": "code",
   "execution_count": 9,
   "id": "12cd09b5",
   "metadata": {},
   "outputs": [
    {
     "name": "stdout",
     "output_type": "stream",
     "text": [
      "raj34\n"
     ]
    }
   ],
   "source": [
    "x=\"raj\"\n",
    "y=\"34\"\n",
    "print (x+y)"
   ]
  },
  {
   "cell_type": "code",
   "execution_count": 10,
   "id": "ff0e63aa",
   "metadata": {},
   "outputs": [
    {
     "ename": "TypeError",
     "evalue": "can't multiply sequence by non-int of type 'str'",
     "output_type": "error",
     "traceback": [
      "\u001b[1;31m---------------------------------------------------------------------------\u001b[0m",
      "\u001b[1;31mTypeError\u001b[0m                                 Traceback (most recent call last)",
      "Cell \u001b[1;32mIn[10], line 1\u001b[0m\n\u001b[1;32m----> 1\u001b[0m \u001b[38;5;28mprint\u001b[39m(\u001b[43mx\u001b[49m\u001b[38;5;241;43m*\u001b[39;49m\u001b[43my\u001b[49m)\n",
      "\u001b[1;31mTypeError\u001b[0m: can't multiply sequence by non-int of type 'str'"
     ]
    }
   ],
   "source": [
    "print(x*y)"
   ]
  },
  {
   "cell_type": "code",
   "execution_count": 17,
   "id": "17102416",
   "metadata": {},
   "outputs": [
    {
     "name": "stdout",
     "output_type": "stream",
     "text": [
      "  raj      28\n"
     ]
    }
   ],
   "source": [
    "x=\"  raj\"\n",
    "y=\"  28\"\n",
    "print(x+\"   \", y)"
   ]
  },
  {
   "cell_type": "code",
   "execution_count": 20,
   "id": "1aacc931",
   "metadata": {},
   "outputs": [
    {
     "ename": "SyntaxError",
     "evalue": "invalid syntax (1323404250.py, line 2)",
     "output_type": "error",
     "traceback": [
      "\u001b[1;36m  Cell \u001b[1;32mIn[20], line 2\u001b[1;36m\u001b[0m\n\u001b[1;33m    print(x**)\u001b[0m\n\u001b[1;37m             ^\u001b[0m\n\u001b[1;31mSyntaxError\u001b[0m\u001b[1;31m:\u001b[0m invalid syntax\n"
     ]
    }
   ],
   "source": [
    "x=\"raj\"\n",
    "print(x**)\n"
   ]
  },
  {
   "cell_type": "code",
   "execution_count": 21,
   "id": "2c2b6507",
   "metadata": {},
   "outputs": [
    {
     "ename": "SyntaxError",
     "evalue": "invalid syntax (60453271.py, line 1)",
     "output_type": "error",
     "traceback": [
      "\u001b[1;36m  Cell \u001b[1;32mIn[21], line 1\u001b[1;36m\u001b[0m\n\u001b[1;33m    45**\u001b[0m\n\u001b[1;37m        ^\u001b[0m\n\u001b[1;31mSyntaxError\u001b[0m\u001b[1;31m:\u001b[0m invalid syntax\n"
     ]
    }
   ],
   "source": [
    "45**"
   ]
  },
  {
   "cell_type": "code",
   "execution_count": 22,
   "id": "570a36c8",
   "metadata": {},
   "outputs": [
    {
     "data": {
      "text/plain": [
       "'45**'"
      ]
     },
     "execution_count": 22,
     "metadata": {},
     "output_type": "execute_result"
    }
   ],
   "source": [
    "\"45**\""
   ]
  },
  {
   "cell_type": "code",
   "execution_count": null,
   "id": "64cbfda3",
   "metadata": {},
   "outputs": [],
   "source": []
  }
 ],
 "metadata": {
  "kernelspec": {
   "display_name": "Python 3 (ipykernel)",
   "language": "python",
   "name": "python3"
  },
  "language_info": {
   "codemirror_mode": {
    "name": "ipython",
    "version": 3
   },
   "file_extension": ".py",
   "mimetype": "text/x-python",
   "name": "python",
   "nbconvert_exporter": "python",
   "pygments_lexer": "ipython3",
   "version": "3.10.9"
  }
 },
 "nbformat": 4,
 "nbformat_minor": 5
}
