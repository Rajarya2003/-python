{
 "cells": [
  {
   "cell_type": "markdown",
   "id": "ad5acdc3",
   "metadata": {},
   "source": [
    "# What is comment in python?\n",
    "\n",
    "- The comments are description that helps programmer to understand the funcationality of the program ,thus ,comments are \n",
    "neccesary while writing code in python.\n",
    "\n",
    "_\n",
    "- In python ,we use the (#) symbol to start writing comment begains with a hash sign(#)and whitespace character and continous the\n",
    "    code."
   ]
  },
  {
   "cell_type": "markdown",
   "id": "0e8ec44c",
   "metadata": {},
   "source": [
    "# singel line comment- eg like -\n"
   ]
  },
  {
   "cell_type": "code",
   "execution_count": 5,
   "id": "1d39ce43",
   "metadata": {},
   "outputs": [],
   "source": [
    "# I am a best datascientist"
   ]
  },
  {
   "cell_type": "markdown",
   "id": "701aba71",
   "metadata": {},
   "source": [
    "# Multi-line comments - it is a group of text eg-"
   ]
  },
  {
   "cell_type": "code",
   "execution_count": null,
   "id": "b0d41d64",
   "metadata": {},
   "outputs": [],
   "source": [
    "# python is very easy to understand\n",
    "#pyython \n",
    "# I am the best"
   ]
  },
  {
   "cell_type": "markdown",
   "id": "c1088bab",
   "metadata": {},
   "source": [
    "# Docstring comments"
   ]
  },
  {
   "cell_type": "code",
   "execution_count": 2,
   "id": "5f6c9240",
   "metadata": {},
   "outputs": [
    {
     "data": {
      "text/plain": [
       "'\\nThis is a multi-line comment.\\nIt can span multiline without \\ninterfering with the code .\\n'"
      ]
     },
     "execution_count": 2,
     "metadata": {},
     "output_type": "execute_result"
    }
   ],
   "source": [
    "\n",
    "\"\"\"\n",
    "This is a multi-line comment.\n",
    "It can span multiline without \n",
    "interfering with the code .\n",
    "\"\"\""
   ]
  },
  {
   "cell_type": "code",
   "execution_count": 3,
   "id": "ea8a0bfa",
   "metadata": {},
   "outputs": [
    {
     "data": {
      "text/plain": [
       "' This is a multi-line comment.\\nIt can span multiline without \\ninterfering with the code .'"
      ]
     },
     "execution_count": 3,
     "metadata": {},
     "output_type": "execute_result"
    }
   ],
   "source": [
    " \n",
    "\n",
    "  \"\"\" This is a multi-line comment.\n",
    "It can span multiline without \n",
    "interfering with the code .\"\"\"\n",
    "\n"
   ]
  },
  {
   "cell_type": "code",
   "execution_count": null,
   "id": "3435471f",
   "metadata": {},
   "outputs": [],
   "source": [
    "#"
   ]
  }
 ],
 "metadata": {
  "kernelspec": {
   "display_name": "Python 3 (ipykernel)",
   "language": "python",
   "name": "python3"
  },
  "language_info": {
   "codemirror_mode": {
    "name": "ipython",
    "version": 3
   },
   "file_extension": ".py",
   "mimetype": "text/x-python",
   "name": "python",
   "nbconvert_exporter": "python",
   "pygments_lexer": "ipython3",
   "version": "3.10.9"
  }
 },
 "nbformat": 4,
 "nbformat_minor": 5
}
