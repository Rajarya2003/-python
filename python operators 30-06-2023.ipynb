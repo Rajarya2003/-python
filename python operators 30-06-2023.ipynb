{
 "cells": [
  {
   "cell_type": "code",
   "execution_count": 1,
   "id": "43112842",
   "metadata": {},
   "outputs": [
    {
     "data": {
      "text/plain": [
       "True"
      ]
     },
     "execution_count": 1,
     "metadata": {},
     "output_type": "execute_result"
    }
   ],
   "source": [
    "x=25\n",
    "y=10\n",
    "x>y"
   ]
  },
  {
   "cell_type": "code",
   "execution_count": 2,
   "id": "4baa3dfd",
   "metadata": {},
   "outputs": [
    {
     "data": {
      "text/plain": [
       "True"
      ]
     },
     "execution_count": 2,
     "metadata": {},
     "output_type": "execute_result"
    }
   ],
   "source": [
    "y<x"
   ]
  },
  {
   "cell_type": "code",
   "execution_count": 3,
   "id": "4ebdb508",
   "metadata": {},
   "outputs": [
    {
     "data": {
      "text/plain": [
       "False"
      ]
     },
     "execution_count": 3,
     "metadata": {},
     "output_type": "execute_result"
    }
   ],
   "source": [
    "x==y"
   ]
  },
  {
   "cell_type": "code",
   "execution_count": 4,
   "id": "fc6a3dc7",
   "metadata": {},
   "outputs": [
    {
     "data": {
      "text/plain": [
       "False"
      ]
     },
     "execution_count": 4,
     "metadata": {},
     "output_type": "execute_result"
    }
   ],
   "source": [
    "x>y==x"
   ]
  },
  {
   "cell_type": "code",
   "execution_count": 5,
   "id": "c274dfe6",
   "metadata": {},
   "outputs": [
    {
     "ename": "SyntaxError",
     "evalue": "invalid syntax (486106726.py, line 1)",
     "output_type": "error",
     "traceback": [
      "\u001b[1;36m  Cell \u001b[1;32mIn[5], line 1\u001b[1;36m\u001b[0m\n\u001b[1;33m    x!y\u001b[0m\n\u001b[1;37m     ^\u001b[0m\n\u001b[1;31mSyntaxError\u001b[0m\u001b[1;31m:\u001b[0m invalid syntax\n"
     ]
    }
   ],
   "source": [
    "x!y"
   ]
  },
  {
   "cell_type": "code",
   "execution_count": 2,
   "id": "a911846e",
   "metadata": {},
   "outputs": [
    {
     "data": {
      "text/plain": [
       "True"
      ]
     },
     "execution_count": 2,
     "metadata": {},
     "output_type": "execute_result"
    }
   ],
   "source": [
    "x=20\n",
    "y=30\n",
    "x!=y"
   ]
  },
  {
   "cell_type": "code",
   "execution_count": 6,
   "id": "ea4a7094",
   "metadata": {},
   "outputs": [
    {
     "data": {
      "text/plain": [
       "True"
      ]
     },
     "execution_count": 6,
     "metadata": {},
     "output_type": "execute_result"
    }
   ],
   "source": [
    "x!=y"
   ]
  },
  {
   "cell_type": "code",
   "execution_count": 7,
   "id": "f86d6f42",
   "metadata": {},
   "outputs": [
    {
     "ename": "SyntaxError",
     "evalue": "invalid syntax (69114153.py, line 1)",
     "output_type": "error",
     "traceback": [
      "\u001b[1;36m  Cell \u001b[1;32mIn[7], line 1\u001b[1;36m\u001b[0m\n\u001b[1;33m    x!==y\u001b[0m\n\u001b[1;37m       ^\u001b[0m\n\u001b[1;31mSyntaxError\u001b[0m\u001b[1;31m:\u001b[0m invalid syntax\n"
     ]
    }
   ],
   "source": [
    "x!==y"
   ]
  },
  {
   "cell_type": "code",
   "execution_count": 8,
   "id": "b8dcf6c7",
   "metadata": {},
   "outputs": [
    {
     "data": {
      "text/plain": [
       "True"
      ]
     },
     "execution_count": 8,
     "metadata": {},
     "output_type": "execute_result"
    }
   ],
   "source": [
    "x=55\n",
    "y=100\n",
    "x!=y"
   ]
  },
  {
   "cell_type": "code",
   "execution_count": 9,
   "id": "c3da9403",
   "metadata": {},
   "outputs": [
    {
     "data": {
      "text/plain": [
       "False"
      ]
     },
     "execution_count": 9,
     "metadata": {},
     "output_type": "execute_result"
    }
   ],
   "source": [
    "x==y"
   ]
  },
  {
   "cell_type": "code",
   "execution_count": 10,
   "id": "cc667880",
   "metadata": {},
   "outputs": [
    {
     "data": {
      "text/plain": [
       "True"
      ]
     },
     "execution_count": 10,
     "metadata": {},
     "output_type": "execute_result"
    }
   ],
   "source": [
    "x<=y"
   ]
  },
  {
   "cell_type": "code",
   "execution_count": 12,
   "id": "14a08ddc",
   "metadata": {},
   "outputs": [
    {
     "data": {
      "text/plain": [
       "False"
      ]
     },
     "execution_count": 12,
     "metadata": {},
     "output_type": "execute_result"
    }
   ],
   "source": [
    "x>=y"
   ]
  },
  {
   "cell_type": "code",
   "execution_count": 13,
   "id": "a930727d",
   "metadata": {},
   "outputs": [
    {
     "data": {
      "text/plain": [
       "True"
      ]
     },
     "execution_count": 13,
     "metadata": {},
     "output_type": "execute_result"
    }
   ],
   "source": [
    "raj=28\n",
    "yash=3\n",
    "raj>yash"
   ]
  },
  {
   "cell_type": "code",
   "execution_count": 5,
   "id": "f5d58173",
   "metadata": {},
   "outputs": [
    {
     "ename": "NameError",
     "evalue": "name 'raj' is not defined",
     "output_type": "error",
     "traceback": [
      "\u001b[1;31m---------------------------------------------------------------------------\u001b[0m",
      "\u001b[1;31mNameError\u001b[0m                                 Traceback (most recent call last)",
      "Cell \u001b[1;32mIn[5], line 1\u001b[0m\n\u001b[1;32m----> 1\u001b[0m \u001b[43mraj\u001b[49m\u001b[38;5;241m<\u001b[39myash\n",
      "\u001b[1;31mNameError\u001b[0m: name 'raj' is not defined"
     ]
    }
   ],
   "source": [
    "raj<yash"
   ]
  },
  {
   "cell_type": "code",
   "execution_count": 15,
   "id": "83567108",
   "metadata": {},
   "outputs": [
    {
     "data": {
      "text/plain": [
       "True"
      ]
     },
     "execution_count": 15,
     "metadata": {},
     "output_type": "execute_result"
    }
   ],
   "source": [
    "raj>=yash"
   ]
  },
  {
   "cell_type": "code",
   "execution_count": 16,
   "id": "08cc2a09",
   "metadata": {},
   "outputs": [
    {
     "data": {
      "text/plain": [
       "False"
      ]
     },
     "execution_count": 16,
     "metadata": {},
     "output_type": "execute_result"
    }
   ],
   "source": [
    "raj<=yash"
   ]
  },
  {
   "cell_type": "code",
   "execution_count": 3,
   "id": "4eb1919f",
   "metadata": {},
   "outputs": [
    {
     "ename": "NameError",
     "evalue": "name 'raj' is not defined",
     "output_type": "error",
     "traceback": [
      "\u001b[1;31m---------------------------------------------------------------------------\u001b[0m",
      "\u001b[1;31mNameError\u001b[0m                                 Traceback (most recent call last)",
      "Cell \u001b[1;32mIn[3], line 1\u001b[0m\n\u001b[1;32m----> 1\u001b[0m \u001b[43mraj\u001b[49m\u001b[38;5;241m==\u001b[39myash\n",
      "\u001b[1;31mNameError\u001b[0m: name 'raj' is not defined"
     ]
    }
   ],
   "source": [
    "raj==yash                      "
   ]
  },
  {
   "cell_type": "code",
   "execution_count": 2,
   "id": "e59405ea",
   "metadata": {},
   "outputs": [
    {
     "ename": "NameError",
     "evalue": "name 'raj' is not defined",
     "output_type": "error",
     "traceback": [
      "\u001b[1;31m---------------------------------------------------------------------------\u001b[0m",
      "\u001b[1;31mNameError\u001b[0m                                 Traceback (most recent call last)",
      "Cell \u001b[1;32mIn[2], line 1\u001b[0m\n\u001b[1;32m----> 1\u001b[0m \u001b[43mraj\u001b[49m\u001b[38;5;241m!=\u001b[39myash\n",
      "\u001b[1;31mNameError\u001b[0m: name 'raj' is not defined"
     ]
    }
   ],
   "source": [
    "raj!=yash"
   ]
  },
  {
   "cell_type": "code",
   "execution_count": 19,
   "id": "2e6a8a8e",
   "metadata": {},
   "outputs": [
    {
     "data": {
      "text/plain": [
       "False"
      ]
     },
     "execution_count": 19,
     "metadata": {},
     "output_type": "execute_result"
    }
   ],
   "source": [
    "x=\"raj 28\"\n",
    "y='yash 3'\n",
    "x>y"
   ]
  },
  {
   "cell_type": "code",
   "execution_count": 20,
   "id": "3e6899bb",
   "metadata": {},
   "outputs": [
    {
     "data": {
      "text/plain": [
       "False"
      ]
     },
     "execution_count": 20,
     "metadata": {},
     "output_type": "execute_result"
    }
   ],
   "source": [
    "x='raj28'\n",
    "y='yash3'\n",
    "x>y"
   ]
  },
  {
   "cell_type": "code",
   "execution_count": 21,
   "id": "b5a27f26",
   "metadata": {},
   "outputs": [
    {
     "data": {
      "text/plain": [
       "True"
      ]
     },
     "execution_count": 21,
     "metadata": {},
     "output_type": "execute_result"
    }
   ],
   "source": [
    "x<y"
   ]
  },
  {
   "cell_type": "code",
   "execution_count": 25,
   "id": "e293ce95",
   "metadata": {},
   "outputs": [
    {
     "ename": "IndentationError",
     "evalue": "expected an indented block after 'if' statement on line 4 (2263521847.py, line 5)",
     "output_type": "error",
     "traceback": [
      "\u001b[1;36m  Cell \u001b[1;32mIn[25], line 5\u001b[1;36m\u001b[0m\n\u001b[1;33m    print (a*b)\u001b[0m\n\u001b[1;37m    ^\u001b[0m\n\u001b[1;31mIndentationError\u001b[0m\u001b[1;31m:\u001b[0m expected an indented block after 'if' statement on line 4\n"
     ]
    }
   ],
   "source": [
    "x=2\n",
    "y=4\n",
    "\n",
    "if x>1 and y>1:\n",
    "print (a*b)\n",
    " else:\n",
    "   print(\"bike\")"
   ]
  },
  {
   "cell_type": "code",
   "execution_count": 26,
   "id": "406edf60",
   "metadata": {},
   "outputs": [
    {
     "data": {
      "text/plain": [
       "True"
      ]
     },
     "execution_count": 26,
     "metadata": {},
     "output_type": "execute_result"
    }
   ],
   "source": [
    "x=45\n",
    "y=55\n",
    "x!=y"
   ]
  },
  {
   "cell_type": "code",
   "execution_count": 27,
   "id": "33b3fca7",
   "metadata": {},
   "outputs": [
    {
     "name": "stdout",
     "output_type": "stream",
     "text": [
      "32\n"
     ]
    }
   ],
   "source": [
    "a=4\n",
    "b=8\n",
    "\n",
    "if a>2 and b>2:\n",
    "    print(a*b)"
   ]
  },
  {
   "cell_type": "code",
   "execution_count": 28,
   "id": "a9976ab1",
   "metadata": {},
   "outputs": [
    {
     "name": "stdout",
     "output_type": "stream",
     "text": [
      "super bike\n"
     ]
    }
   ],
   "source": [
    "a=4\n",
    "b=8\n",
    "if a<10 and b<10:\n",
    "    print ('super bike')"
   ]
  },
  {
   "cell_type": "code",
   "execution_count": 31,
   "id": "6fa31fd6",
   "metadata": {},
   "outputs": [
    {
     "name": "stdout",
     "output_type": "stream",
     "text": [
      "15\n"
     ]
    }
   ],
   "source": [
    "a=5\n",
    "b=10\n",
    "if a==5 and b==10:\n",
    "     print (a+b)\n",
    "else:\n",
    "    print(\"super bike\")"
   ]
  },
  {
   "cell_type": "markdown",
   "id": "014ef9ce",
   "metadata": {},
   "source": [
    "# Logical or - when both the condition will be false then the (or operator)give output false otherwise always denotes and give the output True"
   ]
  },
  {
   "cell_type": "code",
   "execution_count": 32,
   "id": "75c8c7a7",
   "metadata": {},
   "outputs": [
    {
     "name": "stdout",
     "output_type": "stream",
     "text": [
      "True\n"
     ]
    }
   ],
   "source": [
    "print(True or False)"
   ]
  },
  {
   "cell_type": "code",
   "execution_count": 33,
   "id": "b43a14b1",
   "metadata": {},
   "outputs": [
    {
     "name": "stdout",
     "output_type": "stream",
     "text": [
      "True\n"
     ]
    }
   ],
   "source": [
    "print(False or True)"
   ]
  },
  {
   "cell_type": "code",
   "execution_count": 34,
   "id": "6fb93082",
   "metadata": {},
   "outputs": [
    {
     "name": "stdout",
     "output_type": "stream",
     "text": [
      "False\n"
     ]
    }
   ],
   "source": [
    "print(False or False)"
   ]
  },
  {
   "cell_type": "code",
   "execution_count": 35,
   "id": "d655baaf",
   "metadata": {},
   "outputs": [
    {
     "name": "stdout",
     "output_type": "stream",
     "text": [
      "True\n"
     ]
    }
   ],
   "source": [
    "print(True or True)"
   ]
  },
  {
   "cell_type": "code",
   "execution_count": 37,
   "id": "b4007105",
   "metadata": {},
   "outputs": [
    {
     "name": "stdout",
     "output_type": "stream",
     "text": [
      "30\n"
     ]
    }
   ],
   "source": [
    "a=10\n",
    "b=20\n",
    "if a==10 or b==20:\n",
    "       print(a+b)\n",
    "else: \n",
    "      print('my name is raj arya')"
   ]
  },
  {
   "cell_type": "code",
   "execution_count": 38,
   "id": "8029f15f",
   "metadata": {},
   "outputs": [
    {
     "name": "stdout",
     "output_type": "stream",
     "text": [
      "my name is raj arya\n"
     ]
    }
   ],
   "source": [
    "print(\"my name is raj arya\")"
   ]
  },
  {
   "cell_type": "code",
   "execution_count": 40,
   "id": "a1b5a35a",
   "metadata": {},
   "outputs": [
    {
     "name": "stdout",
     "output_type": "stream",
     "text": [
      "my name is raj arya\n"
     ]
    }
   ],
   "source": [
    "a= 5\n",
    "b=10\n",
    "if a>2 or b>5:\n",
    "    print(\"my name is raj arya\")"
   ]
  },
  {
   "cell_type": "code",
   "execution_count": 41,
   "id": "868e6eea",
   "metadata": {},
   "outputs": [
    {
     "name": "stdout",
     "output_type": "stream",
     "text": [
      "200\n"
     ]
    }
   ],
   "source": [
    "a=10\n",
    "b=20\n",
    "if a!=5 or b!=10:\n",
    "    print (a*b)"
   ]
  },
  {
   "cell_type": "code",
   "execution_count": 42,
   "id": "371b5a7d",
   "metadata": {},
   "outputs": [
    {
     "ename": "SyntaxError",
     "evalue": "expected ':' (351519126.py, line 3)",
     "output_type": "error",
     "traceback": [
      "\u001b[1;36m  Cell \u001b[1;32mIn[42], line 3\u001b[1;36m\u001b[0m\n\u001b[1;33m    if a==25 or b==50\u001b[0m\n\u001b[1;37m                     ^\u001b[0m\n\u001b[1;31mSyntaxError\u001b[0m\u001b[1;31m:\u001b[0m expected ':'\n"
     ]
    }
   ],
   "source": [
    "a=25                               \n",
    "b=50\n",
    "if a==25 or b==50\n",
    " print(\"True\")\n"
   ]
  },
  {
   "cell_type": "code",
   "execution_count": 45,
   "id": "a201bf9c",
   "metadata": {},
   "outputs": [
    {
     "name": "stdout",
     "output_type": "stream",
     "text": [
      "raj\n"
     ]
    }
   ],
   "source": [
    "a=2\n",
    "b=5\n",
    "if a==2 or b==10:\n",
    "  print(\"raj\")"
   ]
  },
  {
   "cell_type": "code",
   "execution_count": 46,
   "id": "37ce4065",
   "metadata": {},
   "outputs": [
    {
     "name": "stdout",
     "output_type": "stream",
     "text": [
      "50\n"
     ]
    }
   ],
   "source": [
    "a=5\n",
    "b=10\n",
    "if a>=2 or b<2:\n",
    "     print(a*b)\n",
    "else:\n",
    "      print(\"raj\")"
   ]
  },
  {
   "cell_type": "code",
   "execution_count": 47,
   "id": "84a26108",
   "metadata": {},
   "outputs": [
    {
     "name": "stdout",
     "output_type": "stream",
     "text": [
      "15\n"
     ]
    }
   ],
   "source": [
    "a=5\n",
    "b=10\n",
    "if a>10 or b==10:\n",
    "     print(a+b)\n",
    "else :\n",
    "        print(\"rs 200\")\n",
    "    "
   ]
  },
  {
   "cell_type": "code",
   "execution_count": 50,
   "id": "01f9b7f9",
   "metadata": {},
   "outputs": [
    {
     "name": "stdout",
     "output_type": "stream",
     "text": [
      "rs 200\n"
     ]
    }
   ],
   "source": [
    "a=5\n",
    "b=10                        # because i use (and) logical operator  so \n",
    "                                     # a>10=  False\n",
    "                                      # b==10 =  True\n",
    "                                      \n",
    "                                      #so according to and operators False or True result is False \n",
    "                                          # so the output is rs 200\n",
    "if a>10 and b==10:\n",
    "    print(a+b)\n",
    "else:\n",
    "      print(\"rs 200\")"
   ]
  },
  {
   "cell_type": "code",
   "execution_count": 51,
   "id": "66a3a271",
   "metadata": {},
   "outputs": [
    {
     "ename": "SyntaxError",
     "evalue": "invalid syntax (1783035527.py, line 4)",
     "output_type": "error",
     "traceback": [
      "\u001b[1;36m  Cell \u001b[1;32mIn[51], line 4\u001b[1;36m\u001b[0m\n\u001b[1;33m    if a+=b or a-=b\u001b[0m\n\u001b[1;37m        ^\u001b[0m\n\u001b[1;31mSyntaxError\u001b[0m\u001b[1;31m:\u001b[0m invalid syntax\n"
     ]
    }
   ],
   "source": [
    "a=5\n",
    "b=10\n",
    "\n",
    "if a+=b or a-=b\n",
    "      print (a+b)\n",
    "else:\n",
    "      print(\"ns 200\")"
   ]
  },
  {
   "cell_type": "code",
   "execution_count": 58,
   "id": "60d56460",
   "metadata": {},
   "outputs": [
    {
     "name": "stdout",
     "output_type": "stream",
     "text": [
      "raj\n"
     ]
    }
   ],
   "source": [
    "a= 5\n",
    "b=10\n",
    " \n",
    "if a==a+b or b==b-a:\n",
    "    print (a+b)\n",
    "else :\n",
    "       print(\"raj\")"
   ]
  },
  {
   "cell_type": "code",
   "execution_count": 61,
   "id": "42c8fcbe",
   "metadata": {},
   "outputs": [
    {
     "ename": "IndentationError",
     "evalue": "unexpected indent (2578440876.py, line 3)",
     "output_type": "error",
     "traceback": [
      "\u001b[1;36m  Cell \u001b[1;32mIn[61], line 3\u001b[1;36m\u001b[0m\n\u001b[1;33m    if a-==b or b/==a:\u001b[0m\n\u001b[1;37m    ^\u001b[0m\n\u001b[1;31mIndentationError\u001b[0m\u001b[1;31m:\u001b[0m unexpected indent\n"
     ]
    }
   ],
   "source": [
    "a=  10 \n",
    "b= 20\n",
    "   if a-==b or b/==a:\n",
    "    print( \"28\")\n",
    "else:\n",
    "     print(\"raj\")"
   ]
  },
  {
   "cell_type": "code",
   "execution_count": 64,
   "id": "ec89e751",
   "metadata": {},
   "outputs": [
    {
     "name": "stdout",
     "output_type": "stream",
     "text": [
      "raj arya\n"
     ]
    }
   ],
   "source": [
    "a=10\n",
    "b=20\n",
    "if a==a-b or b==a+b:\n",
    "    print(\"28\")\n",
    "else: \n",
    "          print(\"raj arya\")"
   ]
  },
  {
   "cell_type": "code",
   "execution_count": 65,
   "id": "481f514e",
   "metadata": {},
   "outputs": [
    {
     "name": "stdout",
     "output_type": "stream",
     "text": [
      "28\n"
     ]
    }
   ],
   "source": [
    "a=10\n",
    "b=20\n",
    "if a==b-a or b==a+b:\n",
    "    print(\"28\")\n",
    "else:\n",
    "    print(\"raj arya\")"
   ]
  },
  {
   "cell_type": "code",
   "execution_count": 3,
   "id": "241c2faf",
   "metadata": {},
   "outputs": [
    {
     "name": "stdout",
     "output_type": "stream",
     "text": [
      "raj\n"
     ]
    }
   ],
   "source": [
    "a=2\n",
    "b=4\n",
    "if a==a-b or b==a+b:\n",
    "    print(12)\n",
    "else:\n",
    "        print(\"raj\")"
   ]
  },
  {
   "cell_type": "markdown",
   "id": "dec0521a",
   "metadata": {},
   "source": [
    "# Arithmetic values  in Logical operator (or) always print starting values "
   ]
  },
  {
   "cell_type": "code",
   "execution_count": 1,
   "id": "915ec3c5",
   "metadata": {},
   "outputs": [
    {
     "name": "stdout",
     "output_type": "stream",
     "text": [
      "20\n"
     ]
    }
   ],
   "source": [
    "print(20 or 55)"
   ]
  },
  {
   "cell_type": "code",
   "execution_count": 54,
   "id": "c651f85b",
   "metadata": {},
   "outputs": [
    {
     "name": "stdout",
     "output_type": "stream",
     "text": [
      "10\n"
     ]
    }
   ],
   "source": [
    "print(10 or 20)"
   ]
  },
  {
   "cell_type": "code",
   "execution_count": 55,
   "id": "aa2e5780",
   "metadata": {},
   "outputs": [
    {
     "name": "stdout",
     "output_type": "stream",
     "text": [
      "100\n"
     ]
    }
   ],
   "source": [
    "print( 100 or 50)"
   ]
  },
  {
   "cell_type": "code",
   "execution_count": 57,
   "id": "3556956e",
   "metadata": {},
   "outputs": [
    {
     "name": "stdout",
     "output_type": "stream",
     "text": [
      "50\n"
     ]
    }
   ],
   "source": [
    "print( 50 or 34)"
   ]
  },
  {
   "cell_type": "code",
   "execution_count": 4,
   "id": "61008e64",
   "metadata": {},
   "outputs": [
    {
     "name": "stdout",
     "output_type": "stream",
     "text": [
      "30\n"
     ]
    }
   ],
   "source": [
    "print( 30 or 50)"
   ]
  },
  {
   "cell_type": "markdown",
   "id": "0a902beb",
   "metadata": {},
   "source": [
    "# not- is reverse to true into false, and false into true"
   ]
  },
  {
   "cell_type": "markdown",
   "id": "14f90f1e",
   "metadata": {},
   "source": [
    "- In the case of arithmetic values,Logical not always return False for nonezero value ."
   ]
  },
  {
   "cell_type": "code",
   "execution_count": 2,
   "id": "657750d3",
   "metadata": {},
   "outputs": [
    {
     "data": {
      "text/plain": [
       "False"
      ]
     },
     "execution_count": 2,
     "metadata": {},
     "output_type": "execute_result"
    }
   ],
   "source": [
    "not True"
   ]
  },
  {
   "cell_type": "code",
   "execution_count": 1,
   "id": "6ef0d29c",
   "metadata": {},
   "outputs": [
    {
     "name": "stdout",
     "output_type": "stream",
     "text": [
      "no\n"
     ]
    }
   ],
   "source": [
    "a=5\n",
    "if not a:                             # if not (a) means a true nahi ha \n",
    "     print(a)\n",
    "else:\n",
    "    print(\"no\")"
   ]
  },
  {
   "cell_type": "code",
   "execution_count": 9,
   "id": "5de98502",
   "metadata": {},
   "outputs": [
    {
     "name": "stdout",
     "output_type": "stream",
     "text": [
      "0\n"
     ]
    }
   ],
   "source": [
    "a=0\n",
    "if not  a:                             # if not (a) means a true nahi ha \n",
    "     print(a)\n",
    "else:\n",
    "    print(\"no\")"
   ]
  },
  {
   "cell_type": "code",
   "execution_count": 3,
   "id": "2f33a588",
   "metadata": {},
   "outputs": [
    {
     "name": "stdout",
     "output_type": "stream",
     "text": [
      "False\n"
     ]
    }
   ],
   "source": [
    "print(not 10)"
   ]
  },
  {
   "cell_type": "code",
   "execution_count": 4,
   "id": "d9de8f67",
   "metadata": {},
   "outputs": [
    {
     "name": "stdout",
     "output_type": "stream",
     "text": [
      "False\n"
     ]
    }
   ],
   "source": [
    "print ( not 1)"
   ]
  },
  {
   "cell_type": "code",
   "execution_count": 7,
   "id": "e6ed990d",
   "metadata": {},
   "outputs": [
    {
     "name": "stdout",
     "output_type": "stream",
     "text": [
      "False\n"
     ]
    }
   ],
   "source": [
    "print(not 5)\n"
   ]
  },
  {
   "cell_type": "code",
   "execution_count": 8,
   "id": "ade900bb",
   "metadata": {},
   "outputs": [
    {
     "name": "stdout",
     "output_type": "stream",
     "text": [
      "True\n"
     ]
    }
   ],
   "source": [
    "print(not 0)"
   ]
  },
  {
   "cell_type": "code",
   "execution_count": 5,
   "id": "7813035a",
   "metadata": {},
   "outputs": [
    {
     "name": "stdout",
     "output_type": "stream",
     "text": [
      "False\n"
     ]
    }
   ],
   "source": [
    "print(not 5)"
   ]
  },
  {
   "cell_type": "code",
   "execution_count": 3,
   "id": "1f211ac4",
   "metadata": {},
   "outputs": [
    {
     "data": {
      "text/plain": [
       "True"
      ]
     },
     "execution_count": 3,
     "metadata": {},
     "output_type": "execute_result"
    }
   ],
   "source": [
    "not False"
   ]
  },
  {
   "cell_type": "code",
   "execution_count": 4,
   "id": "e6155da1",
   "metadata": {},
   "outputs": [
    {
     "data": {
      "text/plain": [
       "False"
      ]
     },
     "execution_count": 4,
     "metadata": {},
     "output_type": "execute_result"
    }
   ],
   "source": [
    "x=13\n",
    "y=14\n",
    "x<15 and x==y"
   ]
  },
  {
   "cell_type": "code",
   "execution_count": 5,
   "id": "c030a0d8",
   "metadata": {},
   "outputs": [
    {
     "data": {
      "text/plain": [
       "True"
      ]
     },
     "execution_count": 5,
     "metadata": {},
     "output_type": "execute_result"
    }
   ],
   "source": [
    "x<15 or x==y"
   ]
  },
  {
   "cell_type": "code",
   "execution_count": 6,
   "id": "9500896c",
   "metadata": {},
   "outputs": [
    {
     "data": {
      "text/plain": [
       "False"
      ]
     },
     "execution_count": 6,
     "metadata": {},
     "output_type": "execute_result"
    }
   ],
   "source": [
    "not  x<15"
   ]
  },
  {
   "cell_type": "code",
   "execution_count": 7,
   "id": "280a37f5",
   "metadata": {},
   "outputs": [
    {
     "data": {
      "text/plain": [
       "True"
      ]
     },
     "execution_count": 7,
     "metadata": {},
     "output_type": "execute_result"
    }
   ],
   "source": [
    "not x==y"
   ]
  },
  {
   "cell_type": "code",
   "execution_count": 11,
   "id": "6ae5d045",
   "metadata": {},
   "outputs": [
    {
     "data": {
      "text/plain": [
       "True"
      ]
     },
     "execution_count": 11,
     "metadata": {},
     "output_type": "execute_result"
    }
   ],
   "source": [
    "\"abc\">\"a\"                      # home work"
   ]
  },
  {
   "cell_type": "code",
   "execution_count": 9,
   "id": "9a18cce2",
   "metadata": {},
   "outputs": [
    {
     "data": {
      "text/plain": [
       "False"
      ]
     },
     "execution_count": 9,
     "metadata": {},
     "output_type": "execute_result"
    }
   ],
   "source": [
    "\"abc\">\"x\""
   ]
  },
  {
   "cell_type": "code",
   "execution_count": 10,
   "id": "f2edbbe2",
   "metadata": {},
   "outputs": [
    {
     "data": {
      "text/plain": [
       "True"
      ]
     },
     "execution_count": 10,
     "metadata": {},
     "output_type": "execute_result"
    }
   ],
   "source": [
    "True or False and False"
   ]
  },
  {
   "cell_type": "code",
   "execution_count": 3,
   "id": "3a9c8dae",
   "metadata": {},
   "outputs": [
    {
     "name": "stderr",
     "output_type": "stream",
     "text": [
      "<>:1: SyntaxWarning: \"is not\" with a literal. Did you mean \"!=\"?\n",
      "<>:1: SyntaxWarning: \"is not\" with a literal. Did you mean \"!=\"?\n",
      "C:\\Users\\user\\AppData\\Local\\Temp\\ipykernel_1012\\3925760004.py:1: SyntaxWarning: \"is not\" with a literal. Did you mean \"!=\"?\n",
      "  1+2 is not 3\n"
     ]
    },
    {
     "data": {
      "text/plain": [
       "False"
      ]
     },
     "execution_count": 3,
     "metadata": {},
     "output_type": "execute_result"
    }
   ],
   "source": [
    "1+2 is not 3"
   ]
  },
  {
   "cell_type": "code",
   "execution_count": 8,
   "id": "4eabf1c5",
   "metadata": {},
   "outputs": [
    {
     "data": {
      "text/plain": [
       "False"
      ]
     },
     "execution_count": 8,
     "metadata": {},
     "output_type": "execute_result"
    }
   ],
   "source": [
    "1+2!=3"
   ]
  },
  {
   "cell_type": "code",
   "execution_count": 9,
   "id": "3b76d21a",
   "metadata": {},
   "outputs": [
    {
     "ename": "SyntaxError",
     "evalue": "invalid syntax (2433134417.py, line 1)",
     "output_type": "error",
     "traceback": [
      "\u001b[1;36m  Cell \u001b[1;32mIn[9], line 1\u001b[1;36m\u001b[0m\n\u001b[1;33m    1+2 not 3\u001b[0m\n\u001b[1;37m            ^\u001b[0m\n\u001b[1;31mSyntaxError\u001b[0m\u001b[1;31m:\u001b[0m invalid syntax\n"
     ]
    }
   ],
   "source": [
    "1+2 not 3"
   ]
  },
  {
   "cell_type": "code",
   "execution_count": 10,
   "id": "8fe1555a",
   "metadata": {},
   "outputs": [
    {
     "data": {
      "text/plain": [
       "True"
      ]
     },
     "execution_count": 10,
     "metadata": {},
     "output_type": "execute_result"
    }
   ],
   "source": [
    "1+2==3"
   ]
  },
  {
   "cell_type": "code",
   "execution_count": 11,
   "id": "d64499ab",
   "metadata": {},
   "outputs": [
    {
     "data": {
      "text/plain": [
       "True"
      ]
     },
     "execution_count": 11,
     "metadata": {},
     "output_type": "execute_result"
    }
   ],
   "source": [
    "1+2>=3"
   ]
  },
  {
   "cell_type": "code",
   "execution_count": 13,
   "id": "2d833c37",
   "metadata": {},
   "outputs": [
    {
     "data": {
      "text/plain": [
       "True"
      ]
     },
     "execution_count": 13,
     "metadata": {},
     "output_type": "execute_result"
    }
   ],
   "source": [
    "1+2\\\n",
    "<=3"
   ]
  },
  {
   "cell_type": "code",
   "execution_count": 2,
   "id": "6164cc6e",
   "metadata": {},
   "outputs": [
    {
     "data": {
      "text/plain": [
       "True"
      ]
     },
     "execution_count": 2,
     "metadata": {},
     "output_type": "execute_result"
    }
   ],
   "source": [
    "1+2\\\n",
    ">=3"
   ]
  },
  {
   "cell_type": "code",
   "execution_count": 17,
   "id": "81f6a342",
   "metadata": {},
   "outputs": [
    {
     "data": {
      "text/plain": [
       "True"
      ]
     },
     "execution_count": 17,
     "metadata": {},
     "output_type": "execute_result"
    }
   ],
   "source": [
    "1+2<=3"
   ]
  },
  {
   "cell_type": "markdown",
   "id": "c263e3ee",
   "metadata": {},
   "source": [
    "# Python Opeators Precedence"
   ]
  },
  {
   "cell_type": "markdown",
   "id": "41cb1955",
   "metadata": {},
   "source": [
    " 1 Parenthesis = ()\n",
    "\n",
    " 2 Exponentiation  = **\n",
    "\n",
    " 3  Multiplication , Division, Floor division, Modulus = *,/,//,%\n",
    " \n",
    " 4  Addition or subtraction = +,-\n",
    " \n",
    " 5  Comparision operator  =     ==,!=,>,>=,<,<=\n",
    " \n",
    " 6  Identify membership =   is, is not ,in, not in\n",
    " \n",
    " 7  Logical Not = not \n",
    " \n",
    " 8  Logical And = and\n",
    " \n",
    " 9  Logical Or = or (lowest)"
   ]
  },
  {
   "cell_type": "code",
   "execution_count": 21,
   "id": "e4547616",
   "metadata": {},
   "outputs": [
    {
     "name": "stdout",
     "output_type": "stream",
     "text": [
      "False\n"
     ]
    }
   ],
   "source": [
    " print(not 5)"
   ]
  },
  {
   "cell_type": "code",
   "execution_count": 22,
   "id": "f89b4ab0",
   "metadata": {},
   "outputs": [
    {
     "name": "stdout",
     "output_type": "stream",
     "text": [
      "False\n"
     ]
    }
   ],
   "source": [
    "print(not 7)"
   ]
  },
  {
   "cell_type": "code",
   "execution_count": 23,
   "id": "d4f45490",
   "metadata": {},
   "outputs": [
    {
     "name": "stdout",
     "output_type": "stream",
     "text": [
      "False\n"
     ]
    }
   ],
   "source": [
    "print(not 56)"
   ]
  },
  {
   "cell_type": "code",
   "execution_count": 24,
   "id": "143ca127",
   "metadata": {},
   "outputs": [
    {
     "name": "stdout",
     "output_type": "stream",
     "text": [
      "False\n"
     ]
    }
   ],
   "source": [
    "print(not 78)"
   ]
  },
  {
   "cell_type": "code",
   "execution_count": 17,
   "id": "01b286a3",
   "metadata": {},
   "outputs": [
    {
     "data": {
      "text/plain": [
       "True"
      ]
     },
     "execution_count": 17,
     "metadata": {},
     "output_type": "execute_result"
    }
   ],
   "source": [
    "True and False or True"
   ]
  },
  {
   "cell_type": "code",
   "execution_count": 26,
   "id": "59765c33",
   "metadata": {},
   "outputs": [
    {
     "data": {
      "text/plain": [
       "5"
      ]
     },
     "execution_count": 26,
     "metadata": {},
     "output_type": "execute_result"
    }
   ],
   "source": [
    "5 and 7 or 56 and 78"
   ]
  },
  {
   "cell_type": "code",
   "execution_count": 30,
   "id": "0e7c90dc",
   "metadata": {},
   "outputs": [
    {
     "data": {
      "text/plain": [
       "5"
      ]
     },
     "execution_count": 30,
     "metadata": {},
     "output_type": "execute_result"
    }
   ],
   "source": [
    "5 or 7 or 56 and 0"
   ]
  },
  {
   "cell_type": "markdown",
   "id": "98e13939",
   "metadata": {},
   "source": [
    "# Is operator\n"
   ]
  },
  {
   "cell_type": "code",
   "execution_count": 8,
   "id": "8877554e",
   "metadata": {},
   "outputs": [
    {
     "name": "stdout",
     "output_type": "stream",
     "text": [
      "False\n"
     ]
    }
   ],
   "source": [
    "x=10\n",
    "y=11\n",
    "z=10\n",
    "print(x is y)"
   ]
  },
  {
   "cell_type": "code",
   "execution_count": 9,
   "id": "776e053a",
   "metadata": {},
   "outputs": [
    {
     "name": "stdout",
     "output_type": "stream",
     "text": [
      "False\n"
     ]
    }
   ],
   "source": [
    "print( y is z)"
   ]
  },
  {
   "cell_type": "code",
   "execution_count": 10,
   "id": "8fead33e",
   "metadata": {},
   "outputs": [
    {
     "name": "stdout",
     "output_type": "stream",
     "text": [
      "1905283039760\n"
     ]
    }
   ],
   "source": [
    "print(id (x))"
   ]
  },
  {
   "cell_type": "code",
   "execution_count": 11,
   "id": "16ad633f",
   "metadata": {},
   "outputs": [
    {
     "name": "stdout",
     "output_type": "stream",
     "text": [
      "1905283039792\n"
     ]
    }
   ],
   "source": [
    "print(id(y))"
   ]
  },
  {
   "cell_type": "code",
   "execution_count": 12,
   "id": "8912bdb1",
   "metadata": {},
   "outputs": [
    {
     "name": "stdout",
     "output_type": "stream",
     "text": [
      "1905283039760\n"
     ]
    }
   ],
   "source": [
    "print(id(z))"
   ]
  },
  {
   "cell_type": "code",
   "execution_count": 13,
   "id": "cce29d05",
   "metadata": {},
   "outputs": [
    {
     "name": "stdout",
     "output_type": "stream",
     "text": [
      "True\n"
     ]
    }
   ],
   "source": [
    "print(x is not y)"
   ]
  },
  {
   "cell_type": "code",
   "execution_count": 1,
   "id": "a007373d",
   "metadata": {},
   "outputs": [
    {
     "name": "stdout",
     "output_type": "stream",
     "text": [
      "True\n"
     ]
    }
   ],
   "source": [
    "p=25\n",
    "q=45\n",
    "print(p is not q)"
   ]
  },
  {
   "cell_type": "code",
   "execution_count": 16,
   "id": "69d20d65",
   "metadata": {},
   "outputs": [
    {
     "name": "stdout",
     "output_type": "stream",
     "text": [
      "True\n"
     ]
    }
   ],
   "source": [
    "print(p  is q)"
   ]
  },
  {
   "cell_type": "code",
   "execution_count": 4,
   "id": "1662b3ee",
   "metadata": {},
   "outputs": [
    {
     "name": "stdout",
     "output_type": "stream",
     "text": [
      "1634638431856\n",
      "1634638431856\n"
     ]
    }
   ],
   "source": [
    "x=45;y=55;z=45\n",
    "if x is z:\n",
    "    print(id(x))\n",
    "    print(id(z))\n",
    "else:\n",
    "    print(id(y))"
   ]
  },
  {
   "cell_type": "code",
   "execution_count": 7,
   "id": "041eeac2",
   "metadata": {},
   "outputs": [
    {
     "name": "stdout",
     "output_type": "stream",
     "text": [
      "1634638431856\n",
      "1634638431856\n",
      "1634638431856\n"
     ]
    }
   ],
   "source": [
    "x=45;y=45;z=45                       # id takes onle one time one command\n",
    "if x is z is y:\n",
    "    print(id(x))\n",
    "    print(id(z))\n",
    "    print(id(y))\n",
    "else:\n",
    "    print(\"nothing\")"
   ]
  },
  {
   "cell_type": "markdown",
   "id": "ab64baa4",
   "metadata": {},
   "source": [
    "# Membership operator - have 2 operator\n",
    "\n",
    "1.in\n",
    "\n",
    "2.not in"
   ]
  },
  {
   "cell_type": "code",
   "execution_count": 8,
   "id": "a66e68d2",
   "metadata": {},
   "outputs": [
    {
     "name": "stdout",
     "output_type": "stream",
     "text": [
      "number is present\n"
     ]
    }
   ],
   "source": [
    "my_list =[11,15,21,29,50,70]\n",
    "number=11\n",
    "if number in my_list:\n",
    "    print(\"number is present\")\n",
    "else:\n",
    "    print(\"number is not present\")\n"
   ]
  },
  {
   "cell_type": "code",
   "execution_count": 4,
   "id": "3ff0c561",
   "metadata": {},
   "outputs": [
    {
     "name": "stdout",
     "output_type": "stream",
     "text": [
      "number is  present\n"
     ]
    }
   ],
   "source": [
    "my_list =[11,15,21,29,50,70]\n",
    "number= 50\n",
    "if number not in my_list:\n",
    "    print(\"number is not present\")\n",
    "else:\n",
    "    print(\"number is  present\")\n"
   ]
  },
  {
   "cell_type": "code",
   "execution_count": 5,
   "id": "cba416e5",
   "metadata": {},
   "outputs": [
    {
     "name": "stdout",
     "output_type": "stream",
     "text": [
      "number is not present\n"
     ]
    }
   ],
   "source": [
    "my_typle =(11,15,21,29,50,70)\n",
    "number = 55\n",
    "if number not in my_typle:\n",
    "    print(\"number is not present\")\n",
    "else:\n",
    "    print(\"number is present\")"
   ]
  },
  {
   "cell_type": "code",
   "execution_count": 6,
   "id": "34cd1dc7",
   "metadata": {},
   "outputs": [
    {
     "name": "stdout",
     "output_type": "stream",
     "text": [
      "number is present\n"
     ]
    }
   ],
   "source": [
    "my_typle =(11,15,21,29,50,70)\n",
    "number = 15\n",
    "if number not in my_typle:\n",
    "    print(\"number is not present\")\n",
    "else:\n",
    "    print(\"number is present\")"
   ]
  },
  {
   "cell_type": "code",
   "execution_count": 11,
   "id": "629b306c",
   "metadata": {},
   "outputs": [
    {
     "ename": "SyntaxError",
     "evalue": "invalid syntax (2716461839.py, line 2)",
     "output_type": "error",
     "traceback": [
      "\u001b[1;36m  Cell \u001b[1;32mIn[11], line 2\u001b[1;36m\u001b[0m\n\u001b[1;33m    number divisible_ by 5| =[]\u001b[0m\n\u001b[1;37m           ^\u001b[0m\n\u001b[1;31mSyntaxError\u001b[0m\u001b[1;31m:\u001b[0m invalid syntax\n"
     ]
    }
   ],
   "source": [
    "my_list=[23,45,56,77,45,10,20,]\n",
    "number divisible_ by 5| =[]\n",
    "if number divisible_by 5 in my_list:\n",
    "    print(\"yes\")\n",
    "else:\n",
    "    print(\"no\")"
   ]
  },
  {
   "cell_type": "code",
   "execution_count": 14,
   "id": "5b7a72d8",
   "metadata": {},
   "outputs": [
    {
     "name": "stdout",
     "output_type": "stream",
     "text": [
      "number\n"
     ]
    }
   ],
   "source": [
    "my_tuple=(34,55,56,23,10,87,)\n",
    "number=34;10\n",
    "if number in my_tuple:\n",
    "    print(\"number\")\n",
    "else:\n",
    "    print(\"nothing\")"
   ]
  },
  {
   "cell_type": "code",
   "execution_count": 15,
   "id": "01c76c9c",
   "metadata": {},
   "outputs": [
    {
     "name": "stdout",
     "output_type": "stream",
     "text": [
      "yes\n"
     ]
    }
   ],
   "source": [
    "my_tuple=(34,55,56,23,10,87,)\n",
    "number=55;56;87\n",
    "if number not in my_tuple:\n",
    "    print(\"empty\")\n",
    "else:\n",
    "    print(\"yes\")"
   ]
  },
  {
   "cell_type": "code",
   "execution_count": 16,
   "id": "2c5f8ee1",
   "metadata": {},
   "outputs": [
    {
     "name": "stdout",
     "output_type": "stream",
     "text": [
      "empty\n"
     ]
    }
   ],
   "source": [
    "my_tuple=(34,55,56,23,10,87,)\n",
    "number=100;22;1\n",
    "if number not in my_tuple:\n",
    "    print(\"empty\")\n",
    "else:\n",
    "    print(\"yes\")"
   ]
  },
  {
   "cell_type": "code",
   "execution_count": 20,
   "id": "6306759b",
   "metadata": {},
   "outputs": [
    {
     "name": "stdout",
     "output_type": "stream",
     "text": [
      "yes\n"
     ]
    }
   ],
   "source": [
    "raj=[45,23,90,55,34,]                # when i am try two find two numbers in membership operator they take only first number\n",
    "number=45;56\n",
    "if number in raj:\n",
    "    print(\"yes\")\n",
    "else:\n",
    "    print(\"no\")"
   ]
  },
  {
   "cell_type": "code",
   "execution_count": 19,
   "id": "3c270c78",
   "metadata": {},
   "outputs": [
    {
     "name": "stdout",
     "output_type": "stream",
     "text": [
      "yes\n"
     ]
    }
   ],
   "source": [
    "raj=[45,23,90,55,34,]\n",
    "number=56;45;23\n",
    "if number not in raj:\n",
    "    print(\"yes\")\n",
    "else:\n",
    "    print(\"no\")"
   ]
  },
  {
   "cell_type": "markdown",
   "id": "7803fa2c",
   "metadata": {},
   "source": [
    "# Identify operators = to compare memory  address of x and y\n",
    "\n",
    "identify have 2 operators\n",
    "\n",
    "1.is \n",
    "\n",
    "2.is not"
   ]
  },
  {
   "cell_type": "code",
   "execution_count": 9,
   "id": "351cc03a",
   "metadata": {},
   "outputs": [
    {
     "name": "stdout",
     "output_type": "stream",
     "text": [
      "False\n",
      "True\n",
      "True\n"
     ]
    }
   ],
   "source": [
    "x=10\n",
    "y=11\n",
    "z=10\n",
    "print(x is y)\n",
    "print(x is z)\n",
    "print(x is z)"
   ]
  },
  {
   "cell_type": "code",
   "execution_count": 10,
   "id": "efd02b29",
   "metadata": {},
   "outputs": [
    {
     "name": "stdout",
     "output_type": "stream",
     "text": [
      "True\n"
     ]
    }
   ],
   "source": [
    "x=30\n",
    "y=30\n",
    "z=30\n",
    "print( x is y is z)"
   ]
  },
  {
   "cell_type": "code",
   "execution_count": 11,
   "id": "d37cfe69",
   "metadata": {},
   "outputs": [
    {
     "name": "stdout",
     "output_type": "stream",
     "text": [
      "False\n"
     ]
    }
   ],
   "source": [
    "x= 50\n",
    "y=70\n",
    "z=70\n",
    "print( x is y is z)"
   ]
  },
  {
   "cell_type": "code",
   "execution_count": 12,
   "id": "c8568335",
   "metadata": {},
   "outputs": [
    {
     "name": "stdout",
     "output_type": "stream",
     "text": [
      "False\n"
     ]
    }
   ],
   "source": [
    "x=10\n",
    "y=11\n",
    "z=10\n",
    "print( x is not z)"
   ]
  },
  {
   "cell_type": "code",
   "execution_count": 17,
   "id": "f7f4303d",
   "metadata": {},
   "outputs": [
    {
     "ename": "TypeError",
     "evalue": "id() takes exactly one argument (2 given)",
     "output_type": "error",
     "traceback": [
      "\u001b[1;31m---------------------------------------------------------------------------\u001b[0m",
      "\u001b[1;31mTypeError\u001b[0m                                 Traceback (most recent call last)",
      "Cell \u001b[1;32mIn[17], line 1\u001b[0m\n\u001b[1;32m----> 1\u001b[0m \u001b[38;5;28mprint\u001b[39m(\u001b[38;5;28;43mid\u001b[39;49m\u001b[43m(\u001b[49m\u001b[43mx\u001b[49m\u001b[43m,\u001b[49m\u001b[43my\u001b[49m\u001b[43m)\u001b[49m)\n",
      "\u001b[1;31mTypeError\u001b[0m: id() takes exactly one argument (2 given)"
     ]
    }
   ],
   "source": [
    "print(id(x,y))                       # id takes only one argument in one time"
   ]
  },
  {
   "cell_type": "code",
   "execution_count": 14,
   "id": "11c577be",
   "metadata": {},
   "outputs": [
    {
     "name": "stdout",
     "output_type": "stream",
     "text": [
      "2532934877712\n",
      "2532934877744\n",
      "2532934877712\n"
     ]
    }
   ],
   "source": [
    "x=10\n",
    "y=11\n",
    "z=10\n",
    "print(id(x))\n",
    "print(id(y))\n",
    "print(id(z))\n"
   ]
  },
  {
   "cell_type": "code",
   "execution_count": 15,
   "id": "18370614",
   "metadata": {},
   "outputs": [
    {
     "data": {
      "text/plain": [
       "True"
      ]
     },
     "execution_count": 15,
     "metadata": {},
     "output_type": "execute_result"
    }
   ],
   "source": [
    "x is z"
   ]
  },
  {
   "cell_type": "code",
   "execution_count": 16,
   "id": "41e74161",
   "metadata": {},
   "outputs": [
    {
     "data": {
      "text/plain": [
       "False"
      ]
     },
     "execution_count": 16,
     "metadata": {},
     "output_type": "execute_result"
    }
   ],
   "source": [
    "y is z"
   ]
  },
  {
   "cell_type": "code",
   "execution_count": 18,
   "id": "00d8facb",
   "metadata": {},
   "outputs": [
    {
     "name": "stdout",
     "output_type": "stream",
     "text": [
      "2533013866224\n",
      "2533013869040\n",
      "2533048033648\n"
     ]
    }
   ],
   "source": [
    "x=\"raj\"\n",
    "y=\"arya\"\n",
    "z=\"Raj\"\n",
    "print(id(x))\n",
    "print(id(y))\n",
    "print(id(z))"
   ]
  },
  {
   "cell_type": "code",
   "execution_count": null,
   "id": "7cbbfdee",
   "metadata": {},
   "outputs": [],
   "source": []
  }
 ],
 "metadata": {
  "kernelspec": {
   "display_name": "Python 3 (ipykernel)",
   "language": "python",
   "name": "python3"
  },
  "language_info": {
   "codemirror_mode": {
    "name": "ipython",
    "version": 3
   },
   "file_extension": ".py",
   "mimetype": "text/x-python",
   "name": "python",
   "nbconvert_exporter": "python",
   "pygments_lexer": "ipython3",
   "version": "3.10.9"
  }
 },
 "nbformat": 4,
 "nbformat_minor": 5
}
