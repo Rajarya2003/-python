{
 "cells": [
  {
   "cell_type": "markdown",
   "id": "09b7f6e9",
   "metadata": {},
   "source": [
    "# Sets in pyhton\n",
    "\n"
   ]
  },
  {
   "cell_type": "markdown",
   "id": "7acbfd6f",
   "metadata": {},
   "source": [
    "# Characteristics of a set\n",
    " \n",
    " a set is a built in data structure in python with the following three characteristics\n",
    "    \n",
    "- Unordered the item in the set are unordered ,unlike lists,ie ,it will not maintain the order in which the item are inserted. the item will be in a different ordered each time when we access the set object.There will not be any index value assiged to each item in the set.\n",
    "        \n",
    "        \n",
    "    \n",
    "- Unchangeable : set item must be immutable. we can not change the set item.i,e we can not modify the item value.but we can add or remove item to the set .a set itself may be modifield ,but the element contained in the set must be of an immutable type.\n",
    "        \n",
    "        \n",
    "        \n",
    "- Unique: there can not be two item with the same value in the set.\n",
    "\n"
   ]
  },
  {
   "cell_type": "code",
   "execution_count": 11,
   "id": "707b1252",
   "metadata": {},
   "outputs": [
    {
     "name": "stdout",
     "output_type": "stream",
     "text": [
      "{'mango', 'papaya', 'apple', 'banana', 'graphes'}\n"
     ]
    }
   ],
   "source": [
    "# proof that sets are Unordered.\n",
    "fruit_set={'apple','banana','graphes','papaya','mango'}\n",
    "print(fruit_set)"
   ]
  },
  {
   "cell_type": "code",
   "execution_count": 12,
   "id": "3160bb16",
   "metadata": {},
   "outputs": [
    {
     "ename": "TypeError",
     "evalue": "unhashable type: 'list'",
     "output_type": "error",
     "traceback": [
      "\u001b[1;31m---------------------------------------------------------------------------\u001b[0m",
      "\u001b[1;31mTypeError\u001b[0m                                 Traceback (most recent call last)",
      "Cell \u001b[1;32mIn[12], line 3\u001b[0m\n\u001b[0;32m      1\u001b[0m \u001b[38;5;66;03m# proof that sets item are immutable.\u001b[39;00m\n\u001b[0;32m      2\u001b[0m \u001b[38;5;66;03m# attempting to create a set with a mutable element(list).\u001b[39;00m\n\u001b[1;32m----> 3\u001b[0m mutable_set\u001b[38;5;241m=\u001b[39m{[\u001b[38;5;241m1\u001b[39m,\u001b[38;5;241m2\u001b[39m,\u001b[38;5;241m3\u001b[39m]}\n\u001b[0;32m      4\u001b[0m \u001b[38;5;28mprint\u001b[39m(mutable_set)\n",
      "\u001b[1;31mTypeError\u001b[0m: unhashable type: 'list'"
     ]
    }
   ],
   "source": [
    "# proof that sets item are immutable.\n",
    "# attempting to create a set with a mutable element(list).\n",
    "mutable_set={[1,2,3]}\n",
    "print(mutable_set)"
   ]
  },
  {
   "cell_type": "code",
   "execution_count": 14,
   "id": "93ac804e",
   "metadata": {},
   "outputs": [
    {
     "name": "stdout",
     "output_type": "stream",
     "text": [
      "{(1, 2, 3)}\n"
     ]
    }
   ],
   "source": [
    "# here we put sets item as immutable element (tuple)\n",
    "mutable_set={(1,2,3)}\n",
    "print(mutable_set)"
   ]
  },
  {
   "cell_type": "code",
   "execution_count": 15,
   "id": "a9619557",
   "metadata": {},
   "outputs": [
    {
     "name": "stdout",
     "output_type": "stream",
     "text": [
      "{1, 2, 3, 4}\n"
     ]
    }
   ],
   "source": [
    "# proof that item of a set is unique.\n",
    "unique_set={1,2,3,4,1,1,1,1,2,2}\n",
    "print(unique_set)"
   ]
  },
  {
   "cell_type": "markdown",
   "id": "b8fd290b",
   "metadata": {},
   "source": [
    "# There are two ways to create sets.\n",
    "\n",
    "1.Using curly bracket{}.\n",
    "\n",
    "2.Using 'set()' constructor."
   ]
  },
  {
   "cell_type": "code",
   "execution_count": 1,
   "id": "c9305158",
   "metadata": {},
   "outputs": [
    {
     "name": "stdout",
     "output_type": "stream",
     "text": [
      "{1, 2, 3, 4, 5}\n"
     ]
    }
   ],
   "source": [
    "# using curly bracket.\n",
    "my_set={1,2,3,4,5}\n",
    "print(my_set)"
   ]
  },
  {
   "cell_type": "code",
   "execution_count": 2,
   "id": "8fdabdfa",
   "metadata": {},
   "outputs": [
    {
     "name": "stdout",
     "output_type": "stream",
     "text": [
      "<class 'set'>\n"
     ]
    }
   ],
   "source": [
    "print(type(my_set))"
   ]
  },
  {
   "cell_type": "code",
   "execution_count": 3,
   "id": "7347922b",
   "metadata": {},
   "outputs": [
    {
     "name": "stdout",
     "output_type": "stream",
     "text": [
      "{1, 2, 3, 4, 5, 6}\n"
     ]
    }
   ],
   "source": [
    "# using the \"set()\"constructor.\n",
    "x=[1,2,3,4,5,6]\n",
    "my_set=set(x)\n",
    "print(my_set)"
   ]
  },
  {
   "cell_type": "code",
   "execution_count": 6,
   "id": "fb79981f",
   "metadata": {},
   "outputs": [
    {
     "name": "stdout",
     "output_type": "stream",
     "text": [
      "<class 'set'>\n"
     ]
    }
   ],
   "source": [
    "print(type(my_set))"
   ]
  },
  {
   "cell_type": "markdown",
   "id": "3e734516",
   "metadata": {},
   "source": [
    "# Empty_set when we dont pass any item to the set constructor then it will create an empty set.¶"
   ]
  },
  {
   "cell_type": "code",
   "execution_count": 30,
   "id": "a6b44d29",
   "metadata": {},
   "outputs": [
    {
     "name": "stdout",
     "output_type": "stream",
     "text": [
      "{}\n",
      "<class 'dict'>\n"
     ]
    }
   ],
   "source": [
    "# create a empty set my_set.\n",
    "my_set={    }\n",
    "print(my_set)\n",
    "# check type of an empty set.\n",
    "print(type(my_set))\n",
    "# output:type show class 'dict'because the empty is not a set is calles a dictionary."
   ]
  },
  {
   "cell_type": "markdown",
   "id": "5d017d0e",
   "metadata": {},
   "source": [
    "# Summary of set"
   ]
  },
  {
   "cell_type": "markdown",
   "id": "4c64db46",
   "metadata": {},
   "source": [
    "# Operation of set.\n",
    "\n",
    "- union\n",
    "\n",
    "- intersection or intersection_update.\n",
    "\n",
    "- difference or difference_update.\n",
    "\n",
    "- symmetric difference or symmetric difference update.\n"
   ]
  },
  {
   "cell_type": "markdown",
   "id": "3f7454ce",
   "metadata": {},
   "source": [
    "# Methods of sets.\n",
    "\n",
    "- add\n",
    "- update\n",
    "- remove\n",
    "- discard\n",
    "- pop\n",
    "- clear\n",
    "- del\n",
    "- issubset or issuperset"
   ]
  },
  {
   "cell_type": "markdown",
   "id": "400ef5d8",
   "metadata": {},
   "source": [
    "- Membership operator.\n",
    "- iteration\n",
    "- frozenset\n"
   ]
  },
  {
   "cell_type": "markdown",
   "id": "82c28adf",
   "metadata": {},
   "source": [
    "# Application of sets.\n",
    "- Example=Like removing duplicates from a list or checking for unique element"
   ]
  },
  {
   "cell_type": "code",
   "execution_count": 57,
   "id": "7db1ede9",
   "metadata": {},
   "outputs": [
    {
     "name": "stdout",
     "output_type": "stream",
     "text": [
      "--------------------------------------------------------------------------\n"
     ]
    }
   ],
   "source": [
    "print('--------------------------------------------------------------------------')"
   ]
  },
  {
   "cell_type": "markdown",
   "id": "30263dff",
   "metadata": {},
   "source": [
    "# Operation of set.\n",
    "\n",
    "- union\n",
    "\n",
    "- intersection or intersection_update.\n",
    "\n",
    "- difference or difference_update.\n",
    "\n",
    "- symmetric difference or symmetric difference update.\n"
   ]
  },
  {
   "cell_type": "markdown",
   "id": "5f1e20e3",
   "metadata": {},
   "source": [
    "# 1. union of sets= use to add two or more sets and takes multiple argument. set.union()¶"
   ]
  },
  {
   "attachments": {
    "image.png": {
     "image/png": "[encoded data removed]"
    }
   },
   "cell_type": "markdown",
   "id": "7c8dfe84",
   "metadata": {},
   "source": [
    "![image.png](attachment:image.png)"
   ]
  },
  {
   "cell_type": "code",
   "execution_count": 12,
   "id": "61bf2e17",
   "metadata": {},
   "outputs": [
    {
     "name": "stdout",
     "output_type": "stream",
     "text": [
      "{1, 2, 3, 4, 5, 6}\n"
     ]
    }
   ],
   "source": [
    "# create set 1\n",
    "set1={1,2,3}\n",
    "# create set2\n",
    "set2={4,5,6}\n",
    "# use union operation .\n",
    "set1.union(set2)\n",
    "print(x)"
   ]
  },
  {
   "cell_type": "code",
   "execution_count": 7,
   "id": "6d9633a8",
   "metadata": {},
   "outputs": [
    {
     "data": {
      "text/plain": [
       "{10, 20, 30, 40, 50}"
      ]
     },
     "execution_count": 7,
     "metadata": {},
     "output_type": "execute_result"
    }
   ],
   "source": [
    "set1={10,20,30}\n",
    "set2={30,40,50}\n",
    "set1.union(set2)"
   ]
  },
  {
   "cell_type": "code",
   "execution_count": 2,
   "id": "8339d380",
   "metadata": {},
   "outputs": [
    {
     "data": {
      "text/plain": [
       "{1, 2, 3, 4, 5, 6, 7, 8}"
      ]
     },
     "execution_count": 2,
     "metadata": {},
     "output_type": "execute_result"
    }
   ],
   "source": [
    "# create set 1\n",
    "set1={1,2,3,4,5}\n",
    "# create set2\n",
    "set2={4,5,6,7,8}\n",
    "# use union operation .\n",
    "set1.union(set2)"
   ]
  },
  {
   "cell_type": "code",
   "execution_count": 3,
   "id": "41c4719a",
   "metadata": {},
   "outputs": [
    {
     "data": {
      "text/plain": [
       "{1, 2, 3, 4, 5, 6, 7, 8, 9, 10}"
      ]
     },
     "execution_count": 3,
     "metadata": {},
     "output_type": "execute_result"
    }
   ],
   "source": [
    "# create set 1\n",
    "set1={1,2,3,4,5}\n",
    "# create set2\n",
    "set2={4,5,6,7,8}\n",
    "# create set3.\n",
    "set3={7,8,9,10}\n",
    "# use union operation .\n",
    "set1.union(set2,set3)"
   ]
  },
  {
   "cell_type": "markdown",
   "id": "5ca63371",
   "metadata": {},
   "source": [
    "# 2. intersection of sets =use to find the common object in both the set.and takes multiple arguments."
   ]
  },
  {
   "attachments": {
    "image.png": {
     "image/png": "[encoded data removed]"
    }
   },
   "cell_type": "markdown",
   "id": "d447264a",
   "metadata": {},
   "source": [
    "![image.png](attachment:image.png)"
   ]
  },
  {
   "cell_type": "code",
   "execution_count": 8,
   "id": "98d4bf17",
   "metadata": {},
   "outputs": [
    {
     "name": "stdout",
     "output_type": "stream",
     "text": [
      "{4, 5}\n"
     ]
    }
   ],
   "source": [
    "# create set 1\n",
    "set1={1,2,3,4,5}\n",
    "# create set2\n",
    "set2={4,5,6,7,8}\n",
    "# use intersection operation.\n",
    "set3=set1.intersection(set2)\n",
    "print(set3)\n",
    "\n"
   ]
  },
  {
   "cell_type": "code",
   "execution_count": 9,
   "id": "657521d0",
   "metadata": {},
   "outputs": [
    {
     "name": "stdout",
     "output_type": "stream",
     "text": [
      "{1, 2, 3, 4, 5}\n"
     ]
    }
   ],
   "source": [
    "print(set1)"
   ]
  },
  {
   "cell_type": "code",
   "execution_count": 24,
   "id": "c85d7361",
   "metadata": {},
   "outputs": [
    {
     "name": "stdout",
     "output_type": "stream",
     "text": [
      "{4, 5}\n"
     ]
    }
   ],
   "source": [
    "# create set 1\n",
    "set1={1,2,3,4,5}\n",
    "# create set2\n",
    "set2={4,5,6,7,8}\n",
    "# create set3\n",
    "set3={4,5,9,10}\n",
    "# use intersection operation.\n",
    "set4=set1.intersection(set2,set3)\n",
    "print(set4)\n",
    "\n",
    "# output(common item on all three sets.)"
   ]
  },
  {
   "cell_type": "markdown",
   "id": "0c8a005b",
   "metadata": {},
   "source": [
    "# intersection_update -to intersection or update the current set "
   ]
  },
  {
   "cell_type": "code",
   "execution_count": 25,
   "id": "023a7e9c",
   "metadata": {},
   "outputs": [
    {
     "name": "stdout",
     "output_type": "stream",
     "text": [
      "{4, 5}\n"
     ]
    }
   ],
   "source": [
    "# create set 1\n",
    "set1={1,2,3,4,5}\n",
    "# create set2\n",
    "set2={4,5,6,7,8}\n",
    "# use intersection operation.\n",
    "set1.intersection_update(set2)\n",
    "print(set1)\n",
    "# output=common item on both the set(4,5)\n"
   ]
  },
  {
   "cell_type": "code",
   "execution_count": 26,
   "id": "b6de141b",
   "metadata": {},
   "outputs": [
    {
     "name": "stdout",
     "output_type": "stream",
     "text": [
      "{4, 5}\n"
     ]
    }
   ],
   "source": [
    "print(set1)"
   ]
  },
  {
   "cell_type": "code",
   "execution_count": 27,
   "id": "fae04be8",
   "metadata": {},
   "outputs": [
    {
     "name": "stdout",
     "output_type": "stream",
     "text": [
      "{4, 5, 6, 7, 8}\n"
     ]
    }
   ],
   "source": [
    "print(set2)"
   ]
  },
  {
   "cell_type": "code",
   "execution_count": 30,
   "id": "75266b51",
   "metadata": {},
   "outputs": [
    {
     "name": "stdout",
     "output_type": "stream",
     "text": [
      "{5}\n"
     ]
    }
   ],
   "source": [
    "# create set 1\n",
    "set1={1,2,3,4,5}\n",
    "# create set2\n",
    "set2={4,5,6,7,8}\n",
    "# create set3.\n",
    "set3={5,6,7,8}\n",
    "# use intersection operation.\n",
    "set1.intersection_update(set2,set3)\n",
    "print(set1)\n",
    "# output=common item on all  the set(5)\n"
   ]
  },
  {
   "cell_type": "markdown",
   "id": "7711a910",
   "metadata": {},
   "source": [
    "# Difference b/w inersection()and intersection_update()\n",
    "1.Intersection of sets= make a new list and id will be change.\n",
    "\n",
    "2.intersection_update()=update and modify the original set not change the set . and id will remain same"
   ]
  },
  {
   "cell_type": "markdown",
   "id": "e4d4d16b",
   "metadata": {},
   "source": [
    "# 3. difference in sets=used to find unique object in two set"
   ]
  },
  {
   "attachments": {
    "image.png": {
     "image/png": "[encoded data removed]"
    }
   },
   "cell_type": "markdown",
   "id": "910d00ef",
   "metadata": {},
   "source": [
    "![image.png](attachment:image.png)"
   ]
  },
  {
   "cell_type": "code",
   "execution_count": 33,
   "id": "48c0ba5e",
   "metadata": {},
   "outputs": [
    {
     "name": "stdout",
     "output_type": "stream",
     "text": [
      "{1, 2, 3}\n"
     ]
    }
   ],
   "source": [
    "# create set a\n",
    "a={1,2,3,4,5}\n",
    "# create set b\n",
    "b={4,5,6,7,8}\n",
    "# use difference operation()\n",
    "c=a.difference(b)\n",
    "print(c)"
   ]
  },
  {
   "cell_type": "code",
   "execution_count": 34,
   "id": "8f9ca8d5",
   "metadata": {},
   "outputs": [
    {
     "name": "stdout",
     "output_type": "stream",
     "text": [
      "{1, 2, 3, 4, 5}\n"
     ]
    }
   ],
   "source": [
    "print(a)"
   ]
  },
  {
   "cell_type": "code",
   "execution_count": 35,
   "id": "07cf00c8",
   "metadata": {},
   "outputs": [
    {
     "name": "stdout",
     "output_type": "stream",
     "text": [
      "{4, 5, 6, 7, 8}\n"
     ]
    }
   ],
   "source": [
    "print(b)"
   ]
  },
  {
   "cell_type": "markdown",
   "id": "2c82f78e",
   "metadata": {},
   "source": [
    "# difference_update()"
   ]
  },
  {
   "cell_type": "code",
   "execution_count": 41,
   "id": "ec6660c8",
   "metadata": {},
   "outputs": [
    {
     "name": "stdout",
     "output_type": "stream",
     "text": [
      "{1, 2, 3}\n"
     ]
    }
   ],
   "source": [
    "# create set a\n",
    "a={1,2,3,4,5}\n",
    "# create set b\n",
    "b={4,5,6,7,8}\n",
    "# use difference operation()\n",
    "a.difference_update(b)\n",
    "print(a)"
   ]
  },
  {
   "cell_type": "code",
   "execution_count": 38,
   "id": "cb356979",
   "metadata": {},
   "outputs": [
    {
     "name": "stdout",
     "output_type": "stream",
     "text": [
      "{1, 2, 3}\n"
     ]
    }
   ],
   "source": [
    "print(a)"
   ]
  },
  {
   "cell_type": "code",
   "execution_count": 39,
   "id": "1ee841ff",
   "metadata": {},
   "outputs": [
    {
     "name": "stdout",
     "output_type": "stream",
     "text": [
      "{4, 5, 6, 7, 8}\n"
     ]
    }
   ],
   "source": [
    "print(b)"
   ]
  },
  {
   "cell_type": "markdown",
   "id": "316024f2",
   "metadata": {},
   "source": [
    "# 4. symmetric_difference=The symmetric difference operation returns the elements that are unique in both sets."
   ]
  },
  {
   "attachments": {
    "image.png": {
     "image/png": "[encoded data removed]"
    }
   },
   "cell_type": "markdown",
   "id": "21806353",
   "metadata": {},
   "source": [
    "![image.png](attachment:image.png)"
   ]
  },
  {
   "cell_type": "code",
   "execution_count": 51,
   "id": "95e470fb",
   "metadata": {},
   "outputs": [
    {
     "name": "stdout",
     "output_type": "stream",
     "text": [
      "{1, 2, 3, 6, 7, 8}\n"
     ]
    }
   ],
   "source": [
    "# create set x\n",
    "x={1,2,3,4,5}\n",
    "# create set y\n",
    "y={4,5,6,7,8}\n",
    "# create set z and use symmetric difference operation.\n",
    "z=x.symmetric_difference(y)\n",
    "print(z)"
   ]
  },
  {
   "cell_type": "code",
   "execution_count": 46,
   "id": "f0946779",
   "metadata": {},
   "outputs": [
    {
     "name": "stdout",
     "output_type": "stream",
     "text": [
      "{1, 2, 3, 4, 5}\n"
     ]
    }
   ],
   "source": [
    "print(x)"
   ]
  },
  {
   "cell_type": "code",
   "execution_count": 47,
   "id": "e3dd1fc6",
   "metadata": {},
   "outputs": [
    {
     "name": "stdout",
     "output_type": "stream",
     "text": [
      "{4, 5, 6, 7, 8}\n"
     ]
    }
   ],
   "source": [
    "print(y)"
   ]
  },
  {
   "cell_type": "markdown",
   "id": "c60b0379",
   "metadata": {},
   "source": [
    "# symmetric_difference_update().\n"
   ]
  },
  {
   "cell_type": "code",
   "execution_count": 52,
   "id": "c34e7827",
   "metadata": {},
   "outputs": [
    {
     "name": "stdout",
     "output_type": "stream",
     "text": [
      "{1, 2, 3, 6, 7, 8}\n"
     ]
    }
   ],
   "source": [
    "# create set x\n",
    "x={1,2,3,4,5}\n",
    "# create set y\n",
    "y={4,5,6,7,8}\n",
    "# use symmetric difference operation.\n",
    "x.symmetric_difference_update(y)\n",
    "print(z)"
   ]
  },
  {
   "cell_type": "code",
   "execution_count": 49,
   "id": "9a22cf9e",
   "metadata": {},
   "outputs": [
    {
     "name": "stdout",
     "output_type": "stream",
     "text": [
      "{1, 2, 3, 6, 7, 8}\n"
     ]
    }
   ],
   "source": [
    "print(x)"
   ]
  },
  {
   "cell_type": "code",
   "execution_count": 50,
   "id": "60e6b8c8",
   "metadata": {},
   "outputs": [
    {
     "name": "stdout",
     "output_type": "stream",
     "text": [
      "{4, 5, 6, 7, 8}\n"
     ]
    }
   ],
   "source": [
    "print(y)"
   ]
  },
  {
   "cell_type": "markdown",
   "id": "608676e9",
   "metadata": {},
   "source": [
    "# Adding item to a set\n",
    "1.add (object)method = used to add object in a set .takes only one argument in a one time.\n",
    "\n",
    "2.update(object)method= used to add multiple object in a set. taken multiple argument"
   ]
  },
  {
   "cell_type": "markdown",
   "id": "0a9d3821",
   "metadata": {},
   "source": [
    "# 1.add() item to a set."
   ]
  },
  {
   "attachments": {
    "image.png": {
     "image/png": "[encoded data removed]"
    }
   },
   "cell_type": "markdown",
   "id": "8edb9d38",
   "metadata": {},
   "source": [
    "![image.png](attachment:image.png)"
   ]
  },
  {
   "cell_type": "code",
   "execution_count": 2,
   "id": "1425ea1c",
   "metadata": {},
   "outputs": [
    {
     "name": "stdout",
     "output_type": "stream",
     "text": [
      "{1, 2, 3, 4, 5}\n"
     ]
    }
   ],
   "source": [
    "#add method.\n",
    "\n",
    "# create set x.\n",
    "x={1,2,3,4}\n",
    "# use .add(item)methods\n",
    "x.add(5)\n",
    "print(x)\n",
    "# output 5 is add in a set."
   ]
  },
  {
   "cell_type": "code",
   "execution_count": 10,
   "id": "4db1df44",
   "metadata": {},
   "outputs": [
    {
     "ename": "TypeError",
     "evalue": "set.add() takes exactly one argument (2 given)",
     "output_type": "error",
     "traceback": [
      "\u001b[1;31m---------------------------------------------------------------------------\u001b[0m",
      "\u001b[1;31mTypeError\u001b[0m                                 Traceback (most recent call last)",
      "Cell \u001b[1;32mIn[10], line 2\u001b[0m\n\u001b[0;32m      1\u001b[0m x\u001b[38;5;241m=\u001b[39m{\u001b[38;5;241m1\u001b[39m,\u001b[38;5;241m2\u001b[39m,\u001b[38;5;241m3\u001b[39m,\u001b[38;5;241m4\u001b[39m}\n\u001b[1;32m----> 2\u001b[0m \u001b[43mx\u001b[49m\u001b[38;5;241;43m.\u001b[39;49m\u001b[43madd\u001b[49m\u001b[43m(\u001b[49m\u001b[38;5;241;43m5\u001b[39;49m\u001b[43m,\u001b[49m\u001b[38;5;241;43m6\u001b[39;49m\u001b[43m)\u001b[49m\n\u001b[0;32m      3\u001b[0m \u001b[38;5;28mprint\u001b[39m(x)\n",
      "\u001b[1;31mTypeError\u001b[0m: set.add() takes exactly one argument (2 given)"
     ]
    }
   ],
   "source": [
    "x={1,2,3,4}\n",
    "x.add(5,6)\n",
    "print(x)"
   ]
  },
  {
   "cell_type": "code",
   "execution_count": 10,
   "id": "7a40fa45",
   "metadata": {},
   "outputs": [
    {
     "ename": "TypeError",
     "evalue": "set.add() takes exactly one argument (3 given)",
     "output_type": "error",
     "traceback": [
      "\u001b[1;31m---------------------------------------------------------------------------\u001b[0m",
      "\u001b[1;31mTypeError\u001b[0m                                 Traceback (most recent call last)",
      "Cell \u001b[1;32mIn[10], line 4\u001b[0m\n\u001b[0;32m      2\u001b[0m x\u001b[38;5;241m=\u001b[39m{\u001b[38;5;241m1\u001b[39m,\u001b[38;5;241m2\u001b[39m,\u001b[38;5;241m3\u001b[39m,\u001b[38;5;241m4\u001b[39m}\n\u001b[0;32m      3\u001b[0m \u001b[38;5;66;03m# use .add(item)methods\u001b[39;00m\n\u001b[1;32m----> 4\u001b[0m \u001b[43mx\u001b[49m\u001b[38;5;241;43m.\u001b[39;49m\u001b[43madd\u001b[49m\u001b[43m(\u001b[49m\u001b[38;5;241;43m5\u001b[39;49m\u001b[43m,\u001b[49m\u001b[38;5;241;43m6\u001b[39;49m\u001b[43m,\u001b[49m\u001b[38;5;241;43m7\u001b[39;49m\u001b[43m)\u001b[49m\n\u001b[0;32m      5\u001b[0m \u001b[38;5;28mprint\u001b[39m(x)\n",
      "\u001b[1;31mTypeError\u001b[0m: set.add() takes exactly one argument (3 given)"
     ]
    }
   ],
   "source": [
    "# create set x.\n",
    "x={1,2,3,4}\n",
    "# use .add(item)methods\n",
    "x.add(5,6,7)\n",
    "print(x)\n",
    "# output in error because .add() takes only one argument at a time."
   ]
  },
  {
   "cell_type": "markdown",
   "id": "6d09f8ce",
   "metadata": {},
   "source": [
    "# 2.update item to a set."
   ]
  },
  {
   "cell_type": "code",
   "execution_count": 11,
   "id": "bd07f81a",
   "metadata": {},
   "outputs": [
    {
     "name": "stdout",
     "output_type": "stream",
     "text": [
      "{1, 2, 3, 4, 5, 6, 7}\n"
     ]
    }
   ],
   "source": [
    "# create set x.\n",
    "x={1,2,3,4}\n",
    "# use .update()methods\n",
    "x.update([5,6,7])\n",
    "print(x)\n",
    "# update takes multiple arguments."
   ]
  },
  {
   "cell_type": "code",
   "execution_count": 9,
   "id": "18dd6726",
   "metadata": {},
   "outputs": [
    {
     "name": "stdout",
     "output_type": "stream",
     "text": [
      "{1, 2, 3, 4, 5, 6, 7, 8}\n"
     ]
    }
   ],
   "source": [
    "# create set x.\n",
    "x={1,2,3,4}\n",
    "# create set y.\n",
    "y={4,5,6,7,8}\n",
    "# use .update()methods\n",
    "x.update(y)\n",
    "print(x)"
   ]
  },
  {
   "cell_type": "markdown",
   "id": "6a00246a",
   "metadata": {},
   "source": [
    "# Remove items from the set."
   ]
  },
  {
   "cell_type": "markdown",
   "id": "b188dacf",
   "metadata": {},
   "source": [
    "# 1.remove(object)= use to remove object from the set. set.remove() takes exactly one argument"
   ]
  },
  {
   "cell_type": "code",
   "execution_count": 3,
   "id": "e2c5d715",
   "metadata": {},
   "outputs": [
    {
     "name": "stdout",
     "output_type": "stream",
     "text": [
      "{20, 40, 10, 30}\n"
     ]
    }
   ],
   "source": [
    "# create a set x.\n",
    "x={10,20,30,40,50}\n",
    "# use .remove()method.\n",
    "x.remove(50)\n",
    "print(x)\n",
    "# output=remove the item of set(50)."
   ]
  },
  {
   "cell_type": "code",
   "execution_count": 11,
   "id": "0cdd4082",
   "metadata": {},
   "outputs": [
    {
     "name": "stdout",
     "output_type": "stream",
     "text": [
      "{10, 20}\n"
     ]
    }
   ],
   "source": [
    "x={10,20,100}\n",
    "x.remove(100)\n",
    "print(x)"
   ]
  },
  {
   "cell_type": "code",
   "execution_count": 4,
   "id": "d411cc5c",
   "metadata": {},
   "outputs": [
    {
     "ename": "TypeError",
     "evalue": "set.remove() takes exactly one argument (2 given)",
     "output_type": "error",
     "traceback": [
      "\u001b[1;31m---------------------------------------------------------------------------\u001b[0m",
      "\u001b[1;31mTypeError\u001b[0m                                 Traceback (most recent call last)",
      "Cell \u001b[1;32mIn[4], line 2\u001b[0m\n\u001b[0;32m      1\u001b[0m x\u001b[38;5;241m=\u001b[39m{\u001b[38;5;241m10\u001b[39m,\u001b[38;5;241m20\u001b[39m,\u001b[38;5;241m30\u001b[39m,\u001b[38;5;241m40\u001b[39m,\u001b[38;5;241m50\u001b[39m}\n\u001b[1;32m----> 2\u001b[0m \u001b[43mx\u001b[49m\u001b[38;5;241;43m.\u001b[39;49m\u001b[43mremove\u001b[49m\u001b[43m(\u001b[49m\u001b[38;5;241;43m40\u001b[39;49m\u001b[43m,\u001b[49m\u001b[38;5;241;43m50\u001b[39;49m\u001b[43m)\u001b[49m\n\u001b[0;32m      3\u001b[0m \u001b[38;5;28mprint\u001b[39m(x)\n",
      "\u001b[1;31mTypeError\u001b[0m: set.remove() takes exactly one argument (2 given)"
     ]
    }
   ],
   "source": [
    "# create a set x.\n",
    "x={10,20,30,40,50}\n",
    "# use .remove()method.\n",
    "x.remove(40,50)\n",
    "print(x)\n",
    "# output =error because .remove() takes only one argument."
   ]
  },
  {
   "cell_type": "code",
   "execution_count": 5,
   "id": "43eb6682",
   "metadata": {},
   "outputs": [
    {
     "ename": "KeyError",
     "evalue": "100",
     "output_type": "error",
     "traceback": [
      "\u001b[1;31m---------------------------------------------------------------------------\u001b[0m",
      "\u001b[1;31mKeyError\u001b[0m                                  Traceback (most recent call last)",
      "Cell \u001b[1;32mIn[5], line 2\u001b[0m\n\u001b[0;32m      1\u001b[0m x\u001b[38;5;241m=\u001b[39m{\u001b[38;5;241m10\u001b[39m,\u001b[38;5;241m20\u001b[39m,\u001b[38;5;241m30\u001b[39m,\u001b[38;5;241m40\u001b[39m,\u001b[38;5;241m50\u001b[39m}\n\u001b[1;32m----> 2\u001b[0m \u001b[43mx\u001b[49m\u001b[38;5;241;43m.\u001b[39;49m\u001b[43mremove\u001b[49m\u001b[43m(\u001b[49m\u001b[38;5;241;43m100\u001b[39;49m\u001b[43m)\u001b[49m\n\u001b[0;32m      3\u001b[0m \u001b[38;5;28mprint\u001b[39m(x)\n",
      "\u001b[1;31mKeyError\u001b[0m: 100"
     ]
    }
   ],
   "source": [
    "# create a set x.\n",
    "x={10,20,30,40,50}\n",
    "# use .remove()method.\n",
    "x.remove(100)\n",
    "print(x)\n",
    "# output=error because the 100 is not in x."
   ]
  },
  {
   "cell_type": "markdown",
   "id": "0a12fcc5",
   "metadata": {},
   "source": [
    "# 2 .discard()= is also used for remove the item of set.and discard takes only one argument."
   ]
  },
  {
   "cell_type": "code",
   "execution_count": 6,
   "id": "18cd6a68",
   "metadata": {},
   "outputs": [
    {
     "name": "stdout",
     "output_type": "stream",
     "text": [
      "{50, 20, 40, 10, 30}\n"
     ]
    }
   ],
   "source": [
    "# create a set x.\n",
    "x={10,20,30,40,50}\n",
    "# use .discard()method.\n",
    "x.discard(100)\n",
    "print(x)\n",
    "# output:100 is not in a set but not show error because we use  .discard method."
   ]
  },
  {
   "cell_type": "code",
   "execution_count": 7,
   "id": "6dac4dae",
   "metadata": {},
   "outputs": [
    {
     "name": "stdout",
     "output_type": "stream",
     "text": [
      "{50, 20, 40, 30}\n"
     ]
    }
   ],
   "source": [
    "# create a set x.\n",
    "x={10,20,30,40,50}\n",
    "# use .discard()method.\n",
    "x.discard(10)\n",
    "print(x)\n",
    "# output:remove 10 from set."
   ]
  },
  {
   "cell_type": "code",
   "execution_count": 8,
   "id": "694a3f93",
   "metadata": {
    "scrolled": true
   },
   "outputs": [
    {
     "ename": "TypeError",
     "evalue": "set.discard() takes exactly one argument (3 given)",
     "output_type": "error",
     "traceback": [
      "\u001b[1;31m---------------------------------------------------------------------------\u001b[0m",
      "\u001b[1;31mTypeError\u001b[0m                                 Traceback (most recent call last)",
      "Cell \u001b[1;32mIn[8], line 2\u001b[0m\n\u001b[0;32m      1\u001b[0m x\u001b[38;5;241m=\u001b[39m{\u001b[38;5;241m10\u001b[39m,\u001b[38;5;241m20\u001b[39m,\u001b[38;5;241m30\u001b[39m,\u001b[38;5;241m40\u001b[39m,\u001b[38;5;241m50\u001b[39m}\n\u001b[1;32m----> 2\u001b[0m \u001b[43mx\u001b[49m\u001b[38;5;241;43m.\u001b[39;49m\u001b[43mdiscard\u001b[49m\u001b[43m(\u001b[49m\u001b[38;5;241;43m10\u001b[39;49m\u001b[43m,\u001b[49m\u001b[38;5;241;43m20\u001b[39;49m\u001b[43m,\u001b[49m\u001b[38;5;241;43m30\u001b[39;49m\u001b[43m)\u001b[49m\n\u001b[0;32m      3\u001b[0m \u001b[38;5;28mprint\u001b[39m(x)\n",
      "\u001b[1;31mTypeError\u001b[0m: set.discard() takes exactly one argument (3 given)"
     ]
    }
   ],
   "source": [
    "# create a set x.\n",
    "x={10,20,30,40,50}\n",
    "# use .discard()method.\n",
    "x.discard(10,20,30)\n",
    "print(x)\n",
    "# output:error because .discard()takes only one argument ."
   ]
  },
  {
   "cell_type": "markdown",
   "id": "17749c1b",
   "metadata": {},
   "source": [
    "# 3.pop()= pop delet any object . set.pop() takes no arguments"
   ]
  },
  {
   "cell_type": "code",
   "execution_count": 9,
   "id": "900c6171",
   "metadata": {},
   "outputs": [
    {
     "ename": "TypeError",
     "evalue": "set.pop() takes no arguments (1 given)",
     "output_type": "error",
     "traceback": [
      "\u001b[1;31m---------------------------------------------------------------------------\u001b[0m",
      "\u001b[1;31mTypeError\u001b[0m                                 Traceback (most recent call last)",
      "Cell \u001b[1;32mIn[9], line 2\u001b[0m\n\u001b[0;32m      1\u001b[0m set1\u001b[38;5;241m=\u001b[39m{\u001b[38;5;241m1\u001b[39m,\u001b[38;5;241m2\u001b[39m,\u001b[38;5;241m3\u001b[39m,\u001b[38;5;241m4\u001b[39m,\u001b[38;5;241m5\u001b[39m}\n\u001b[1;32m----> 2\u001b[0m \u001b[43mset1\u001b[49m\u001b[38;5;241;43m.\u001b[39;49m\u001b[43mpop\u001b[49m\u001b[43m(\u001b[49m\u001b[38;5;241;43m1\u001b[39;49m\u001b[43m)\u001b[49m\n",
      "\u001b[1;31mTypeError\u001b[0m: set.pop() takes no arguments (1 given)"
     ]
    }
   ],
   "source": [
    "# create set1.\n",
    "set1={1,2,3,4,5}\n",
    "# use .pop() method.\n",
    "set1.pop(1)\n",
    "# output:errror because .pop() takes no argument. "
   ]
  },
  {
   "cell_type": "code",
   "execution_count": 14,
   "id": "35d5ecef",
   "metadata": {},
   "outputs": [
    {
     "name": "stdout",
     "output_type": "stream",
     "text": [
      "{2, 3, 4, 5, 6, 7, 8}\n"
     ]
    }
   ],
   "source": [
    "# create set1.\n",
    "set1={1,2,3,4,5,6,7,8}\n",
    "# use .pop() method.\n",
    "set1.pop()\n",
    "print(set1)\n",
    "# output:pop remove random item."
   ]
  },
  {
   "cell_type": "code",
   "execution_count": 15,
   "id": "80e73aa9",
   "metadata": {},
   "outputs": [
    {
     "name": "stdout",
     "output_type": "stream",
     "text": [
      "{20, 40, 10, 30}\n"
     ]
    }
   ],
   "source": [
    "set1={10,20,30,40,50}\n",
    "set1.pop()\n",
    "print(set1)"
   ]
  },
  {
   "cell_type": "markdown",
   "id": "939ba26e",
   "metadata": {},
   "source": [
    "# 4.clear()=use to clear all the list object. set.clear() takes no arguments."
   ]
  },
  {
   "cell_type": "code",
   "execution_count": 20,
   "id": "d5294945",
   "metadata": {},
   "outputs": [
    {
     "ename": "TypeError",
     "evalue": "set.clear() takes no arguments (1 given)",
     "output_type": "error",
     "traceback": [
      "\u001b[1;31m---------------------------------------------------------------------------\u001b[0m",
      "\u001b[1;31mTypeError\u001b[0m                                 Traceback (most recent call last)",
      "Cell \u001b[1;32mIn[20], line 2\u001b[0m\n\u001b[0;32m      1\u001b[0m set1\u001b[38;5;241m=\u001b[39m{\u001b[38;5;241m100\u001b[39m,\u001b[38;5;241m200\u001b[39m,\u001b[38;5;241m300\u001b[39m,\u001b[38;5;241m400\u001b[39m,\u001b[38;5;241m500\u001b[39m}\n\u001b[1;32m----> 2\u001b[0m \u001b[43mset1\u001b[49m\u001b[38;5;241;43m.\u001b[39;49m\u001b[43mclear\u001b[49m\u001b[43m(\u001b[49m\u001b[38;5;241;43m100\u001b[39;49m\u001b[43m)\u001b[49m\n",
      "\u001b[1;31mTypeError\u001b[0m: set.clear() takes no arguments (1 given)"
     ]
    }
   ],
   "source": [
    "# create set1.\n",
    "set1={100,200,300,400,500}\n",
    "# use .clear()method.\n",
    "set1.clear(100)\n",
    "# output:error because .clear()takes no argument."
   ]
  },
  {
   "cell_type": "code",
   "execution_count": 21,
   "id": "cd1d751d",
   "metadata": {},
   "outputs": [
    {
     "name": "stdout",
     "output_type": "stream",
     "text": [
      "set()\n"
     ]
    }
   ],
   "source": [
    "set1={100,200,300,400,500}\n",
    "set1.clear()\n",
    "print(set1)"
   ]
  },
  {
   "cell_type": "markdown",
   "id": "57838e4f",
   "metadata": {},
   "source": [
    "# 5.del()=to delete all the set .takes no argument"
   ]
  },
  {
   "cell_type": "code",
   "execution_count": 27,
   "id": "2130054a",
   "metadata": {},
   "outputs": [
    {
     "ename": "NameError",
     "evalue": "name 'x' is not defined",
     "output_type": "error",
     "traceback": [
      "\u001b[1;31m---------------------------------------------------------------------------\u001b[0m",
      "\u001b[1;31mNameError\u001b[0m                                 Traceback (most recent call last)",
      "Cell \u001b[1;32mIn[27], line 5\u001b[0m\n\u001b[0;32m      3\u001b[0m \u001b[38;5;66;03m# use del method\u001b[39;00m\n\u001b[0;32m      4\u001b[0m \u001b[38;5;28;01mdel\u001b[39;00m x\n\u001b[1;32m----> 5\u001b[0m \u001b[38;5;28mprint\u001b[39m(\u001b[43mx\u001b[49m)\n",
      "\u001b[1;31mNameError\u001b[0m: name 'x' is not defined"
     ]
    }
   ],
   "source": [
    "# create a set x.\n",
    "x={1,2,3,4,5}\n",
    "# use del method\n",
    "del x\n",
    "print(x)\n",
    "# output:show 'x' is not defined because del() delete the memory address or the set x.\n"
   ]
  },
  {
   "cell_type": "markdown",
   "id": "cbf09e60",
   "metadata": {},
   "source": [
    "- difference b/w clear or del in set :¶\n",
    "- clear() only delete the object and del() delete all the list."
   ]
  },
  {
   "cell_type": "markdown",
   "id": "5110d966",
   "metadata": {},
   "source": [
    "# issubset or issuperset."
   ]
  },
  {
   "cell_type": "markdown",
   "id": "ec046fa5",
   "metadata": {},
   "source": [
    "# issubset():checks whether one set is a subset of another.if all the elements of the first set are present in the second set,it returns 'True'"
   ]
  },
  {
   "cell_type": "code",
   "execution_count": 1,
   "id": "f90025a9",
   "metadata": {},
   "outputs": [
    {
     "name": "stdout",
     "output_type": "stream",
     "text": [
      "True\n"
     ]
    }
   ],
   "source": [
    "# create a \n",
    "set1={1,2}\n",
    "set2={1,2,3,4}\n",
    "result=set1.issubset(set2)\n",
    "print(result)"
   ]
  },
  {
   "cell_type": "code",
   "execution_count": 13,
   "id": "10cd1bc2",
   "metadata": {},
   "outputs": [
    {
     "data": {
      "text/plain": [
       "False"
      ]
     },
     "execution_count": 13,
     "metadata": {},
     "output_type": "execute_result"
    }
   ],
   "source": [
    "x={1,2,3,4,5}\n",
    "y={4,5}\n",
    "x.issubset(y)"
   ]
  },
  {
   "cell_type": "code",
   "execution_count": 14,
   "id": "fa3a0875",
   "metadata": {},
   "outputs": [
    {
     "data": {
      "text/plain": [
       "True"
      ]
     },
     "execution_count": 14,
     "metadata": {},
     "output_type": "execute_result"
    }
   ],
   "source": [
    "x={1,2,3,4,5}\n",
    "y={4,5}\n",
    "x.issuperset(y)"
   ]
  },
  {
   "cell_type": "markdown",
   "id": "d78c3901",
   "metadata": {},
   "source": [
    "# issuperset():checks whether one set is a superset of another .if all elements of the second set are present in the first set,it returns 'True'"
   ]
  },
  {
   "cell_type": "code",
   "execution_count": 2,
   "id": "72b4dcf8",
   "metadata": {},
   "outputs": [
    {
     "name": "stdout",
     "output_type": "stream",
     "text": [
      "True\n"
     ]
    }
   ],
   "source": [
    "set1={1,2,3,4}\n",
    "set2={3,4}\n",
    "result=set1.issuperset(set2)\n",
    "print(result)"
   ]
  },
  {
   "cell_type": "markdown",
   "id": "390ffcc3",
   "metadata": {},
   "source": [
    "# iteration in set."
   ]
  },
  {
   "cell_type": "code",
   "execution_count": 3,
   "id": "525601d4",
   "metadata": {},
   "outputs": [
    {
     "name": "stdout",
     "output_type": "stream",
     "text": [
      "20\n",
      "Raj\n",
      "40\n",
      "10\n",
      "30\n"
     ]
    }
   ],
   "source": [
    "set1={10,20,30,40,'Raj'}\n",
    "for i in set1:\n",
    "    print(i)"
   ]
  },
  {
   "cell_type": "code",
   "execution_count": null,
   "id": "f3e3c721",
   "metadata": {},
   "outputs": [],
   "source": []
  },
  {
   "cell_type": "markdown",
   "id": "38db24f9",
   "metadata": {},
   "source": [
    "# membership \"in\"operator.()=to check if an element is present in a set using the 'in' keyword."
   ]
  },
  {
   "cell_type": "code",
   "execution_count": 8,
   "id": "9a485431",
   "metadata": {},
   "outputs": [
    {
     "name": "stdout",
     "output_type": "stream",
     "text": [
      "no\n"
     ]
    }
   ],
   "source": [
    "set1={10,20,'Raj','virat',100}\n",
    "if 1000 in set1:\n",
    "    print('yes')\n",
    "else:\n",
    "    print('no')"
   ]
  },
  {
   "cell_type": "code",
   "execution_count": 15,
   "id": "30fb377f",
   "metadata": {},
   "outputs": [
    {
     "name": "stdout",
     "output_type": "stream",
     "text": [
      "yes\n"
     ]
    }
   ],
   "source": [
    "set1={10,20,'Raj','virat',100}\n",
    "if 100 in set1:\n",
    "    print('yes')\n",
    "else:\n",
    "    print('no')"
   ]
  },
  {
   "cell_type": "code",
   "execution_count": 14,
   "id": "cd26dc6a",
   "metadata": {},
   "outputs": [
    {
     "name": "stdout",
     "output_type": "stream",
     "text": [
      "True\n"
     ]
    }
   ],
   "source": [
    "set1={10,20,'Raj','virat',100}\n",
    "print('virat' in set1)"
   ]
  },
  {
   "cell_type": "code",
   "execution_count": 15,
   "id": "d76fe6da",
   "metadata": {},
   "outputs": [
    {
     "name": "stdout",
     "output_type": "stream",
     "text": [
      "False\n"
     ]
    }
   ],
   "source": [
    "set1={10,20,'Raj','virat',100}\n",
    "print(12 in set1)"
   ]
  },
  {
   "cell_type": "markdown",
   "id": "729abba9",
   "metadata": {},
   "source": [
    "# frozen set=is a immutable or hashable version of a set.it is created using the 'frozenset'() constructor.,once created you can not modify its element."
   ]
  },
  {
   "cell_type": "code",
   "execution_count": 10,
   "id": "3bc4f33f",
   "metadata": {},
   "outputs": [
    {
     "name": "stdout",
     "output_type": "stream",
     "text": [
      "frozenset({1, 2, 3, 4, 5, 'Rohit', 'jadeja', 'Virat'})\n",
      "<class 'frozenset'>\n"
     ]
    }
   ],
   "source": [
    "my_set={1,2,3,4,5,'Virat','Rohit','jadeja'}\n",
    "frozen_set=frozenset(my_set)\n",
    "print(frozen_set)\n",
    "print(type(frozen_set))\n"
   ]
  },
  {
   "cell_type": "code",
   "execution_count": 11,
   "id": "4e623a5c",
   "metadata": {},
   "outputs": [
    {
     "ename": "AttributeError",
     "evalue": "'frozenset' object has no attribute 'add'",
     "output_type": "error",
     "traceback": [
      "\u001b[1;31m---------------------------------------------------------------------------\u001b[0m",
      "\u001b[1;31mAttributeError\u001b[0m                            Traceback (most recent call last)",
      "Cell \u001b[1;32mIn[11], line 1\u001b[0m\n\u001b[1;32m----> 1\u001b[0m \u001b[43mfrozen_set\u001b[49m\u001b[38;5;241;43m.\u001b[39;49m\u001b[43madd\u001b[49m(\u001b[38;5;124m'\u001b[39m\u001b[38;5;124mshubhman gill\u001b[39m\u001b[38;5;124m'\u001b[39m)\n",
      "\u001b[1;31mAttributeError\u001b[0m: 'frozenset' object has no attribute 'add'"
     ]
    }
   ],
   "source": [
    "frozen_set.add('shubhman gill')"
   ]
  },
  {
   "cell_type": "markdown",
   "id": "a8e5952d",
   "metadata": {},
   "source": [
    "# Question of python set"
   ]
  },
  {
   "cell_type": "markdown",
   "id": "933b78ba",
   "metadata": {},
   "source": [
    "# 1.remove duplicates elements in a list."
   ]
  },
  {
   "cell_type": "code",
   "execution_count": 17,
   "id": "fc4d0fee",
   "metadata": {},
   "outputs": [
    {
     "name": "stdout",
     "output_type": "stream",
     "text": [
      "{100, 10, 50, 'Raj'}\n"
     ]
    }
   ],
   "source": [
    "my_list=['Raj',10,50,100,'Raj','Raj','Raj']\n",
    "unique_elements=set(my_list)\n",
    "print(unique_elements)"
   ]
  },
  {
   "cell_type": "code",
   "execution_count": null,
   "id": "36f319e6",
   "metadata": {},
   "outputs": [],
   "source": []
  },
  {
   "cell_type": "markdown",
   "id": "97ad1261",
   "metadata": {},
   "source": [
    "# remove()vs discard()\n",
    "\n",
    "- The remove()method throws a keyerror if the item you want to delete is not present in a set.\n",
    "\n",
    "- The discard ()method will not throw any error if the item you want to delete is not in a set."
   ]
  },
  {
   "cell_type": "markdown",
   "id": "7f7110a1",
   "metadata": {},
   "source": [
    "# Adding item to a set\n",
    "    \n",
    "1.add (object)method = used to add object in a set .takes only one argument in a one time.\n",
    "\n",
    "2.update(object)method= used to add multiple object in a set. taken multiple argument\n",
    "\n",
    "# Remove item from a sets\n",
    "\n",
    "1.remove(object)= use to remove object from the set. set.remove() takes exactly one argument\n",
    "\n",
    "\n",
    "2.discard(object)= use to remove object from the set set.discard() takes exactly one argument.\n",
    "\n",
    "\n",
    "#remove()vs discard()\n",
    "\n",
    "- The remove()method throws a keyerror if the item you want to delete is not present in a set.\n",
    "\n",
    "- The discard ()method will not throw any error if the item you want to delete is not in a set.\n",
    "\n",
    "- The remove()method and The discard()method only remove or only take only one argument at a time.\n",
    "\n",
    "\n",
    "3.pop()=pop delet any object . set.pop() takes no arguments\n",
    "\n",
    "\n",
    "4.clear()=use to clear all the list object. set.clear() takes no arguments.\n",
    "\n",
    "5.del()= to delet all the set .takes no argument\n",
    "\n",
    "## difference b/w clear or del in set :\n",
    "clear() only delete the object and del() delete all the list.\n",
    "\n",
    "# union of sets= use to add two or more sets and takes multiple argument. set.union()¶ when i want add 3 sets it turn into tuple.\n",
    "\n",
    "# Intersection of sets =use to find the common object in both the list.and make a new list and id will be change\n",
    "\n",
    "# Intersection update-use to find the common object in both the list is used to update the original set not change the set .and id will remain same .\n",
    "\n",
    "# Difference b/w inersection()and intersection_update()\n",
    "\n",
    "1.Intersection of sets= make a new list and id will be change.\n",
    "\n",
    "2.intersection_update()=update and modify the original set not change the set . and id will remain same\n",
    "\n",
    "intersection()will not update the original set but intersection_update()will update the original set with only the commom elements.intersection()will have a return value which is the new set with commom element between two or more sets whereas intersection_update()will not have any return value .\n",
    "\n",
    "\n",
    " # Difference in sets=used to find unique object in two sets and id will be change.\n",
    "\n",
    ".difference()\n",
    "\n",
    "# Difference update-is also used to find the unique object in the list.but id will be not change.\n",
    "\n",
    "# symmetric difference of Sets-\n",
    "The symmetric difference operation returns the elements that are unique in both sets.this operation is done by using .and id will be change. symmetric_difference()method.\n",
    "\n",
    "# symmetric difference update = symmetric_difference_update\n",
    "The symmetric difference operation returns the elements that are unique in both sets.this operation is done by using .and id will not be change. symmetric_difference()method.\n",
    "\n",
    "# Difference b/w  difference and symmetric\n",
    "\n",
    "difference = give out put like ex=set={1,2,3,4,5}\n",
    "                                  set_2={4,5,6,7,8}                   \n",
    "                                  output=1,2,3 only\n",
    "                                  \n",
    "symmetric difference    = set={1,2,3,4,5}\n",
    "                          set_2{4,5,6,7,8}\n",
    "                          output=1,2,3,6,7,8}\n",
    "                          \n",
    "# Sort the set - To convert set into list.\n",
    "A set is an unordered collection of data items ,so there is no point in sorting it.If you still want to sort it using the sorted()method but this method will return th list. the sorted()function is used to sort the list                          \n",
    "                          \n",
    "# issubset and issuperset\n",
    "In python we can find whether a set is a subset or superset of another set.we need to use the set methods issubset()and issuperset.\n",
    "\n",
    "# Frozen set - a frozen set is a immutable set . and unordered of immutable unique items. and use to turn list mutable into mutable.\n",
    "we can create a frozen set using the frozenset()function, which takes a single iterable object as a peremetr.\n",
    "\n",
    "# Nested set=In case we try to add another set an element to a set then we get\n",
    "the 'type Error':unhashable type:'set'.This is because a set is not hashable\n",
    "\n",
    "and also use to add set and  list."
   ]
  },
  {
   "cell_type": "markdown",
   "id": "03d0ed5a",
   "metadata": {},
   "source": [
    "# Empty_set=set()= when we dont pass any item to the set constructor then it will create an empty set."
   ]
  },
  {
   "cell_type": "code",
   "execution_count": 36,
   "id": "4fb3fb6a",
   "metadata": {},
   "outputs": [
    {
     "name": "stdout",
     "output_type": "stream",
     "text": [
      "{}\n"
     ]
    }
   ],
   "source": [
    "empty_set={              }\n",
    "print(empty_set)"
   ]
  },
  {
   "cell_type": "code",
   "execution_count": 38,
   "id": "4b581a13",
   "metadata": {},
   "outputs": [
    {
     "name": "stdout",
     "output_type": "stream",
     "text": [
      "<class 'dict'>\n"
     ]
    }
   ],
   "source": [
    "print(type(empty_set))                        # class of set is dictionary"
   ]
  },
  {
   "cell_type": "markdown",
   "id": "5a22ea08",
   "metadata": {},
   "source": [
    "# Accessing item of a set"
   ]
  },
  {
   "cell_type": "markdown",
   "id": "7dead11c",
   "metadata": {},
   "source": [
    "# if we want to excess item of a set we will use loop."
   ]
  },
  {
   "cell_type": "markdown",
   "id": "2006209e",
   "metadata": {},
   "source": [
    "# Adding item to a set\n",
    "\n",
    "1.add ()method = takes only one argument in a one time.\n",
    "\n",
    "2.update()method=taken multiple argument"
   ]
  },
  {
   "cell_type": "code",
   "execution_count": 11,
   "id": "98c0cdd7",
   "metadata": {},
   "outputs": [
    {
     "name": "stdout",
     "output_type": "stream",
     "text": [
      "{'Harry potter', 'Atlas shrugged', 'Angels and Demon', 'mega living'}\n"
     ]
    }
   ],
   "source": [
    "book_set={\"Harry potter\",\"Angels and Demon\", \"Atlas shrugged\"} \n",
    "book_set.add(\"mega living\")\n",
    "print(book_set)"
   ]
  },
  {
   "cell_type": "code",
   "execution_count": 2,
   "id": "966ac8e1",
   "metadata": {},
   "outputs": [
    {
     "name": "stdout",
     "output_type": "stream",
     "text": [
      "{'Rs200', 'Bullet', 'Avenger', 'R15', 'Ns200', 'Apache160', 'splendor'}\n"
     ]
    }
   ],
   "source": [
    "bike_set={\"Ns200\",\"Avenger\",\"Bullet\",\"R15\",\"Apache160\",\"splendor\"}\n",
    "bike_set.add(\"Rs200\")\n",
    "print(bike_set)"
   ]
  },
  {
   "cell_type": "code",
   "execution_count": 3,
   "id": "9b0ed682",
   "metadata": {},
   "outputs": [
    {
     "ename": "TypeError",
     "evalue": "set.add() takes exactly one argument (2 given)",
     "output_type": "error",
     "traceback": [
      "\u001b[1;31m---------------------------------------------------------------------------\u001b[0m",
      "\u001b[1;31mTypeError\u001b[0m                                 Traceback (most recent call last)",
      "Cell \u001b[1;32mIn[3], line 2\u001b[0m\n\u001b[0;32m      1\u001b[0m bike_set\u001b[38;5;241m=\u001b[39m{\u001b[38;5;124m\"\u001b[39m\u001b[38;5;124mNs200\u001b[39m\u001b[38;5;124m\"\u001b[39m,\u001b[38;5;124m\"\u001b[39m\u001b[38;5;124mAvenger\u001b[39m\u001b[38;5;124m\"\u001b[39m,\u001b[38;5;124m\"\u001b[39m\u001b[38;5;124mBullet\u001b[39m\u001b[38;5;124m\"\u001b[39m,\u001b[38;5;124m\"\u001b[39m\u001b[38;5;124mR15\u001b[39m\u001b[38;5;124m\"\u001b[39m,\u001b[38;5;124m\"\u001b[39m\u001b[38;5;124mApache160\u001b[39m\u001b[38;5;124m\"\u001b[39m,\u001b[38;5;124m\"\u001b[39m\u001b[38;5;124msplendor\u001b[39m\u001b[38;5;124m\"\u001b[39m}\n\u001b[1;32m----> 2\u001b[0m \u001b[43mbike_set\u001b[49m\u001b[38;5;241;43m.\u001b[39;49m\u001b[43madd\u001b[49m\u001b[43m(\u001b[49m\u001b[38;5;124;43m\"\u001b[39;49m\u001b[38;5;124;43mRs200\u001b[39;49m\u001b[38;5;124;43m\"\u001b[39;49m\u001b[43m,\u001b[49m\u001b[38;5;124;43m\"\u001b[39;49m\u001b[38;5;124;43mHimalayan\u001b[39;49m\u001b[38;5;124;43m\"\u001b[39;49m\u001b[43m)\u001b[49m\n\u001b[0;32m      3\u001b[0m \u001b[38;5;28mprint\u001b[39m(bike_set)\n",
      "\u001b[1;31mTypeError\u001b[0m: set.add() takes exactly one argument (2 given)"
     ]
    }
   ],
   "source": [
    "bike_set={\"Ns200\",\"Avenger\",\"Bullet\",\"R15\",\"Apache160\",\"splendor\"}   # add takes only one argument .\n",
    "bike_set.add(\"Rs200\",\"Himalayan\")\n",
    "print(bike_set)"
   ]
  },
  {
   "cell_type": "code",
   "execution_count": 8,
   "id": "15a811b7",
   "metadata": {},
   "outputs": [
    {
     "name": "stdout",
     "output_type": "stream",
     "text": [
      "2129595721184\n",
      "{'Rs200', 'Bullet', 'Avenger', 'R15', 'Ns200', 'Apache160', 'splendor'}\n",
      "2129595721184\n"
     ]
    }
   ],
   "source": [
    "bike_set={\"Ns200\",\"Avenger\",\"Bullet\",\"R15\",\"Apache160\",\"splendor\"}\n",
    "print(id(bike_set))\n",
    "bike_set.add(\"Rs200\")\n",
    "print(bike_set)\n",
    "print(id(bike_set))"
   ]
  },
  {
   "cell_type": "code",
   "execution_count": 7,
   "id": "55e461cc",
   "metadata": {},
   "outputs": [
    {
     "name": "stdout",
     "output_type": "stream",
     "text": [
      "{'Bullet', 'Avenger', 'R15', 'Bmw', 'Apache160', 'Harley', 'Ns200', 'rr310', 'splendor'}\n"
     ]
    }
   ],
   "source": [
    "bike_set={\"Ns200\",\"Avenger\",\"Bullet\",\"R15\",\"Apache160\",\"splendor\"}        #update takes multiple argument.\n",
    "bike_set.update([\"Harley\",\"Bmw\",\"rr310\"])\n",
    "print(bike_set)"
   ]
  },
  {
   "cell_type": "code",
   "execution_count": 9,
   "id": "112c4c7d",
   "metadata": {},
   "outputs": [
    {
     "name": "stdout",
     "output_type": "stream",
     "text": [
      "2129625646464\n",
      "{'Bullet', 'Avenger', 'R15', 'Bmw', 'Apache160', 'Harley', 'Ns200', 'rr310', 'splendor'}\n",
      "2129625646464\n"
     ]
    }
   ],
   "source": [
    "bike_set={\"Ns200\",\"Avenger\",\"Bullet\",\"R15\",\"Apache160\",\"splendor\"}  \n",
    "print(id(bike_set))\n",
    "bike_set.update([\"Harley\",\"Bmw\",\"rr310\"])\n",
    "print(bike_set)\n",
    "print(id(bike_set))"
   ]
  },
  {
   "cell_type": "code",
   "execution_count": 12,
   "id": "c41f996f",
   "metadata": {},
   "outputs": [
    {
     "name": "stdout",
     "output_type": "stream",
     "text": [
      "{'Harry potter', 'Atlas shrugged', 'Angels and Demon', 'mega living'}\n"
     ]
    }
   ],
   "source": [
    "book_set={\"Harry potter\",\"Angels and Demon\", \"Atlas shrugged\"} \n",
    "book_set.update([\"mega living\"])\n",
    "print(book_set)"
   ]
  },
  {
   "cell_type": "code",
   "execution_count": 13,
   "id": "d1732653",
   "metadata": {},
   "outputs": [
    {
     "name": "stdout",
     "output_type": "stream",
     "text": [
      "{67, 99, 100, 'arya', 45, 55, 23, 88, 'raj'}\n"
     ]
    }
   ],
   "source": [
    "set={45,55,23,67,88,99,100,\"raj\"}\n",
    "set.update([\"arya\"])\n",
    "print(set)"
   ]
  },
  {
   "cell_type": "code",
   "execution_count": 24,
   "id": "dc1fe415",
   "metadata": {},
   "outputs": [
    {
     "name": "stdout",
     "output_type": "stream",
     "text": [
      "{'a', 67, 99, 100, 'r', '2', 45, 'j', 55, 23, 88, '3', 'raj'}\n"
     ]
    }
   ],
   "source": [
    "set={45,55,23,67,88,99,100,\"raj\"}\n",
    "set.update(\"2\",\"3\",\"raj\")\n",
    "print(set)"
   ]
  },
  {
   "cell_type": "code",
   "execution_count": 20,
   "id": "5dffc1f7",
   "metadata": {},
   "outputs": [
    {
     "name": "stdout",
     "output_type": "stream",
     "text": [
      "2630604178592\n"
     ]
    }
   ],
   "source": [
    "book_set={\"Harry potter\",\"Angels and Demon\", \"Atlas shrugged\"} \n",
    "print(id(book_set))"
   ]
  },
  {
   "cell_type": "code",
   "execution_count": 23,
   "id": "f6f95214",
   "metadata": {},
   "outputs": [
    {
     "name": "stdout",
     "output_type": "stream",
     "text": [
      "{'Harry potter', 'Atlas shrugged', 'Angels and Demon', 'mega living'}\n",
      "2630604178592\n"
     ]
    }
   ],
   "source": [
    "book_set={\"Harry potter\",\"Angels and Demon\", \"Atlas shrugged\"} \n",
    "book_set.add('mega living')\n",
    "print(book_set)\n",
    "print(id(book_set))"
   ]
  },
  {
   "cell_type": "markdown",
   "id": "8f790c99",
   "metadata": {},
   "source": [
    "# Remove item from  a sets\n",
    "\n",
    "1.remove(object)= use to remove object from the set.  set.remove() takes exactly one argument\n",
    "\n",
    "2.discard(object)=  use to remove object from the set   set.discard() takes exactly one argument.\n",
    "\n",
    "\n",
    "3.pop()=pop delet any object . set.pop() takes no arguments \n",
    "\n",
    "4.clear()=use to clear all the list object.  set.clear() takes no arguments.\n",
    "\n",
    "5.del()= to delet all the set \n",
    "\n",
    "# difference b/w clear or del in set :\n",
    "clear() only delete the object and del() delete all the list.\n"
   ]
  },
  {
   "cell_type": "code",
   "execution_count": 11,
   "id": "fdd0e7e7",
   "metadata": {},
   "outputs": [
    {
     "name": "stdout",
     "output_type": "stream",
     "text": [
      "2129597332192\n",
      "2129597332192\n",
      "{'Bullet', 'Avenger', 'R15', 'Apache160', 'splendor'}\n"
     ]
    }
   ],
   "source": [
    "bike_set={\"Ns200\",\"Avenger\",\"Bullet\",\"R15\",\"Apache160\",\"splendor\"}    # id not change because list is mutable and there i am \n",
    "                                                                          # even not change the list name\n",
    "print(id(bike_set))\n",
    "bike_set.remove(\"Ns200\")\n",
    "print(id(bike_set))\n",
    "print(bike_set)"
   ]
  },
  {
   "cell_type": "code",
   "execution_count": 21,
   "id": "7e9a1adb",
   "metadata": {},
   "outputs": [
    {
     "name": "stdout",
     "output_type": "stream",
     "text": [
      "2129625648928\n"
     ]
    },
    {
     "ename": "TypeError",
     "evalue": "set.discard() takes exactly one argument (2 given)",
     "output_type": "error",
     "traceback": [
      "\u001b[1;31m---------------------------------------------------------------------------\u001b[0m",
      "\u001b[1;31mTypeError\u001b[0m                                 Traceback (most recent call last)",
      "Cell \u001b[1;32mIn[21], line 3\u001b[0m\n\u001b[0;32m      1\u001b[0m bike_set\u001b[38;5;241m=\u001b[39m{\u001b[38;5;124m\"\u001b[39m\u001b[38;5;124mNs200\u001b[39m\u001b[38;5;124m\"\u001b[39m,\u001b[38;5;124m\"\u001b[39m\u001b[38;5;124mAvenger\u001b[39m\u001b[38;5;124m\"\u001b[39m,\u001b[38;5;124m\"\u001b[39m\u001b[38;5;124mBullet\u001b[39m\u001b[38;5;124m\"\u001b[39m,\u001b[38;5;124m\"\u001b[39m\u001b[38;5;124mR15\u001b[39m\u001b[38;5;124m\"\u001b[39m,\u001b[38;5;124m\"\u001b[39m\u001b[38;5;124mApache160\u001b[39m\u001b[38;5;124m\"\u001b[39m,\u001b[38;5;124m\"\u001b[39m\u001b[38;5;124msplendor\u001b[39m\u001b[38;5;124m\"\u001b[39m}\n\u001b[0;32m      2\u001b[0m \u001b[38;5;28mprint\u001b[39m(\u001b[38;5;28mid\u001b[39m(bike_set))\n\u001b[1;32m----> 3\u001b[0m \u001b[43mbike_set\u001b[49m\u001b[38;5;241;43m.\u001b[39;49m\u001b[43mdiscard\u001b[49m\u001b[43m(\u001b[49m\u001b[38;5;124;43m\"\u001b[39;49m\u001b[38;5;124;43mNs200\u001b[39;49m\u001b[38;5;124;43m\"\u001b[39;49m\u001b[43m,\u001b[49m\u001b[38;5;124;43m\"\u001b[39;49m\u001b[38;5;124;43msplendor\u001b[39;49m\u001b[38;5;124;43m\"\u001b[39;49m\u001b[43m)\u001b[49m\n\u001b[0;32m      4\u001b[0m \u001b[38;5;28mprint\u001b[39m(bike_set)\n\u001b[0;32m      5\u001b[0m \u001b[38;5;28mprint\u001b[39m(\u001b[38;5;28mid\u001b[39m(bike_set))\n",
      "\u001b[1;31mTypeError\u001b[0m: set.discard() takes exactly one argument (2 given)"
     ]
    }
   ],
   "source": [
    "bike_set={\"Ns200\",\"Avenger\",\"Bullet\",\"R15\",\"Apache160\",\"splendor\"}\n",
    "print(id(bike_set))\n",
    "bike_set.discard(\"Ns200\",\"splendor\")\n",
    "print(bike_set)\n",
    "print(id(bike_set))"
   ]
  },
  {
   "cell_type": "code",
   "execution_count": 25,
   "id": "fa90193b",
   "metadata": {},
   "outputs": [
    {
     "name": "stdout",
     "output_type": "stream",
     "text": [
      "{67, 99, 100, 55, 23, 88, 'raj'}\n"
     ]
    }
   ],
   "source": [
    "set={45,55,23,67,88,99,100,\"raj\"}\n",
    "set.remove(45)\n",
    "print(set)"
   ]
  },
  {
   "cell_type": "code",
   "execution_count": 26,
   "id": "845f37a5",
   "metadata": {},
   "outputs": [
    {
     "ename": "TypeError",
     "evalue": "set.remove() takes exactly one argument (2 given)",
     "output_type": "error",
     "traceback": [
      "\u001b[1;31m---------------------------------------------------------------------------\u001b[0m",
      "\u001b[1;31mTypeError\u001b[0m                                 Traceback (most recent call last)",
      "Cell \u001b[1;32mIn[26], line 2\u001b[0m\n\u001b[0;32m      1\u001b[0m \u001b[38;5;28mset\u001b[39m\u001b[38;5;241m=\u001b[39m{\u001b[38;5;241m45\u001b[39m,\u001b[38;5;241m55\u001b[39m,\u001b[38;5;241m23\u001b[39m,\u001b[38;5;241m67\u001b[39m,\u001b[38;5;241m88\u001b[39m,\u001b[38;5;241m99\u001b[39m,\u001b[38;5;241m100\u001b[39m,\u001b[38;5;124m\"\u001b[39m\u001b[38;5;124mraj\u001b[39m\u001b[38;5;124m\"\u001b[39m}\n\u001b[1;32m----> 2\u001b[0m \u001b[38;5;28;43mset\u001b[39;49m\u001b[38;5;241;43m.\u001b[39;49m\u001b[43mremove\u001b[49m\u001b[43m(\u001b[49m\u001b[38;5;241;43m45\u001b[39;49m\u001b[43m,\u001b[49m\u001b[38;5;241;43m55\u001b[39;49m\u001b[43m)\u001b[49m\n\u001b[0;32m      3\u001b[0m \u001b[38;5;28mprint\u001b[39m(\u001b[38;5;28mset\u001b[39m)\n",
      "\u001b[1;31mTypeError\u001b[0m: set.remove() takes exactly one argument (2 given)"
     ]
    }
   ],
   "source": [
    "set={45,55,23,67,88,99,100,\"raj\"}                                # remove command  only remove single item in a time\n",
    "set.remove(45,55)\n",
    "print(set)"
   ]
  },
  {
   "cell_type": "code",
   "execution_count": null,
   "id": "fe027482",
   "metadata": {},
   "outputs": [],
   "source": [
    "set={45,55,23,67,88,99,100,\"raj\"}\n",
    "set.remove(45)\n",
    "print(set)"
   ]
  },
  {
   "cell_type": "code",
   "execution_count": 22,
   "id": "05e645d7",
   "metadata": {},
   "outputs": [
    {
     "ename": "KeyError",
     "evalue": "'yash'",
     "output_type": "error",
     "traceback": [
      "\u001b[1;31m---------------------------------------------------------------------------\u001b[0m",
      "\u001b[1;31mKeyError\u001b[0m                                  Traceback (most recent call last)",
      "Cell \u001b[1;32mIn[22], line 2\u001b[0m\n\u001b[0;32m      1\u001b[0m \u001b[38;5;28mset\u001b[39m\u001b[38;5;241m=\u001b[39m{\u001b[38;5;241m45\u001b[39m,\u001b[38;5;241m55\u001b[39m,\u001b[38;5;241m23\u001b[39m,\u001b[38;5;241m67\u001b[39m,\u001b[38;5;241m88\u001b[39m,\u001b[38;5;241m99\u001b[39m,\u001b[38;5;241m100\u001b[39m,\u001b[38;5;124m\"\u001b[39m\u001b[38;5;124mraj\u001b[39m\u001b[38;5;124m\"\u001b[39m}\n\u001b[1;32m----> 2\u001b[0m \u001b[38;5;28;43mset\u001b[39;49m\u001b[38;5;241;43m.\u001b[39;49m\u001b[43mremove\u001b[49m\u001b[43m(\u001b[49m\u001b[38;5;124;43m\"\u001b[39;49m\u001b[38;5;124;43myash\u001b[39;49m\u001b[38;5;124;43m\"\u001b[39;49m\u001b[43m)\u001b[49m\n\u001b[0;32m      3\u001b[0m \u001b[38;5;28mprint\u001b[39m(\u001b[38;5;28mset\u001b[39m)\n",
      "\u001b[1;31mKeyError\u001b[0m: 'yash'"
     ]
    }
   ],
   "source": [
    "set={45,55,23,67,88,99,100,\"raj\"}\n",
    "set.remove(\"yash\")\n",
    "print(set)"
   ]
  },
  {
   "cell_type": "code",
   "execution_count": 23,
   "id": "f27f2e43",
   "metadata": {},
   "outputs": [
    {
     "name": "stdout",
     "output_type": "stream",
     "text": [
      "{67, 99, 100, 'raj', 45, 55, 23, 88}\n"
     ]
    }
   ],
   "source": [
    "set={45,55,23,67,88,99,100,\"raj\"}\n",
    "set.discard(\"yash\")\n",
    "print(set)"
   ]
  },
  {
   "cell_type": "code",
   "execution_count": 31,
   "id": "4b05ec86",
   "metadata": {},
   "outputs": [
    {
     "name": "stdout",
     "output_type": "stream",
     "text": [
      "{67, 99, 100, 23, 88, 'raj'}\n"
     ]
    }
   ],
   "source": [
    "set={45,55,23,67,88,99,100,\"raj\"}\n",
    "set.discard(45),set.discard(55)\n",
    "print(set)"
   ]
  },
  {
   "cell_type": "code",
   "execution_count": 36,
   "id": "2b81de9d",
   "metadata": {},
   "outputs": [
    {
     "name": "stdout",
     "output_type": "stream",
     "text": [
      "{67, 99, 100, 45, 55, 23, 88, 'raj'}\n"
     ]
    }
   ],
   "source": [
    "set={45,55,23,67,88,99,100,\"raj\"}\n",
    "set.discard(\"yash\")\n",
    "print(set)"
   ]
  },
  {
   "cell_type": "markdown",
   "id": "0f56df0a",
   "metadata": {},
   "source": [
    "#remove()vs discard()\n",
    "\n",
    "- The remove()method throws a keyerror if the item you want to delete is not present in a set.\n",
    "\n",
    "\n",
    "- The discard ()method will not throw any error if the item you want to delete is not in a set.\n",
    "\n",
    "\n",
    "- The remove()method and The discard()method only remove or only take only one argument at a time.\n"
   ]
  },
  {
   "cell_type": "code",
   "execution_count": 4,
   "id": "709191e0",
   "metadata": {},
   "outputs": [
    {
     "ename": "TypeError",
     "evalue": "set.pop() takes no arguments (1 given)",
     "output_type": "error",
     "traceback": [
      "\u001b[1;31m---------------------------------------------------------------------------\u001b[0m",
      "\u001b[1;31mTypeError\u001b[0m                                 Traceback (most recent call last)",
      "Cell \u001b[1;32mIn[4], line 2\u001b[0m\n\u001b[0;32m      1\u001b[0m \u001b[38;5;28mset\u001b[39m\u001b[38;5;241m=\u001b[39m{\u001b[38;5;241m45\u001b[39m,\u001b[38;5;241m55\u001b[39m,\u001b[38;5;241m23\u001b[39m,\u001b[38;5;241m67\u001b[39m,\u001b[38;5;241m88\u001b[39m,\u001b[38;5;241m99\u001b[39m,\u001b[38;5;241m100\u001b[39m,\u001b[38;5;124m\"\u001b[39m\u001b[38;5;124mraj\u001b[39m\u001b[38;5;124m\"\u001b[39m}\n\u001b[1;32m----> 2\u001b[0m \u001b[38;5;28;43mset\u001b[39;49m\u001b[38;5;241;43m.\u001b[39;49m\u001b[43mpop\u001b[49m\u001b[43m(\u001b[49m\u001b[38;5;241;43m55\u001b[39;49m\u001b[43m)\u001b[49m\n\u001b[0;32m      3\u001b[0m \u001b[38;5;28mprint\u001b[39m(\u001b[38;5;28mset\u001b[39m)\n",
      "\u001b[1;31mTypeError\u001b[0m: set.pop() takes no arguments (1 given)"
     ]
    }
   ],
   "source": [
    "set={45,55,23,67,88,99,100,\"raj\"}\n",
    "set.pop(55)\n",
    "print(set)"
   ]
  },
  {
   "cell_type": "code",
   "execution_count": 26,
   "id": "794cc5c9",
   "metadata": {},
   "outputs": [
    {
     "name": "stdout",
     "output_type": "stream",
     "text": [
      "{67, 100, 55, 23, 88, 45}\n"
     ]
    }
   ],
   "source": [
    "set={45,55,23,67,88,99,100}\n",
    "set.pop()\n",
    "print(set)"
   ]
  },
  {
   "cell_type": "code",
   "execution_count": 21,
   "id": "858e34c2",
   "metadata": {},
   "outputs": [
    {
     "name": "stdout",
     "output_type": "stream",
     "text": [
      "set()\n",
      "<class 'type'>\n"
     ]
    }
   ],
   "source": [
    "set={45,55,23,67,88,99,100}\n",
    "set.clear()\n",
    "print(set)\n",
    "print(type)"
   ]
  },
  {
   "cell_type": "code",
   "execution_count": 9,
   "id": "f03abd45",
   "metadata": {},
   "outputs": [
    {
     "ename": "SyntaxError",
     "evalue": "invalid syntax (4074732652.py, line 2)",
     "output_type": "error",
     "traceback": [
      "\u001b[1;36m  Cell \u001b[1;32mIn[9], line 2\u001b[1;36m\u001b[0m\n\u001b[1;33m    set.del[46]\u001b[0m\n\u001b[1;37m        ^\u001b[0m\n\u001b[1;31mSyntaxError\u001b[0m\u001b[1;31m:\u001b[0m invalid syntax\n"
     ]
    }
   ],
   "source": [
    "set={45,55,23,67,88,99,100}\n",
    "set.del[46]\n",
    "print(set)\n",
    "print(type)"
   ]
  },
  {
   "cell_type": "code",
   "execution_count": 28,
   "id": "91bf19ec",
   "metadata": {},
   "outputs": [
    {
     "ename": "TypeError",
     "evalue": "'set' object does not support item deletion",
     "output_type": "error",
     "traceback": [
      "\u001b[1;31m---------------------------------------------------------------------------\u001b[0m",
      "\u001b[1;31mTypeError\u001b[0m                                 Traceback (most recent call last)",
      "Cell \u001b[1;32mIn[28], line 2\u001b[0m\n\u001b[0;32m      1\u001b[0m \u001b[38;5;28mset\u001b[39m\u001b[38;5;241m=\u001b[39m{\u001b[38;5;241m45\u001b[39m,\u001b[38;5;241m55\u001b[39m,\u001b[38;5;241m23\u001b[39m,\u001b[38;5;241m67\u001b[39m,\u001b[38;5;241m88\u001b[39m,\u001b[38;5;241m99\u001b[39m,\u001b[38;5;241m100\u001b[39m}\n\u001b[1;32m----> 2\u001b[0m \u001b[38;5;28;01mdel\u001b[39;00m \u001b[38;5;28mset\u001b[39m[\u001b[38;5;241m0\u001b[39m:\u001b[38;5;241m3\u001b[39m]\n\u001b[0;32m      3\u001b[0m \u001b[38;5;28mprint\u001b[39m(\u001b[38;5;28mset\u001b[39m)\n\u001b[0;32m      4\u001b[0m \u001b[38;5;28mprint\u001b[39m(\u001b[38;5;28mtype\u001b[39m)\n",
      "\u001b[1;31mTypeError\u001b[0m: 'set' object does not support item deletion"
     ]
    }
   ],
   "source": [
    "set={45,55,23,67,88,99,100}\n",
    "del set[0:3]\n",
    "print(set)\n",
    "print(type)"
   ]
  },
  {
   "cell_type": "code",
   "execution_count": 29,
   "id": "8beb6f6c",
   "metadata": {},
   "outputs": [],
   "source": [
    "my_set={1,2,3,4}"
   ]
  },
  {
   "cell_type": "code",
   "execution_count": 32,
   "id": "3b2f5af4",
   "metadata": {},
   "outputs": [
    {
     "ename": "SyntaxError",
     "evalue": "invalid syntax (2066530845.py, line 2)",
     "output_type": "error",
     "traceback": [
      "\u001b[1;36m  Cell \u001b[1;32mIn[32], line 2\u001b[1;36m\u001b[0m\n\u001b[1;33m    x=del my_set\u001b[0m\n\u001b[1;37m      ^\u001b[0m\n\u001b[1;31mSyntaxError\u001b[0m\u001b[1;31m:\u001b[0m invalid syntax\n"
     ]
    }
   ],
   "source": [
    "my_set={1,2,3,4}\n",
    "x=del my_set\n",
    "print(x)"
   ]
  },
  {
   "cell_type": "code",
   "execution_count": 33,
   "id": "18b4cc2d",
   "metadata": {},
   "outputs": [
    {
     "ename": "NameError",
     "evalue": "name 'my_set' is not defined",
     "output_type": "error",
     "traceback": [
      "\u001b[1;31m---------------------------------------------------------------------------\u001b[0m",
      "\u001b[1;31mNameError\u001b[0m                                 Traceback (most recent call last)",
      "Cell \u001b[1;32mIn[33], line 3\u001b[0m\n\u001b[0;32m      1\u001b[0m my_set\u001b[38;5;241m=\u001b[39m{\u001b[38;5;241m1\u001b[39m,\u001b[38;5;241m2\u001b[39m,\u001b[38;5;241m3\u001b[39m,\u001b[38;5;241m4\u001b[39m}\n\u001b[0;32m      2\u001b[0m \u001b[38;5;28;01mdel\u001b[39;00m my_set\n\u001b[1;32m----> 3\u001b[0m \u001b[38;5;28mprint\u001b[39m(\u001b[43mmy_set\u001b[49m)\n",
      "\u001b[1;31mNameError\u001b[0m: name 'my_set' is not defined"
     ]
    }
   ],
   "source": [
    "my_set={1,2,3,4}\n",
    "del my_set\n",
    "print(my_set)"
   ]
  },
  {
   "cell_type": "markdown",
   "id": "66ac1ec4",
   "metadata": {},
   "source": [
    "# union of sets= use to add two or more sets and takes multiple argument.     set.union()"
   ]
  },
  {
   "cell_type": "code",
   "execution_count": 34,
   "id": "eddc1986",
   "metadata": {},
   "outputs": [
    {
     "name": "stdout",
     "output_type": "stream",
     "text": [
      "1821372695712\n",
      "1821372695936\n",
      "{'harley', 'Avenger', 'R15', 'Himalaya', 'splendor', 'Ns200', 'Bullet', 'Apache160'}\n",
      "1821372696608\n"
     ]
    }
   ],
   "source": [
    "bike_set1={\"Ns200\",\"Avenger\",\"Bullet\",\"R15\",\"Apache160\",\"splendor\"}\n",
    "print(id(bike_set1))\n",
    "bike_set2={\"Avenger\",\"harley\",\"Himalaya\"}\n",
    "print(id(bike_set2))\n",
    "new_bike_set=bike_set1.union(bike_set2)\n",
    "print(new_bike_set)\n",
    "print(id(new_bike_set))"
   ]
  },
  {
   "cell_type": "code",
   "execution_count": 37,
   "id": "1cd15cee",
   "metadata": {},
   "outputs": [
    {
     "name": "stdout",
     "output_type": "stream",
     "text": [
      "({'orange', 'blue', 'indigo', 'green', 'violet', 'red', 'yellow'}, {'blue', 'indigo', 'pella', 'green', 'violet', 'hara', 'yellow'})\n",
      "<class 'tuple'>\n"
     ]
    }
   ],
   "source": [
    "color_set={\"violet\",\"indigo\",\"blue\",\"green\",\"yellow\"}\n",
    "remaining_colors={\"indigo\",\"orange\",\"red\"}\n",
    "w_colors={\"pella\",\"hara\",\"indigo\"}\n",
    "# union using.union() method\n",
    "vibgyor_colors=color_set.union(remaining_colors),color_set.union(w_colors)\n",
    "print(vibgyor_colors)\n",
    "print(type(vibgyor_colors))"
   ]
  },
  {
   "cell_type": "code",
   "execution_count": 14,
   "id": "1addc9af",
   "metadata": {},
   "outputs": [
    {
     "name": "stdout",
     "output_type": "stream",
     "text": [
      "{'black', 'indigo', 'blue', 'pink', 'green', 'yellow', 'orange', 'red', 'violet'}\n"
     ]
    }
   ],
   "source": [
    "color_set={\"violet\",\"indigo\",\"blue\",\"green\",\"yellow\"}\n",
    "extra_colors={\"black\",\"pink\",\"orange\"}\n",
    "remaining_colors={\"indigo\",\"orange\",\"red\"}\n",
    "x_colors=color_set.union(extra_colors,remaining_colors)\n",
    "print(x_colors)"
   ]
  },
  {
   "cell_type": "code",
   "execution_count": 13,
   "id": "7946ac4b",
   "metadata": {},
   "outputs": [
    {
     "name": "stdout",
     "output_type": "stream",
     "text": [
      "{'black', 'indigo', 'blue', 'pink', 'green', 'yellow', 'orange', 'red', 'violet'}\n"
     ]
    }
   ],
   "source": [
    "vibgyor_colors={'blue', 'red', 'green', 'yellow', 'orange', 'indigo', 'violet'}\n",
    "extra_colors={\"black\",\"pink\",\"orange\"}\n",
    "new_sets=vibgyor_colors.union(extra_colors)\n",
    "print(new_sets)"
   ]
  },
  {
   "cell_type": "markdown",
   "id": "6302feba",
   "metadata": {},
   "source": [
    "# when i want add 3 sets it turn into tuple. "
   ]
  },
  {
   "cell_type": "code",
   "execution_count": 20,
   "id": "4a3e0e1b",
   "metadata": {},
   "outputs": [
    {
     "name": "stdout",
     "output_type": "stream",
     "text": [
      "({'black', 'blue', 'pink', 'green', 'yellow', 'orange', 'indigo', 'violet'}, {'blue', 'red', 'green', 'yellow', 'orange', 'indigo', 'violet'})\n"
     ]
    }
   ],
   "source": [
    "#when i want add 3 sets it turn into tuple.                         \n",
    "color_set={\"violet\",\"indigo\",\"blue\",\"green\",\"yellow\"}\n",
    "extra_colors={\"black\",\"pink\",\"orange\"}\n",
    "remaining_colors={\"indigo\",\"orange\",\"red\"}\n",
    "x_colors=color_set.union(extra_colors),color_set.union(remaining_colors)\n",
    "print(x_colors)"
   ]
  },
  {
   "cell_type": "code",
   "execution_count": 19,
   "id": "00e19afe",
   "metadata": {},
   "outputs": [
    {
     "name": "stdout",
     "output_type": "stream",
     "text": [
      "<class 'tuple'>\n"
     ]
    }
   ],
   "source": [
    "print(type(x_colors))"
   ]
  },
  {
   "cell_type": "code",
   "execution_count": 17,
   "id": "67ed7c51",
   "metadata": {},
   "outputs": [
    {
     "name": "stdout",
     "output_type": "stream",
     "text": [
      "('blue', 'green', 'yellow', 'indigo', 'violet')\n"
     ]
    }
   ],
   "source": [
    "color_set={\"violet\",\"indigo\",\"blue\",\"green\",\"yellow\"}\n",
    "x=tuple(color_set)\n",
    "print(x)"
   ]
  },
  {
   "cell_type": "code",
   "execution_count": null,
   "id": "457bde75",
   "metadata": {},
   "outputs": [],
   "source": []
  },
  {
   "cell_type": "code",
   "execution_count": 22,
   "id": "3b04ba37",
   "metadata": {},
   "outputs": [
    {
     "name": "stdout",
     "output_type": "stream",
     "text": [
      "{'indigo'}\n"
     ]
    }
   ],
   "source": [
    "color_set={\"violet\",\"indigo\",\"blue\",\"green\",\"yellow\"}\n",
    "remaining_colors={\"indigo\",\"orange\",\"red\"}\n",
    "\n",
    "vibgyor_colors=color_set.intersection(remaining_colors)   \n",
    "print(vibgyor_colors)"
   ]
  },
  {
   "cell_type": "code",
   "execution_count": 4,
   "id": "e4278318",
   "metadata": {},
   "outputs": [
    {
     "name": "stdout",
     "output_type": "stream",
     "text": [
      "{'green', 'indigo', 'orange', 'blue', 'red', 'yellow', 'indig0', 'violet'}\n"
     ]
    }
   ],
   "source": [
    "color_set={\"violet\",\"indigo\",\"blue\",\"green\",\"yellow\"}\n",
    "maining_colors={\"indig0\",\"orange\",\"red\"}\n",
    "x=color_set.union(maining_colors)\n",
    "print(x)"
   ]
  },
  {
   "cell_type": "code",
   "execution_count": 5,
   "id": "6500ef01",
   "metadata": {},
   "outputs": [
    {
     "name": "stdout",
     "output_type": "stream",
     "text": [
      "{'green', 'indigo', 'orange', 'blue', 'red', 'yellow', 'indig0', 'violet'}\n"
     ]
    }
   ],
   "source": [
    "color_set={\"violet\",\"indigo\",\"blue\",\"green\",\"yellow\"}\n",
    "maining_colors=[\"indig0\",\"orange\",\"red\"]\n",
    "x=color_set.union(maining_colors)\n",
    "print(x)"
   ]
  },
  {
   "cell_type": "code",
   "execution_count": 38,
   "id": "590ce6b8",
   "metadata": {},
   "outputs": [
    {
     "name": "stdout",
     "output_type": "stream",
     "text": [
      "1821372697952\n",
      "{'orange', 'blue', 'indigo', 'green', 'indig0', 'violet', 'red', 'yellow'}\n",
      "1821372699296\n"
     ]
    }
   ],
   "source": [
    "color_set={\"violet\",\"indigo\",\"blue\",\"green\",\"yellow\"}\n",
    "print(id(color_set))\n",
    "maining_colors=([\"indig0\",\"orange\",\"red\"])\n",
    "x=color_set.union(maining_colors)\n",
    "print(x)\n",
    "print(id(x))"
   ]
  },
  {
   "cell_type": "code",
   "execution_count": null,
   "id": "8fb6ee3a",
   "metadata": {},
   "outputs": [],
   "source": [
    "color_set={\"violet\",\"indigo\",\"blue\",\"green\",\"yellow\"}\n",
    "maining_colors=[\"indig0\",\"orange\",\"red\"]\n",
    "x=color_set.union(maining_colors)\n",
    "print(x)"
   ]
  },
  {
   "cell_type": "code",
   "execution_count": 6,
   "id": "92a119b1",
   "metadata": {},
   "outputs": [
    {
     "name": "stdout",
     "output_type": "stream",
     "text": [
      "140713880759632\n"
     ]
    }
   ],
   "source": [
    "print(id(type))"
   ]
  },
  {
   "cell_type": "code",
   "execution_count": 7,
   "id": "04895513",
   "metadata": {},
   "outputs": [
    {
     "name": "stdout",
     "output_type": "stream",
     "text": [
      "2445487653600\n"
     ]
    }
   ],
   "source": [
    "print(id(color_set))"
   ]
  },
  {
   "cell_type": "code",
   "execution_count": 8,
   "id": "bd50e329",
   "metadata": {},
   "outputs": [
    {
     "name": "stdout",
     "output_type": "stream",
     "text": [
      "<class 'set'>\n"
     ]
    }
   ],
   "source": [
    "print(type(color_set))"
   ]
  },
  {
   "cell_type": "code",
   "execution_count": 39,
   "id": "dedd596c",
   "metadata": {},
   "outputs": [
    {
     "ename": "TypeError",
     "evalue": "unhashable type: 'list'",
     "output_type": "error",
     "traceback": [
      "\u001b[1;31m---------------------------------------------------------------------------\u001b[0m",
      "\u001b[1;31mTypeError\u001b[0m                                 Traceback (most recent call last)",
      "Cell \u001b[1;32mIn[39], line 3\u001b[0m\n\u001b[0;32m      1\u001b[0m color_set\u001b[38;5;241m=\u001b[39m{\u001b[38;5;124m\"\u001b[39m\u001b[38;5;124mviolet\u001b[39m\u001b[38;5;124m\"\u001b[39m,\u001b[38;5;124m\"\u001b[39m\u001b[38;5;124mindigo\u001b[39m\u001b[38;5;124m\"\u001b[39m,\u001b[38;5;124m\"\u001b[39m\u001b[38;5;124mblue\u001b[39m\u001b[38;5;124m\"\u001b[39m,\u001b[38;5;124m\"\u001b[39m\u001b[38;5;124mgreen\u001b[39m\u001b[38;5;124m\"\u001b[39m,\u001b[38;5;124m\"\u001b[39m\u001b[38;5;124myellow\u001b[39m\u001b[38;5;124m\"\u001b[39m}\n\u001b[0;32m      2\u001b[0m maining_colors\u001b[38;5;241m=\u001b[39m([\u001b[38;5;124m\"\u001b[39m\u001b[38;5;124mindig0\u001b[39m\u001b[38;5;124m\"\u001b[39m,\u001b[38;5;124m\"\u001b[39m\u001b[38;5;124morange\u001b[39m\u001b[38;5;124m\"\u001b[39m,\u001b[38;5;124m\"\u001b[39m\u001b[38;5;124mred\u001b[39m\u001b[38;5;124m\"\u001b[39m])\n\u001b[1;32m----> 3\u001b[0m \u001b[43mcolor_set\u001b[49m\u001b[38;5;241;43m.\u001b[39;49m\u001b[43madd\u001b[49m\u001b[43m(\u001b[49m\u001b[43mmaining_colors\u001b[49m\u001b[43m)\u001b[49m\n\u001b[0;32m      4\u001b[0m \u001b[38;5;28mprint\u001b[39m(color_set)\n",
      "\u001b[1;31mTypeError\u001b[0m: unhashable type: 'list'"
     ]
    }
   ],
   "source": [
    "color_set={\"violet\",\"indigo\",\"blue\",\"green\",\"yellow\"}\n",
    "maining_colors=([\"indig0\",\"orange\",\"red\"])\n",
    "color_set.add(maining_colors)\n",
    "print(color_set)"
   ]
  },
  {
   "cell_type": "code",
   "execution_count": 14,
   "id": "bfddd755",
   "metadata": {},
   "outputs": [
    {
     "ename": "AttributeError",
     "evalue": "'set' object has no attribute 'insert'",
     "output_type": "error",
     "traceback": [
      "\u001b[1;31m---------------------------------------------------------------------------\u001b[0m",
      "\u001b[1;31mAttributeError\u001b[0m                            Traceback (most recent call last)",
      "Cell \u001b[1;32mIn[14], line 3\u001b[0m\n\u001b[0;32m      1\u001b[0m color_set\u001b[38;5;241m=\u001b[39m{\u001b[38;5;124m\"\u001b[39m\u001b[38;5;124mviolet\u001b[39m\u001b[38;5;124m\"\u001b[39m,\u001b[38;5;124m\"\u001b[39m\u001b[38;5;124mindigo\u001b[39m\u001b[38;5;124m\"\u001b[39m,\u001b[38;5;124m\"\u001b[39m\u001b[38;5;124mblue\u001b[39m\u001b[38;5;124m\"\u001b[39m,\u001b[38;5;124m\"\u001b[39m\u001b[38;5;124mgreen\u001b[39m\u001b[38;5;124m\"\u001b[39m,\u001b[38;5;124m\"\u001b[39m\u001b[38;5;124myellow\u001b[39m\u001b[38;5;124m\"\u001b[39m}\n\u001b[0;32m      2\u001b[0m maining_colors\u001b[38;5;241m=\u001b[39m[\u001b[38;5;124m\"\u001b[39m\u001b[38;5;124mindig0\u001b[39m\u001b[38;5;124m\"\u001b[39m,\u001b[38;5;124m\"\u001b[39m\u001b[38;5;124morange\u001b[39m\u001b[38;5;124m\"\u001b[39m,\u001b[38;5;124m\"\u001b[39m\u001b[38;5;124mred\u001b[39m\u001b[38;5;124m\"\u001b[39m]\n\u001b[1;32m----> 3\u001b[0m x\u001b[38;5;241m=\u001b[39m\u001b[43mcolor_set\u001b[49m\u001b[38;5;241;43m.\u001b[39;49m\u001b[43minsert\u001b[49m(maining_colors)\n\u001b[0;32m      4\u001b[0m \u001b[38;5;28mprint\u001b[39m(x)\n",
      "\u001b[1;31mAttributeError\u001b[0m: 'set' object has no attribute 'insert'"
     ]
    }
   ],
   "source": [
    "color_set={\"violet\",\"indigo\",\"blue\",\"green\",\"yellow\"}\n",
    "maining_colors=[\"indig0\",\"orange\",\"red\"]\n",
    "x=color_set.insert(maining_colors)\n",
    "print(x)"
   ]
  },
  {
   "cell_type": "code",
   "execution_count": 15,
   "id": "8ccc43f7",
   "metadata": {},
   "outputs": [
    {
     "ename": "AttributeError",
     "evalue": "'set' object has no attribute 'extend'",
     "output_type": "error",
     "traceback": [
      "\u001b[1;31m---------------------------------------------------------------------------\u001b[0m",
      "\u001b[1;31mAttributeError\u001b[0m                            Traceback (most recent call last)",
      "Cell \u001b[1;32mIn[15], line 3\u001b[0m\n\u001b[0;32m      1\u001b[0m color_set\u001b[38;5;241m=\u001b[39m{\u001b[38;5;124m\"\u001b[39m\u001b[38;5;124mviolet\u001b[39m\u001b[38;5;124m\"\u001b[39m,\u001b[38;5;124m\"\u001b[39m\u001b[38;5;124mindigo\u001b[39m\u001b[38;5;124m\"\u001b[39m,\u001b[38;5;124m\"\u001b[39m\u001b[38;5;124mblue\u001b[39m\u001b[38;5;124m\"\u001b[39m,\u001b[38;5;124m\"\u001b[39m\u001b[38;5;124mgreen\u001b[39m\u001b[38;5;124m\"\u001b[39m,\u001b[38;5;124m\"\u001b[39m\u001b[38;5;124myellow\u001b[39m\u001b[38;5;124m\"\u001b[39m}\n\u001b[0;32m      2\u001b[0m maining_colors\u001b[38;5;241m=\u001b[39m[\u001b[38;5;124m\"\u001b[39m\u001b[38;5;124mindig0\u001b[39m\u001b[38;5;124m\"\u001b[39m,\u001b[38;5;124m\"\u001b[39m\u001b[38;5;124morange\u001b[39m\u001b[38;5;124m\"\u001b[39m,\u001b[38;5;124m\"\u001b[39m\u001b[38;5;124mred\u001b[39m\u001b[38;5;124m\"\u001b[39m]\n\u001b[1;32m----> 3\u001b[0m x\u001b[38;5;241m=\u001b[39m\u001b[43mcolor_set\u001b[49m\u001b[38;5;241;43m.\u001b[39;49m\u001b[43mextend\u001b[49m(maining_colors)\n\u001b[0;32m      4\u001b[0m \u001b[38;5;28mprint\u001b[39m(x)\n",
      "\u001b[1;31mAttributeError\u001b[0m: 'set' object has no attribute 'extend'"
     ]
    }
   ],
   "source": [
    "color_set={\"violet\",\"indigo\",\"blue\",\"green\",\"yellow\"}     # set don't add list becuase set is a immutable \n",
    "maining_colors=[\"indig0\",\"orange\",\"red\"]\n",
    "x=color_set.extend(maining_colors)\n",
    "print(x)"
   ]
  },
  {
   "cell_type": "code",
   "execution_count": 47,
   "id": "d12d8e73",
   "metadata": {},
   "outputs": [
    {
     "name": "stdout",
     "output_type": "stream",
     "text": [
      "1821372695712\n",
      "{'harley', 'R15', 'Himalaya', 'splendor', 'Ns200', 'Apache160', 'Bullet', 'Avenger'}\n"
     ]
    }
   ],
   "source": [
    "bike_set1={\"Ns200\",\"Avenger\",\"Bullet\",\"R15\",\"Apache160\",\"splendor\"}\n",
    "print(id(bike_set1))\n",
    "bike_set2={\"Avenger\",\"harley\",\"Himalaya\"}\n",
    "x=bike_set1.union(bike_set2)\n",
    "print(x)"
   ]
  },
  {
   "cell_type": "markdown",
   "id": "866facca",
   "metadata": {},
   "source": [
    "# Intersection of sets =use to find the common object in both the list. \n",
    "and make a new list and id \n",
    "will be change"
   ]
  },
  {
   "cell_type": "code",
   "execution_count": 14,
   "id": "b72ad67e",
   "metadata": {},
   "outputs": [
    {
     "data": {
      "text/plain": [
       "{'Avenger'}"
      ]
     },
     "execution_count": 14,
     "metadata": {},
     "output_type": "execute_result"
    }
   ],
   "source": [
    "bike_set1={\"Ns200\",\"Avenger\",\"Bullet\",\"R15\",\"Apache160\",\"splendor\"}\n",
    "bike_set2={\"Avenger\",\"harley\",\"Himalaya\"}\n",
    "bike_set1.intersection(bike_set2)\n"
   ]
  },
  {
   "cell_type": "markdown",
   "id": "deb6a359",
   "metadata": {},
   "source": [
    "# Intersection update-\n",
    "\n",
    "is used to update the original set not change the set .and id will remain same ."
   ]
  },
  {
   "cell_type": "code",
   "execution_count": 43,
   "id": "d4bbec7f",
   "metadata": {},
   "outputs": [
    {
     "name": "stdout",
     "output_type": "stream",
     "text": [
      "{'indigo'}\n",
      "1821372699968\n"
     ]
    }
   ],
   "source": [
    "color_set={\"violet\",\"indigo\",\"blue\",\"green\",\"yellow\"}\n",
    "remaining_colors={\"indigo\",\"orange\",\"red\"}\n",
    "new_set=color_set.intersection(remaining_colors)\n",
    "print(new_set)\n",
    "print(id(color_set))\n"
   ]
  },
  {
   "cell_type": "code",
   "execution_count": 11,
   "id": "886f23f1",
   "metadata": {},
   "outputs": [
    {
     "name": "stdout",
     "output_type": "stream",
     "text": [
      "1757291973312\n",
      "{'indigo'}\n",
      "1757291973312\n"
     ]
    }
   ],
   "source": [
    "color_set={\"violet\",\"indigo\",\"blue\",\"green\",\"yellow\"}\n",
    "print(id(color_set))\n",
    "\n",
    "remaining_colors={\"indigo\",\"orange\",\"red\"}\n",
    "color_set.intersection_update(remaining_colors)\n",
    "print(color_set)\n",
    "print(id(color_set))\n"
   ]
  },
  {
   "cell_type": "code",
   "execution_count": 23,
   "id": "25de6bc8",
   "metadata": {},
   "outputs": [
    {
     "name": "stdout",
     "output_type": "stream",
     "text": [
      "2445487658304\n",
      "{'indigo'}\n"
     ]
    }
   ],
   "source": [
    "color_set={\"violet\",\"indigo\",\"blue\",\"green\",\"yellow\"}\n",
    "print(id(color_set))\n",
    "remaining_colors={\"indigo\",\"orange\",\"red\"}\n",
    "color_set.intersection(remaining_colors)\n",
    "print()"
   ]
  },
  {
   "cell_type": "code",
   "execution_count": 26,
   "id": "2d045cea",
   "metadata": {},
   "outputs": [
    {
     "name": "stdout",
     "output_type": "stream",
     "text": [
      "2445487659200\n",
      "{'indigo'}\n"
     ]
    }
   ],
   "source": [
    "color_set={\"violet\",\"indigo\",\"blue\",\"green\",\"yellow\"}\n",
    "print(id(color_set))\n",
    "remaining_colors={\"indigo\",\"orange\",\"red\"}\n",
    "color_set.intersection_update(remaining_colors)\n",
    "print(color_set)"
   ]
  },
  {
   "cell_type": "code",
   "execution_count": 28,
   "id": "71682d7e",
   "metadata": {},
   "outputs": [
    {
     "name": "stdout",
     "output_type": "stream",
     "text": [
      "2445487655840\n",
      "{'indigo'}\n"
     ]
    }
   ],
   "source": [
    "color_set={\"violet\",\"indigo\",\"blue\",\"green\",\"yellow\"}\n",
    "print(id(color_set))\n",
    "remaining_colors={\"indigo\",\"orange\",\"red\"}\n",
    "color_set.intersection_update(remaining_colors)\n",
    "print(color_set)"
   ]
  },
  {
   "cell_type": "markdown",
   "id": "3bfea72c",
   "metadata": {},
   "source": [
    "# Difference b/w inersection()and intersection_update()\n",
    "\n",
    "1.Intersection of sets= make a new list and id will be change.\n",
    "\n",
    "2.intersection_update()=update and modify the original set not change the set .\n",
    " and id will remain same\n",
    "\n",
    " intersection()will not update the original set \n",
    "but intersection_update()will update the original set with only the commom elements.intersection()will have a return value which is the new set with commom element between two or more sets whereas intersection_update()will not have any return value .\n"
   ]
  },
  {
   "cell_type": "markdown",
   "id": "5768f75b",
   "metadata": {},
   "source": [
    "# Difference in sets=used to find difference object in two sets\n",
    "and id will be change.\n",
    "\n",
    ".difference()"
   ]
  },
  {
   "cell_type": "code",
   "execution_count": 11,
   "id": "d0fdd4ff",
   "metadata": {},
   "outputs": [
    {
     "name": "stdout",
     "output_type": "stream",
     "text": [
      "{1, 2, 3}\n"
     ]
    }
   ],
   "source": [
    "set_1={1,2,3,4,5}                #the output is 1,2,3 because 4,5 is also in set_2.\n",
    "set_2={4,5,6,7,8}\n",
    "x=set_1.difference(set_2)\n",
    "print(x)"
   ]
  },
  {
   "cell_type": "code",
   "execution_count": 14,
   "id": "aa972646",
   "metadata": {},
   "outputs": [
    {
     "name": "stdout",
     "output_type": "stream",
     "text": [
      "{1, 2, 3}\n"
     ]
    }
   ],
   "source": [
    "set_1={1,2,3,4,5}                #the output is 6,7,8 because 4,5 is already in set_1\n",
    "                                   # we are use difference to find the difference in both set.\n",
    "set_2={4,5,6,7,8}\n",
    "x=set_2.difference(set_1)\n",
    "print(x)"
   ]
  },
  {
   "cell_type": "code",
   "execution_count": 4,
   "id": "02f92460",
   "metadata": {},
   "outputs": [
    {
     "name": "stdout",
     "output_type": "stream",
     "text": [
      "2327112181888\n",
      "{'blue', 'violet', 'yellow', 'green'}\n",
      "2327112181888\n"
     ]
    }
   ],
   "source": [
    "color_set={\"violet\",\"indigo\",\"blue\",\"green\",\"yellow\"}\n",
    "print(id(color_set))\n",
    "remaining_colors={\"indigo\",\"orange\",\"red\"}\n",
    "print(color_set.difference(remaining_colors))\n",
    "print(id(color_set))\n"
   ]
  },
  {
   "cell_type": "code",
   "execution_count": 5,
   "id": "730a4c38",
   "metadata": {},
   "outputs": [
    {
     "name": "stdout",
     "output_type": "stream",
     "text": [
      "{'Avenger', 'R15', 'Apache160', 'Bullet'}\n"
     ]
    }
   ],
   "source": [
    "bike_set={\"Ns200\",\"Avenger\",\"Bullet\",\"R15\",\"Apache160\",\"splendor\"} \n",
    "new_set={\"Ns200\",\"Ducati\",\"splendor\",\"BMW\"}\n",
    "x=bike_set.difference(new_set)"
   ]
  },
  {
   "cell_type": "code",
   "execution_count": 9,
   "id": "df0be982",
   "metadata": {},
   "outputs": [
    {
     "name": "stdout",
     "output_type": "stream",
     "text": [
      "{'Ducati', 'BMW'}\n"
     ]
    }
   ],
   "source": [
    "bike_set={\"Ns200\",\"Avenger\",\"Bullet\",\"R15\",\"Apache160\",\"splendor\"} \n",
    "new_set={\"Ns200\",\"Ducati\",\"splendor\",\"BMW\"}\n",
    "x=new_set.difference(bike_set)\n",
    "print(x)"
   ]
  },
  {
   "cell_type": "code",
   "execution_count": 2,
   "id": "843edd39",
   "metadata": {},
   "outputs": [
    {
     "name": "stdout",
     "output_type": "stream",
     "text": [
      "1197734422208\n",
      "{'yellow', 'blue', 'violet', 'green'}\n",
      "1197734422208\n"
     ]
    }
   ],
   "source": [
    "color_set={\"violet\",\"indigo\",\"blue\",\"green\",\"yellow\"}\n",
    "print(id(color_set))\n",
    "\n",
    "remaining_colors={\"indigo\",\"orange\",\"red\"}\n",
    "print(color_set.difference(remaining_colors))\n",
    "print(id(color_set))\n"
   ]
  },
  {
   "cell_type": "markdown",
   "id": "a2d74d43",
   "metadata": {},
   "source": [
    "# Difference update-is also used to find the unique object\n",
    "# in the list.\n"
   ]
  },
  {
   "cell_type": "code",
   "execution_count": 17,
   "id": "020a64eb",
   "metadata": {},
   "outputs": [
    {
     "name": "stdout",
     "output_type": "stream",
     "text": [
      "2327112184576\n",
      "2327112184576\n",
      "{1, 2, 3}\n"
     ]
    }
   ],
   "source": [
    "set_1={1,2,3,4,5}\n",
    "print(id(set_1))\n",
    "set_2={4,5,6,7,8}\n",
    "set_1.difference_update(set_2)\n",
    "print(id(set_1))\n",
    "print(set_1)"
   ]
  },
  {
   "cell_type": "code",
   "execution_count": 15,
   "id": "a8f15c75",
   "metadata": {},
   "outputs": [
    {
     "name": "stdout",
     "output_type": "stream",
     "text": [
      "2327112184128\n",
      "{'green', 'violet', 'yellow', 'blue'}\n",
      "2327112184128\n"
     ]
    }
   ],
   "source": [
    "color_set={\"violet\",\"indigo\",\"blue\",\"green\",\"yellow\"}\n",
    "print(id(color_set))\n",
    "remaining_colors={\"indigo\",\"orange\",\"red\"}\n",
    "color_set.difference_update(remaining_colors)\n",
    "print(color_set)\n",
    "print(id(color_set))"
   ]
  },
  {
   "cell_type": "code",
   "execution_count": 8,
   "id": "a92c9481",
   "metadata": {},
   "outputs": [
    {
     "name": "stdout",
     "output_type": "stream",
     "text": [
      "1197734421984\n",
      "None\n",
      "1197734421984\n"
     ]
    }
   ],
   "source": [
    "color_set={\"violet\",\"indigo\",\"blue\",\"green\",\"yellow\"}\n",
    "print(id(color_set))\n",
    "remaining_colors={\"indigo\",\"orange\",\"red\"}\n",
    "color_set.difference_update(remaining_colors)\n",
    "print(x)\n",
    "print(id(color_set))"
   ]
  },
  {
   "cell_type": "code",
   "execution_count": null,
   "id": "adc3f2cf",
   "metadata": {},
   "outputs": [],
   "source": [
    "bike_set={\"ns200\",\"rs200\",}"
   ]
  },
  {
   "cell_type": "markdown",
   "id": "1af750f6",
   "metadata": {},
   "source": [
    "# symmetric difference of Sets-\n",
    "The symmetric difference operation returns the elements that are unique in both sets.this operation is done by using .and id will be change.\n",
    "symmetric_difference()method. "
   ]
  },
  {
   "cell_type": "code",
   "execution_count": 22,
   "id": "5cdaf39a",
   "metadata": {},
   "outputs": [
    {
     "name": "stdout",
     "output_type": "stream",
     "text": [
      "2327112181440\n",
      "{1, 2, 3, 6, 7, 8}\n",
      "2327112182112\n"
     ]
    }
   ],
   "source": [
    "set_1={1,2,3,4,5}\n",
    "print(id(set_1))\n",
    "set_2={4,5,6,7,8}\n",
    "x=set_1.symmetric_difference(set_2)\n",
    "print(x)\n",
    "print(id(x))"
   ]
  },
  {
   "cell_type": "code",
   "execution_count": 21,
   "id": "128688d5",
   "metadata": {},
   "outputs": [
    {
     "name": "stdout",
     "output_type": "stream",
     "text": [
      "{'red', 'green', 'yellow', 'orange', 'violet', 'blue'}\n"
     ]
    }
   ],
   "source": [
    "color_set={\"violet\",\"indigo\",\"blue\",\"green\",\"yellow\"}\n",
    "remaining_colors={\"indigo\",\"orange\",\"red\"}\n",
    "x=color_set.symmetric_difference(remaining_colors)\n",
    "print(x)"
   ]
  },
  {
   "cell_type": "markdown",
   "id": "7692e305",
   "metadata": {},
   "source": [
    "# symmetric difference update = symmetric_difference_update"
   ]
  },
  {
   "cell_type": "code",
   "execution_count": 17,
   "id": "d15b3332",
   "metadata": {},
   "outputs": [
    {
     "name": "stdout",
     "output_type": "stream",
     "text": [
      "{'r15', 'BMW', 'avengers', 'Ducati', 'ns200'}\n"
     ]
    }
   ],
   "source": [
    "bike_set={\"ns200\",\"Harley\",\"r15\",\"bullet\",\"avengers\"}\n",
    "new_bike={\"Harley\",\"Ducati\",\"BMW\",\"bullet\"}\n",
    "bike_set.symmetric_difference_update(new_bike)\n",
    "print(bike_set)"
   ]
  },
  {
   "cell_type": "markdown",
   "id": "9e614b5b",
   "metadata": {},
   "source": [
    "# issubset and issuperset"
   ]
  },
  {
   "cell_type": "markdown",
   "id": "d96c485f",
   "metadata": {},
   "source": [
    "In python we can find whether a set is  a subset or superset of another set.we need to use the set methods issubset()and \n",
    "issuperset\n",
    "- "
   ]
  },
  {
   "cell_type": "code",
   "execution_count": 18,
   "id": "1c457c40",
   "metadata": {},
   "outputs": [
    {
     "data": {
      "text/plain": [
       "True"
      ]
     },
     "execution_count": 18,
     "metadata": {},
     "output_type": "execute_result"
    }
   ],
   "source": [
    "bike_set={\"ns200\",\"Harley\",\"r15\",\"bullet\",\"avengers\",}\n",
    "new_bike={\"Harley\",\"bullet\"}\n",
    "bike_set.issuperset(new_bike)\n"
   ]
  },
  {
   "cell_type": "code",
   "execution_count": 19,
   "id": "7446b43b",
   "metadata": {},
   "outputs": [
    {
     "data": {
      "text/plain": [
       "False"
      ]
     },
     "execution_count": 19,
     "metadata": {},
     "output_type": "execute_result"
    }
   ],
   "source": [
    "bike_set={\"ns200\",\"Harley\",\"r15\",\"bullet\",\"avengers\",}\n",
    "new_bike={\"Harley\",\"bullet\"}\n",
    "new_bike.issuperset(bike_set)\n"
   ]
  },
  {
   "cell_type": "code",
   "execution_count": 14,
   "id": "add7a10f",
   "metadata": {},
   "outputs": [
    {
     "data": {
      "text/plain": [
       "False"
      ]
     },
     "execution_count": 14,
     "metadata": {},
     "output_type": "execute_result"
    }
   ],
   "source": [
    "bike_set={\"ns200\",\"Harley\",\"r15\",\"bullet\",\"avengers\"}\n",
    "new_bike={\"Harley\",\"Ducati\",\"BMW\",\"bullet\"}\n",
    "bike_set.issubset(new_bike)\n"
   ]
  },
  {
   "cell_type": "code",
   "execution_count": 27,
   "id": "05511c28",
   "metadata": {},
   "outputs": [
    {
     "ename": "AttributeError",
     "evalue": "'set' object has no attribute 'superset'",
     "output_type": "error",
     "traceback": [
      "\u001b[1;31m---------------------------------------------------------------------------\u001b[0m",
      "\u001b[1;31mAttributeError\u001b[0m                            Traceback (most recent call last)",
      "Cell \u001b[1;32mIn[27], line 3\u001b[0m\n\u001b[0;32m      1\u001b[0m bike_set\u001b[38;5;241m=\u001b[39m{\u001b[38;5;124m\"\u001b[39m\u001b[38;5;124mns200\u001b[39m\u001b[38;5;124m\"\u001b[39m,\u001b[38;5;124m\"\u001b[39m\u001b[38;5;124mHarley\u001b[39m\u001b[38;5;124m\"\u001b[39m,\u001b[38;5;124m\"\u001b[39m\u001b[38;5;124mr15\u001b[39m\u001b[38;5;124m\"\u001b[39m,\u001b[38;5;124m\"\u001b[39m\u001b[38;5;124mbullet\u001b[39m\u001b[38;5;124m\"\u001b[39m,\u001b[38;5;124m\"\u001b[39m\u001b[38;5;124mavengers\u001b[39m\u001b[38;5;124m\"\u001b[39m}\n\u001b[0;32m      2\u001b[0m new_bike\u001b[38;5;241m=\u001b[39m{\u001b[38;5;124m\"\u001b[39m\u001b[38;5;124mHarley\u001b[39m\u001b[38;5;124m\"\u001b[39m,\u001b[38;5;124m\"\u001b[39m\u001b[38;5;124mDucati\u001b[39m\u001b[38;5;124m\"\u001b[39m,\u001b[38;5;124m\"\u001b[39m\u001b[38;5;124mBMW\u001b[39m\u001b[38;5;124m\"\u001b[39m,\u001b[38;5;124m\"\u001b[39m\u001b[38;5;124mbullet\u001b[39m\u001b[38;5;124m\"\u001b[39m}\n\u001b[1;32m----> 3\u001b[0m \u001b[43mbike_set\u001b[49m\u001b[38;5;241;43m.\u001b[39;49m\u001b[43msuperset\u001b[49m(new_bike)\n\u001b[0;32m      4\u001b[0m \u001b[38;5;28mprint\u001b[39m(bike_set)\n",
      "\u001b[1;31mAttributeError\u001b[0m: 'set' object has no attribute 'superset'"
     ]
    }
   ],
   "source": [
    "bike_set={\"ns200\",\"Harley\",\"r15\",\"bullet\",\"avengers\"}\n",
    "new_bike={\"Harley\",\"Ducati\",\"BMW\",\"bullet\"}\n",
    "bike_set.superset(new_bike)\n",
    "print(bike_set)"
   ]
  },
  {
   "cell_type": "code",
   "execution_count": 29,
   "id": "b0be9ee2",
   "metadata": {},
   "outputs": [
    {
     "ename": "AttributeError",
     "evalue": "'set' object has no attribute 'superset'",
     "output_type": "error",
     "traceback": [
      "\u001b[1;31m---------------------------------------------------------------------------\u001b[0m",
      "\u001b[1;31mAttributeError\u001b[0m                            Traceback (most recent call last)",
      "Cell \u001b[1;32mIn[29], line 3\u001b[0m\n\u001b[0;32m      1\u001b[0m color_set\u001b[38;5;241m=\u001b[39m{\u001b[38;5;124m\"\u001b[39m\u001b[38;5;124mviolet\u001b[39m\u001b[38;5;124m\"\u001b[39m,\u001b[38;5;124m\"\u001b[39m\u001b[38;5;124mindigo\u001b[39m\u001b[38;5;124m\"\u001b[39m,\u001b[38;5;124m\"\u001b[39m\u001b[38;5;124mblue\u001b[39m\u001b[38;5;124m\"\u001b[39m,\u001b[38;5;124m\"\u001b[39m\u001b[38;5;124mgreen\u001b[39m\u001b[38;5;124m\"\u001b[39m,\u001b[38;5;124m\"\u001b[39m\u001b[38;5;124myellow\u001b[39m\u001b[38;5;124m\"\u001b[39m}\n\u001b[0;32m      2\u001b[0m remaining_colors\u001b[38;5;241m=\u001b[39m{\u001b[38;5;124m\"\u001b[39m\u001b[38;5;124mindigo\u001b[39m\u001b[38;5;124m\"\u001b[39m,\u001b[38;5;124m\"\u001b[39m\u001b[38;5;124morange\u001b[39m\u001b[38;5;124m\"\u001b[39m,\u001b[38;5;124m\"\u001b[39m\u001b[38;5;124mred\u001b[39m\u001b[38;5;124m\"\u001b[39m}\n\u001b[1;32m----> 3\u001b[0m \u001b[43mcolor_set\u001b[49m\u001b[38;5;241;43m.\u001b[39;49m\u001b[43msuperset\u001b[49m()\n\u001b[0;32m      4\u001b[0m \u001b[38;5;28mprint\u001b[39m(color\u001b[38;5;241m.\u001b[39mset)\n",
      "\u001b[1;31mAttributeError\u001b[0m: 'set' object has no attribute 'superset'"
     ]
    }
   ],
   "source": [
    "color_set={\"violet\",\"indigo\",\"blue\",\"green\",\"yellow\"}\n",
    "remaining_colors={\"indigo\",\"orange\",\"red\"}\n",
    "color_set.superset()\n",
    "print(color.set)"
   ]
  },
  {
   "cell_type": "markdown",
   "id": "10c7f691",
   "metadata": {},
   "source": [
    "# Sort the set -\n",
    "\n",
    "A set is an unordered collection of data items ,so there is no point in sorting it.If you still want to sort it using the \n",
    "sorted()method but this method will return th list.\n",
    "the sorted()function is used to sort the list "
   ]
  },
  {
   "cell_type": "code",
   "execution_count": 49,
   "id": "b66d6673",
   "metadata": {},
   "outputs": [
    {
     "name": "stdout",
     "output_type": "stream",
     "text": [
      "[20, 45, 55, 67, 100]\n",
      "<class 'list'>\n"
     ]
    }
   ],
   "source": [
    "set1={20,45,67,100,55}\n",
    "sorted_list=list(sorted(set1))\n",
    "print(sorted_list)\n",
    "\n",
    "print(type(sorted_list))"
   ]
  },
  {
   "cell_type": "code",
   "execution_count": 26,
   "id": "74c8ff0f",
   "metadata": {},
   "outputs": [
    {
     "name": "stdout",
     "output_type": "stream",
     "text": [
      "{67, 100, 45, 20, 55}\n"
     ]
    }
   ],
   "source": [
    "list1=[20, 45, 55, 67, 100]\n",
    "sorted_set=set(sorted(list1))\n",
    "print(sorted_set)"
   ]
  },
  {
   "cell_type": "code",
   "execution_count": 24,
   "id": "cc528b21",
   "metadata": {},
   "outputs": [
    {
     "name": "stdout",
     "output_type": "stream",
     "text": [
      "2327112183008\n",
      "['Apache160', 'Avenger', 'Bullet', 'Ns200', 'R15', 'splendor']\n",
      "2327113515712\n"
     ]
    }
   ],
   "source": [
    "bike_set={\"Ns200\",\"Avenger\",\"Bullet\",\"R15\",\"Apache160\",\"splendor\"} \n",
    "print(id(bike_set))\n",
    "sorted_list=list(sorted(bike_set))\n",
    "\n",
    "print(sorted_list)\n",
    "print(id(sorted_list))"
   ]
  },
  {
   "cell_type": "markdown",
   "id": "822b299d",
   "metadata": {},
   "source": [
    "# Frozen set - a frozen set  is a immutable set . and unordered of immutable unique items.\n",
    "\n",
    "we can create a frozen set using the frozenset()function, which takes a single iterable object as a peremetr."
   ]
  },
  {
   "cell_type": "code",
   "execution_count": 1,
   "id": "2f611330",
   "metadata": {},
   "outputs": [
    {
     "name": "stdout",
     "output_type": "stream",
     "text": [
      "frozenset({'splendor', 'Avenger', 'Bullet', 'R15', 'Apache160', 'Ns200'})\n"
     ]
    }
   ],
   "source": [
    "bike_set={\"Ns200\",\"Avenger\",\"Bullet\",\"R15\",\"Apache160\",\"splendor\"} \n",
    "f_set=frozenset(bike_set)\n",
    "print(f_set)"
   ]
  },
  {
   "cell_type": "code",
   "execution_count": 29,
   "id": "8932aada",
   "metadata": {},
   "outputs": [
    {
     "name": "stdout",
     "output_type": "stream",
     "text": [
      "frozenset({'indigo', 'blue', 'yellow', 'green', 'violent', 'red', 'orange'})\n",
      "<class 'frozenset'>\n"
     ]
    }
   ],
   "source": [
    "rainbow={'violent','indigo','blue','green','yellow','orange','red'}  # covert list mutable to immutable\n",
    "f_set=frozenset(rainbow) \n",
    "print(f_set)\n",
    "print(type(f_set))"
   ]
  },
  {
   "cell_type": "code",
   "execution_count": 33,
   "id": "f2dbaf12",
   "metadata": {},
   "outputs": [
    {
     "name": "stdout",
     "output_type": "stream",
     "text": [
      "frozenset({'indigo', 'blue', 'yellow', 'green', 'violent', 'red', 'orange'})\n",
      "<class 'list'>\n"
     ]
    }
   ],
   "source": [
    "my_list=[45,55,100,55]\n",
    "my_list.extend(f_set)\n",
    "print(f_set)\n",
    "print(type(my_list))"
   ]
  },
  {
   "cell_type": "code",
   "execution_count": 23,
   "id": "e0d91d55",
   "metadata": {},
   "outputs": [
    {
     "ename": "AttributeError",
     "evalue": "type object 'frozenset' has no attribute 'add'",
     "output_type": "error",
     "traceback": [
      "\u001b[1;31m---------------------------------------------------------------------------\u001b[0m",
      "\u001b[1;31mAttributeError\u001b[0m                            Traceback (most recent call last)",
      "Cell \u001b[1;32mIn[23], line 1\u001b[0m\n\u001b[1;32m----> 1\u001b[0m \u001b[38;5;28;43mfrozenset\u001b[39;49m\u001b[38;5;241;43m.\u001b[39;49m\u001b[43madd\u001b[49m(\u001b[38;5;124m\"\u001b[39m\u001b[38;5;124mraj\u001b[39m\u001b[38;5;124m\"\u001b[39m)\n\u001b[0;32m      2\u001b[0m \u001b[38;5;28mprint\u001b[39m(\u001b[38;5;28mfrozenset\u001b[39m)\n",
      "\u001b[1;31mAttributeError\u001b[0m: type object 'frozenset' has no attribute 'add'"
     ]
    }
   ],
   "source": [
    "frozenset.add(\"raj\")\n",
    "print(frozenset)"
   ]
  },
  {
   "cell_type": "code",
   "execution_count": 3,
   "id": "b896a5c6",
   "metadata": {},
   "outputs": [
    {
     "name": "stdout",
     "output_type": "stream",
     "text": [
      "['raj', 45, 'yash', 3, frozenset({'splendor', 'Avenger', 'Bullet', 'R15', 'Apache160', 'Ns200'})]\n",
      "<class 'list'>\n"
     ]
    }
   ],
   "source": [
    "x=[\"raj\",45,\"yash\",3] \n",
    "x.append(f_set)\n",
    "print(x)\n",
    "print(type(x))"
   ]
  },
  {
   "cell_type": "code",
   "execution_count": null,
   "id": "44dff3ce",
   "metadata": {},
   "outputs": [],
   "source": [
    "f_set"
   ]
  },
  {
   "cell_type": "code",
   "execution_count": 33,
   "id": "91f791e4",
   "metadata": {},
   "outputs": [
    {
     "name": "stdout",
     "output_type": "stream",
     "text": [
      "['raj', 45, 'yash', 3]\n"
     ]
    },
    {
     "data": {
      "text/plain": [
       "list"
      ]
     },
     "execution_count": 33,
     "metadata": {},
     "output_type": "execute_result"
    }
   ],
   "source": [
    "x=[\"raj\",45,\"yash\",3]  # use to add list into list.\n",
    "\n",
    "print(x)\n",
    "type(x)"
   ]
  },
  {
   "cell_type": "code",
   "execution_count": 34,
   "id": "86370819",
   "metadata": {},
   "outputs": [
    {
     "name": "stdout",
     "output_type": "stream",
     "text": [
      "2327142272352\n",
      "frozenset({'Avenger', 'R15', 'Bullet', 'splendor', 'Ns200', 'Apache160'})\n",
      "2327142272800\n",
      "<class 'frozenset'>\n"
     ]
    }
   ],
   "source": [
    "bike_set={\"Ns200\",\"Avenger\",\"Bullet\",\"R15\",\"Apache160\",\"splendor\"}\n",
    "print(id(bike_set))\n",
    "f_set=frozenset(bike_set)\n",
    "print(f_set)\n",
    "print(id(f_set))\n",
    "print(type(f_set))"
   ]
  },
  {
   "cell_type": "code",
   "execution_count": null,
   "id": "87b24626",
   "metadata": {},
   "outputs": [],
   "source": [
    "f_set.extend"
   ]
  },
  {
   "cell_type": "markdown",
   "id": "f15a20a0",
   "metadata": {},
   "source": [
    "# Nested set=In case we try to add another set an element  to a set then we get \n",
    "the 'type Error':unhashable type:'set'.This is because a set is not hashable\n",
    "        "
   ]
  },
  {
   "cell_type": "code",
   "execution_count": 4,
   "id": "9884203b",
   "metadata": {},
   "outputs": [
    {
     "name": "stdout",
     "output_type": "stream",
     "text": [
      "{frozenset({'black', 'pink', 'white'}), frozenset({'orange', 'red', 'green', 'yellow', 'blue', 'indigo', 'violet'})}\n",
      "<class 'set'>\n"
     ]
    }
   ],
   "source": [
    "rainbow={'violet','indigo','blue','green','yellow','orange','red'}\n",
    "other_colors=['white','black','pink']\n",
    "nested_set=set ((frozenset(rainbow),frozenset(other_colors)))\n",
    "print(nested_set)\n",
    "print(type(nested_set))"
   ]
  },
  {
   "cell_type": "code",
   "execution_count": 10,
   "id": "4e1b0aa8",
   "metadata": {},
   "outputs": [
    {
     "name": "stdout",
     "output_type": "stream",
     "text": [
      "{frozenset({'white', 'pink', 'black'}), 'raj', frozenset({'violet', 'indigo', 'blue', 'yellow', 'green', 'red', 'orange'})}\n"
     ]
    }
   ],
   "source": [
    "nested_set.add(\"raj\")\n",
    "print(nested_set)"
   ]
  },
  {
   "cell_type": "code",
   "execution_count": 20,
   "id": "0117b1fa",
   "metadata": {},
   "outputs": [
    {
     "name": "stdout",
     "output_type": "stream",
     "text": [
      "[frozenset({'splendor', 'Avenger', 'Bullet', 'R15', 'Apache160', 'Ns200'}), frozenset({'Ns200', 'ducati', 'Harley', 'BMW'})]\n",
      "<class 'list'>\n"
     ]
    }
   ],
   "source": [
    "bike_set={\"Ns200\",\"Avenger\",\"Bullet\",\"R15\",\"Apache160\",\"splendor\"}\n",
    "new_bike=[\"Harley\",\"ducati\",\"BMW\",\"Ns200\"]\n",
    "nested_set=list((frozenset(bike_set),frozenset(new_bike)))\n",
    "print(nested_set)\n",
    "print(type(nested_set))"
   ]
  },
  {
   "cell_type": "code",
   "execution_count": 18,
   "id": "026b0b07",
   "metadata": {},
   "outputs": [
    {
     "name": "stdout",
     "output_type": "stream",
     "text": [
      "[frozenset({'splendor', 'Avenger', 'Bullet', 'R15', 'Apache160', 'Ns200'}), frozenset({'Ns200', 'ducati', 'Harley', 'BMW'}), 'raj arya', ['raj arya'], ['raj arya']]\n"
     ]
    }
   ],
   "source": [
    "nested_set.append([\"raj arya\"])\n",
    "print(nested_set)"
   ]
  },
  {
   "cell_type": "markdown",
   "id": "623cd675",
   "metadata": {},
   "source": [
    "# revision"
   ]
  },
  {
   "cell_type": "code",
   "execution_count": 23,
   "id": "6dd4f9e9",
   "metadata": {},
   "outputs": [
    {
     "ename": "SyntaxError",
     "evalue": "invalid syntax (1482205168.py, line 3)",
     "output_type": "error",
     "traceback": [
      "\u001b[1;36m  Cell \u001b[1;32mIn[23], line 3\u001b[1;36m\u001b[0m\n\u001b[1;33m    bike_set add(new_bike)\u001b[0m\n\u001b[1;37m             ^\u001b[0m\n\u001b[1;31mSyntaxError\u001b[0m\u001b[1;31m:\u001b[0m invalid syntax\n"
     ]
    }
   ],
   "source": [
    "bike_set={\"Ns200\",\"Avenger\",\"Bullet\",\"R15\",\"Apache160\",\"splendor\"}\n",
    "new_bike={\"Harley\",\"ducati\",\"BMW\",\"Ns200\"}\n",
    "bike_set add(new_bike)\n",
    "print(bike_set)"
   ]
  },
  {
   "cell_type": "code",
   "execution_count": 29,
   "id": "b48355a3",
   "metadata": {},
   "outputs": [
    {
     "name": "stdout",
     "output_type": "stream",
     "text": [
      "1266972988064\n",
      "{'splendor', 'Avenger', 'Bullet', 'R15', 'Apache160', 'harley', 'Ns200'}\n"
     ]
    }
   ],
   "source": [
    "bike_set={\"Ns200\",\"Avenger\",\"Bullet\",\"R15\",\"Apache160\",\"splendor\"}\n",
    "print(id(bike_set))\n",
    "bike_set.add(\"harley\")\n",
    "print(bike_set)"
   ]
  },
  {
   "cell_type": "code",
   "execution_count": 27,
   "id": "bcb5f5f2",
   "metadata": {},
   "outputs": [
    {
     "name": "stdout",
     "output_type": "stream",
     "text": [
      "1266972986944\n"
     ]
    }
   ],
   "source": [
    "print(id(bike_set))"
   ]
  },
  {
   "cell_type": "code",
   "execution_count": 33,
   "id": "7a154f16",
   "metadata": {},
   "outputs": [
    {
     "name": "stdout",
     "output_type": "stream",
     "text": [
      "1266972990528\n",
      "{'splendor', 'Avenger', 'Bullet', 'R15', 'Apache160', 'harley', 'Ns200', 'ducati'}\n"
     ]
    }
   ],
   "source": [
    "bike_set={\"Ns200\",\"Avenger\",\"Bullet\",\"R15\",\"Apache160\",\"splendor\"}\n",
    "print(id(bike_set))\n",
    "bike_set.update([\"harley\",\"ducati\"])\n",
    "print(bike_set)"
   ]
  },
  {
   "cell_type": "code",
   "execution_count": 34,
   "id": "ea3deae3",
   "metadata": {},
   "outputs": [
    {
     "name": "stdout",
     "output_type": "stream",
     "text": [
      "1266972990528\n"
     ]
    }
   ],
   "source": [
    "print(id(bike_set))"
   ]
  },
  {
   "cell_type": "code",
   "execution_count": 36,
   "id": "dc1e4d67",
   "metadata": {},
   "outputs": [
    {
     "name": "stdout",
     "output_type": "stream",
     "text": [
      "1266972989184\n",
      "{'splendor', 'Avenger', 'Bullet', 'R15', 'Apache160'}\n"
     ]
    }
   ],
   "source": [
    "bike_set={\"Ns200\",\"Avenger\",\"Bullet\",\"R15\",\"Apache160\",\"splendor\"}\n",
    "print(id(bike_set))\n",
    "bike_set.remove(\"Ns200\")\n",
    "print(bike_set)"
   ]
  },
  {
   "cell_type": "code",
   "execution_count": 37,
   "id": "cf7ca2fc",
   "metadata": {},
   "outputs": [
    {
     "name": "stdout",
     "output_type": "stream",
     "text": [
      "1266972989184\n"
     ]
    }
   ],
   "source": [
    "print(id(bike_set))"
   ]
  },
  {
   "cell_type": "code",
   "execution_count": 40,
   "id": "f69f1edf",
   "metadata": {},
   "outputs": [
    {
     "name": "stdout",
     "output_type": "stream",
     "text": [
      "{'splendor', 67, 'Apache160', 'Ns200', 45, 45.9, 'Bullet', 'R15'}\n"
     ]
    }
   ],
   "source": [
    "bike_set={\"Ns200\",\"Avenger\",\"Bullet\",\"R15\",\"Apache160\",\"splendor\",45,67,45.90}\n",
    "bike_set.discard(\"Avenger\")\n",
    "print(bike_set)"
   ]
  },
  {
   "cell_type": "code",
   "execution_count": 43,
   "id": "3de5c9ca",
   "metadata": {},
   "outputs": [
    {
     "name": "stdout",
     "output_type": "stream",
     "text": [
      "{67, 'Apache160', 'Ns200', 45, 45.9, 'Avenger', 'Bullet', 'R15'}\n"
     ]
    }
   ],
   "source": [
    "bike_set={\"Ns200\",\"Avenger\",\"Bullet\",\"R15\",\"Apache160\",\"splendor\",45,67,45.90}\n",
    "bike_set.pop()\n",
    "print(bike_set)"
   ]
  },
  {
   "cell_type": "code",
   "execution_count": 44,
   "id": "be90bbc4",
   "metadata": {},
   "outputs": [
    {
     "name": "stdout",
     "output_type": "stream",
     "text": [
      "set()\n"
     ]
    }
   ],
   "source": [
    "bike_set={\"Ns200\",\"Avenger\",\"Bullet\",\"R15\",\"Apache160\",\"splendor\",45,67,45.90}\n",
    "bike_set.clear()\n",
    "print(bike_set)"
   ]
  },
  {
   "cell_type": "code",
   "execution_count": 52,
   "id": "233a52c1",
   "metadata": {},
   "outputs": [],
   "source": [
    "bike_set={\"Ns200\",\"Avenger\",\"Bullet\",\"R15\",\"Apache160\",\"splendor\",45,67,45.90}\n",
    "del bike_set\n"
   ]
  },
  {
   "cell_type": "code",
   "execution_count": 53,
   "id": "ae48a61b",
   "metadata": {},
   "outputs": [
    {
     "ename": "NameError",
     "evalue": "name 'bike_set' is not defined",
     "output_type": "error",
     "traceback": [
      "\u001b[1;31m---------------------------------------------------------------------------\u001b[0m",
      "\u001b[1;31mNameError\u001b[0m                                 Traceback (most recent call last)",
      "Cell \u001b[1;32mIn[53], line 1\u001b[0m\n\u001b[1;32m----> 1\u001b[0m \u001b[38;5;28mprint\u001b[39m(\u001b[43mbike_set\u001b[49m)\n",
      "\u001b[1;31mNameError\u001b[0m: name 'bike_set' is not defined"
     ]
    }
   ],
   "source": [
    "print(bike_set)"
   ]
  },
  {
   "cell_type": "code",
   "execution_count": 58,
   "id": "ef6afd48",
   "metadata": {},
   "outputs": [
    {
     "name": "stdout",
     "output_type": "stream",
     "text": [
      "{'splendor', 67, 'kawasaki', 'Apache160', 'Ns200', 'ducati', 45, 45.9, 'Harley', 'Avenger', 'h2r', 'Bullet', 'R15', 'BMW'}\n"
     ]
    }
   ],
   "source": [
    "bike_set={\"Ns200\",\"Avenger\",\"Bullet\",\"R15\",\"Apache160\",\"splendor\",45,67,45.90}\n",
    "new_bike={\"Harley\",\"ducati\",\"BMW\",\"Ns200\"}\n",
    "s_bike={\"kawasaki\",\"ducati\",\"h2r\"}\n",
    "x=bike_set.union(new_bike,s_bike)\n",
    "print(x)"
   ]
  },
  {
   "cell_type": "code",
   "execution_count": 61,
   "id": "0328c7e6",
   "metadata": {},
   "outputs": [
    {
     "name": "stdout",
     "output_type": "stream",
     "text": [
      "{'Ns200'}\n"
     ]
    }
   ],
   "source": [
    "bike_set={\"Ns200\",\"Avenger\",\"Bullet\",\"R15\",\"Apache160\",\"splendor\",45,67,45.90}\n",
    "new_bike={\"Harley\",\"ducati\",\"BMW\",\"Ns200\"}\n",
    "s_bike={\"kawasaki\",\"ducati\",\"h2r\",\"Ns200\"}\n",
    "x=bike_set.intersection(new_bike,s_bike)\n",
    "print(x)"
   ]
  },
  {
   "cell_type": "code",
   "execution_count": 63,
   "id": "95016175",
   "metadata": {},
   "outputs": [
    {
     "name": "stdout",
     "output_type": "stream",
     "text": [
      "{'Ns200'}\n"
     ]
    }
   ],
   "source": [
    "bike_set={\"Ns200\",\"Avenger\",\"Bullet\",\"R15\",\"Apache160\",\"splendor\",45,67,45.90}\n",
    "new_bike={\"Harley\",\"ducati\",\"BMW\",\"Ns200\"}\n",
    "s_bike={\"kawasaki\",\"ducati\",\"h2r\",\"Ns200\"}\n",
    "bike_set.intersection_update(new_bike,s_bike)\n",
    "print(bike_set)"
   ]
  },
  {
   "cell_type": "code",
   "execution_count": 68,
   "id": "b05f6cbc",
   "metadata": {},
   "outputs": [
    {
     "name": "stdout",
     "output_type": "stream",
     "text": [
      "{'kawasaki', 'h2r'}\n"
     ]
    }
   ],
   "source": [
    "bike_set={\"Ns200\",\"Avenger\",\"Bullet\",\"R15\",\"Apache160\",\"splendor\",45,67,45.90}\n",
    "new_bike={\"Harley\",\"ducati\",\"BMW\",\"Ns200\"}\n",
    "s_bike={\"kawasaki\",\"ducati\",\"h2r\",\"Ns200\"}\n",
    "s_bike.difference_update(bike_set,new_bike)\n",
    "print(s_bike)"
   ]
  },
  {
   "cell_type": "code",
   "execution_count": 69,
   "id": "0e42aebf",
   "metadata": {},
   "outputs": [
    {
     "name": "stdout",
     "output_type": "stream",
     "text": [
      "{'kawasaki', 'h2r'}\n"
     ]
    }
   ],
   "source": [
    "bike_set={\"Ns200\",\"Avenger\",\"Bullet\",\"R15\",\"Apache160\",\"splendor\",45,67,45.90}\n",
    "new_bike={\"Harley\",\"ducati\",\"BMW\",\"Ns200\"}\n",
    "s_bike={\"kawasaki\",\"ducati\",\"h2r\",\"Ns200\"}\n",
    "x=s_bike.difference(bike_set,new_bike)\n",
    "print(x)"
   ]
  },
  {
   "cell_type": "code",
   "execution_count": 73,
   "id": "4f005c20",
   "metadata": {},
   "outputs": [
    {
     "ename": "AttributeError",
     "evalue": "'set' object has no attribute 'symmetric'",
     "output_type": "error",
     "traceback": [
      "\u001b[1;31m---------------------------------------------------------------------------\u001b[0m",
      "\u001b[1;31mAttributeError\u001b[0m                            Traceback (most recent call last)",
      "Cell \u001b[1;32mIn[73], line 4\u001b[0m\n\u001b[0;32m      2\u001b[0m new_bike\u001b[38;5;241m=\u001b[39m{\u001b[38;5;124m\"\u001b[39m\u001b[38;5;124mHarley\u001b[39m\u001b[38;5;124m\"\u001b[39m,\u001b[38;5;124m\"\u001b[39m\u001b[38;5;124mducati\u001b[39m\u001b[38;5;124m\"\u001b[39m,\u001b[38;5;124m\"\u001b[39m\u001b[38;5;124mBMW\u001b[39m\u001b[38;5;124m\"\u001b[39m,\u001b[38;5;124m\"\u001b[39m\u001b[38;5;124mNs200\u001b[39m\u001b[38;5;124m\"\u001b[39m}\n\u001b[0;32m      3\u001b[0m s_bike\u001b[38;5;241m=\u001b[39m{\u001b[38;5;124m\"\u001b[39m\u001b[38;5;124mkawasaki\u001b[39m\u001b[38;5;124m\"\u001b[39m,\u001b[38;5;124m\"\u001b[39m\u001b[38;5;124mducati\u001b[39m\u001b[38;5;124m\"\u001b[39m,\u001b[38;5;124m\"\u001b[39m\u001b[38;5;124mh2r\u001b[39m\u001b[38;5;124m\"\u001b[39m,\u001b[38;5;124m\"\u001b[39m\u001b[38;5;124mNs200\u001b[39m\u001b[38;5;124m\"\u001b[39m}\n\u001b[1;32m----> 4\u001b[0m \u001b[43mbike_set\u001b[49m\u001b[38;5;241;43m.\u001b[39;49m\u001b[43msymmetric\u001b[49m(new_bike)\n\u001b[0;32m      5\u001b[0m \u001b[38;5;28mprint\u001b[39m(bike_set)\n",
      "\u001b[1;31mAttributeError\u001b[0m: 'set' object has no attribute 'symmetric'"
     ]
    }
   ],
   "source": [
    "bike_set={\"Ns200\",\"Avenger\",\"Bullet\",\"R15\",\"Apache160\",\"splendor\",45,67,45.90}\n",
    "bike_set={\"Ns200\",\"Avenger\",\"Bullet\",\"R15\",\"Apache160\",\"splendor\",45,67,45.90}\n",
    "s_bike={\"kawasaki\",\"ducati\",\"h2r\",\"Ns200\"}\n",
    "bike_set.symmetric(new_bike)\n",
    "print(bike_set)"
   ]
  },
  {
   "cell_type": "code",
   "execution_count": 1,
   "id": "787d89b5",
   "metadata": {},
   "outputs": [
    {
     "name": "stdout",
     "output_type": "stream",
     "text": [
      "<class 'set'>\n"
     ]
    }
   ],
   "source": [
    "my_set={1,4,2,6,7,8}\n",
    "print(type(my_set))"
   ]
  },
  {
   "cell_type": "code",
   "execution_count": 14,
   "id": "61bf4eac",
   "metadata": {},
   "outputs": [
    {
     "name": "stdout",
     "output_type": "stream",
     "text": [
      "['Apache160', 67, 'R15', 'Avenger', 45, 45.9, 'Ns200', 'Bullet', 'splendor']\n",
      "<class 'list'>\n"
     ]
    }
   ],
   "source": [
    "bike_set={\"Ns200\",\"Avenger\",\"Bullet\",\"R15\",\"Apache160\",\"splendor\",45,67,45.90}\n",
    "new_bike=[\"Harley\",\"ducati\",\"BMW\",\"Ns200\"]\n",
    "nested_set=list(frozenset(bike_set))\n",
    "print(nested_set)\n",
    "print(type(nested_set))\n"
   ]
  },
  {
   "cell_type": "code",
   "execution_count": 13,
   "id": "99f7424c",
   "metadata": {},
   "outputs": [
    {
     "name": "stdout",
     "output_type": "stream",
     "text": [
      "{'Apache160', 67, 'R15', 'ducati', 'Avenger', 45, 45.9, 'BMW', 'Ns200', 'Harley', 'Bullet', 'splendor'}\n"
     ]
    }
   ],
   "source": [
    "nested_set.update(new_bike)\n",
    "print(nested_set)"
   ]
  },
  {
   "cell_type": "markdown",
   "id": "80440cf1",
   "metadata": {},
   "source": [
    "# Revision of sets"
   ]
  },
  {
   "cell_type": "code",
   "execution_count": 13,
   "id": "45aafc15",
   "metadata": {},
   "outputs": [
    {
     "name": "stdout",
     "output_type": "stream",
     "text": [
      "1547365452256\n"
     ]
    },
    {
     "ename": "TypeError",
     "evalue": "unhashable type: 'set'",
     "output_type": "error",
     "traceback": [
      "\u001b[1;31m---------------------------------------------------------------------------\u001b[0m",
      "\u001b[1;31mTypeError\u001b[0m                                 Traceback (most recent call last)",
      "Cell \u001b[1;32mIn[13], line 4\u001b[0m\n\u001b[0;32m      2\u001b[0m \u001b[38;5;28mprint\u001b[39m(\u001b[38;5;28mid\u001b[39m(bike_set))\n\u001b[0;32m      3\u001b[0m new_bike\u001b[38;5;241m=\u001b[39m{\u001b[38;5;124m\"\u001b[39m\u001b[38;5;124mHarley\u001b[39m\u001b[38;5;124m\"\u001b[39m,\u001b[38;5;124m\"\u001b[39m\u001b[38;5;124mducati\u001b[39m\u001b[38;5;124m\"\u001b[39m,\u001b[38;5;124m\"\u001b[39m\u001b[38;5;124mBMW\u001b[39m\u001b[38;5;124m\"\u001b[39m,\u001b[38;5;124m\"\u001b[39m\u001b[38;5;124mNs200\u001b[39m\u001b[38;5;124m\"\u001b[39m}\n\u001b[1;32m----> 4\u001b[0m \u001b[43mbike_set\u001b[49m\u001b[38;5;241;43m.\u001b[39;49m\u001b[43madd\u001b[49m\u001b[43m(\u001b[49m\u001b[43mnew_bike\u001b[49m\u001b[43m)\u001b[49m\n\u001b[0;32m      5\u001b[0m \u001b[38;5;28mprint\u001b[39m(bike_set)\n\u001b[0;32m      6\u001b[0m \u001b[38;5;28mprint\u001b[39m(\u001b[38;5;28mid\u001b[39m(bike_set))\n",
      "\u001b[1;31mTypeError\u001b[0m: unhashable type: 'set'"
     ]
    }
   ],
   "source": [
    "bike_set={\"Ns200\",\"Avenger\",\"Bullet\",\"R15\",\"Apache160\",\"splendor\",45,67,45.90}\n",
    "print(id(bike_set))\n",
    "new_bike={\"Harley\",\"ducati\",\"BMW\",\"Ns200\"}\n",
    "bike_set.add(new_bike)\n",
    "print(bike_set)\n",
    "print(id(bike_set))"
   ]
  },
  {
   "cell_type": "code",
   "execution_count": 5,
   "id": "86d489e7",
   "metadata": {},
   "outputs": [
    {
     "name": "stdout",
     "output_type": "stream",
     "text": [
      "1547365449792\n",
      "{67, 'bucati', 'R15', 45, 45.9, 'Bullet', 'Ns200', 'Apache160', 'Avenger', 'splendor'}\n"
     ]
    }
   ],
   "source": [
    "bike_set={\"Ns200\",\"Avenger\",\"Bullet\",\"R15\",\"Apache160\",\"splendor\",45,67,45.90}\n",
    "print(id(bike_set))\n",
    "bike_set.add(\"bucati\")\n",
    "print(bike_set)"
   ]
  },
  {
   "cell_type": "code",
   "execution_count": 6,
   "id": "faa18d3a",
   "metadata": {},
   "outputs": [
    {
     "name": "stdout",
     "output_type": "stream",
     "text": [
      "1547365449792\n"
     ]
    }
   ],
   "source": [
    "print(id(bike_set))"
   ]
  },
  {
   "cell_type": "code",
   "execution_count": 12,
   "id": "a9bb4e06",
   "metadata": {},
   "outputs": [
    {
     "name": "stdout",
     "output_type": "stream",
     "text": [
      "{67, 'raj', 'R15', 45, 45.9, 'Bullet', 'Ns200', 'Apache160', 'Avenger', 55, 'splendor'}\n"
     ]
    }
   ],
   "source": [
    "bike_set={\"Ns200\",\"Avenger\",\"Bullet\",\"R15\",\"Apache160\",\"splendor\",45,67,45.90}\n",
    "bike_set.update({\"raj\",55})\n",
    "print(bike_set)"
   ]
  },
  {
   "cell_type": "code",
   "execution_count": 9,
   "id": "a10e9bd2",
   "metadata": {},
   "outputs": [
    {
     "name": "stdout",
     "output_type": "stream",
     "text": [
      "{67, 'Harley', 'R15', 'BMW', 45, 45.9, 'Bullet', 'Ns200', 'Apache160', 'ducati', 'Avenger', 'splendor'}\n"
     ]
    }
   ],
   "source": [
    "bike_set={\"Ns200\",\"Avenger\",\"Bullet\",\"R15\",\"Apache160\",\"splendor\",45,67,45.90}\n",
    "new_bike={\"Harley\",\"ducati\",\"BMW\",\"Ns200\"}\n",
    "bike_set.update(new_bike)\n",
    "print(bike_set)"
   ]
  },
  {
   "cell_type": "code",
   "execution_count": 15,
   "id": "136522cb",
   "metadata": {},
   "outputs": [
    {
     "name": "stdout",
     "output_type": "stream",
     "text": [
      "{67, 'R15', 45, 45.9, 'Bullet', 'Apache160', 'Avenger', 'splendor'}\n"
     ]
    }
   ],
   "source": [
    "bike_set={\"Ns200\",\"Avenger\",\"Bullet\",\"R15\",\"Apache160\",\"splendor\",45,67,45.90}\n",
    "bike_set.remove(\"Ns200\")\n",
    "print(bike_set)"
   ]
  },
  {
   "cell_type": "code",
   "execution_count": 19,
   "id": "83687a6d",
   "metadata": {},
   "outputs": [
    {
     "ename": "KeyError",
     "evalue": "'55'",
     "output_type": "error",
     "traceback": [
      "\u001b[1;31m---------------------------------------------------------------------------\u001b[0m",
      "\u001b[1;31mKeyError\u001b[0m                                  Traceback (most recent call last)",
      "Cell \u001b[1;32mIn[19], line 2\u001b[0m\n\u001b[0;32m      1\u001b[0m bike_set\u001b[38;5;241m=\u001b[39m{\u001b[38;5;124m\"\u001b[39m\u001b[38;5;124mNs200\u001b[39m\u001b[38;5;124m\"\u001b[39m,\u001b[38;5;124m\"\u001b[39m\u001b[38;5;124mAvenger\u001b[39m\u001b[38;5;124m\"\u001b[39m,\u001b[38;5;124m\"\u001b[39m\u001b[38;5;124mBullet\u001b[39m\u001b[38;5;124m\"\u001b[39m,\u001b[38;5;124m\"\u001b[39m\u001b[38;5;124mR15\u001b[39m\u001b[38;5;124m\"\u001b[39m,\u001b[38;5;124m\"\u001b[39m\u001b[38;5;124mApache160\u001b[39m\u001b[38;5;124m\"\u001b[39m,\u001b[38;5;124m\"\u001b[39m\u001b[38;5;124msplendor\u001b[39m\u001b[38;5;124m\"\u001b[39m,\u001b[38;5;241m45\u001b[39m,\u001b[38;5;241m67\u001b[39m,\u001b[38;5;241m45.90\u001b[39m}\n\u001b[1;32m----> 2\u001b[0m \u001b[43mbike_set\u001b[49m\u001b[38;5;241;43m.\u001b[39;49m\u001b[43mremove\u001b[49m\u001b[43m(\u001b[49m\u001b[38;5;124;43m\"\u001b[39;49m\u001b[38;5;124;43m55\u001b[39;49m\u001b[38;5;124;43m\"\u001b[39;49m\u001b[43m)\u001b[49m\n\u001b[0;32m      3\u001b[0m \u001b[38;5;28mprint\u001b[39m(bike_set)\n",
      "\u001b[1;31mKeyError\u001b[0m: '55'"
     ]
    }
   ],
   "source": [
    "bike_set={\"Ns200\",\"Avenger\",\"Bullet\",\"R15\",\"Apache160\",\"splendor\",45,67,45.90}\n",
    "bike_set.remove(\"55\")\n",
    "print(bike_set)"
   ]
  },
  {
   "cell_type": "code",
   "execution_count": 18,
   "id": "225e1a75",
   "metadata": {},
   "outputs": [
    {
     "name": "stdout",
     "output_type": "stream",
     "text": [
      "{67, 'R15', 45, 45.9, 'Bullet', 'Ns200', 'Apache160', 'Avenger', 'splendor'}\n"
     ]
    }
   ],
   "source": [
    "bike_set={\"Ns200\",\"Avenger\",\"Bullet\",\"R15\",\"Apache160\",\"splendor\",45,67,45.90}\n",
    "bike_set.discard(44)\n",
    "print(bike_set)"
   ]
  },
  {
   "cell_type": "code",
   "execution_count": 23,
   "id": "4fbc278d",
   "metadata": {},
   "outputs": [
    {
     "name": "stdout",
     "output_type": "stream",
     "text": [
      "9\n"
     ]
    }
   ],
   "source": [
    "bike_set={\"Ns200\",\"Avenger\",\"Bullet\",\"R15\",\"Apache160\",\"splendor\",45,67,45.90}\n",
    "print(len(bike_set))"
   ]
  },
  {
   "cell_type": "code",
   "execution_count": 24,
   "id": "6db92b41",
   "metadata": {},
   "outputs": [
    {
     "name": "stdout",
     "output_type": "stream",
     "text": [
      "{'R15', 45, 45.9, 'Bullet', 'Ns200', 'Apache160', 'Avenger', 'splendor'}\n",
      "8\n"
     ]
    }
   ],
   "source": [
    "bike_set={\"Ns200\",\"Avenger\",\"Bullet\",\"R15\",\"Apache160\",\"splendor\",45,67,45.90}\n",
    "bike_set.pop()\n",
    "print(bike_set)\n",
    "print(len(bike_set))"
   ]
  },
  {
   "cell_type": "code",
   "execution_count": 27,
   "id": "0c1dd45f",
   "metadata": {},
   "outputs": [
    {
     "name": "stdout",
     "output_type": "stream",
     "text": [
      "set()\n"
     ]
    }
   ],
   "source": [
    "bike_set={\"Ns200\",\"Avenger\",\"Bullet\",\"R15\",\"Apache160\",\"splendor\",45,67,45.90}\n",
    "bike_set.clear()\n",
    "print(bike_set)"
   ]
  },
  {
   "cell_type": "code",
   "execution_count": 46,
   "id": "ee7058cf",
   "metadata": {},
   "outputs": [
    {
     "name": "stdout",
     "output_type": "stream",
     "text": [
      "1547365459424\n",
      "1547365455168\n",
      "1547365459648\n",
      "{1, 2, 67, 'Harley', 3, 4, 'R15', 'BMW', 45, 45.9, 'Bullet', 'Ns200', 'Apache160', 'ducati', 'Avenger', 'splendor'}\n",
      "<class 'set'>\n"
     ]
    }
   ],
   "source": [
    "bike_set={\"Ns200\",\"Avenger\",\"Bullet\",\"R15\",\"Apache160\",\"splendor\",45,67,45.90}\n",
    "print(id(bike_set))\n",
    "new_bike={\"Harley\",\"ducati\",\"BMW\",\"Ns200\"}\n",
    "print(id(new_bike))\n",
    "new_set={1,2,3,4}\n",
    "sets=bike_set.union(new_bike,new_set)\n",
    "print(id(sets))\n",
    "print(sets)\n",
    "print(type(sets))"
   ]
  },
  {
   "cell_type": "code",
   "execution_count": 48,
   "id": "a4c10ff8",
   "metadata": {},
   "outputs": [
    {
     "name": "stdout",
     "output_type": "stream",
     "text": [
      "1547365459424\n",
      "1547365459648\n",
      "{'Ns200'}\n"
     ]
    }
   ],
   "source": [
    "bike_set={\"Ns200\",\"Avenger\",\"Bullet\",\"R15\",\"Apache160\",\"splendor\",45,67,45.90}\n",
    "print(id(bike_set))\n",
    "new_bike={\"Harley\",\"ducati\",\"BMW\",\"Ns200\"}\n",
    "print(id(new_bike))\n",
    "new_set={1,2,3,4,\"Ns200\"}\n",
    "sets=bike_set.intersection(new_bike,new_set)\n",
    "print(sets)"
   ]
  },
  {
   "cell_type": "code",
   "execution_count": 51,
   "id": "d4df5f72",
   "metadata": {},
   "outputs": [
    {
     "name": "stdout",
     "output_type": "stream",
     "text": [
      "1547365461216\n",
      "1547365460544\n",
      "{'Ns200'}\n",
      "1547365461216\n"
     ]
    }
   ],
   "source": [
    "bike_set={\"Ns200\",\"Avenger\",\"Bullet\",\"R15\",\"Apache160\",\"splendor\",45,67,45.90}\n",
    "print(id(bike_set))\n",
    "new_bike={\"Harley\",\"ducati\",\"BMW\",\"Ns200\"}\n",
    "print(id(new_bike))\n",
    "new_set={1,2,3,4,\"Ns200\"}\n",
    "bike_set.intersection_update(new_bike,new_set)\n",
    "print(bike_set)\n",
    "print(id(bike_set))"
   ]
  },
  {
   "cell_type": "code",
   "execution_count": 55,
   "id": "b2d5b16b",
   "metadata": {},
   "outputs": [
    {
     "name": "stdout",
     "output_type": "stream",
     "text": [
      "1547365460544\n",
      "1547365459872\n",
      "set()\n"
     ]
    }
   ],
   "source": [
    "bike_set={\"Ns200\",\"Avenger\",\"Bullet\",\"R15\",\"Apache160\",\"splendor\",45,67,45.90}\n",
    "print(id(bike_set))\n",
    "new_bike={\"Harley\",\"ducati\",\"BMW\",\"Ns200\"}\n",
    "print(id(new_bike))\n",
    "new_set={1,2,3,4,\"Ns200\"}\n",
    "sets=bike_set.difference(bike_set,new_set)\n",
    "print(sets)"
   ]
  },
  {
   "cell_type": "code",
   "execution_count": 9,
   "id": "7a4258f2",
   "metadata": {},
   "outputs": [
    {
     "name": "stdout",
     "output_type": "stream",
     "text": [
      "{1, 2, 3}\n"
     ]
    }
   ],
   "source": [
    "set_1={1,2,3,4,5}\n",
    "set_2={4,5,6,7,8}\n",
    "set_3={7,8,9,10}\n",
    "set_1.difference_update(set_2,set_3)\n",
    "print(set_1)"
   ]
  },
  {
   "cell_type": "code",
   "execution_count": 5,
   "id": "52a24297",
   "metadata": {},
   "outputs": [
    {
     "data": {
      "text/plain": [
       "{1, 2, 3, 4, 5, 6, 7, 8}"
      ]
     },
     "execution_count": 5,
     "metadata": {},
     "output_type": "execute_result"
    }
   ],
   "source": [
    "set_1. symmetric_difference(set_2)"
   ]
  },
  {
   "cell_type": "code",
   "execution_count": 10,
   "id": "3c22a23e",
   "metadata": {},
   "outputs": [
    {
     "name": "stdout",
     "output_type": "stream",
     "text": [
      "{1, 2, 3, 6, 7, 8}\n"
     ]
    }
   ],
   "source": [
    "set_1={1,2,3,4,5}\n",
    "set_2={4,5,6,7,8}\n",
    "set_3={7,8,9,10}\n",
    "set_1.symmetric_difference_update(set_2)\n",
    "print(set_1)\n"
   ]
  },
  {
   "cell_type": "code",
   "execution_count": 11,
   "id": "137b0ba0",
   "metadata": {},
   "outputs": [
    {
     "name": "stdout",
     "output_type": "stream",
     "text": [
      "[1, 2, 3, 4, 5]\n"
     ]
    }
   ],
   "source": [
    "set_1={1,2,3,4,5}\n",
    "sorted_set=list(set_1)\n",
    "print(sorted_set)"
   ]
  },
  {
   "cell_type": "code",
   "execution_count": 13,
   "id": "7bb46ed6",
   "metadata": {},
   "outputs": [
    {
     "name": "stdout",
     "output_type": "stream",
     "text": [
      "[1, 2, 3, 4, 5, {4, 5, 6, 7, 8}, {4, 5, 6, 7, 8}]\n"
     ]
    }
   ],
   "source": [
    "sorted_set.append(set_2)\n",
    "print(sorted_set)"
   ]
  },
  {
   "cell_type": "code",
   "execution_count": 16,
   "id": "a712d8db",
   "metadata": {},
   "outputs": [
    {
     "ename": "AttributeError",
     "evalue": "'set' object has no attribute 'supperset'",
     "output_type": "error",
     "traceback": [
      "\u001b[1;31m---------------------------------------------------------------------------\u001b[0m",
      "\u001b[1;31mAttributeError\u001b[0m                            Traceback (most recent call last)",
      "Cell \u001b[1;32mIn[16], line 3\u001b[0m\n\u001b[0;32m      1\u001b[0m set_1\u001b[38;5;241m=\u001b[39m{\u001b[38;5;241m1\u001b[39m,\u001b[38;5;241m2\u001b[39m,\u001b[38;5;241m3\u001b[39m,\u001b[38;5;241m4\u001b[39m,\u001b[38;5;241m5\u001b[39m}\n\u001b[0;32m      2\u001b[0m set_2\u001b[38;5;241m=\u001b[39m{\u001b[38;5;241m4\u001b[39m,\u001b[38;5;241m5\u001b[39m,\u001b[38;5;241m6\u001b[39m,\u001b[38;5;241m7\u001b[39m,\u001b[38;5;241m8\u001b[39m}\n\u001b[1;32m----> 3\u001b[0m \u001b[43mset_1\u001b[49m\u001b[38;5;241;43m.\u001b[39;49m\u001b[43msupperset\u001b[49m(set_2)\n\u001b[0;32m      4\u001b[0m \u001b[38;5;28mprint\u001b[39m(set_1)\n",
      "\u001b[1;31mAttributeError\u001b[0m: 'set' object has no attribute 'supperset'"
     ]
    }
   ],
   "source": [
    "set_1={1,2,3,4,5}\n",
    "set_2={4,5,6,7,8}\n",
    "set_1.supperset(set_2)\n",
    "print(set_1)\n",
    "\n"
   ]
  },
  {
   "cell_type": "code",
   "execution_count": 17,
   "id": "abc29782",
   "metadata": {},
   "outputs": [
    {
     "name": "stdout",
     "output_type": "stream",
     "text": [
      "frozenset({1, 2, 3, 4, 5})\n"
     ]
    }
   ],
   "source": [
    "set_1={1,2,3,4,5}\n",
    "f_set=frozenset(set_1)\n",
    "print(f_set)"
   ]
  },
  {
   "cell_type": "code",
   "execution_count": null,
   "id": "9ef3649f",
   "metadata": {},
   "outputs": [],
   "source": [
    "set_1={1,2,3,4,5}\n",
    "set_2={4,5,6,7,8"
   ]
  },
  {
   "cell_type": "code",
   "execution_count": 19,
   "id": "9b9f653c",
   "metadata": {},
   "outputs": [
    {
     "name": "stdout",
     "output_type": "stream",
     "text": [
      "{1, 2, 3, 4, 5, 6, 7, 8, 'arya', 'raj'}\n",
      "<class 'set'>\n"
     ]
    }
   ],
   "source": [
    "my_set={1,2,3,4,5,\"raj\"}\n",
    "my_list=[6,7,8,\"arya\"]\n",
    "my_set.update(my_list)\n",
    "print(my_set)\n",
    "print(type(my_set))"
   ]
  },
  {
   "cell_type": "code",
   "execution_count": 23,
   "id": "b9ff19ef",
   "metadata": {},
   "outputs": [
    {
     "name": "stdout",
     "output_type": "stream",
     "text": [
      "{1, 2, 3, 4, 5, 6, 7, 8, 'raj', 'arya'}\n",
      "<class 'type'>\n"
     ]
    }
   ],
   "source": [
    "my_set={1,2,3,4,5,\"raj\"}\n",
    "my_list=[5,6,7,8,\"arya\"]\n",
    "my_set=set(my_list).union(my_set)\n",
    "print(my_set)\n",
    "print(type(set))"
   ]
  },
  {
   "cell_type": "code",
   "execution_count": 25,
   "id": "02624957",
   "metadata": {},
   "outputs": [
    {
     "name": "stdout",
     "output_type": "stream",
     "text": [
      "{frozenset({1, 2, 3, 4, 5}): 'Raj arya'}\n",
      "frozenset({frozenset({1, 2, 3, 4, 5}), 6, 7})\n"
     ]
    }
   ],
   "source": [
    "set_1={1,2,3,4,5}\n",
    "frozen=frozenset(set_1)\n",
    "my_dic={frozen:\"Raj arya\"}\n",
    "other_frozen=frozenset({frozen,6,7})\n",
    "print(my_dic)\n",
    "print(other_frozen)"
   ]
  },
  {
   "cell_type": "code",
   "execution_count": 26,
   "id": "5dd03229",
   "metadata": {},
   "outputs": [
    {
     "ename": "AttributeError",
     "evalue": "'frozenset' object has no attribute 'add'",
     "output_type": "error",
     "traceback": [
      "\u001b[1;31m---------------------------------------------------------------------------\u001b[0m",
      "\u001b[1;31mAttributeError\u001b[0m                            Traceback (most recent call last)",
      "Cell \u001b[1;32mIn[26], line 1\u001b[0m\n\u001b[1;32m----> 1\u001b[0m \u001b[43mfrozen\u001b[49m\u001b[38;5;241;43m.\u001b[39;49m\u001b[43madd\u001b[49m(\u001b[38;5;124m\"\u001b[39m\u001b[38;5;124my\u001b[39m\u001b[38;5;124m\"\u001b[39m)\n",
      "\u001b[1;31mAttributeError\u001b[0m: 'frozenset' object has no attribute 'add'"
     ]
    }
   ],
   "source": [
    "frozen.add(\"y\")"
   ]
  },
  {
   "cell_type": "code",
   "execution_count": null,
   "id": "f80e0b7d",
   "metadata": {},
   "outputs": [],
   "source": [
    "# revision"
   ]
  },
  {
   "cell_type": "code",
   "execution_count": 32,
   "id": "338c7b4c",
   "metadata": {},
   "outputs": [
    {
     "name": "stdout",
     "output_type": "stream",
     "text": [
      "set()\n"
     ]
    }
   ],
   "source": [
    "my_set={1,2,3,4,5,6,7}           # when we try to intersection more than 2 set so output become\n",
    "                                  # empty\n",
    "new_set={6,7,8,9,10}\n",
    "set_1={9,10,11,12}\n",
    "x=my_set.intersection(new_set,set_1)\n",
    "print(x)"
   ]
  },
  {
   "cell_type": "code",
   "execution_count": 33,
   "id": "03a32595",
   "metadata": {},
   "outputs": [
    {
     "name": "stdout",
     "output_type": "stream",
     "text": [
      "{6, 7}\n"
     ]
    }
   ],
   "source": [
    "my_set={1,2,3,4,5,6,7}           # when we try to intersection more than 2 set so output become\n",
    "                                  # empty\n",
    "new_set={6,7,8,9,10}\n",
    "set_1={6,7,8,9,10,11,12}\n",
    "x=my_set.intersection(new_set,set_1)\n",
    "print(x)"
   ]
  },
  {
   "cell_type": "code",
   "execution_count": 34,
   "id": "0f03cc02",
   "metadata": {},
   "outputs": [
    {
     "name": "stdout",
     "output_type": "stream",
     "text": [
      "{6, 7}\n"
     ]
    }
   ],
   "source": [
    "my_set={1,2,3,4,5,6,7}\n",
    "new_set={6,7,8,9,10}\n",
    "set_1={6,7,8,9,10,11,12}\n",
    "my_set.intersection_update(new_set,set_1)\n",
    "print(my_set)"
   ]
  },
  {
   "cell_type": "code",
   "execution_count": 35,
   "id": "59419ec0",
   "metadata": {},
   "outputs": [
    {
     "name": "stdout",
     "output_type": "stream",
     "text": [
      "{1, 2, 3, 4, 5}\n"
     ]
    }
   ],
   "source": [
    "my_set={1,2,3,4,5,6,7}\n",
    "new_set={6,7,8,9,10}\n",
    "x=my_set.difference(new_set)\n",
    "print(x)"
   ]
  },
  {
   "cell_type": "code",
   "execution_count": 37,
   "id": "27e2e6a7",
   "metadata": {},
   "outputs": [
    {
     "name": "stdout",
     "output_type": "stream",
     "text": [
      "{1, 2, 3, 4, 5, 8, 9, 10}\n"
     ]
    }
   ],
   "source": [
    "my_set={1,2,3,4,5,6,7}\n",
    "new_set={6,7,8,9,10}\n",
    "my_set.symmetric_difference_update(new_set)\n",
    "print(my_set)\n"
   ]
  },
  {
   "cell_type": "code",
   "execution_count": 49,
   "id": "eb8ae83c",
   "metadata": {},
   "outputs": [
    {
     "name": "stdout",
     "output_type": "stream",
     "text": [
      "frozenset({1, 2, 3, 4, 5, 6, 7})\n"
     ]
    }
   ],
   "source": [
    "my_set={1,2,3,4,5,6,7}\n",
    "f_set=frozenset(my_set)\n",
    "print(f_set)"
   ]
  },
  {
   "cell_type": "code",
   "execution_count": 52,
   "id": "ca7afe8c",
   "metadata": {},
   "outputs": [
    {
     "data": {
      "text/plain": [
       "True"
      ]
     },
     "execution_count": 52,
     "metadata": {},
     "output_type": "execute_result"
    }
   ],
   "source": [
    "a={1,2,3,4,5,6,7}\n",
    "b={3,7}\n",
    "\n",
    "a.issuperset(b)"
   ]
  },
  {
   "cell_type": "code",
   "execution_count": 53,
   "id": "0be5cde7",
   "metadata": {},
   "outputs": [
    {
     "data": {
      "text/plain": [
       "False"
      ]
     },
     "execution_count": 53,
     "metadata": {},
     "output_type": "execute_result"
    }
   ],
   "source": [
    "a={1,2,3,4,5,6,7}\n",
    "b={3,7}\n",
    "a.issubset(b)"
   ]
  },
  {
   "cell_type": "code",
   "execution_count": null,
   "id": "19435809",
   "metadata": {},
   "outputs": [],
   "source": []
  }
 ],
 "metadata": {
  "kernelspec": {
   "display_name": "Python 3 (ipykernel)",
   "language": "python",
   "name": "python3"
  },
  "language_info": {
   "codemirror_mode": {
    "name": "ipython",
    "version": 3
   },
   "file_extension": ".py",
   "mimetype": "text/x-python",
   "name": "python",
   "nbconvert_exporter": "python",
   "pygments_lexer": "ipython3",
   "version": "3.10.9"
  }
 },
 "nbformat": 4,
 "nbformat_minor": 5
}
