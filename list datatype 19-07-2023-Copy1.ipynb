{
 "cells": [
  {
   "cell_type": "markdown",
   "id": "9d17711d",
   "metadata": {},
   "source": [
    "# Python data types are catogorized into two as follows:\n",
    " \n",
    "    1.Mutable  Data types : data types in python where the value assigned to a variable can be changed .but memory address \n",
    "        never change .\n",
    "        \n",
    "        for ex= list ,set ,dictionary.\n",
    "        \n",
    "    2. Immutable Data types : data types in python wherer the value assigned to a variable cannot be changed .but data \n",
    "          memory address  will change\n",
    "\n",
    "        for ex= number ,string and tuples etc"
   ]
  },
  {
   "cell_type": "markdown",
   "id": "378347fd",
   "metadata": {},
   "source": [
    "# List Data Type (Mutable Data type)\n",
    " \n",
    "- list data type are mutable .\n",
    "\n",
    "- ordered= the list in the item are in ordered.\n",
    "\n",
    "- Heterogenous-list have taken multiple type of data.eg-string,integer,float,complex number etc.\n",
    "\n",
    "- Duplicate-list data type also contain a duplicate  item in our list.\n",
    "\n",
    "- iterable=In python ,an \"iterable\" refers to an object that can be iterated over meaning you can loop\n",
    "through its element one by one.\n",
    " object=(list,set,dict,string,tuple)are iterable."
   ]
  },
  {
   "cell_type": "markdown",
   "id": "c0f5026e",
   "metadata": {},
   "source": [
    "# Note- List are mutable .and the item of the list are in ordered and heterogenous also takes multiple type of data type like string,float ,complex,number etc.or contain duplicate item in a list."
   ]
  },
  {
   "cell_type": "markdown",
   "id": "f6012b7d",
   "metadata": {},
   "source": [
    "# summary of list Data type\n",
    "\n",
    "- list data type is mutable,ordered,Heterogenous and Duplicate.\n",
    "\n",
    " 1.syntax of slicing =list_name[start_index:end_index:step]is used to find the  range of object in the list with steps.\n",
    " \n",
    "# Adding element to the list- we can add a new element in a list using this methods such aas\n",
    " \n",
    "1.append(object)=add the item in the end of the list.and take only one argument.\n",
    "\n",
    "2.insert(index,object)=add the item in the specific position or indexing and take only one argument.\n",
    "\n",
    "- .extend([])   =the extend method will accept the list of element and them at the end of the list.we can even add another list by using this method and also take multiple item at a time.\n",
    "\n",
    "  - my_list[index]=\"raj\"=modify the item of list using assignment operator.and takes multiple assignment.\n",
    "\n",
    "# Removing elements from a list - the element from the list can be removed using the following list method.\n",
    "1.remove(object)=to remove the specific object which you want from the list.and takes only one argument at a time.\n",
    "\n",
    "2.pop(index)= remove the object at the given index from the list.and takes only one argument at a time.\n",
    "\n",
    "3.clear()=to remove all items from the list. the output will be an empty list.and takes no argument.\n",
    "\n",
    "4.del(index:index)= to remove the range of the object from the list.\n",
    "\n",
    "#   Finding an element in a list =is used to find the indexing position of any item\n",
    "and takes only one argument at a time\n",
    "\n",
    "(my_list.index)"
   ]
  },
  {
   "cell_type": "code",
   "execution_count": 7,
   "id": "6ff8987d",
   "metadata": {},
   "outputs": [
    {
     "name": "stdout",
     "output_type": "stream",
     "text": [
      "[40, 50]\n"
     ]
    }
   ],
   "source": [
    "my_list=[20,30,40,50]\n",
    "my_list[0:2]=[]\n",
    "print(my_list)"
   ]
  },
  {
   "cell_type": "code",
   "execution_count": 3,
   "id": "1479ef1d",
   "metadata": {},
   "outputs": [
    {
     "name": "stdout",
     "output_type": "stream",
     "text": [
      "[50, 45, 30, 25]\n"
     ]
    }
   ],
   "source": [
    "my_list=[5,10,15,20,25,30,45,50]\n",
    "x=my_list[-1:-5:-1]\n",
    "print(x)"
   ]
  },
  {
   "cell_type": "code",
   "execution_count": 25,
   "id": "d4f2e959",
   "metadata": {},
   "outputs": [
    {
     "name": "stdout",
     "output_type": "stream",
     "text": [
      "raj\n"
     ]
    }
   ],
   "source": [
    "my_list=[\"raj\",34,-45,True,False,4.9,45j,]\n",
    "\n",
    "x=\"raj\"\n",
    "if x in my_list:\n",
    "    print(x)\n"
   ]
  },
  {
   "cell_type": "code",
   "execution_count": 3,
   "id": "58a35488",
   "metadata": {},
   "outputs": [
    {
     "name": "stdout",
     "output_type": "stream",
     "text": [
      "no\n"
     ]
    }
   ],
   "source": [
    "my_list=[\"raj\",34,-45,True,False,4.9,45j,]\n",
    "x=\"raj\"\n",
    "y=\"yash\"\n",
    "if x and y in my_list:\n",
    "    print(\"yes\")\n",
    "else:\n",
    "    print(\"no\")"
   ]
  },
  {
   "cell_type": "code",
   "execution_count": 29,
   "id": "56cbc555",
   "metadata": {},
   "outputs": [
    {
     "name": "stdout",
     "output_type": "stream",
     "text": [
      "4.9\n"
     ]
    }
   ],
   "source": [
    "my_list=[\"raj\",34,-45,True,False,4.9,45j,]\n",
    "x=4.9\n",
    "if x in my_list:\n",
    "    print(x)\n",
    "else:\n",
    "    print(\"nothing\")"
   ]
  },
  {
   "cell_type": "code",
   "execution_count": 3,
   "id": "9e19371b",
   "metadata": {},
   "outputs": [
    {
     "name": "stdout",
     "output_type": "stream",
     "text": [
      "raj 55\n"
     ]
    }
   ],
   "source": [
    "my_list=[55,55,True,True,\"raj\",\"raj\"]\n",
    "x=\"raj\"\n",
    "y=55\n",
    "if x or y in my_list:\n",
    "    print(x,y)\n",
    "else:\n",
    "    print(empty)"
   ]
  },
  {
   "cell_type": "code",
   "execution_count": 34,
   "id": "95e74be1",
   "metadata": {},
   "outputs": [
    {
     "name": "stdout",
     "output_type": "stream",
     "text": [
      "raj 55\n"
     ]
    }
   ],
   "source": [
    "my_list=[55,55,True,True,\"raj\",\"raj\"]\n",
    "x=\"raj\"\n",
    "y=55\n",
    "if x and y in my_list:\n",
    "    print(x,y)\n",
    "else:\n",
    "    print(\"empty\")"
   ]
  },
  {
   "cell_type": "code",
   "execution_count": 13,
   "id": "4ee7a737",
   "metadata": {},
   "outputs": [
    {
     "name": "stdout",
     "output_type": "stream",
     "text": [
      "raj\n"
     ]
    }
   ],
   "source": [
    "my_list=[45,True,45,\"raj\",True,\"raj\"]\n",
    "name=\"raj\"\n",
    "\n",
    "if name in my_list:\n",
    "    print(name)\n",
    "else:\n",
    "    print(empty)"
   ]
  },
  {
   "cell_type": "code",
   "execution_count": 9,
   "id": "3cfe6adf",
   "metadata": {},
   "outputs": [
    {
     "name": "stdout",
     "output_type": "stream",
     "text": [
      "empty\n"
     ]
    }
   ],
   "source": [
    "my_list=[45,True,45,\"raj\",True,\"raj\"]\n",
    "name=\"yash\"\n",
    "if name not in my_list:\n",
    "    print(\"empty\")\n",
    "else:\n",
    "    print(name)"
   ]
  },
  {
   "cell_type": "code",
   "execution_count": 11,
   "id": "0dbee27f",
   "metadata": {},
   "outputs": [
    {
     "name": "stdout",
     "output_type": "stream",
     "text": [
      "[1, 2, 3]\n"
     ]
    }
   ],
   "source": [
    "x=(1,2,3)\n",
    "x=list(x)\n",
    "print(x)"
   ]
  },
  {
   "cell_type": "code",
   "execution_count": 4,
   "id": "42d17920",
   "metadata": {},
   "outputs": [
    {
     "name": "stdout",
     "output_type": "stream",
     "text": [
      "{True, 45, 'raj'}\n"
     ]
    }
   ],
   "source": [
    "my_list=[45,True,45,\"raj\",True,\"raj\"]\n",
    "x=set(my_list)\n",
    "print(x)"
   ]
  },
  {
   "cell_type": "code",
   "execution_count": 6,
   "id": "bee5cd78",
   "metadata": {},
   "outputs": [
    {
     "name": "stdout",
     "output_type": "stream",
     "text": [
      "2338262213888\n",
      "2338263505728\n",
      "[True, 45, 'raj']\n"
     ]
    }
   ],
   "source": [
    "my_set={45,True,45,\"raj\",True,}\n",
    "print(id(my_set))\n",
    "my_list=list(my_set)\n",
    "print(id(my_list))\n",
    "print(my_list)"
   ]
  },
  {
   "cell_type": "code",
   "execution_count": 15,
   "id": "11933a81",
   "metadata": {},
   "outputs": [
    {
     "name": "stdout",
     "output_type": "stream",
     "text": [
      "[1, 2, 3, 4, 5]\n"
     ]
    }
   ],
   "source": [
    "my_tuple=(1,2,3,4,5)\n",
    "x=list(my_tuple)\n",
    "print(x)"
   ]
  },
  {
   "cell_type": "code",
   "execution_count": 21,
   "id": "e6495828",
   "metadata": {},
   "outputs": [
    {
     "name": "stdout",
     "output_type": "stream",
     "text": [
      "[45, 55, 65, 75]\n"
     ]
    }
   ],
   "source": [
    "raj=(45,55,65,75)\n",
    "my_list=list(raj)\n",
    "print(my_list)"
   ]
  },
  {
   "cell_type": "code",
   "execution_count": 2,
   "id": "09354816",
   "metadata": {},
   "outputs": [
    {
     "name": "stdout",
     "output_type": "stream",
     "text": [
      "['raj', 34, -45, True, False, 4.9, 45j]\n"
     ]
    }
   ],
   "source": [
    "raj_28=(\"raj\",34,-45,True,False,4.9,45j)\n",
    "my_list=list(raj_28)\n",
    "print(my_list)\n"
   ]
  },
  {
   "cell_type": "code",
   "execution_count": 40,
   "id": "3ff8401c",
   "metadata": {},
   "outputs": [
    {
     "name": "stdout",
     "output_type": "stream",
     "text": [
      "raj 34\n"
     ]
    }
   ],
   "source": [
    "my_list=[\"raj\",34,-45,True,False,4.9,45j]\n",
    "x=\"raj\"\n",
    "y=34\n",
    "if x or y in my_list:\n",
    "    print(x,y)\n",
    "else:\n",
    "    print(\"nothing\")"
   ]
  },
  {
   "cell_type": "code",
   "execution_count": 39,
   "id": "5c4558ce",
   "metadata": {},
   "outputs": [
    {
     "name": "stdout",
     "output_type": "stream",
     "text": [
      "yash True\n"
     ]
    }
   ],
   "source": [
    "my_list=[\"raj\",34,-45,True,False,4.9,45j]\n",
    "x=\"yash\"\n",
    "y=True\n",
    "if x or y in my_list:\n",
    "    print(x,y)\n",
    "else:\n",
    "    print(\"nothing\")"
   ]
  },
  {
   "cell_type": "code",
   "execution_count": 4,
   "id": "490133e2",
   "metadata": {},
   "outputs": [
    {
     "name": "stdout",
     "output_type": "stream",
     "text": [
      "no\n"
     ]
    }
   ],
   "source": [
    "my_list=[\"raj\",34,-45,True,False,4.9,45j]\n",
    "x=\"raj\"\n",
    "y=100\n",
    "if x or y not in my_list:\n",
    "    print(\"no\")\n",
    "else:\n",
    "    print(x,y)"
   ]
  },
  {
   "cell_type": "code",
   "execution_count": 42,
   "id": "e7be6da6",
   "metadata": {},
   "outputs": [
    {
     "name": "stdout",
     "output_type": "stream",
     "text": [
      "nothing\n"
     ]
    }
   ],
   "source": [
    "my_list=[\"raj\",34,-45,True,False,4.9,45j]             # x one variable contain only one value\n",
    "x=([\"raj\",34])\n",
    "if x in my_list:\n",
    "    print(x)\n",
    "else:\n",
    "    print(\"nothing\")\n"
   ]
  },
  {
   "cell_type": "code",
   "execution_count": 43,
   "id": "1c3a5dee",
   "metadata": {},
   "outputs": [
    {
     "name": "stdout",
     "output_type": "stream",
     "text": [
      "raj 34 True\n"
     ]
    }
   ],
   "source": [
    "my_list=[\"raj\",34,-45,True,False,4.9,45j]\n",
    "x=\"raj\"\n",
    "y=34\n",
    "z=True\n",
    "if x and y and z in my_list:\n",
    "    print(x,y,z)\n",
    "else:\n",
    "    print(\"nothing\")"
   ]
  },
  {
   "cell_type": "markdown",
   "id": "ef701168",
   "metadata": {},
   "source": [
    "# Length of list"
   ]
  },
  {
   "cell_type": "code",
   "execution_count": 44,
   "id": "3d1dd4fa",
   "metadata": {},
   "outputs": [
    {
     "name": "stdout",
     "output_type": "stream",
     "text": [
      "7\n"
     ]
    }
   ],
   "source": [
    "my_list=[\"raj\",34,-45,True,False,4.9,45j]\n",
    "print(len(my_list))"
   ]
  },
  {
   "cell_type": "code",
   "execution_count": 18,
   "id": "3c18e7b4",
   "metadata": {},
   "outputs": [],
   "source": [
    "my_list=[56,78,True,False,78,\"raj\",\"arya\"]"
   ]
  },
  {
   "cell_type": "code",
   "execution_count": 19,
   "id": "78d95924",
   "metadata": {},
   "outputs": [
    {
     "name": "stdout",
     "output_type": "stream",
     "text": [
      "7\n"
     ]
    }
   ],
   "source": [
    "print(len(my_list))"
   ]
  },
  {
   "cell_type": "code",
   "execution_count": 22,
   "id": "4f402c46",
   "metadata": {},
   "outputs": [
    {
     "name": "stdout",
     "output_type": "stream",
     "text": [
      "3\n"
     ]
    }
   ],
   "source": [
    "raj=[45,55,54,]\n",
    "print(len(raj))"
   ]
  },
  {
   "cell_type": "code",
   "execution_count": 28,
   "id": "5dcd2eb0",
   "metadata": {
    "scrolled": true
   },
   "outputs": [
    {
     "ename": "TypeError",
     "evalue": "'list' object is not callable",
     "output_type": "error",
     "traceback": [
      "\u001b[1;31m---------------------------------------------------------------------------\u001b[0m",
      "\u001b[1;31mTypeError\u001b[0m                                 Traceback (most recent call last)",
      "Cell \u001b[1;32mIn[28], line 2\u001b[0m\n\u001b[0;32m      1\u001b[0m my_list\u001b[38;5;241m=\u001b[39m[\u001b[38;5;241m10\u001b[39m,\u001b[38;5;241m20\u001b[39m,\u001b[38;5;241m30\u001b[39m,\u001b[38;5;241m40\u001b[39m,\u001b[38;5;241m50\u001b[39m]\n\u001b[1;32m----> 2\u001b[0m \u001b[38;5;28mprint\u001b[39m(\u001b[43mmy_list\u001b[49m\u001b[43m(\u001b[49m\u001b[38;5;241;43m1\u001b[39;49m\u001b[43m)\u001b[49m)\n",
      "\u001b[1;31mTypeError\u001b[0m: 'list' object is not callable"
     ]
    }
   ],
   "source": [
    "my_list=[10,20,30,40,50]\n",
    "print(my_list(1))\n"
   ]
  },
  {
   "cell_type": "code",
   "execution_count": 29,
   "id": "7cce2850",
   "metadata": {},
   "outputs": [
    {
     "ename": "SyntaxError",
     "evalue": "invalid syntax. Perhaps you forgot a comma? (4165527606.py, line 1)",
     "output_type": "error",
     "traceback": [
      "\u001b[1;36m  Cell \u001b[1;32mIn[29], line 1\u001b[1;36m\u001b[0m\n\u001b[1;33m    print(index(my_list 1))\u001b[0m\n\u001b[1;37m                ^\u001b[0m\n\u001b[1;31mSyntaxError\u001b[0m\u001b[1;31m:\u001b[0m invalid syntax. Perhaps you forgot a comma?\n"
     ]
    }
   ],
   "source": [
    "print(index(my_list 1))"
   ]
  },
  {
   "cell_type": "code",
   "execution_count": 27,
   "id": "95811907",
   "metadata": {},
   "outputs": [
    {
     "name": "stderr",
     "output_type": "stream",
     "text": [
      "<>:1: SyntaxWarning: 'int' object is not callable; perhaps you missed a comma?\n",
      "<>:1: SyntaxWarning: 'int' object is not callable; perhaps you missed a comma?\n",
      "C:\\Users\\user\\AppData\\Local\\Temp\\ipykernel_12076\\596114532.py:1: SyntaxWarning: 'int' object is not callable; perhaps you missed a comma?\n",
      "  print(0(my_list))\n",
      "C:\\Users\\user\\AppData\\Local\\Temp\\ipykernel_12076\\596114532.py:1: SyntaxWarning: 'int' object is not callable; perhaps you missed a comma?\n",
      "  print(0(my_list))\n",
      "C:\\Users\\user\\AppData\\Local\\Temp\\ipykernel_12076\\596114532.py:1: SyntaxWarning: 'int' object is not callable; perhaps you missed a comma?\n",
      "  print(0(my_list))\n",
      "C:\\Users\\user\\AppData\\Local\\Temp\\ipykernel_12076\\596114532.py:1: SyntaxWarning: 'int' object is not callable; perhaps you missed a comma?\n",
      "  print(0(my_list))\n"
     ]
    },
    {
     "ename": "TypeError",
     "evalue": "'int' object is not callable",
     "output_type": "error",
     "traceback": [
      "\u001b[1;31m---------------------------------------------------------------------------\u001b[0m",
      "\u001b[1;31mTypeError\u001b[0m                                 Traceback (most recent call last)",
      "Cell \u001b[1;32mIn[27], line 1\u001b[0m\n\u001b[1;32m----> 1\u001b[0m \u001b[38;5;28mprint\u001b[39m(\u001b[38;5;241;43m0\u001b[39;49m\u001b[43m(\u001b[49m\u001b[43mmy_list\u001b[49m\u001b[43m)\u001b[49m)\n",
      "\u001b[1;31mTypeError\u001b[0m: 'int' object is not callable"
     ]
    }
   ],
   "source": [
    "print(0(my_list))"
   ]
  },
  {
   "cell_type": "code",
   "execution_count": 30,
   "id": "fc69c51e",
   "metadata": {},
   "outputs": [
    {
     "ename": "TypeError",
     "evalue": "'list' object is not callable",
     "output_type": "error",
     "traceback": [
      "\u001b[1;31m---------------------------------------------------------------------------\u001b[0m",
      "\u001b[1;31mTypeError\u001b[0m                                 Traceback (most recent call last)",
      "Cell \u001b[1;32mIn[30], line 3\u001b[0m\n\u001b[0;32m      1\u001b[0m my_list\u001b[38;5;241m=\u001b[39m[\u001b[38;5;241m45\u001b[39m,\u001b[38;5;241m55\u001b[39m,\u001b[38;5;241m67\u001b[39m,\u001b[38;5;241m43\u001b[39m,\u001b[38;5;241m45\u001b[39m]\n\u001b[0;32m      2\u001b[0m index\u001b[38;5;241m=\u001b[39mmy_list\n\u001b[1;32m----> 3\u001b[0m \u001b[38;5;28mprint\u001b[39m(\u001b[43mindex\u001b[49m\u001b[43m(\u001b[49m\u001b[38;5;241;43m1\u001b[39;49m\u001b[43m)\u001b[49m)\n",
      "\u001b[1;31mTypeError\u001b[0m: 'list' object is not callable"
     ]
    }
   ],
   "source": [
    "my_list=[45,55,67,43,45]\n",
    "index=my_list\n",
    "print(index(1))"
   ]
  },
  {
   "cell_type": "code",
   "execution_count": 16,
   "id": "caa1611d",
   "metadata": {},
   "outputs": [
    {
     "ename": "TypeError",
     "evalue": "'list' object is not callable",
     "output_type": "error",
     "traceback": [
      "\u001b[1;31m---------------------------------------------------------------------------\u001b[0m",
      "\u001b[1;31mTypeError\u001b[0m                                 Traceback (most recent call last)",
      "Cell \u001b[1;32mIn[16], line 3\u001b[0m\n\u001b[0;32m      1\u001b[0m my_list\u001b[38;5;241m=\u001b[39m[\u001b[38;5;241m45\u001b[39m,\u001b[38;5;241m55\u001b[39m,\u001b[38;5;241m67\u001b[39m,\u001b[38;5;241m43\u001b[39m,\u001b[38;5;241m45\u001b[39m]\n\u001b[0;32m      2\u001b[0m index\u001b[38;5;241m=\u001b[39mmy_list\n\u001b[1;32m----> 3\u001b[0m \u001b[38;5;28mprint\u001b[39m(\u001b[43mmy_list\u001b[49m\u001b[43m(\u001b[49m\u001b[38;5;241;43m1\u001b[39;49m\u001b[43m)\u001b[49m)\n",
      "\u001b[1;31mTypeError\u001b[0m: 'list' object is not callable"
     ]
    }
   ],
   "source": [
    "my_list=[45,55,67,43,45]\n",
    "index=my_list\n",
    "print(my_list(1))"
   ]
  },
  {
   "cell_type": "code",
   "execution_count": 47,
   "id": "e8df07f7",
   "metadata": {},
   "outputs": [
    {
     "name": "stdout",
     "output_type": "stream",
     "text": [
      "raj\n"
     ]
    }
   ],
   "source": [
    "my_list=[\"raj\",34,-45,True,False,4.9,45j]\n",
    "item_num=my_list[0]\n",
    "print(item_num)"
   ]
  },
  {
   "cell_type": "code",
   "execution_count": 12,
   "id": "fdc325d7",
   "metadata": {},
   "outputs": [
    {
     "name": "stdout",
     "output_type": "stream",
     "text": [
      "['raj', 34, -45]\n"
     ]
    }
   ],
   "source": [
    "my_list=[\"raj\",34,-45,True,False,4.9,45j]\n",
    "imp_object=my_list[0:-4]\n",
    "print(imp_object)"
   ]
  },
  {
   "cell_type": "code",
   "execution_count": 29,
   "id": "7c8b4344",
   "metadata": {},
   "outputs": [
    {
     "name": "stdout",
     "output_type": "stream",
     "text": [
      "45\n"
     ]
    }
   ],
   "source": [
    "my_list=[45,55,67,43,45]\n",
    "first_object=my_list[0]\n",
    "print(first_object)"
   ]
  },
  {
   "cell_type": "code",
   "execution_count": 5,
   "id": "8321e385",
   "metadata": {},
   "outputs": [
    {
     "name": "stdout",
     "output_type": "stream",
     "text": [
      "first_object in my list is 45\n"
     ]
    }
   ],
   "source": [
    "my_list=[45,55,67,43,45]\n",
    "first_object=my_list[0]\n",
    "print(\"first_object in my list is\", first_object)"
   ]
  },
  {
   "cell_type": "code",
   "execution_count": 26,
   "id": "bfb51469",
   "metadata": {},
   "outputs": [
    {
     "name": "stdout",
     "output_type": "stream",
     "text": [
      "55\n"
     ]
    }
   ],
   "source": [
    "my_list=[45,55,67,43,45]\n",
    "second_object=my_list[1]\n",
    "print(second_object)"
   ]
  },
  {
   "cell_type": "code",
   "execution_count": 48,
   "id": "0b622c32",
   "metadata": {},
   "outputs": [
    {
     "name": "stdout",
     "output_type": "stream",
     "text": [
      "5\n",
      "45\n"
     ]
    }
   ],
   "source": [
    "my_list=[45,55,67,43,100]\n",
    "print(len(my_list))\n",
    "last_object=my_list[-5]\n",
    "print(last_object)"
   ]
  },
  {
   "cell_type": "code",
   "execution_count": 32,
   "id": "b6813d2c",
   "metadata": {},
   "outputs": [
    {
     "name": "stdout",
     "output_type": "stream",
     "text": [
      "45\n"
     ]
    }
   ],
   "source": [
    "my_list=[45,55,67,43,100]\n",
    "x=my_list[-5]\n",
    "print(x)"
   ]
  },
  {
   "cell_type": "code",
   "execution_count": 33,
   "id": "4daf5051",
   "metadata": {},
   "outputs": [
    {
     "name": "stdout",
     "output_type": "stream",
     "text": [
      "43\n"
     ]
    }
   ],
   "source": [
    "my_list=[45,55,67,43,100]\n",
    "x=my_list[3]\n",
    "print(x)"
   ]
  },
  {
   "cell_type": "code",
   "execution_count": 1,
   "id": "52e0a7dc",
   "metadata": {},
   "outputs": [
    {
     "name": "stdout",
     "output_type": "stream",
     "text": [
      "67\n"
     ]
    }
   ],
   "source": [
    "my_list=[45,55,67,43,100]\n",
    "object=my_list[-3]\n",
    "print(object)"
   ]
  },
  {
   "cell_type": "markdown",
   "id": "9fef7556",
   "metadata": {},
   "source": [
    "# middle object in list"
   ]
  },
  {
   "cell_type": "code",
   "execution_count": 2,
   "id": "b060977a",
   "metadata": {},
   "outputs": [
    {
     "name": "stdout",
     "output_type": "stream",
     "text": [
      "the middle object is True\n"
     ]
    }
   ],
   "source": [
    "my_list=[\"raj\",34,-45,True,False,4.9,]\n",
    "x=len(my_list)//2\n",
    "middle_object=my_list[x]\n",
    "print(\"the middle object is\",middle_object)"
   ]
  },
  {
   "cell_type": "code",
   "execution_count": 19,
   "id": "d13af184",
   "metadata": {},
   "outputs": [
    {
     "name": "stdout",
     "output_type": "stream",
     "text": [
      "the middle object is 43\n"
     ]
    }
   ],
   "source": [
    "my_list=[45,55,67,43,100,11,]\n",
    "\n",
    "middle_index=len(my_list)//2\n",
    "middle_object=my_list[middle_index]\n",
    "print(\"the middle object is\",middle_object)\n"
   ]
  },
  {
   "cell_type": "code",
   "execution_count": 2,
   "id": "211b3ced",
   "metadata": {},
   "outputs": [
    {
     "name": "stdout",
     "output_type": "stream",
     "text": [
      "middle item is 100\n"
     ]
    }
   ],
   "source": [
    "my_list=[45,55,67,43,100,11,124,555]\n",
    "x=len(my_list)//2\n",
    "middle_item=my_list[x]\n",
    "print(\"middle item is\",middle_item)\n"
   ]
  },
  {
   "cell_type": "code",
   "execution_count": 20,
   "id": "cc03bf85",
   "metadata": {},
   "outputs": [
    {
     "name": "stdout",
     "output_type": "stream",
     "text": [
      "43\n"
     ]
    }
   ],
   "source": [
    "my_list=[45,55,67,43,100,11,]\n",
    "x=len(my_list)//2\n",
    "middle_term=my_list[x]\n",
    "print(middle_term)"
   ]
  },
  {
   "cell_type": "code",
   "execution_count": 23,
   "id": "8f263ae4",
   "metadata": {},
   "outputs": [
    {
     "name": "stdout",
     "output_type": "stream",
     "text": [
      "the middle object is 89\n"
     ]
    }
   ],
   "source": [
    "raj=[28,45,67,89,12,34]\n",
    "middle_index=len(raj)//2\n",
    "middle_object=raj[middle_index]\n",
    "print(\"the middle object is\",middle_object)"
   ]
  },
  {
   "cell_type": "code",
   "execution_count": 16,
   "id": "2f9a161b",
   "metadata": {},
   "outputs": [
    {
     "name": "stdout",
     "output_type": "stream",
     "text": [
      "89\n"
     ]
    }
   ],
   "source": [
    "raj=[28,45,67,89,12,34]\n",
    "x=len(raj)//2\n",
    "middle_object=raj[x]\n",
    "print(middle_object)"
   ]
  },
  {
   "cell_type": "code",
   "execution_count": 6,
   "id": "8c699527",
   "metadata": {},
   "outputs": [
    {
     "name": "stdout",
     "output_type": "stream",
     "text": [
      "middle_item of my list is True\n"
     ]
    }
   ],
   "source": [
    "my_list=[\"raj\",34,-45,True,False,4.9,]\n",
    "middle_index=len(my_list)//2\n",
    "middle_item=my_list[middle_index]\n",
    "print(\"middle_item of my list is\",middle_item)"
   ]
  },
  {
   "cell_type": "code",
   "execution_count": 10,
   "id": "741821f4",
   "metadata": {},
   "outputs": [
    {
     "ename": "SyntaxError",
     "evalue": "unexpected character after line continuation character (1942316395.py, line 2)",
     "output_type": "error",
     "traceback": [
      "\u001b[1;36m  Cell \u001b[1;32mIn[10], line 2\u001b[1;36m\u001b[0m\n\u001b[1;33m    object=my_list[1\\3\\5]\u001b[0m\n\u001b[1;37m                     ^\u001b[0m\n\u001b[1;31mSyntaxError\u001b[0m\u001b[1;31m:\u001b[0m unexpected character after line continuation character\n"
     ]
    }
   ],
   "source": [
    "my_list=[1,2,3,4,5,6,7,8]\n",
    "object=my_list[1\\3\\5]\n",
    "print(object)"
   ]
  },
  {
   "cell_type": "code",
   "execution_count": 11,
   "id": "18851e12",
   "metadata": {},
   "outputs": [
    {
     "name": "stdout",
     "output_type": "stream",
     "text": [
      "2 4 6\n"
     ]
    }
   ],
   "source": [
    "my_list=[1,2,3,4,5,6,7,8]\n",
    "x=my_list[1]\n",
    "y=my_list[3]\n",
    "z=my_list[5]\n",
    "print(x,y,z)"
   ]
  },
  {
   "cell_type": "code",
   "execution_count": 4,
   "id": "6b0bf405",
   "metadata": {},
   "outputs": [
    {
     "ename": "SyntaxError",
     "evalue": "invalid syntax. Perhaps you forgot a comma? (1030589981.py, line 2)",
     "output_type": "error",
     "traceback": [
      "\u001b[1;36m  Cell \u001b[1;32mIn[4], line 2\u001b[1;36m\u001b[0m\n\u001b[1;33m    important_object=my_list[1.3.5]\u001b[0m\n\u001b[1;37m                             ^\u001b[0m\n\u001b[1;31mSyntaxError\u001b[0m\u001b[1;31m:\u001b[0m invalid syntax. Perhaps you forgot a comma?\n"
     ]
    }
   ],
   "source": [
    "my_list=[\"raj\",34,-45,True,False,4.9,]\n",
    "important_object=my_list[135]\n",
    "print(important_object)"
   ]
  },
  {
   "cell_type": "code",
   "execution_count": 13,
   "id": "76e9d306",
   "metadata": {},
   "outputs": [
    {
     "ename": "TypeError",
     "evalue": "list indices must be integers or slices, not tuple",
     "output_type": "error",
     "traceback": [
      "\u001b[1;31m---------------------------------------------------------------------------\u001b[0m",
      "\u001b[1;31mTypeError\u001b[0m                                 Traceback (most recent call last)",
      "Cell \u001b[1;32mIn[13], line 2\u001b[0m\n\u001b[0;32m      1\u001b[0m my_list\u001b[38;5;241m=\u001b[39m[\u001b[38;5;241m1\u001b[39m,\u001b[38;5;241m2\u001b[39m,\u001b[38;5;241m3\u001b[39m,\u001b[38;5;241m4\u001b[39m,\u001b[38;5;241m5\u001b[39m,\u001b[38;5;241m6\u001b[39m,\u001b[38;5;241m7\u001b[39m,\u001b[38;5;241m8\u001b[39m]\n\u001b[1;32m----> 2\u001b[0m x\u001b[38;5;241m=\u001b[39m\u001b[43mmy_list\u001b[49m\u001b[43m[\u001b[49m\u001b[38;5;124;43m\"\u001b[39;49m\u001b[38;5;124;43m1\u001b[39;49m\u001b[38;5;124;43m\"\u001b[39;49m\u001b[43m,\u001b[49m\u001b[43m \u001b[49m\u001b[38;5;124;43m\"\u001b[39;49m\u001b[38;5;124;43m3\u001b[39;49m\u001b[38;5;124;43m\"\u001b[39;49m\u001b[43m,\u001b[49m\u001b[43m  \u001b[49m\u001b[38;5;124;43m\"\u001b[39;49m\u001b[38;5;124;43m4\u001b[39;49m\u001b[38;5;124;43m\"\u001b[39;49m\u001b[43m]\u001b[49m\n\u001b[0;32m      3\u001b[0m \u001b[38;5;28mprint\u001b[39m(x)\n",
      "\u001b[1;31mTypeError\u001b[0m: list indices must be integers or slices, not tuple"
     ]
    }
   ],
   "source": [
    "my_list=[1,2,3,4,5,6,7,8]\n",
    "x=my_list[\"1\", \"3\",  \"4\"]\n",
    "print(x)"
   ]
  },
  {
   "cell_type": "code",
   "execution_count": 51,
   "id": "a04cdacf",
   "metadata": {},
   "outputs": [
    {
     "name": "stdout",
     "output_type": "stream",
     "text": [
      "(2, [2], [3])\n"
     ]
    }
   ],
   "source": [
    "my_list=[1,2,3,4,5,6,7,8]\n",
    "x=my_list[1],[2],[3]\n",
    "print(x)"
   ]
  },
  {
   "cell_type": "code",
   "execution_count": 20,
   "id": "2b52e6be",
   "metadata": {},
   "outputs": [
    {
     "ename": "SyntaxError",
     "evalue": "invalid syntax. Perhaps you forgot a comma? (1610923252.py, line 2)",
     "output_type": "error",
     "traceback": [
      "\u001b[1;36m  Cell \u001b[1;32mIn[20], line 2\u001b[1;36m\u001b[0m\n\u001b[1;33m    x=my_list[1.3.6]\u001b[0m\n\u001b[1;37m              ^\u001b[0m\n\u001b[1;31mSyntaxError\u001b[0m\u001b[1;31m:\u001b[0m invalid syntax. Perhaps you forgot a comma?\n"
     ]
    }
   ],
   "source": [
    "my_list=[1,2,3,4,5,6,7,8]\n",
    "x=my_list[1.3.6]\n",
    "print(x)"
   ]
  },
  {
   "cell_type": "code",
   "execution_count": 13,
   "id": "79d5eea2",
   "metadata": {},
   "outputs": [
    {
     "ename": "SyntaxError",
     "evalue": "invalid syntax (4207919325.py, line 2)",
     "output_type": "error",
     "traceback": [
      "\u001b[1;36m  Cell \u001b[1;32mIn[13], line 2\u001b[1;36m\u001b[0m\n\u001b[1;33m    imp_object=my_list[0]:[3]:[5]\u001b[0m\n\u001b[1;37m                         ^\u001b[0m\n\u001b[1;31mSyntaxError\u001b[0m\u001b[1;31m:\u001b[0m invalid syntax\n"
     ]
    }
   ],
   "source": [
    "my_list=[45,55,67,43,100,11,43,500]\n",
    "imp_object=my_list[0]:[3]:[5]\n",
    "print(imp_object)"
   ]
  },
  {
   "cell_type": "code",
   "execution_count": 46,
   "id": "81968419",
   "metadata": {},
   "outputs": [
    {
     "name": "stdout",
     "output_type": "stream",
     "text": [
      "[2]\n"
     ]
    }
   ],
   "source": [
    "my_list=[1,2,7,4,9,6,7,8]\n",
    "x=my_list[1:3:5]\n",
    "print(x)"
   ]
  },
  {
   "cell_type": "code",
   "execution_count": 31,
   "id": "496bad27",
   "metadata": {},
   "outputs": [
    {
     "ename": "TypeError",
     "evalue": "'int' object is not subscriptable",
     "output_type": "error",
     "traceback": [
      "\u001b[1;31m---------------------------------------------------------------------------\u001b[0m",
      "\u001b[1;31mTypeError\u001b[0m                                 Traceback (most recent call last)",
      "Cell \u001b[1;32mIn[31], line 2\u001b[0m\n\u001b[0;32m      1\u001b[0m my_list\u001b[38;5;241m=\u001b[39m[\u001b[38;5;241m1\u001b[39m,\u001b[38;5;241m2\u001b[39m,\u001b[38;5;241m7\u001b[39m,\u001b[38;5;241m4\u001b[39m,\u001b[38;5;241m9\u001b[39m,\u001b[38;5;241m6\u001b[39m,\u001b[38;5;241m7\u001b[39m,\u001b[38;5;241m8\u001b[39m]\n\u001b[1;32m----> 2\u001b[0m x\u001b[38;5;241m=\u001b[39m\u001b[43mmy_list\u001b[49m\u001b[43m[\u001b[49m\u001b[38;5;241;43m1\u001b[39;49m\u001b[43m]\u001b[49m\u001b[43m \u001b[49m\u001b[43m\\\u001b[49m\n\u001b[0;32m      3\u001b[0m \u001b[43m        \u001b[49m\u001b[43m[\u001b[49m\u001b[38;5;241;43m3\u001b[39;49m\u001b[43m]\u001b[49m\\\n\u001b[0;32m      4\u001b[0m         [\u001b[38;5;241m-\u001b[39m\u001b[38;5;241m5\u001b[39m]\n\u001b[0;32m      5\u001b[0m \u001b[38;5;28mprint\u001b[39m(x)\n",
      "\u001b[1;31mTypeError\u001b[0m: 'int' object is not subscriptable"
     ]
    }
   ],
   "source": [
    "my_list=[1,2,7,4,9,6,7,8]\n",
    "x=my_list[1] \\\n",
    "        [3]\\\n",
    "        [-5]\n",
    "print(x)"
   ]
  },
  {
   "cell_type": "code",
   "execution_count": 6,
   "id": "a4732dec",
   "metadata": {},
   "outputs": [
    {
     "name": "stdout",
     "output_type": "stream",
     "text": [
      "(2, [3], [5])\n"
     ]
    }
   ],
   "source": [
    "my_list=[1,2,7,4,9,6,7,8]\n",
    "x=my_list [1],[3],[5]\n",
    "print(x)"
   ]
  },
  {
   "cell_type": "code",
   "execution_count": 52,
   "id": "c363e37c",
   "metadata": {},
   "outputs": [
    {
     "ename": "TypeError",
     "evalue": "'builtin_function_or_method' object is not subscriptable",
     "output_type": "error",
     "traceback": [
      "\u001b[1;31m---------------------------------------------------------------------------\u001b[0m",
      "\u001b[1;31mTypeError\u001b[0m                                 Traceback (most recent call last)",
      "Cell \u001b[1;32mIn[52], line 2\u001b[0m\n\u001b[0;32m      1\u001b[0m my_list\u001b[38;5;241m=\u001b[39m[\u001b[38;5;241m45\u001b[39m,\u001b[38;5;241m55\u001b[39m,\u001b[38;5;241m67\u001b[39m,\u001b[38;5;241m43\u001b[39m,\u001b[38;5;241m100\u001b[39m]\n\u001b[1;32m----> 2\u001b[0m x\u001b[38;5;241m=\u001b[39m\u001b[38;5;28;43mprint\u001b[39;49m\u001b[43m[\u001b[49m\u001b[38;5;241;43m1\u001b[39;49m\u001b[43m,\u001b[49m\u001b[38;5;241;43m2\u001b[39;49m\u001b[43m,\u001b[49m\u001b[38;5;241;43m3\u001b[39;49m\u001b[43m]\u001b[49m\n",
      "\u001b[1;31mTypeError\u001b[0m: 'builtin_function_or_method' object is not subscriptable"
     ]
    }
   ],
   "source": [
    "my_list=[45,55,67,43,100]\n",
    "x=print[1,2,3]"
   ]
  },
  {
   "cell_type": "code",
   "execution_count": 33,
   "id": "25cd95aa",
   "metadata": {},
   "outputs": [
    {
     "name": "stdout",
     "output_type": "stream",
     "text": [
      "(55, 43, 2)\n"
     ]
    }
   ],
   "source": [
    "my_list=[45,55,67,43,100,2,4,]\n",
    "x=my_list[1],my_list[3],my_list[5]\n",
    "print(x)"
   ]
  },
  {
   "cell_type": "code",
   "execution_count": 56,
   "id": "c6983a6a",
   "metadata": {},
   "outputs": [
    {
     "ename": "TypeError",
     "evalue": "list indices must be integers or slices, not tuple",
     "output_type": "error",
     "traceback": [
      "\u001b[1;31m---------------------------------------------------------------------------\u001b[0m",
      "\u001b[1;31mTypeError\u001b[0m                                 Traceback (most recent call last)",
      "Cell \u001b[1;32mIn[56], line 2\u001b[0m\n\u001b[0;32m      1\u001b[0m my_list\u001b[38;5;241m=\u001b[39m[\u001b[38;5;241m45\u001b[39m,\u001b[38;5;241m55\u001b[39m,\u001b[38;5;241m67\u001b[39m,\u001b[38;5;241m43\u001b[39m,\u001b[38;5;241m100\u001b[39m,\u001b[38;5;241m2\u001b[39m,\u001b[38;5;241m4\u001b[39m,]\n\u001b[1;32m----> 2\u001b[0m x\u001b[38;5;241m=\u001b[39m\u001b[43mmy_list\u001b[49m\u001b[43m[\u001b[49m\u001b[38;5;241;43m1\u001b[39;49m\u001b[43m,\u001b[49m\u001b[38;5;241;43m2\u001b[39;49m\u001b[43m,\u001b[49m\u001b[38;5;241;43m3\u001b[39;49m\u001b[43m]\u001b[49m\n\u001b[0;32m      3\u001b[0m \u001b[38;5;28mprint\u001b[39m(x)\n",
      "\u001b[1;31mTypeError\u001b[0m: list indices must be integers or slices, not tuple"
     ]
    }
   ],
   "source": [
    "my_list=[45,55,67,43,100,2,4,]\n",
    "x=my_list[1,2,3]\n",
    "print(x)"
   ]
  },
  {
   "cell_type": "code",
   "execution_count": 4,
   "id": "b57715ae",
   "metadata": {},
   "outputs": [
    {
     "name": "stdout",
     "output_type": "stream",
     "text": [
      "(45, 55, 100)\n"
     ]
    }
   ],
   "source": [
    "my_list=[45,55,67,43,100,55,67,100,25,55,]\n",
    "x=my_list[0],my_list[5],my_list[-6]\n",
    "print(x)"
   ]
  },
  {
   "cell_type": "code",
   "execution_count": 5,
   "id": "a5b61cf5",
   "metadata": {},
   "outputs": [
    {
     "ename": "TypeError",
     "evalue": "'list' object is not callable",
     "output_type": "error",
     "traceback": [
      "\u001b[1;31m---------------------------------------------------------------------------\u001b[0m",
      "\u001b[1;31mTypeError\u001b[0m                                 Traceback (most recent call last)",
      "Cell \u001b[1;32mIn[5], line 2\u001b[0m\n\u001b[0;32m      1\u001b[0m my_list\u001b[38;5;241m=\u001b[39m[\u001b[38;5;241m45\u001b[39m,\u001b[38;5;241m55\u001b[39m,\u001b[38;5;241m67\u001b[39m,\u001b[38;5;241m43\u001b[39m,\u001b[38;5;241m100\u001b[39m,\u001b[38;5;241m55\u001b[39m,\u001b[38;5;241m67\u001b[39m,\u001b[38;5;241m100\u001b[39m,\u001b[38;5;241m25\u001b[39m,\u001b[38;5;241m55\u001b[39m,]\n\u001b[1;32m----> 2\u001b[0m important_object\u001b[38;5;241m=\u001b[39m\u001b[43mmy_list\u001b[49m\u001b[43m(\u001b[49m\u001b[43m[\u001b[49m\u001b[38;5;241;43m1\u001b[39;49m\u001b[43m,\u001b[49m\u001b[38;5;241;43m4\u001b[39;49m\u001b[43m,\u001b[49m\u001b[38;5;241;43m5\u001b[39;49m\u001b[43m]\u001b[49m\u001b[43m)\u001b[49m\n\u001b[0;32m      3\u001b[0m \u001b[38;5;28mprint\u001b[39m(important_object)\n",
      "\u001b[1;31mTypeError\u001b[0m: 'list' object is not callable"
     ]
    }
   ],
   "source": [
    "my_list=[45,55,67,43,100,55,67,100,25,55,]\n",
    "important_object=my_list([1,4,5])\n",
    "print(important_object)"
   ]
  },
  {
   "cell_type": "code",
   "execution_count": 45,
   "id": "91667287",
   "metadata": {},
   "outputs": [
    {
     "ename": "TypeError",
     "evalue": "list indices must be integers or slices, not tuple",
     "output_type": "error",
     "traceback": [
      "\u001b[1;31m---------------------------------------------------------------------------\u001b[0m",
      "\u001b[1;31mTypeError\u001b[0m                                 Traceback (most recent call last)",
      "Cell \u001b[1;32mIn[45], line 2\u001b[0m\n\u001b[0;32m      1\u001b[0m my_list\u001b[38;5;241m=\u001b[39m[\u001b[38;5;241m45\u001b[39m,\u001b[38;5;241m55\u001b[39m,\u001b[38;5;241m67\u001b[39m,\u001b[38;5;241m43\u001b[39m,\u001b[38;5;241m100\u001b[39m,\u001b[38;5;241m55\u001b[39m,\u001b[38;5;241m67\u001b[39m,\u001b[38;5;241m100\u001b[39m,\u001b[38;5;241m25\u001b[39m,\u001b[38;5;241m55\u001b[39m,] \n\u001b[1;32m----> 2\u001b[0m x\u001b[38;5;241m=\u001b[39m\u001b[43mmy_list\u001b[49m\u001b[43m[\u001b[49m\u001b[38;5;241;43m3\u001b[39;49m\u001b[43m,\u001b[49m\u001b[38;5;241;43m5\u001b[39;49m\u001b[43m,\u001b[49m\u001b[38;5;241;43m7\u001b[39;49m\u001b[43m]\u001b[49m\n\u001b[0;32m      3\u001b[0m \u001b[38;5;28mprint\u001b[39m(x)\n",
      "\u001b[1;31mTypeError\u001b[0m: list indices must be integers or slices, not tuple"
     ]
    }
   ],
   "source": [
    "my_list=[45,55,67,43,100,55,67,100,25,55,] \n",
    "x=my_list[3,5,7]\n",
    "print(x)"
   ]
  },
  {
   "cell_type": "code",
   "execution_count": 41,
   "id": "67a7e4b5",
   "metadata": {},
   "outputs": [
    {
     "name": "stdout",
     "output_type": "stream",
     "text": [
      "<class 'NoneType'>\n"
     ]
    }
   ],
   "source": [
    "print(type(x))"
   ]
  },
  {
   "cell_type": "code",
   "execution_count": 49,
   "id": "56caf25b",
   "metadata": {},
   "outputs": [
    {
     "name": "stdout",
     "output_type": "stream",
     "text": [
      "[]\n"
     ]
    }
   ],
   "source": [
    "my_list=[45,55,67,43,100]                 #if we use print as a varibale so type of data is always none type\n",
    "x=print([])"
   ]
  },
  {
   "cell_type": "code",
   "execution_count": 44,
   "id": "1406399f",
   "metadata": {},
   "outputs": [
    {
     "name": "stdout",
     "output_type": "stream",
     "text": [
      "<class 'NoneType'>\n"
     ]
    }
   ],
   "source": [
    "print(type(x))"
   ]
  },
  {
   "cell_type": "code",
   "execution_count": 45,
   "id": "67c97865",
   "metadata": {},
   "outputs": [
    {
     "name": "stdout",
     "output_type": "stream",
     "text": [
      "<class 'list'>\n"
     ]
    }
   ],
   "source": [
    "print(type([]))"
   ]
  },
  {
   "cell_type": "code",
   "execution_count": 48,
   "id": "21b9d749",
   "metadata": {},
   "outputs": [
    {
     "name": "stdout",
     "output_type": "stream",
     "text": [
      "[67, 43, 100]\n"
     ]
    }
   ],
   "source": [
    "my_list=[45,55,67,43,100,55,67]            # \n",
    "print(my_list[2:5])"
   ]
  },
  {
   "cell_type": "code",
   "execution_count": 4,
   "id": "c18438da",
   "metadata": {},
   "outputs": [
    {
     "name": "stdout",
     "output_type": "stream",
     "text": [
      "[45]\n"
     ]
    }
   ],
   "source": [
    "my_list=[45,55,67,43,100,55,67]   \n",
    "print(my_list[0:-6])"
   ]
  },
  {
   "cell_type": "code",
   "execution_count": 5,
   "id": "eb7f6e9a",
   "metadata": {},
   "outputs": [
    {
     "name": "stdout",
     "output_type": "stream",
     "text": [
      "[45, 55, 67, 43, 100, 55, 67]\n"
     ]
    }
   ],
   "source": [
    "my_list=[45,55,67,43,100,55,67,100,25,55,]\n",
    "print(my_list[:7])"
   ]
  },
  {
   "cell_type": "code",
   "execution_count": 6,
   "id": "44658e86",
   "metadata": {},
   "outputs": [
    {
     "name": "stdout",
     "output_type": "stream",
     "text": [
      "[45, 55, 67, 43, 100]\n"
     ]
    }
   ],
   "source": [
    "my_list=[45,55,67,43,100,55,67,100,25,55,]\n",
    "important_object=my_list[0:5]\n",
    "print(important_object)"
   ]
  },
  {
   "cell_type": "markdown",
   "id": "72a73828",
   "metadata": {},
   "source": [
    "\n",
    "# syntax of slicing\n",
    "\n",
    "- listname[start_index:end_index:step]\n"
   ]
  },
  {
   "cell_type": "code",
   "execution_count": 8,
   "id": "19f8fe0b",
   "metadata": {},
   "outputs": [
    {
     "name": "stdout",
     "output_type": "stream",
     "text": [
      "[55, 43]\n"
     ]
    }
   ],
   "source": [
    "my_list=[45,55,67,43,100,55,67,100,25,55,]\n",
    "x=my_list[1:5:2]\n",
    "print(x)"
   ]
  },
  {
   "cell_type": "code",
   "execution_count": 59,
   "id": "61b618ff",
   "metadata": {},
   "outputs": [
    {
     "name": "stdout",
     "output_type": "stream",
     "text": [
      "[25, 100, 67, 55, 100, 43]\n"
     ]
    }
   ],
   "source": [
    "my_list=[45,55,67,43,100,55,67,100,25,55,]\n",
    "object=my_list[-2:-8:-1]\n",
    "print(object)"
   ]
  },
  {
   "cell_type": "code",
   "execution_count": 9,
   "id": "c5cc0cec",
   "metadata": {},
   "outputs": [
    {
     "name": "stdout",
     "output_type": "stream",
     "text": [
      "[67, 55, 100, 43]\n"
     ]
    }
   ],
   "source": [
    "my_list=[45,55,67,43,100,55,67,100,25,55,]\n",
    "object=my_list[-4:-8:-1]\n",
    "print(object)"
   ]
  },
  {
   "cell_type": "code",
   "execution_count": 7,
   "id": "482d1cb1",
   "metadata": {},
   "outputs": [
    {
     "name": "stdout",
     "output_type": "stream",
     "text": [
      "[25, 67]\n"
     ]
    }
   ],
   "source": [
    "my_list=[45,55,67,43,100,55,67,100,25,55,]\n",
    "object=my_list[-2:-5:-2]\n",
    "print(object)"
   ]
  },
  {
   "cell_type": "code",
   "execution_count": 6,
   "id": "d6f42c6b",
   "metadata": {},
   "outputs": [
    {
     "name": "stdout",
     "output_type": "stream",
     "text": [
      "[55, 43]\n"
     ]
    }
   ],
   "source": [
    "my_list=[45,55,67,43,100,55,67,100,25,55,]\n",
    "object=my_list[1:-6:2]\n",
    "print(object)"
   ]
  },
  {
   "cell_type": "code",
   "execution_count": 12,
   "id": "712b1ddc",
   "metadata": {},
   "outputs": [
    {
     "name": "stdout",
     "output_type": "stream",
     "text": [
      "[55, 100]\n"
     ]
    }
   ],
   "source": [
    "my_list=[45,55,67,43,100,55,67,100,25,55,]\n",
    "object=my_list[-1:6:-2]\n",
    "print(object)"
   ]
  },
  {
   "cell_type": "code",
   "execution_count": 13,
   "id": "89cfcbea",
   "metadata": {},
   "outputs": [
    {
     "name": "stdout",
     "output_type": "stream",
     "text": [
      "[45, 55, 67, 43, 100, 55, 67]\n"
     ]
    }
   ],
   "source": [
    "my_list=[45,55,67,43,100,55,67,100,25,55,]\n",
    "object=my_list[:7]\n",
    "print(object)"
   ]
  },
  {
   "cell_type": "code",
   "execution_count": 14,
   "id": "39ab73aa",
   "metadata": {},
   "outputs": [
    {
     "name": "stdout",
     "output_type": "stream",
     "text": [
      "[45, 55, 67, 43, 100, 55, 67]\n"
     ]
    }
   ],
   "source": [
    "my_list=[45,55,67,43,100,55,67,100,25,55,]\n",
    "object=my_list[0:7]\n",
    "print(object)"
   ]
  },
  {
   "cell_type": "code",
   "execution_count": 18,
   "id": "c4116975",
   "metadata": {},
   "outputs": [
    {
     "name": "stdout",
     "output_type": "stream",
     "text": [
      "10\n",
      "[45, 55, 67, 43, 100, 55, 67, 100, 25, 55]\n"
     ]
    }
   ],
   "source": [
    "my_list=[45,55,67,43,100,55,67,100,25,55,]\n",
    "print(len(my_list))\n",
    "x=my_list[:10]\n",
    "print(x)"
   ]
  },
  {
   "cell_type": "code",
   "execution_count": 20,
   "id": "9f01bcee",
   "metadata": {},
   "outputs": [
    {
     "name": "stdout",
     "output_type": "stream",
     "text": [
      "10\n",
      "[55, 67, 43, 100, 55, 67, 100, 25, 55]\n"
     ]
    }
   ],
   "source": [
    "my_list=[45,55,67,43,100,55,67,100,25,55,]\n",
    "print(len(my_list))\n",
    "x=my_list[1:10]\n",
    "print(x)"
   ]
  },
  {
   "cell_type": "code",
   "execution_count": 22,
   "id": "416f527c",
   "metadata": {},
   "outputs": [
    {
     "name": "stdout",
     "output_type": "stream",
     "text": [
      "10\n",
      "[45, 55, 67, 43, 100, 55, 67, 100, 25]\n"
     ]
    }
   ],
   "source": [
    "my_list=[45,55,67,43,100,55,67,100,25,55,]\n",
    "print(len(my_list))\n",
    "x=my_list[0:9]\n",
    "print(x)"
   ]
  },
  {
   "cell_type": "code",
   "execution_count": 24,
   "id": "7cdabec3",
   "metadata": {},
   "outputs": [
    {
     "name": "stdout",
     "output_type": "stream",
     "text": [
      "10\n",
      "[45, 55, 67, 43, 100, 55]\n"
     ]
    }
   ],
   "source": [
    "my_list=[45,55,67,43,100,55,67,100,25,55,]\n",
    "print(len(my_list))\n",
    "x=my_list[:6]\n",
    "print(x)"
   ]
  },
  {
   "cell_type": "code",
   "execution_count": 25,
   "id": "bafdc439",
   "metadata": {},
   "outputs": [
    {
     "name": "stdout",
     "output_type": "stream",
     "text": [
      "10\n",
      "[45, 55, 67, 43, 100, 55, 67, 100, 25, 55]\n"
     ]
    }
   ],
   "source": [
    "my_list=[45,55,67,43,100,55,67,100,25,55,]\n",
    "print(len(my_list))\n",
    "x=my_list[0:10]\n",
    "print(x)"
   ]
  },
  {
   "cell_type": "code",
   "execution_count": 28,
   "id": "922e5b53",
   "metadata": {},
   "outputs": [
    {
     "name": "stdout",
     "output_type": "stream",
     "text": [
      "[45, 67, 100, 67, 25]\n"
     ]
    }
   ],
   "source": [
    "my_list=[45,55,67,43,100,55,67,100,25,55,]\n",
    "x=my_list[::2]\n",
    "print(x)"
   ]
  },
  {
   "cell_type": "code",
   "execution_count": 30,
   "id": "d1fe7ba7",
   "metadata": {},
   "outputs": [
    {
     "ename": "SyntaxError",
     "evalue": "invalid syntax (4264790472.py, line 2)",
     "output_type": "error",
     "traceback": [
      "\u001b[1;36m  Cell \u001b[1;32mIn[30], line 2\u001b[1;36m\u001b[0m\n\u001b[1;33m    x=my_list[:::]\u001b[0m\n\u001b[1;37m                ^\u001b[0m\n\u001b[1;31mSyntaxError\u001b[0m\u001b[1;31m:\u001b[0m invalid syntax\n"
     ]
    }
   ],
   "source": [
    "my_list=[45,55,67,43,100,55,67,100,25,55,]\n",
    "x=my_list[:::]\n",
    "print(x)"
   ]
  },
  {
   "cell_type": "code",
   "execution_count": 1,
   "id": "26eaa23d",
   "metadata": {},
   "outputs": [
    {
     "name": "stdout",
     "output_type": "stream",
     "text": [
      "[43, 100, 55, 67, 100, 25, 55]\n"
     ]
    }
   ],
   "source": [
    "my_list=[45,55,67,43,100,55,67,100,25,55,]\n",
    "x=my_list[3:]\n",
    "print(x)"
   ]
  },
  {
   "cell_type": "code",
   "execution_count": 2,
   "id": "9b5122d9",
   "metadata": {},
   "outputs": [
    {
     "name": "stdout",
     "output_type": "stream",
     "text": [
      "55\n"
     ]
    }
   ],
   "source": [
    "my_list=[45,55,67,43,100,55,67,100,25,55,]\n",
    "object=55\n",
    "if object in my_list:\n",
    "    print(object)\n",
    "else:\n",
    "    print(\"nothing\")"
   ]
  },
  {
   "cell_type": "markdown",
   "id": "dc965bd5",
   "metadata": {},
   "source": [
    "# Iterating a list"
   ]
  },
  {
   "cell_type": "code",
   "execution_count": 4,
   "id": "aa948718",
   "metadata": {},
   "outputs": [
    {
     "name": "stdout",
     "output_type": "stream",
     "text": [
      "45\n",
      "55\n",
      "67\n",
      "43\n",
      "100\n",
      "55\n",
      "67\n",
      "100\n",
      "25\n",
      "55\n"
     ]
    }
   ],
   "source": [
    "my_list=[45,55,67,43,100,55,67,100,25,55,]             # This is called a iterate a list\n",
    "for item in my_list:\n",
    "    print(item)"
   ]
  },
  {
   "cell_type": "code",
   "execution_count": 9,
   "id": "83bc6661",
   "metadata": {},
   "outputs": [
    {
     "name": "stdout",
     "output_type": "stream",
     "text": [
      "45\n",
      "55\n",
      "67\n",
      "43\n",
      "100\n",
      "55\n",
      "67\n",
      "100\n",
      "25\n",
      "55\n"
     ]
    }
   ],
   "source": [
    "my_list=[45,55,67,43,100,55,67,100,25,55,]  \n",
    "for x in my_list:\n",
    "    print(x)"
   ]
  },
  {
   "cell_type": "code",
   "execution_count": 10,
   "id": "ee8c0d0d",
   "metadata": {},
   "outputs": [
    {
     "name": "stdout",
     "output_type": "stream",
     "text": [
      "45\n",
      "55\n",
      "67\n",
      "43\n",
      "100\n",
      "55\n",
      "67\n",
      "100\n",
      "25\n",
      "55\n"
     ]
    }
   ],
   "source": [
    "my_list=[45,55,67,43,100,55,67,100,25,55,]    \n",
    "\n",
    "for x in my_list:\n",
    "    print(x)"
   ]
  },
  {
   "cell_type": "code",
   "execution_count": 6,
   "id": "a4f93b0c",
   "metadata": {},
   "outputs": [
    {
     "name": "stdout",
     "output_type": "stream",
     "text": [
      "45\n",
      "55\n",
      "67\n",
      "43\n",
      "100\n",
      "55\n",
      "67\n",
      "100\n",
      "25\n",
      "55\n"
     ]
    }
   ],
   "source": [
    "my_list=[45,55,67,43,100,55,67,100,25,55,]    \n",
    "\n",
    "for x in my_list:\n",
    "    print(x)"
   ]
  },
  {
   "cell_type": "code",
   "execution_count": 11,
   "id": "fd8f6385",
   "metadata": {},
   "outputs": [
    {
     "ename": "SyntaxError",
     "evalue": "invalid syntax (691714302.py, line 3)",
     "output_type": "error",
     "traceback": [
      "\u001b[1;36m  Cell \u001b[1;32mIn[11], line 3\u001b[1;36m\u001b[0m\n\u001b[1;33m    for x not in my_list:\u001b[0m\n\u001b[1;37m          ^\u001b[0m\n\u001b[1;31mSyntaxError\u001b[0m\u001b[1;31m:\u001b[0m invalid syntax\n"
     ]
    }
   ],
   "source": [
    "my_list=[45,55,67,43,100,55,67,100,25,55,] \n",
    "x=100\n",
    "for x not in my_list:\n",
    "    print(\"yes\""
   ]
  },
  {
   "cell_type": "code",
   "execution_count": null,
   "id": "60a92dd1",
   "metadata": {},
   "outputs": [],
   "source": [
    "my_list=[4.5,100,55,67j,100,25,55,\"raj\"] "
   ]
  },
  {
   "cell_type": "markdown",
   "id": "ba943725",
   "metadata": {},
   "source": [
    "# Adding element to the list- we can  add a new element in a list using this methods such aas \n",
    "\n",
    "1.append(object)=add the item in the end of the list.and take only one argument.\n",
    "\n",
    "\n",
    "2.insert(index,object)=add the item in the specific position or indexing and take only one argument."
   ]
  },
  {
   "cell_type": "code",
   "execution_count": 23,
   "id": "b4cf58d1",
   "metadata": {},
   "outputs": [
    {
     "name": "stdout",
     "output_type": "stream",
     "text": [
      "2338292436480\n",
      "2338292436480\n",
      "[45, 55, 67, 43, 100, 55, 67, 100, 25, 55, 'raj']\n"
     ]
    }
   ],
   "source": [
    "my_list=[45,55,67,43,100,55,67,100,25,55,] \n",
    "print(id(my_list))\n",
    "my_list.append(\"raj\")\n",
    "print(id(my_list))\n",
    "print(my_list)"
   ]
  },
  {
   "cell_type": "code",
   "execution_count": 22,
   "id": "e8b2ba0f",
   "metadata": {},
   "outputs": [
    {
     "name": "stdout",
     "output_type": "stream",
     "text": [
      "[45, 55, 67, 43, 100, 55, 67, 100, 25, 55, 'yes']\n"
     ]
    }
   ],
   "source": [
    "my_list=[45,55,67,43,100,55,67,100,25,55,]\n",
    "my_list.append(\"yes\")\n",
    "print(my_list)"
   ]
  },
  {
   "cell_type": "code",
   "execution_count": 32,
   "id": "9fd37b6d",
   "metadata": {},
   "outputs": [
    {
     "name": "stdout",
     "output_type": "stream",
     "text": [
      "[45, 55, 67, 43, 100, 55, 67, 100, 25, 55, 'raj']\n"
     ]
    }
   ],
   "source": [
    "print(my_list)"
   ]
  },
  {
   "cell_type": "code",
   "execution_count": 34,
   "id": "777ac8d1",
   "metadata": {},
   "outputs": [
    {
     "ename": "TypeError",
     "evalue": "list.append() takes exactly one argument (2 given)",
     "output_type": "error",
     "traceback": [
      "\u001b[1;31m---------------------------------------------------------------------------\u001b[0m",
      "\u001b[1;31mTypeError\u001b[0m                                 Traceback (most recent call last)",
      "Cell \u001b[1;32mIn[34], line 2\u001b[0m\n\u001b[0;32m      1\u001b[0m my_list\u001b[38;5;241m=\u001b[39m[\u001b[38;5;241m45\u001b[39m, \u001b[38;5;241m55\u001b[39m, \u001b[38;5;241m67\u001b[39m, \u001b[38;5;241m43\u001b[39m, \u001b[38;5;241m100\u001b[39m, \u001b[38;5;241m55\u001b[39m, \u001b[38;5;241m67\u001b[39m, \u001b[38;5;241m100\u001b[39m, \u001b[38;5;241m25\u001b[39m, \u001b[38;5;241m55\u001b[39m, \u001b[38;5;124m'\u001b[39m\u001b[38;5;124mraj\u001b[39m\u001b[38;5;124m'\u001b[39m]\n\u001b[1;32m----> 2\u001b[0m \u001b[43mmy_list\u001b[49m\u001b[38;5;241;43m.\u001b[39;49m\u001b[43mappend\u001b[49m\u001b[43m(\u001b[49m\u001b[38;5;241;43m28\u001b[39;49m\u001b[43m,\u001b[49m\u001b[38;5;241;43m76\u001b[39;49m\u001b[43m)\u001b[49m\n\u001b[0;32m      3\u001b[0m \u001b[38;5;28mprint\u001b[39m(my_list)\n",
      "\u001b[1;31mTypeError\u001b[0m: list.append() takes exactly one argument (2 given)"
     ]
    }
   ],
   "source": [
    "my_list=[45, 55, 67, 43, 100, 55, 67, 100, 25, 55, 'raj']         # append takes only one argument at a time \n",
    "my_list.append(28,76)\n",
    "print(my_list)"
   ]
  },
  {
   "cell_type": "code",
   "execution_count": 61,
   "id": "a9192926",
   "metadata": {},
   "outputs": [
    {
     "name": "stdout",
     "output_type": "stream",
     "text": [
      "2772051960192\n"
     ]
    }
   ],
   "source": [
    "print(id(my_list))"
   ]
  },
  {
   "cell_type": "code",
   "execution_count": 27,
   "id": "e309ef37",
   "metadata": {},
   "outputs": [
    {
     "name": "stdout",
     "output_type": "stream",
     "text": [
      "[100, 'raj', 'arya', 10j, [...]]\n"
     ]
    }
   ],
   "source": [
    "my_list=[45,55,67,43,100,55,67,100,25,55,] \n",
    "my_list=[100, 'raj', 'arya', 10j]\n",
    "my_list.append(my_list)\n",
    "print(my_list)"
   ]
  },
  {
   "cell_type": "code",
   "execution_count": 67,
   "id": "1d24fc65",
   "metadata": {},
   "outputs": [
    {
     "name": "stdout",
     "output_type": "stream",
     "text": [
      "2772051916352\n"
     ]
    }
   ],
   "source": [
    "print(id(my_list))"
   ]
  },
  {
   "cell_type": "code",
   "execution_count": 68,
   "id": "596bd13e",
   "metadata": {},
   "outputs": [
    {
     "name": "stdout",
     "output_type": "stream",
     "text": [
      "[45, 55, 67, 43, 100, 55, 67, 100, 25, 55, 'raj arya']\n"
     ]
    }
   ],
   "source": [
    "my_list=[45,55,67,43,100,55,67,100,25,55,] \n",
    "my_list.append(\"raj arya\")\n",
    "print(my_list)"
   ]
  },
  {
   "cell_type": "code",
   "execution_count": 69,
   "id": "d12801d6",
   "metadata": {},
   "outputs": [
    {
     "name": "stdout",
     "output_type": "stream",
     "text": [
      "2772052045120\n"
     ]
    }
   ],
   "source": [
    "print(id(my_list))"
   ]
  },
  {
   "cell_type": "code",
   "execution_count": 64,
   "id": "2aa3e0f7",
   "metadata": {},
   "outputs": [
    {
     "name": "stdout",
     "output_type": "stream",
     "text": [
      "[45, 55, 67, 43, 100, 55, 67, 100, 25, 55, 'raj arya']\n"
     ]
    }
   ],
   "source": [
    "my_list=[45,55,67,43,100,55,67,100,25,55,] \n",
    "my_list.append(\"raj arya\")\n",
    "print(my_list)"
   ]
  },
  {
   "cell_type": "code",
   "execution_count": 65,
   "id": "c155545a",
   "metadata": {},
   "outputs": [
    {
     "name": "stdout",
     "output_type": "stream",
     "text": [
      "2772051963456\n"
     ]
    }
   ],
   "source": [
    "print(id(my_list))"
   ]
  },
  {
   "cell_type": "code",
   "execution_count": 13,
   "id": "e87f5e9f",
   "metadata": {},
   "outputs": [
    {
     "name": "stdout",
     "output_type": "stream",
     "text": [
      "2726652695680\n"
     ]
    }
   ],
   "source": [
    "print(id(my_list))"
   ]
  },
  {
   "cell_type": "code",
   "execution_count": 16,
   "id": "33aa8e61",
   "metadata": {},
   "outputs": [
    {
     "name": "stdout",
     "output_type": "stream",
     "text": [
      "[45, 55, 67, 43, 100, 55, 67, 100, 25, 55, 'raj']\n"
     ]
    }
   ],
   "source": [
    "my_list=[45,55,67,43,100,55,67,100,25,55,] \n",
    "z=my_list.append(\"raj\")\n",
    "print(my_list)"
   ]
  },
  {
   "cell_type": "code",
   "execution_count": 19,
   "id": "6cc56fce",
   "metadata": {},
   "outputs": [
    {
     "name": "stdout",
     "output_type": "stream",
     "text": [
      "140722913963712\n"
     ]
    }
   ],
   "source": [
    "print(id(z))"
   ]
  },
  {
   "cell_type": "code",
   "execution_count": 18,
   "id": "929fe062",
   "metadata": {},
   "outputs": [
    {
     "name": "stdout",
     "output_type": "stream",
     "text": [
      "2726681291136\n"
     ]
    }
   ],
   "source": [
    "print(id(my_list))"
   ]
  },
  {
   "cell_type": "code",
   "execution_count": 20,
   "id": "1bbb6a80",
   "metadata": {},
   "outputs": [
    {
     "name": "stdout",
     "output_type": "stream",
     "text": [
      "[45, 55, 67, 43, 100, 55, 67, 100, 25, 55, 'raj']\n"
     ]
    }
   ],
   "source": [
    "my_list=[45,55,67,43,100,55,67,100,25,55,] \n",
    "my_list.append(\"raj\")\n",
    "print(my_list)"
   ]
  },
  {
   "cell_type": "code",
   "execution_count": 24,
   "id": "75c0f7fc",
   "metadata": {},
   "outputs": [
    {
     "name": "stdout",
     "output_type": "stream",
     "text": [
      "2726646802624\n"
     ]
    }
   ],
   "source": [
    "print(id(my_list))"
   ]
  },
  {
   "cell_type": "code",
   "execution_count": 33,
   "id": "c21aed99",
   "metadata": {},
   "outputs": [
    {
     "name": "stdout",
     "output_type": "stream",
     "text": [
      "[45, 55, 67, 43, 100, 55, 67, 100, 25, 55, 'raj']\n"
     ]
    }
   ],
   "source": [
    "x=[5,55,67,43,100,55,67,100,25,55,] \n",
    "x.append(\"raj\")\n",
    "print(my_list)"
   ]
  },
  {
   "cell_type": "code",
   "execution_count": 31,
   "id": "0e3cb500",
   "metadata": {},
   "outputs": [
    {
     "name": "stdout",
     "output_type": "stream",
     "text": [
      "2726681630592\n"
     ]
    }
   ],
   "source": [
    "print(id(x))"
   ]
  },
  {
   "cell_type": "code",
   "execution_count": 32,
   "id": "de7c2735",
   "metadata": {},
   "outputs": [
    {
     "name": "stdout",
     "output_type": "stream",
     "text": [
      "2726646802624\n"
     ]
    }
   ],
   "source": [
    "print(id(my_list))"
   ]
  },
  {
   "cell_type": "code",
   "execution_count": 9,
   "id": "e3745fa7",
   "metadata": {},
   "outputs": [
    {
     "name": "stdout",
     "output_type": "stream",
     "text": [
      "[45, 55, 67, 43, 100, 55, 67, 100, 25, 55, 'raj']\n"
     ]
    }
   ],
   "source": [
    "my_list=[45,55,67,43,100,55,67,100,25,55,] \n",
    "my_list.append(\"raj\")\n",
    "print(my_list)"
   ]
  },
  {
   "cell_type": "code",
   "execution_count": 11,
   "id": "56db16d4",
   "metadata": {},
   "outputs": [
    {
     "name": "stdout",
     "output_type": "stream",
     "text": [
      "[45, 55, 67, 43, 100, 55, 67, 100, 25, 55]\n"
     ]
    }
   ],
   "source": [
    "z=[45,55,67,43,100,55,67,100,25,55,] \n",
    "print(z)"
   ]
  },
  {
   "cell_type": "code",
   "execution_count": 12,
   "id": "7fa282b2",
   "metadata": {},
   "outputs": [
    {
     "name": "stdout",
     "output_type": "stream",
     "text": [
      "2086206845760\n"
     ]
    }
   ],
   "source": [
    "print(id(my_list))"
   ]
  },
  {
   "cell_type": "code",
   "execution_count": 13,
   "id": "22bea900",
   "metadata": {},
   "outputs": [
    {
     "name": "stdout",
     "output_type": "stream",
     "text": [
      "2086206839872\n"
     ]
    }
   ],
   "source": [
    "print(id(z))"
   ]
  },
  {
   "cell_type": "code",
   "execution_count": 14,
   "id": "70bdaab2",
   "metadata": {},
   "outputs": [
    {
     "name": "stdout",
     "output_type": "stream",
     "text": [
      "[45, 55, 67, 43, 100, 55, 67, 100, 25, 55, 10j]\n"
     ]
    }
   ],
   "source": [
    "my_list=[45,55,67,43,100,55,67,100,25,55,] \n",
    "my_list.append(10j)\n",
    "print(my_list)"
   ]
  },
  {
   "cell_type": "code",
   "execution_count": 16,
   "id": "e16de6cf",
   "metadata": {},
   "outputs": [
    {
     "name": "stdout",
     "output_type": "stream",
     "text": [
      "[45, 55, 67, 43, 100, 55, 67, 100, 25, 55, 10j]\n"
     ]
    }
   ],
   "source": [
    "x=[45, 55, 67, 43, 100, 55, 67, 100, 25, 55, 10j]\n",
    "print(x\n",
    "    )"
   ]
  },
  {
   "cell_type": "code",
   "execution_count": 17,
   "id": "af37eb42",
   "metadata": {},
   "outputs": [
    {
     "name": "stdout",
     "output_type": "stream",
     "text": [
      "2086206816192\n",
      "2086178274688\n"
     ]
    }
   ],
   "source": [
    "print(id(my_list))\n",
    "print(id(x))"
   ]
  },
  {
   "cell_type": "code",
   "execution_count": 18,
   "id": "2cd736a8",
   "metadata": {},
   "outputs": [
    {
     "name": "stdout",
     "output_type": "stream",
     "text": [
      "[45, 55, 67, 43, 100, 55, 67, 100, 25, 55]\n"
     ]
    }
   ],
   "source": [
    "my_list=[45,55,67,43,100,55,67,100,25,55,] \n",
    "print(my_list)"
   ]
  },
  {
   "cell_type": "code",
   "execution_count": 24,
   "id": "1cdf3d9e",
   "metadata": {},
   "outputs": [
    {
     "name": "stdout",
     "output_type": "stream",
     "text": [
      "[45, 55, 67, 43, 100, 55, 67, 100, 25, 55, 'raj']\n"
     ]
    }
   ],
   "source": [
    "my_list=[45,55,67,43,100,55,67,100,25,55,] \n",
    "my_list.append(\"raj\")\n",
    "print(my_list)"
   ]
  },
  {
   "cell_type": "code",
   "execution_count": 25,
   "id": "d4af5312",
   "metadata": {},
   "outputs": [
    {
     "name": "stdout",
     "output_type": "stream",
     "text": [
      "2086206814656\n",
      "2086206947088\n"
     ]
    }
   ],
   "source": [
    "print(id(my_list))\n",
    "print(id(my_list.append))"
   ]
  },
  {
   "cell_type": "code",
   "execution_count": 26,
   "id": "6c6fe8f6",
   "metadata": {},
   "outputs": [
    {
     "name": "stdout",
     "output_type": "stream",
     "text": [
      "[45, 55, 67, 43, 100, 55, 67, 100, 25, 55, 'raj']\n"
     ]
    }
   ],
   "source": [
    "my_list=[45,55,67,43,100,55,67,100,25,55,] \n",
    "my_list.append(\"raj\")\n",
    "print(my_list)"
   ]
  },
  {
   "cell_type": "code",
   "execution_count": 27,
   "id": "780e6143",
   "metadata": {},
   "outputs": [
    {
     "name": "stdout",
     "output_type": "stream",
     "text": [
      "[45, 55, 67, 43, 100, 55, 67, 100, 25, 55, 'raj']\n"
     ]
    }
   ],
   "source": [
    "z=[45,55,67,43,100,55,67,100,25,55,] \n",
    "print(my_list)"
   ]
  },
  {
   "cell_type": "code",
   "execution_count": 28,
   "id": "8e055d87",
   "metadata": {},
   "outputs": [
    {
     "name": "stdout",
     "output_type": "stream",
     "text": [
      "2086206815680\n"
     ]
    }
   ],
   "source": [
    "print(id(z))"
   ]
  },
  {
   "cell_type": "code",
   "execution_count": 29,
   "id": "c684f98a",
   "metadata": {},
   "outputs": [
    {
     "name": "stdout",
     "output_type": "stream",
     "text": [
      "2086206736640\n"
     ]
    }
   ],
   "source": [
    "print(id(my_list))"
   ]
  },
  {
   "cell_type": "code",
   "execution_count": 20,
   "id": "4d41a5cf",
   "metadata": {},
   "outputs": [
    {
     "name": "stdout",
     "output_type": "stream",
     "text": [
      "[45, 55, 67, 43, 100, 55, 67, 100, 25, 55]\n"
     ]
    }
   ],
   "source": [
    "my_list=[45,55,67,43,100,55,67,100,25,55,] \n",
    "print(my_list)"
   ]
  },
  {
   "cell_type": "code",
   "execution_count": 21,
   "id": "3fa6077d",
   "metadata": {},
   "outputs": [
    {
     "name": "stdout",
     "output_type": "stream",
     "text": [
      "2912330310528\n"
     ]
    }
   ],
   "source": [
    "print(id(my_list))"
   ]
  },
  {
   "cell_type": "code",
   "execution_count": 22,
   "id": "ecb9068a",
   "metadata": {},
   "outputs": [
    {
     "name": "stdout",
     "output_type": "stream",
     "text": [
      "[45, 55, 67, 43, 100, 55, 67, 100, 25, 55, 'raj']\n"
     ]
    }
   ],
   "source": [
    "my_list=[45,55,67,43,100,55,67,100,25,55,] \n",
    "my_list.append(\"raj\")\n",
    "print(my_list)"
   ]
  },
  {
   "cell_type": "code",
   "execution_count": 23,
   "id": "0e28c640",
   "metadata": {},
   "outputs": [
    {
     "name": "stdout",
     "output_type": "stream",
     "text": [
      "2912330746048\n"
     ]
    }
   ],
   "source": [
    "print(id(my_list))"
   ]
  },
  {
   "cell_type": "code",
   "execution_count": 9,
   "id": "994200e8",
   "metadata": {},
   "outputs": [
    {
     "name": "stdout",
     "output_type": "stream",
     "text": [
      "2912330813824\n"
     ]
    }
   ],
   "source": [
    "print(id(my_list))"
   ]
  },
  {
   "cell_type": "code",
   "execution_count": null,
   "id": "9a73ac2e",
   "metadata": {},
   "outputs": [],
   "source": []
  },
  {
   "cell_type": "code",
   "execution_count": 10,
   "id": "0590b9f0",
   "metadata": {},
   "outputs": [
    {
     "name": "stdout",
     "output_type": "stream",
     "text": [
      "[45, 55, 67, 43, 100, 55, 67, 100, 25, 55, 'raj']\n"
     ]
    }
   ],
   "source": [
    "z=[45,55,67,43,100,55,67,100,25,55,] \n",
    "z.append(\"raj\")\n",
    "print(z)"
   ]
  },
  {
   "cell_type": "code",
   "execution_count": 11,
   "id": "7450314c",
   "metadata": {},
   "outputs": [
    {
     "name": "stdout",
     "output_type": "stream",
     "text": [
      "2912330751040\n"
     ]
    }
   ],
   "source": [
    "print(id(z))"
   ]
  },
  {
   "cell_type": "code",
   "execution_count": 12,
   "id": "1fb9ee9e",
   "metadata": {},
   "outputs": [
    {
     "name": "stdout",
     "output_type": "stream",
     "text": [
      "[45, 55, 67, 43, 100, 55, 67, 100, 25, 55, 'raj', 10j]\n"
     ]
    }
   ],
   "source": [
    "my_list=[45,55,67,43,100,55,67,100,25,55,] \n",
    "my_list.append(\"raj\"),my_list.append(10j)\n",
    "print(my_list)"
   ]
  },
  {
   "cell_type": "code",
   "execution_count": 2,
   "id": "0d4d6812",
   "metadata": {},
   "outputs": [
    {
     "name": "stdout",
     "output_type": "stream",
     "text": [
      "2599766027648\n",
      "2599766028096\n",
      "[45, 'raj', 55, 55, 'arya', 10j]\n"
     ]
    }
   ],
   "source": [
    "my_list1=[45,\"raj\",55]\n",
    "print(id(my_list1))\n",
    "my_list2=[55,\"arya\",10j]\n",
    "print(id(my_list2))\n",
    "print(my_list1 + my_list2)"
   ]
  },
  {
   "cell_type": "code",
   "execution_count": 9,
   "id": "0a159868",
   "metadata": {},
   "outputs": [
    {
     "name": "stdout",
     "output_type": "stream",
     "text": [
      "2599766020608\n",
      "[45, 55, 67, 43, 100, 55, 67, 100, 25, 55]\n"
     ]
    }
   ],
   "source": [
    "my_list=[45,55,67,43,100,55,67,100,25,55,] \n",
    "print(id(my_list))\n",
    "print(my_list)"
   ]
  },
  {
   "cell_type": "code",
   "execution_count": 25,
   "id": "96c32a24",
   "metadata": {},
   "outputs": [
    {
     "name": "stdout",
     "output_type": "stream",
     "text": [
      "[45, 55, 67, 43, 100, 55, 67, 100, 25, 55, 'raj']\n",
      "2090648373888\n"
     ]
    }
   ],
   "source": [
    "my_list=[45,55,67,43,100,55,67,100,25,55,] \n",
    "my_list.append(\"raj\")\n",
    "print(my_list)\n",
    "print(id(my_list))"
   ]
  },
  {
   "cell_type": "code",
   "execution_count": 26,
   "id": "9243fc60",
   "metadata": {},
   "outputs": [
    {
     "name": "stdout",
     "output_type": "stream",
     "text": [
      "[45, 55, 67, 43, 100, 55, 67, 100, 25, 55, 'raj', 'raj']\n"
     ]
    }
   ],
   "source": [
    "my_list.append(\"raj\")\n",
    "print(my_list)\n",
    "\n"
   ]
  },
  {
   "cell_type": "code",
   "execution_count": 5,
   "id": "2a4f17fc",
   "metadata": {},
   "outputs": [
    {
     "name": "stdout",
     "output_type": "stream",
     "text": [
      "[45, 55, 67, 43, 100, 55, 67, 100, 25, 55, <class 'list'>]\n"
     ]
    }
   ],
   "source": [
    "my_list=[45,55,67,43,100,55,67,100,25,55,] \n",
    "my_list.append(list)\n",
    "print(my_list)"
   ]
  },
  {
   "cell_type": "code",
   "execution_count": 14,
   "id": "4f334a21",
   "metadata": {},
   "outputs": [
    {
     "name": "stdout",
     "output_type": "stream",
     "text": [
      "2599765834752\n",
      "[45, 55, 67, 43, 100, 55, 67, 100, 25, 55]\n"
     ]
    }
   ],
   "source": [
    "my_list=[45,55,67,43,100,55,67,100,25,55,] \n",
    "print(id(my_list))\n",
    "print(my_list)"
   ]
  },
  {
   "cell_type": "code",
   "execution_count": 13,
   "id": "3e934de2",
   "metadata": {},
   "outputs": [
    {
     "name": "stdout",
     "output_type": "stream",
     "text": [
      "2599766023232\n",
      "[45, 55, 67, 43, 100, 55, 67, 100, 25, 55, 'raj']\n"
     ]
    }
   ],
   "source": [
    "z=[45,55,67,43,100,55,67,100,25,55,] \n",
    "z.append(\"raj\")\n",
    "print(id(z))\n",
    "print(z)"
   ]
  },
  {
   "cell_type": "markdown",
   "id": "4521c91b",
   "metadata": {},
   "source": [
    "\n",
    " # insert(index,object)=ADD Item at the specified position on the list.and takes only one argument at a time"
   ]
  },
  {
   "cell_type": "code",
   "execution_count": 17,
   "id": "880c880b",
   "metadata": {},
   "outputs": [
    {
     "name": "stdout",
     "output_type": "stream",
     "text": [
      "[100, 'raj', 'arya', 10j]\n"
     ]
    }
   ],
   "source": [
    "my_list=[100,\"raj\",10j]\n",
    "my_list.insert(2,\"arya\")\n",
    "print(my_list)"
   ]
  },
  {
   "cell_type": "code",
   "execution_count": 40,
   "id": "333ba509",
   "metadata": {},
   "outputs": [
    {
     "name": "stdout",
     "output_type": "stream",
     "text": [
      "[500, 100, 'raj', 10j, 'yash']\n"
     ]
    }
   ],
   "source": [
    "my_list=[100,\"raj\",10j]\n",
    "my_list.insert(3,\"yash\"),my_list.insert(0,500)\n",
    "print(my_list)"
   ]
  },
  {
   "cell_type": "code",
   "execution_count": 70,
   "id": "f2fe94f7",
   "metadata": {},
   "outputs": [
    {
     "name": "stdout",
     "output_type": "stream",
     "text": [
      "[100, 'raj', 10j, 'yash', 'arya', 10j]\n"
     ]
    }
   ],
   "source": [
    "my_list=[100, 'raj', 'arya', 10j]\n",
    "my_list.insert(-2,10j),my_list.insert(-2,\"yash\")\n",
    "print(my_list)"
   ]
  },
  {
   "cell_type": "code",
   "execution_count": 24,
   "id": "0db15a92",
   "metadata": {},
   "outputs": [
    {
     "name": "stdout",
     "output_type": "stream",
     "text": [
      "['raj', 45, 55, 67, 43, 100, 55, 67, 100, 25, 55]\n"
     ]
    }
   ],
   "source": [
    "my_list=[45,55,67,43,100,55,67,100,25,55,]\n",
    "my_list.insert(0,\"raj\")\n",
    "print(my_list)"
   ]
  },
  {
   "cell_type": "markdown",
   "id": "d73f998f",
   "metadata": {},
   "source": [
    "# Using extend=the extend method will accept the list of element and them at the end them at the end of the list.we can even add another list by using  this method\n",
    "\n"
   ]
  },
  {
   "cell_type": "code",
   "execution_count": 16,
   "id": "23a384a2",
   "metadata": {},
   "outputs": [
    {
     "name": "stdout",
     "output_type": "stream",
     "text": [
      "[100, 'raj', 'arya', 10j, 'virat', 'yes']\n"
     ]
    }
   ],
   "source": [
    "my_list=[100, 'raj', 'arya', 10j]\n",
    "my_list.append(\"virat\")\n",
    "my_list.extend([\"yes\"])\n",
    "print(my_list)"
   ]
  },
  {
   "cell_type": "code",
   "execution_count": 5,
   "id": "32be2ebd",
   "metadata": {},
   "outputs": [
    {
     "name": "stdout",
     "output_type": "stream",
     "text": [
      "[100, 'raj', 'arya', 10j, 'yash', 1, 3, 8, 'no', 'ns200', 500]\n"
     ]
    }
   ],
   "source": [
    "my_list=[100, 'raj', 'arya', 10j]         # extend add the object in the end of the list and takes multiple argument at a time\n",
    "                                                \n",
    "my_list.extend([\"yash\"])\n",
    "my_list.extend([1,3,8,\"no\",\"ns200\",500])\n",
    "print(my_list)"
   ]
  },
  {
   "cell_type": "code",
   "execution_count": 17,
   "id": "78b485dc",
   "metadata": {},
   "outputs": [
    {
     "name": "stdout",
     "output_type": "stream",
     "text": [
      "[100, 'raj', 'arya', 10j, '28']\n"
     ]
    }
   ],
   "source": [
    "my_list=[100, 'raj', 'arya', 10j]\n",
    "my_list.extend([\"28\"])\n",
    "print(my_list)"
   ]
  },
  {
   "cell_type": "code",
   "execution_count": 18,
   "id": "a942ed41",
   "metadata": {},
   "outputs": [
    {
     "name": "stdout",
     "output_type": "stream",
     "text": [
      "[1, 2, 5, 7, 'disha']\n"
     ]
    }
   ],
   "source": [
    "x_list=[1,2,5,7]\n",
    "x_list.extend([\"disha\"])\n",
    "print(x_list)"
   ]
  },
  {
   "cell_type": "code",
   "execution_count": 32,
   "id": "5c5f2ae4",
   "metadata": {},
   "outputs": [
    {
     "name": "stdout",
     "output_type": "stream",
     "text": [
      "[1, 2, 5, 7, 1, 5, 9]\n"
     ]
    }
   ],
   "source": [
    "x_list=[1,2,5,7]\n",
    "x_list.extend([1,5,9])\n",
    "print(x_list)"
   ]
  },
  {
   "cell_type": "code",
   "execution_count": 19,
   "id": "a3cbbd0e",
   "metadata": {},
   "outputs": [
    {
     "name": "stdout",
     "output_type": "stream",
     "text": [
      "[1, 2, 5, 7, 1, 5, 9]\n"
     ]
    }
   ],
   "source": [
    "x_list=[1,2,5,7]\n",
    "x_list.extend([1,5,9])\n",
    "print(x_list)"
   ]
  },
  {
   "cell_type": "code",
   "execution_count": 26,
   "id": "b22142ff",
   "metadata": {},
   "outputs": [
    {
     "name": "stdout",
     "output_type": "stream",
     "text": [
      "[45, 55, 67, 43, 100, 55, 67, 100, 25, 55, 100, 'raj', 'arya', 10j]\n"
     ]
    }
   ],
   "source": [
    "my_list=[45,55,67,43,100,55,67,100,25,55,]\n",
    "my_list_1=[100, 'raj', 'arya', 10j]\n",
    "my_list.extend(my_list_1)\n",
    "print(my_list)"
   ]
  },
  {
   "cell_type": "markdown",
   "id": "07632f22",
   "metadata": {},
   "source": [
    "# modify the item of list using assignment operator"
   ]
  },
  {
   "cell_type": "code",
   "execution_count": 49,
   "id": "839e2991",
   "metadata": {},
   "outputs": [
    {
     "name": "stdout",
     "output_type": "stream",
     "text": [
      "[100, 'yash', 'arya', 10j]\n"
     ]
    }
   ],
   "source": [
    "my_list=[100, 'raj', 'arya', 10j]\n",
    "my_list[1]=\"yash\"\n",
    "print(my_list)"
   ]
  },
  {
   "cell_type": "code",
   "execution_count": 6,
   "id": "d433c6ca",
   "metadata": {},
   "outputs": [
    {
     "name": "stdout",
     "output_type": "stream",
     "text": [
      "[45, 'raj', 'arya', 10j]\n"
     ]
    }
   ],
   "source": [
    "my_list=[100, 'raj', 'arya', 10j]\n",
    "my_list[0]=45\n",
    "print(my_list)"
   ]
  },
  {
   "cell_type": "code",
   "execution_count": 14,
   "id": "27046aec",
   "metadata": {},
   "outputs": [
    {
     "ename": "TypeError",
     "evalue": "can only assign an iterable",
     "output_type": "error",
     "traceback": [
      "\u001b[1;31m---------------------------------------------------------------------------\u001b[0m",
      "\u001b[1;31mTypeError\u001b[0m                                 Traceback (most recent call last)",
      "Cell \u001b[1;32mIn[14], line 2\u001b[0m\n\u001b[0;32m      1\u001b[0m my_list\u001b[38;5;241m=\u001b[39m[\u001b[38;5;241m100\u001b[39m, \u001b[38;5;124m'\u001b[39m\u001b[38;5;124mraj\u001b[39m\u001b[38;5;124m'\u001b[39m, \u001b[38;5;124m'\u001b[39m\u001b[38;5;124marya\u001b[39m\u001b[38;5;124m'\u001b[39m, \u001b[38;5;241m10\u001b[39mj]                         \u001b[38;5;66;03m# iterable means list ,tuple set or dictionary eg.(),[]\u001b[39;00m\n\u001b[1;32m----> 2\u001b[0m my_list[\u001b[38;5;241m0\u001b[39m:\u001b[38;5;241m3\u001b[39m]\u001b[38;5;241m=\u001b[39m \u001b[38;5;241m9\u001b[39m\n\u001b[0;32m      3\u001b[0m \u001b[38;5;28mprint\u001b[39m(my_list)\n",
      "\u001b[1;31mTypeError\u001b[0m: can only assign an iterable"
     ]
    }
   ],
   "source": [
    "my_list=[100, 'raj', 'arya', 10j]                         # iterable means list ,tuple set or dictionary eg.(),[]\n",
    "my_list[0:3]= 9\n",
    "print(my_list)"
   ]
  },
  {
   "cell_type": "code",
   "execution_count": 13,
   "id": "1d8b590c",
   "metadata": {},
   "outputs": [
    {
     "name": "stdout",
     "output_type": "stream",
     "text": [
      "[9, 10j]\n"
     ]
    }
   ],
   "source": [
    "my_list=[100, 'raj', 'arya', 10j]\n",
    "my_list[0:3]= [9]\n",
    "print(my_list)"
   ]
  },
  {
   "cell_type": "code",
   "execution_count": 29,
   "id": "ec6f9df1",
   "metadata": {},
   "outputs": [
    {
     "name": "stdout",
     "output_type": "stream",
     "text": [
      "2338292442176\n",
      "[10, 10j]\n"
     ]
    }
   ],
   "source": [
    "my_list=[100, 'raj', 'arya', 10j]\n",
    "my_list[0:3]= 10,\n",
    "print(id(my_list))\n",
    "print(my_list)"
   ]
  },
  {
   "cell_type": "code",
   "execution_count": 7,
   "id": "7e08f031",
   "metadata": {},
   "outputs": [
    {
     "name": "stdout",
     "output_type": "stream",
     "text": [
      "1401301047552\n",
      "[10, 10j]\n"
     ]
    }
   ],
   "source": [
    "my_list=[100, 'raj', 'arya', 10j]\n",
    "my_list[0:3]= {10}\n",
    "print(id(my_list))\n",
    "print(my_list)"
   ]
  },
  {
   "cell_type": "code",
   "execution_count": 28,
   "id": "9742b765",
   "metadata": {},
   "outputs": [
    {
     "name": "stdout",
     "output_type": "stream",
     "text": [
      "[124, 55j, 40.3]\n"
     ]
    }
   ],
   "source": [
    "my_list=[100,\"raj\",55j,40.3]\n",
    "my_list[0:2]=124,\n",
    "print(my_list)"
   ]
  },
  {
   "cell_type": "code",
   "execution_count": 9,
   "id": "0b1ae1cb",
   "metadata": {},
   "outputs": [
    {
     "name": "stdout",
     "output_type": "stream",
     "text": [
      "[124, 45, 55, 55j, 40.3]\n"
     ]
    }
   ],
   "source": [
    "my_list=[100,\"raj\",55j,40.3]\n",
    "my_list[0:2]=124,45,55\n",
    "print(my_list)"
   ]
  },
  {
   "cell_type": "code",
   "execution_count": 1,
   "id": "322dc65c",
   "metadata": {},
   "outputs": [
    {
     "ename": "SyntaxError",
     "evalue": "invalid syntax (1675121878.py, line 2)",
     "output_type": "error",
     "traceback": [
      "\u001b[1;36m  Cell \u001b[1;32mIn[1], line 2\u001b[1;36m\u001b[0m\n\u001b[1;33m    my_list(0:3)= 10,10,10\u001b[0m\n\u001b[1;37m             ^\u001b[0m\n\u001b[1;31mSyntaxError\u001b[0m\u001b[1;31m:\u001b[0m invalid syntax\n"
     ]
    }
   ],
   "source": [
    "my_list=[100, 'raj', 'arya', 10j]\n",
    "my_list(0:3)= 10,10,10\n",
    "\n",
    "print(my_list)"
   ]
  },
  {
   "cell_type": "code",
   "execution_count": 1,
   "id": "85baf710",
   "metadata": {},
   "outputs": [
    {
     "name": "stdout",
     "output_type": "stream",
     "text": [
      "[100, 'd', 'a', 't', 'a', ' ', 's', 'c', 'i', 'e', 'n', 'c', 'e', 10j]\n"
     ]
    }
   ],
   "source": [
    "my_list=[100, 'raj', 'arya', 10j]\n",
    "my_list[1:3]= \"data science\"\n",
    "print(my_list)"
   ]
  },
  {
   "cell_type": "code",
   "execution_count": 30,
   "id": "11d956a7",
   "metadata": {},
   "outputs": [
    {
     "name": "stdout",
     "output_type": "stream",
     "text": [
      "['arya', 30, 'raj', 55, 10j]\n"
     ]
    }
   ],
   "source": [
    "my_list=[10,20,30,\"raj\",55,10j]\n",
    "my_list[0:2]=[\"arya\"]\n",
    "print(my_list)"
   ]
  },
  {
   "cell_type": "code",
   "execution_count": 6,
   "id": "0beb750a",
   "metadata": {},
   "outputs": [
    {
     "name": "stdout",
     "output_type": "stream",
     "text": [
      "[50, 45, 30, 'raj', 55, 10j]\n"
     ]
    }
   ],
   "source": [
    "my_list=[10,20,30,\"raj\",55,10j]\n",
    "my_list[0:2]=(50),(45)\n",
    "print(my_list)"
   ]
  },
  {
   "cell_type": "code",
   "execution_count": 7,
   "id": "89c12442",
   "metadata": {},
   "outputs": [
    {
     "name": "stdout",
     "output_type": "stream",
     "text": [
      "[10, 20, 50, 45, 55, 10j]\n"
     ]
    }
   ],
   "source": [
    "my_list=[10,20,30,\"raj\",55,10j]\n",
    "my_list[2:4]=(50),(45)\n",
    "print(my_list)"
   ]
  },
  {
   "cell_type": "code",
   "execution_count": 42,
   "id": "958cdfc7",
   "metadata": {},
   "outputs": [
    {
     "name": "stdout",
     "output_type": "stream",
     "text": [
      "[10, 20, 30, 'raj', 45, 100, 55, 10j]\n"
     ]
    }
   ],
   "source": [
    "my_list=[10,20,30,\"raj\",55,10j]\n",
    "my_list[-2:4]=[45,100]\n",
    "print(my_list)"
   ]
  },
  {
   "cell_type": "code",
   "execution_count": 41,
   "id": "12e8e992",
   "metadata": {},
   "outputs": [
    {
     "name": "stdout",
     "output_type": "stream",
     "text": [
      "[10, 20, 30, 'raj', 'arya']\n"
     ]
    }
   ],
   "source": [
    "my_list=[10, 20, 30, 'raj', 50, 45, 55, 10j]\n",
    "my_list[4:8]=([\"arya\"])\n",
    "print(my_list)"
   ]
  },
  {
   "cell_type": "code",
   "execution_count": 32,
   "id": "19adc060",
   "metadata": {},
   "outputs": [
    {
     "name": "stdout",
     "output_type": "stream",
     "text": [
      "['raj', 10j]\n"
     ]
    }
   ],
   "source": [
    "my_list=[100, 'raj', 'arya', 10j]\n",
    "my_list[0:3]=[\"raj\"]\n",
    "print(my_list)"
   ]
  },
  {
   "cell_type": "markdown",
   "id": "989945e8",
   "metadata": {},
   "source": [
    "# Removing elements from a list - the element from the list can be removed using the following list method.\n",
    "\n",
    "1.remove(item)=to remove the specific object which you want from the list.and takes only one argument at a time\n",
    "\n",
    "2.pop(index)= remove  the object at the given index from the list.and takes only one argument at a time.\n",
    "\n",
    "\n",
    "3.clear()=to remove all items from the list. the output will be an empty list.and takes no argument\n",
    "\n",
    "\n",
    "4.del(index:index)= to remove the range of the object from the list."
   ]
  },
  {
   "cell_type": "code",
   "execution_count": 55,
   "id": "9a50cf70",
   "metadata": {},
   "outputs": [
    {
     "name": "stdout",
     "output_type": "stream",
     "text": [
      "[10, 20, 30, 50, 45, 55, 10j]\n"
     ]
    }
   ],
   "source": [
    "my_list=[10, 20, 30, 'raj', 50, 45, 55, 10j]\n",
    "my_list.remove(\"raj\")\n",
    "print(my_list)"
   ]
  },
  {
   "cell_type": "code",
   "execution_count": 57,
   "id": "57985eda",
   "metadata": {},
   "outputs": [
    {
     "name": "stdout",
     "output_type": "stream",
     "text": [
      "[20, 30, 'raj', 50, 45, 55, 10j]\n"
     ]
    }
   ],
   "source": [
    "my_list=[10, 20, 30, 'raj', 50, 45, 55, 10j]\n",
    "my_list.pop(0)\n",
    "print(my_list)"
   ]
  },
  {
   "cell_type": "code",
   "execution_count": 1,
   "id": "db12569b",
   "metadata": {},
   "outputs": [
    {
     "ename": "ValueError",
     "evalue": "list.remove(x): x not in list",
     "output_type": "error",
     "traceback": [
      "\u001b[1;31m---------------------------------------------------------------------------\u001b[0m",
      "\u001b[1;31mValueError\u001b[0m                                Traceback (most recent call last)",
      "Cell \u001b[1;32mIn[1], line 2\u001b[0m\n\u001b[0;32m      1\u001b[0m my_list\u001b[38;5;241m=\u001b[39m[\u001b[38;5;241m10\u001b[39m, \u001b[38;5;241m20\u001b[39m, \u001b[38;5;241m30\u001b[39m, \u001b[38;5;124m'\u001b[39m\u001b[38;5;124mraj\u001b[39m\u001b[38;5;124m'\u001b[39m, \u001b[38;5;241m50\u001b[39m, \u001b[38;5;241m45\u001b[39m, \u001b[38;5;241m55\u001b[39m, \u001b[38;5;241m10\u001b[39mj]\n\u001b[1;32m----> 2\u001b[0m \u001b[43mmy_list\u001b[49m\u001b[38;5;241;43m.\u001b[39;49m\u001b[43mremove\u001b[49m\u001b[43m(\u001b[49m\u001b[43m[\u001b[49m\u001b[38;5;124;43m\"\u001b[39;49m\u001b[38;5;124;43mraj\u001b[39;49m\u001b[38;5;124;43m\"\u001b[39;49m\u001b[43m,\u001b[49m\u001b[38;5;241;43m20\u001b[39;49m\u001b[43m,\u001b[49m\u001b[38;5;241;43m45\u001b[39;49m\u001b[43m]\u001b[49m\u001b[43m)\u001b[49m\n\u001b[0;32m      3\u001b[0m \u001b[38;5;28mprint\u001b[39m(my_list)\n",
      "\u001b[1;31mValueError\u001b[0m: list.remove(x): x not in list"
     ]
    }
   ],
   "source": [
    "my_list=[10, 20, 30, 'raj', 50, 45, 55, 10j]\n",
    "my_list.remove([\"raj\",20,45])\n",
    "print(my_list)"
   ]
  },
  {
   "cell_type": "code",
   "execution_count": 5,
   "id": "5ad173e7",
   "metadata": {},
   "outputs": [
    {
     "name": "stdout",
     "output_type": "stream",
     "text": [
      "[20, 30, 50, 45, 55, 10j]\n"
     ]
    }
   ],
   "source": [
    "my_list=[10, 20, 30, 'raj', 50, 45, 55, 10j]\n",
    "my_list.remove(\"raj\"),my_list.remove(10)\n",
    "print(my_list)"
   ]
  },
  {
   "cell_type": "code",
   "execution_count": 45,
   "id": "5eaec713",
   "metadata": {},
   "outputs": [
    {
     "name": "stdout",
     "output_type": "stream",
     "text": [
      "[20, 30, 'raj', 50, 45, 55, 10j]\n"
     ]
    }
   ],
   "source": [
    "my_list=[10, 20, 30, 'raj', 50, 45, 55, 10j]\n",
    "my_list.pop(0)\n",
    "print(my_list)"
   ]
  },
  {
   "cell_type": "code",
   "execution_count": 8,
   "id": "2194616a",
   "metadata": {},
   "outputs": [
    {
     "name": "stdout",
     "output_type": "stream",
     "text": [
      "[10, 20, 30, 'raj', 50, 55, 10j]\n"
     ]
    }
   ],
   "source": [
    "my_list=[10, 20, 30, 'raj', 50, 45, 55, 10j]\n",
    "my_list.pop(5)\n",
    "print(my_list)"
   ]
  },
  {
   "cell_type": "code",
   "execution_count": 59,
   "id": "d622d301",
   "metadata": {},
   "outputs": [
    {
     "name": "stdout",
     "output_type": "stream",
     "text": [
      "[]\n"
     ]
    }
   ],
   "source": [
    "my_list=[10, 20, 30, 'raj', 50, 45, 55, 10j]\n",
    "my_list.clear()\n",
    "print(my_list)"
   ]
  },
  {
   "cell_type": "code",
   "execution_count": 10,
   "id": "7d4fd835",
   "metadata": {},
   "outputs": [
    {
     "ename": "TypeError",
     "evalue": "list.clear() takes no arguments (1 given)",
     "output_type": "error",
     "traceback": [
      "\u001b[1;31m---------------------------------------------------------------------------\u001b[0m",
      "\u001b[1;31mTypeError\u001b[0m                                 Traceback (most recent call last)",
      "Cell \u001b[1;32mIn[10], line 2\u001b[0m\n\u001b[0;32m      1\u001b[0m my_list\u001b[38;5;241m=\u001b[39m[\u001b[38;5;241m10\u001b[39m, \u001b[38;5;241m20\u001b[39m, \u001b[38;5;241m30\u001b[39m, \u001b[38;5;124m'\u001b[39m\u001b[38;5;124mraj\u001b[39m\u001b[38;5;124m'\u001b[39m, \u001b[38;5;241m50\u001b[39m, \u001b[38;5;241m45\u001b[39m, \u001b[38;5;241m55\u001b[39m, \u001b[38;5;241m10\u001b[39mj]\n\u001b[1;32m----> 2\u001b[0m \u001b[43mmy_list\u001b[49m\u001b[38;5;241;43m.\u001b[39;49m\u001b[43mclear\u001b[49m\u001b[43m(\u001b[49m\u001b[38;5;241;43m2\u001b[39;49m\u001b[43m)\u001b[49m\n\u001b[0;32m      3\u001b[0m \u001b[38;5;28mprint\u001b[39m(my_list)\n",
      "\u001b[1;31mTypeError\u001b[0m: list.clear() takes no arguments (1 given)"
     ]
    }
   ],
   "source": [
    "my_list=[10, 20, 30, 'raj', 50, 45, 55, 10j]         #list.clear() takes no arguments (1 given)\n",
    "my_list.clear(2)\n",
    "print(my_list)"
   ]
  },
  {
   "cell_type": "code",
   "execution_count": 11,
   "id": "364ca44b",
   "metadata": {},
   "outputs": [
    {
     "name": "stdout",
     "output_type": "stream",
     "text": [
      "[]\n"
     ]
    }
   ],
   "source": [
    "my_list=[10, 20, 30, 'raj', 50, 45, 55, 10j]\n",
    "my_list.clear()\n",
    "print(my_list)"
   ]
  },
  {
   "cell_type": "code",
   "execution_count": 33,
   "id": "c7dd5786",
   "metadata": {},
   "outputs": [
    {
     "name": "stdout",
     "output_type": "stream",
     "text": [
      "['raj', 'arya', 10j]\n"
     ]
    }
   ],
   "source": [
    "my_list=[100, 'raj', 'arya', 10j]\n",
    "my_list.remove(100)\n",
    "print(my_list)"
   ]
  },
  {
   "cell_type": "code",
   "execution_count": 34,
   "id": "543c2ed4",
   "metadata": {},
   "outputs": [
    {
     "name": "stdout",
     "output_type": "stream",
     "text": [
      "[20, 30, 'raj', 50, 45, 55, 10j]\n"
     ]
    }
   ],
   "source": [
    "my_list=[10, 20, 30, 'raj', 50, 45, 55, 10j]\n",
    "my_list.pop(0)\n",
    "print(my_list)"
   ]
  },
  {
   "cell_type": "code",
   "execution_count": 37,
   "id": "f39e2595",
   "metadata": {},
   "outputs": [
    {
     "name": "stdout",
     "output_type": "stream",
     "text": [
      "2338292376576\n",
      "[]\n",
      "2338292376576\n"
     ]
    }
   ],
   "source": [
    "my_list=[10, 20, 30, 'raj', 50, 45, 55, 10j]\n",
    "print(id(my_list))\n",
    "my_list.clear()\n",
    "print(my_list)\n",
    "print(id(my_list))"
   ]
  },
  {
   "cell_type": "code",
   "execution_count": 39,
   "id": "0b97f9ae",
   "metadata": {},
   "outputs": [
    {
     "name": "stdout",
     "output_type": "stream",
     "text": [
      "2338291924544\n",
      "[]\n",
      "2338291924544\n"
     ]
    }
   ],
   "source": [
    "my_list=[10, 20, 30, 'raj', 50, 45, 55, 10j]\n",
    "print(id(my_list))\n",
    "del my_list[::]\n",
    "print(my_list)\n",
    "print(id(my_list))"
   ]
  },
  {
   "cell_type": "markdown",
   "id": "8883a3ae",
   "metadata": {},
   "source": [
    "# Remove the range of item"
   ]
  },
  {
   "cell_type": "code",
   "execution_count": 48,
   "id": "6075b7cf",
   "metadata": {},
   "outputs": [
    {
     "name": "stdout",
     "output_type": "stream",
     "text": [
      "['raj', 50, 45, 55, 10j]\n"
     ]
    }
   ],
   "source": [
    "my_list=[10, 20, 30, 'raj', 50, 45, 55, 10j]\n",
    "del my_list[0:3]\n",
    "print(my_list)\n"
   ]
  },
  {
   "cell_type": "code",
   "execution_count": 58,
   "id": "b6411477",
   "metadata": {},
   "outputs": [
    {
     "name": "stdout",
     "output_type": "stream",
     "text": [
      "['raj', 50, 45, 55, 10j]\n"
     ]
    }
   ],
   "source": [
    "my_list=[10, 20, 30, 'raj', 50, 45, 55, 10j]\n",
    "del my_list[0:3]\n",
    "print(my_list)\n"
   ]
  },
  {
   "cell_type": "code",
   "execution_count": 54,
   "id": "d83325df",
   "metadata": {},
   "outputs": [
    {
     "name": "stdout",
     "output_type": "stream",
     "text": [
      "[]\n"
     ]
    }
   ],
   "source": [
    "print(my_list)"
   ]
  },
  {
   "cell_type": "code",
   "execution_count": 56,
   "id": "2a398b2f",
   "metadata": {},
   "outputs": [
    {
     "name": "stdout",
     "output_type": "stream",
     "text": [
      "[10, 20, 30]\n"
     ]
    }
   ],
   "source": [
    "my_list=[10, 20, 30, 'raj', 50, 45, 55, 10j]\n",
    "del my_list[3:]\n",
    "print(my_list)\n"
   ]
  },
  {
   "cell_type": "code",
   "execution_count": 3,
   "id": "b609c501",
   "metadata": {},
   "outputs": [
    {
     "name": "stdout",
     "output_type": "stream",
     "text": [
      "[10, 20, 30, 10j]\n"
     ]
    }
   ],
   "source": [
    "my_list=[10, 20, 30, 'raj', 50, 45, 55, 10j]\n",
    "del my_list[3:7]\n",
    "print(my_list)"
   ]
  },
  {
   "cell_type": "code",
   "execution_count": 6,
   "id": "f7777fec",
   "metadata": {},
   "outputs": [
    {
     "name": "stdout",
     "output_type": "stream",
     "text": [
      "[]\n"
     ]
    }
   ],
   "source": [
    "my_list=[10, 20, 30, 'raj', 50, 45, 55, 10j]\n",
    "del my_list[0:]\n",
    "print(my_list)"
   ]
  },
  {
   "cell_type": "code",
   "execution_count": 8,
   "id": "04c69216",
   "metadata": {},
   "outputs": [
    {
     "name": "stdout",
     "output_type": "stream",
     "text": [
      "<class 'list'>\n"
     ]
    }
   ],
   "source": [
    "print(type(my_list))"
   ]
  },
  {
   "cell_type": "code",
   "execution_count": 9,
   "id": "23f14a51",
   "metadata": {},
   "outputs": [
    {
     "name": "stdout",
     "output_type": "stream",
     "text": [
      "[10, 20, 30, 'raj', 50, 10j]\n"
     ]
    }
   ],
   "source": [
    "my_list=[10, 20, 30, 'raj', 50, 45, 55, 10j]\n",
    "del my_list[-3:7]\n",
    "print(my_list)"
   ]
  },
  {
   "cell_type": "code",
   "execution_count": 17,
   "id": "88d01b70",
   "metadata": {},
   "outputs": [
    {
     "name": "stdout",
     "output_type": "stream",
     "text": [
      "[]\n"
     ]
    }
   ],
   "source": [
    "my_list=[10, 20, 30, 'raj', 50, 45, 55, 10j]\n",
    "my_list.clear()\n",
    "print(my_list)\n",
    "del my_list"
   ]
  },
  {
   "cell_type": "markdown",
   "id": "edd7d117",
   "metadata": {},
   "source": [
    "# Delete entire list"
   ]
  },
  {
   "cell_type": "code",
   "execution_count": 25,
   "id": "a1b37193",
   "metadata": {},
   "outputs": [
    {
     "name": "stdout",
     "output_type": "stream",
     "text": [
      "[]\n"
     ]
    }
   ],
   "source": [
    "my_list=[10, 20, 30, 'raj', 50, 45, 55, 10j]\n",
    "del my_list[0:10]\n",
    "print(my_list)"
   ]
  },
  {
   "cell_type": "markdown",
   "id": "7eba19db",
   "metadata": {},
   "source": [
    "# Finding an element in a list =is used to find the indexing position of any item\n",
    "and takes only one argument at a time\n",
    "\n",
    "- (my_list.index)"
   ]
  },
  {
   "cell_type": "code",
   "execution_count": 27,
   "id": "d85af8ff",
   "metadata": {},
   "outputs": [
    {
     "name": "stdout",
     "output_type": "stream",
     "text": [
      "4\n"
     ]
    }
   ],
   "source": [
    "my_list=[10, 20, 30, 'raj', 50, 45, 55, 10j]\n",
    "print(my_list.index(50))"
   ]
  },
  {
   "cell_type": "code",
   "execution_count": 28,
   "id": "10ac6bd4",
   "metadata": {},
   "outputs": [
    {
     "ename": "ValueError",
     "evalue": "100 is not in list",
     "output_type": "error",
     "traceback": [
      "\u001b[1;31m---------------------------------------------------------------------------\u001b[0m",
      "\u001b[1;31mValueError\u001b[0m                                Traceback (most recent call last)",
      "Cell \u001b[1;32mIn[28], line 2\u001b[0m\n\u001b[0;32m      1\u001b[0m my_list\u001b[38;5;241m=\u001b[39m[\u001b[38;5;241m10\u001b[39m, \u001b[38;5;241m20\u001b[39m, \u001b[38;5;241m30\u001b[39m, \u001b[38;5;124m'\u001b[39m\u001b[38;5;124mraj\u001b[39m\u001b[38;5;124m'\u001b[39m, \u001b[38;5;241m50\u001b[39m, \u001b[38;5;241m45\u001b[39m, \u001b[38;5;241m55\u001b[39m, \u001b[38;5;241m10\u001b[39mj]\n\u001b[1;32m----> 2\u001b[0m \u001b[38;5;28mprint\u001b[39m(\u001b[43mmy_list\u001b[49m\u001b[38;5;241;43m.\u001b[39;49m\u001b[43mindex\u001b[49m\u001b[43m(\u001b[49m\u001b[38;5;241;43m100\u001b[39;49m\u001b[43m)\u001b[49m)\n",
      "\u001b[1;31mValueError\u001b[0m: 100 is not in list"
     ]
    }
   ],
   "source": [
    "my_list=[10, 20, 30, 'raj', 50, 45, 55, 10j]\n",
    "print(my_list.index(100))"
   ]
  },
  {
   "cell_type": "code",
   "execution_count": 1,
   "id": "e1551167",
   "metadata": {},
   "outputs": [
    {
     "ename": "ValueError",
     "evalue": "-4 is not in list",
     "output_type": "error",
     "traceback": [
      "\u001b[1;31m---------------------------------------------------------------------------\u001b[0m",
      "\u001b[1;31mValueError\u001b[0m                                Traceback (most recent call last)",
      "Cell \u001b[1;32mIn[1], line 2\u001b[0m\n\u001b[0;32m      1\u001b[0m my_list\u001b[38;5;241m=\u001b[39m[\u001b[38;5;241m10\u001b[39m, \u001b[38;5;241m20\u001b[39m, \u001b[38;5;241m30\u001b[39m, \u001b[38;5;124m'\u001b[39m\u001b[38;5;124mraj\u001b[39m\u001b[38;5;124m'\u001b[39m, \u001b[38;5;241m50\u001b[39m, \u001b[38;5;241m45\u001b[39m, \u001b[38;5;241m55\u001b[39m, \u001b[38;5;241m10\u001b[39mj]\n\u001b[1;32m----> 2\u001b[0m \u001b[38;5;28mprint\u001b[39m(\u001b[43mmy_list\u001b[49m\u001b[38;5;241;43m.\u001b[39;49m\u001b[43mindex\u001b[49m\u001b[43m(\u001b[49m\u001b[38;5;241;43m-\u001b[39;49m\u001b[38;5;241;43m4\u001b[39;49m\u001b[43m)\u001b[49m)\n",
      "\u001b[1;31mValueError\u001b[0m: -4 is not in list"
     ]
    }
   ],
   "source": [
    "my_list=[10, 20, 30, 'raj', 50, 45, 55, 10j]\n",
    "print(my_list.index(-4))"
   ]
  },
  {
   "cell_type": "code",
   "execution_count": 10,
   "id": "665e745a",
   "metadata": {},
   "outputs": [
    {
     "name": "stdout",
     "output_type": "stream",
     "text": [
      "(1, 2)\n"
     ]
    }
   ],
   "source": [
    "my_list=[10, 20, 30, 'raj', 50, 45, 55, 10j]\n",
    "x=(my_list.index(20)),(my_list.index(30))\n",
    "print(x)"
   ]
  },
  {
   "cell_type": "code",
   "execution_count": 11,
   "id": "bff848ac",
   "metadata": {},
   "outputs": [
    {
     "ename": "ValueError",
     "evalue": "100 is not in list",
     "output_type": "error",
     "traceback": [
      "\u001b[1;31m---------------------------------------------------------------------------\u001b[0m",
      "\u001b[1;31mValueError\u001b[0m                                Traceback (most recent call last)",
      "Cell \u001b[1;32mIn[11], line 2\u001b[0m\n\u001b[0;32m      1\u001b[0m my_list\u001b[38;5;241m=\u001b[39m[\u001b[38;5;241m10\u001b[39m, \u001b[38;5;241m20\u001b[39m, \u001b[38;5;241m30\u001b[39m, \u001b[38;5;124m'\u001b[39m\u001b[38;5;124mraj\u001b[39m\u001b[38;5;124m'\u001b[39m, \u001b[38;5;241m50\u001b[39m, \u001b[38;5;241m45\u001b[39m, \u001b[38;5;241m55\u001b[39m, \u001b[38;5;241m10\u001b[39mj]\n\u001b[1;32m----> 2\u001b[0m x\u001b[38;5;241m=\u001b[39m(my_list\u001b[38;5;241m.\u001b[39mindex(\u001b[38;5;241m20\u001b[39m)),(my_list\u001b[38;5;241m.\u001b[39mindex(\u001b[38;5;241m30\u001b[39m)),(\u001b[43mmy_list\u001b[49m\u001b[38;5;241;43m.\u001b[39;49m\u001b[43mindex\u001b[49m\u001b[43m(\u001b[49m\u001b[38;5;241;43m100\u001b[39;49m\u001b[43m)\u001b[49m)\n\u001b[0;32m      3\u001b[0m \u001b[38;5;28mprint\u001b[39m(x)\n",
      "\u001b[1;31mValueError\u001b[0m: 100 is not in list"
     ]
    }
   ],
   "source": [
    "my_list=[10, 20, 30, 'raj', 50, 45, 55, 10j]\n",
    "x=(my_list.index(20)),(my_list.index(30)),(my_list.index(100))\n",
    "print(x)"
   ]
  },
  {
   "cell_type": "code",
   "execution_count": 2,
   "id": "7056d36f",
   "metadata": {},
   "outputs": [
    {
     "name": "stdout",
     "output_type": "stream",
     "text": [
      "(1, 2, 3)\n"
     ]
    }
   ],
   "source": [
    "my_list=[10, 20, 30, 'raj', 50, 45, 55, 10j]\n",
    "x=(my_list.index(20)),(my_list.index(30)),(my_list.index(\"raj\"))\n",
    "print(x)"
   ]
  },
  {
   "cell_type": "code",
   "execution_count": 41,
   "id": "917e9faa",
   "metadata": {},
   "outputs": [
    {
     "name": "stdout",
     "output_type": "stream",
     "text": [
      "0\n"
     ]
    }
   ],
   "source": [
    "my_list=[10, 20, 30, 'raj', 50, 45, 55, 10j]\n",
    "x=my_list.index(10)\n",
    "print(x)"
   ]
  },
  {
   "cell_type": "code",
   "execution_count": 11,
   "id": "f7079d74",
   "metadata": {},
   "outputs": [
    {
     "name": "stdout",
     "output_type": "stream",
     "text": [
      "[10, 20, 22, 50, 45, 55, 10j]\n"
     ]
    }
   ],
   "source": [
    "my_list=[10, 20, 30, 'raj', 50, 45, 55, 10j]\n",
    "my_list[2:4]=[22]\n",
    "print(my_list)\n"
   ]
  },
  {
   "cell_type": "code",
   "execution_count": 3,
   "id": "1253fd13",
   "metadata": {},
   "outputs": [
    {
     "name": "stdout",
     "output_type": "stream",
     "text": [
      "3106163057472\n",
      "[10, 20, 30, 'raj', 50, 45, 55, 10j]\n"
     ]
    }
   ],
   "source": [
    "my_list=[10, 20, 30, 'raj', 50, 45, 55, 10j]\n",
    "print(id(my_list))\n",
    "print(my_list)"
   ]
  },
  {
   "cell_type": "code",
   "execution_count": 6,
   "id": "4d6d0507",
   "metadata": {},
   "outputs": [
    {
     "name": "stdout",
     "output_type": "stream",
     "text": [
      "[10, 20, 20, 50, 45, 55, 10j]\n"
     ]
    }
   ],
   "source": [
    "my_list=[10, 20, 30, 'raj', 50, 45, 55, 10j]\n",
    "my_list[2:4]={20}\n",
    "print(my_list)"
   ]
  },
  {
   "cell_type": "code",
   "execution_count": 7,
   "id": "38d93f49",
   "metadata": {},
   "outputs": [
    {
     "name": "stdout",
     "output_type": "stream",
     "text": [
      "[10, 20, 20, 50, 45, 55, 10j]\n"
     ]
    }
   ],
   "source": [
    "my_list=[10, 20, 30, 'raj', 50, 45, 55, 10j]\n",
    "my_list[2:4]=[20]\n",
    "print(my_list)"
   ]
  },
  {
   "cell_type": "code",
   "execution_count": 8,
   "id": "c8624d58",
   "metadata": {},
   "outputs": [
    {
     "name": "stdout",
     "output_type": "stream",
     "text": [
      "[10, 20, 20, 30, 50, 45, 55, 10j]\n",
      "<class 'list'>\n"
     ]
    }
   ],
   "source": [
    "my_list=[10, 20, 30, 'raj', 50, 45, 55, 10j]\n",
    "my_list[2:4]=20,30\n",
    "print(my_list)\n",
    "print(type(my_list))"
   ]
  },
  {
   "cell_type": "code",
   "execution_count": 13,
   "id": "7bd1f2c0",
   "metadata": {},
   "outputs": [
    {
     "name": "stdout",
     "output_type": "stream",
     "text": [
      "['raj', 45, 55, 10j]\n"
     ]
    }
   ],
   "source": [
    "my_list=[10, 20, 30, 'raj', 50, 45, 55, 10j]\n",
    "my_list[0:5]=[\"raj\"]\n",
    "print(my_list)"
   ]
  },
  {
   "cell_type": "code",
   "execution_count": 21,
   "id": "3a5a2f51",
   "metadata": {},
   "outputs": [
    {
     "name": "stdout",
     "output_type": "stream",
     "text": [
      "[10, 20, 30, 'raj', {50, 45, 55}, 10j, 45, 87, 999, 'yes']\n"
     ]
    }
   ],
   "source": [
    "my_list=[10, 20, 30, 'raj',{50, 45, 55}, 10j]\n",
    "my_list.extend([45,87,999,\"yes\"])\n",
    "print(my_list)"
   ]
  },
  {
   "cell_type": "code",
   "execution_count": 22,
   "id": "35702635",
   "metadata": {},
   "outputs": [
    {
     "name": "stdout",
     "output_type": "stream",
     "text": [
      "<class 'list'>\n"
     ]
    }
   ],
   "source": [
    "print(type(my_list))"
   ]
  },
  {
   "cell_type": "code",
   "execution_count": 1,
   "id": "2bbd62e4",
   "metadata": {},
   "outputs": [
    {
     "name": "stdout",
     "output_type": "stream",
     "text": [
      "raj 50\n"
     ]
    }
   ],
   "source": [
    "my_list=[10, 20, 30, 'raj', 50, 45, 55, 10j]\n",
    "x=\"raj\"\n",
    "y=50\n",
    "if x and y in my_list:\n",
    "    print(x,y)"
   ]
  },
  {
   "cell_type": "code",
   "execution_count": 12,
   "id": "1dd96c99",
   "metadata": {},
   "outputs": [
    {
     "name": "stdout",
     "output_type": "stream",
     "text": [
      "[10, 10, 20, 30, 45, 50, 55]\n"
     ]
    }
   ],
   "source": [
    "my_list=[10, 20, 30,50, 45, 55, 10]\n",
    "sorted_list=sorted(my_list)\n",
    "print(sorted_list)\n"
   ]
  },
  {
   "cell_type": "markdown",
   "id": "dc590b16",
   "metadata": {},
   "source": [
    "# methods of list"
   ]
  },
  {
   "cell_type": "code",
   "execution_count": 13,
   "id": "0b01cc7b",
   "metadata": {},
   "outputs": [
    {
     "name": "stdout",
     "output_type": "stream",
     "text": [
      "7\n",
      "55\n",
      "10\n",
      "220\n"
     ]
    }
   ],
   "source": [
    "my_list=[10, 20, 30,50, 45, 55, 10]\n",
    "print(len(my_list))\n",
    "print(max(my_list))\n",
    "print(min(my_list))\n",
    "print(sum(my_list))"
   ]
  },
  {
   "cell_type": "code",
   "execution_count": 3,
   "id": "d1097caa",
   "metadata": {},
   "outputs": [
    {
     "name": "stdout",
     "output_type": "stream",
     "text": [
      "55\n"
     ]
    }
   ],
   "source": [
    "my_list=[10, 20, 30,50, 45, 55, 10]\n",
    "print(max(my_list))"
   ]
  },
  {
   "cell_type": "code",
   "execution_count": 4,
   "id": "c1bcccb3",
   "metadata": {},
   "outputs": [
    {
     "name": "stdout",
     "output_type": "stream",
     "text": [
      "10\n"
     ]
    }
   ],
   "source": [
    "my_list=[10, 20, 30,50, 45, 55, 10]\n",
    "print(min(my_list))"
   ]
  },
  {
   "cell_type": "code",
   "execution_count": 5,
   "id": "64f99828",
   "metadata": {},
   "outputs": [
    {
     "name": "stdout",
     "output_type": "stream",
     "text": [
      "220\n"
     ]
    }
   ],
   "source": [
    "my_list=[10, 20, 30,50, 45, 55, 10]\n",
    "print(sum(my_list))"
   ]
  },
  {
   "cell_type": "markdown",
   "id": "76b39f78",
   "metadata": {},
   "source": [
    "# Nested list"
   ]
  },
  {
   "cell_type": "code",
   "execution_count": 17,
   "id": "39551104",
   "metadata": {},
   "outputs": [
    {
     "name": "stdout",
     "output_type": "stream",
     "text": [
      "7\n",
      "[10, 20, 30, 50, 45, 55, 10, ['Raj', 'YAsh', 100]]\n",
      "8\n"
     ]
    }
   ],
   "source": [
    "my_list=[10, 20, 30,50, 45, 55, 10]\n",
    "print(len(my_list))\n",
    "my_list2=[\"Raj\",\"YAsh\",100]\n",
    "my_list.append(my_list2)\n",
    "print(my_list)\n",
    "print(len(my_list))"
   ]
  },
  {
   "cell_type": "markdown",
   "id": "1dce5c5a",
   "metadata": {},
   "source": [
    "# revesion of list"
   ]
  },
  {
   "cell_type": "code",
   "execution_count": 2,
   "id": "d283c66d",
   "metadata": {},
   "outputs": [],
   "source": [
    "set1={20,45,67,100,55}"
   ]
  },
  {
   "cell_type": "code",
   "execution_count": 7,
   "id": "d355dea1",
   "metadata": {},
   "outputs": [
    {
     "name": "stdout",
     "output_type": "stream",
     "text": [
      "[10, 20, 30, 'raj', 50, 45, 55, 10j, {67, 100, 20, 55, 45}]\n",
      "<class 'list'>\n"
     ]
    }
   ],
   "source": [
    "my_list=[10, 20, 30, 'raj', 50, 45, 55, 10j]\n",
    "my_list.append(set1)\n",
    "print(my_list)\n",
    "print(type(my_list))"
   ]
  },
  {
   "cell_type": "code",
   "execution_count": 3,
   "id": "a7b3f5be",
   "metadata": {},
   "outputs": [
    {
     "data": {
      "text/plain": [
       "(None, None, 55, None)"
      ]
     },
     "execution_count": 3,
     "metadata": {},
     "output_type": "execute_result"
    }
   ],
   "source": [
    "my_list=[10, 20, 30, 'raj', 50, 45, 55, 10j]\n",
    "x=my_list.extend([\"arya\"]),my_list.append(28),\n",
    "my_list.insert(0,\"yes\"),my_list.remove(\"raj\"),my_list.pop(6),my_list.clear()\n"
   ]
  },
  {
   "cell_type": "code",
   "execution_count": 6,
   "id": "889eb02a",
   "metadata": {},
   "outputs": [
    {
     "name": "stdout",
     "output_type": "stream",
     "text": [
      "None None None\n"
     ]
    }
   ],
   "source": [
    "my_list=[10, 20, 30, 'raj', 50, 45, 55, 10j]   # if we use print as a varible so output is none type\n",
    "print(my_list.extend([\"arya\"]),my_list.append(28),my_list.insert(0,\"yes\"))\n"
   ]
  },
  {
   "cell_type": "code",
   "execution_count": 24,
   "id": "df9e8876",
   "metadata": {},
   "outputs": [
    {
     "name": "stdout",
     "output_type": "stream",
     "text": [
      "None\n"
     ]
    }
   ],
   "source": [
    "my_list=[10, 20, 30, 'raj', 50, 45, 55, 10j]\n",
    "print(my_list.extend([\"yash\",35,67,\"no\"]))"
   ]
  },
  {
   "cell_type": "code",
   "execution_count": 27,
   "id": "9fc14bb5",
   "metadata": {},
   "outputs": [
    {
     "name": "stdout",
     "output_type": "stream",
     "text": [
      "None\n"
     ]
    }
   ],
   "source": [
    "my_list=[10, 20, 30, 'raj', 50, 45, 55, 10j]\n",
    "print(my_list.extend([\"yash\",35,67,\"no\"]))\n"
   ]
  },
  {
   "cell_type": "code",
   "execution_count": 7,
   "id": "d4e010f2",
   "metadata": {},
   "outputs": [
    {
     "name": "stdout",
     "output_type": "stream",
     "text": [
      "2819930331200\n",
      "raj\n",
      "[10, 20, 34, 56, 78]\n",
      "[10, 20, 34, 56, 78, 'raj', 45, 67, 'yash', 657, 56, 'rohit', 'no']\n",
      "['honey', 10, 20, 34, 56, 78, 'raj', 45, 67, 'yash', 657, 56, 'rohit', 'no']\n",
      "['honey', 10, 20, 34, 56, 78, 'raj', 45, 67, 'yash', 657, 56, 'rohit', 'no', 'arijit', 100, 45.98, 'kumar sanu']\n",
      "['kabir', 10, 20, 34, 56, 78, 'raj', 45, 67, 'yash', 657, 56, 'rohit', 'no', 'arijit', 100, 45.98, 'kumar sanu']\n",
      "['kabir', 10, 20, 34, 56, 78, 'raj', 45, 67, 'yash', 657, 56, 'rohit', 'no', 100, 45.98, 'kumar sanu']\n",
      "['kabir', 20, 34, 56, 78, 'raj', 45, 67, 'yash', 657, 56, 'rohit', 'no', 100, 45.98, 'kumar sanu']\n",
      "[56, 'rohit', 'no', 100, 45.98, 'kumar sanu']\n",
      "2819930331200\n",
      "[]\n",
      "2819930331200\n"
     ]
    }
   ],
   "source": [
    "my_list=[10,20,34,56,78,\"raj\",45,67,\"yash\",657,56,\"rohit\"]\n",
    "print(id(my_list))\n",
    "x=my_list[5]\n",
    "print(x)\n",
    "x=my_list[0:5:1]\n",
    "print(x)\n",
    "my_list.append(\"no\")\n",
    "print(my_list)\n",
    "my_list.insert(0,\"honey\")\n",
    "print(my_list)\n",
    "my_list.extend([\"arijit\",100,45.98,\"kumar sanu\"])\n",
    "print(my_list)\n",
    "my_list[0]=\"kabir\"\n",
    "print(my_list)\n",
    "my_list.remove(\"arijit\")\n",
    "print(my_list)\n",
    "my_list.pop(1)\n",
    "print(my_list)\n",
    "del my_list[0:10]\n",
    "print(my_list)\n",
    "print(id(my_list))\n",
    "my_list.clear()\n",
    "print(my_list)\n",
    "print(id(my_list))\n",
    "\n",
    "    \n",
    "\n"
   ]
  },
  {
   "cell_type": "code",
   "execution_count": 13,
   "id": "159f84bf",
   "metadata": {},
   "outputs": [
    {
     "name": "stdout",
     "output_type": "stream",
     "text": [
      "2819930321216\n",
      "[10, 20, 34, 56, 78, 'raj', 45, 67, 'yash', 657, 56, 'rohit', {65, 'yes', 55, 75, 45}]\n",
      "2819930321216\n",
      "<class 'list'>\n"
     ]
    }
   ],
   "source": [
    "my_list=[10,20,34,56,78,\"raj\",45,67,\"yash\",657,56,\"rohit\"]\n",
    "print(id(my_list))\n",
    "\n",
    "my_set={45,55,65,75,\"yes\"}\n",
    "my_list.extend([my_set])\n",
    "print(my_list)\n",
    "print(id(my_list))\n",
    "print(type(my_list))"
   ]
  },
  {
   "cell_type": "code",
   "execution_count": 4,
   "id": "55ba72cb",
   "metadata": {},
   "outputs": [
    {
     "ename": "TypeError",
     "evalue": "'<' not supported between instances of 'str' and 'int'",
     "output_type": "error",
     "traceback": [
      "\u001b[1;31m---------------------------------------------------------------------------\u001b[0m",
      "\u001b[1;31mTypeError\u001b[0m                                 Traceback (most recent call last)",
      "Cell \u001b[1;32mIn[4], line 2\u001b[0m\n\u001b[0;32m      1\u001b[0m my_list\u001b[38;5;241m=\u001b[39m[\u001b[38;5;241m10\u001b[39m,\u001b[38;5;241m20\u001b[39m,\u001b[38;5;241m34\u001b[39m,\u001b[38;5;241m56\u001b[39m,\u001b[38;5;241m78\u001b[39m,\u001b[38;5;124m\"\u001b[39m\u001b[38;5;124mraj\u001b[39m\u001b[38;5;124m\"\u001b[39m,\u001b[38;5;241m45\u001b[39m,\u001b[38;5;241m67\u001b[39m,\u001b[38;5;124m\"\u001b[39m\u001b[38;5;124myash\u001b[39m\u001b[38;5;124m\"\u001b[39m,\u001b[38;5;241m657\u001b[39m,\u001b[38;5;241m56\u001b[39m,\u001b[38;5;124m\"\u001b[39m\u001b[38;5;124mrohit\u001b[39m\u001b[38;5;124m\"\u001b[39m]\n\u001b[1;32m----> 2\u001b[0m sorted_list\u001b[38;5;241m=\u001b[39m\u001b[38;5;28mset\u001b[39m(\u001b[38;5;28;43msorted\u001b[39;49m\u001b[43m(\u001b[49m\u001b[43mmy_list\u001b[49m\u001b[43m)\u001b[49m)\n\u001b[0;32m      3\u001b[0m \u001b[38;5;28mprint\u001b[39m(sorted_list)\n",
      "\u001b[1;31mTypeError\u001b[0m: '<' not supported between instances of 'str' and 'int'"
     ]
    }
   ],
   "source": [
    "my_list=[10,20,34,56,78,\"raj\",45,67,\"yash\",657,56,\"rohit\"]   \n",
    "sorted_list=set(sorted(my_list))\n",
    "print(sorted_list)"
   ]
  },
  {
   "cell_type": "code",
   "execution_count": 5,
   "id": "72983c55",
   "metadata": {},
   "outputs": [
    {
     "name": "stdout",
     "output_type": "stream",
     "text": [
      "{34, 67, 10, 45, 78, 657, 20, 56}\n"
     ]
    }
   ],
   "source": [
    "my_list=[10,20,34,56,78,45,67,657,56,]\n",
    "sorted_list=set(sorted(my_list))\n",
    "print(sorted_list)"
   ]
  },
  {
   "cell_type": "code",
   "execution_count": 6,
   "id": "04e179c3",
   "metadata": {},
   "outputs": [
    {
     "name": "stdout",
     "output_type": "stream",
     "text": [
      "{34, 67, 'rohit', 10, 45, 78, 'raj', 657, 20, 'yash', 56}\n"
     ]
    }
   ],
   "source": [
    "my_list=[10,20,34,56,78,\"raj\",45,67,\"yash\",657,56,\"rohit\"]  \n",
    "x=set(my_list)\n",
    "print(x)"
   ]
  },
  {
   "cell_type": "code",
   "execution_count": 8,
   "id": "9c3694ec",
   "metadata": {},
   "outputs": [
    {
     "name": "stdout",
     "output_type": "stream",
     "text": [
      "[10, 20, 34, 45, 56, 56, 67, 78, 657]\n"
     ]
    }
   ],
   "source": [
    "my_list=[10,20,34,56,78,45,67,657,56,]\n",
    "my_list.sort()\n",
    "print(my_list)"
   ]
  },
  {
   "cell_type": "code",
   "execution_count": 9,
   "id": "c87df8f7",
   "metadata": {},
   "outputs": [
    {
     "name": "stdout",
     "output_type": "stream",
     "text": [
      "[1, 2, 3, 4, 5, 6, 7, 8]\n"
     ]
    }
   ],
   "source": [
    "my_list=[1,2,3,4,5,6,7,8]\n",
    "my_list.sort\n",
    "print(my_list)"
   ]
  },
  {
   "cell_type": "code",
   "execution_count": 11,
   "id": "b33986ff",
   "metadata": {},
   "outputs": [
    {
     "ename": "TypeError",
     "evalue": "'<' not supported between instances of 'str' and 'int'",
     "output_type": "error",
     "traceback": [
      "\u001b[1;31m---------------------------------------------------------------------------\u001b[0m",
      "\u001b[1;31mTypeError\u001b[0m                                 Traceback (most recent call last)",
      "Cell \u001b[1;32mIn[11], line 2\u001b[0m\n\u001b[0;32m      1\u001b[0m my_list\u001b[38;5;241m=\u001b[39m[\u001b[38;5;241m1\u001b[39m,\u001b[38;5;241m10\u001b[39m,\u001b[38;5;241m5\u001b[39m,\u001b[38;5;241m3\u001b[39m,\u001b[38;5;241m7\u001b[39m,\u001b[38;5;124m\"\u001b[39m\u001b[38;5;124mraj\u001b[39m\u001b[38;5;124m\"\u001b[39m]\n\u001b[1;32m----> 2\u001b[0m \u001b[43mmy_list\u001b[49m\u001b[38;5;241;43m.\u001b[39;49m\u001b[43msort\u001b[49m\u001b[43m(\u001b[49m\u001b[43m)\u001b[49m\n\u001b[0;32m      3\u001b[0m \u001b[38;5;28mprint\u001b[39m(my_list)\n",
      "\u001b[1;31mTypeError\u001b[0m: '<' not supported between instances of 'str' and 'int'"
     ]
    }
   ],
   "source": [
    "my_list=[1,10,5,3,7,\"raj\"]\n",
    "my_list.sort()\n",
    "print(my_list)"
   ]
  },
  {
   "cell_type": "code",
   "execution_count": 13,
   "id": "b03896f0",
   "metadata": {},
   "outputs": [
    {
     "name": "stdout",
     "output_type": "stream",
     "text": [
      "<built-in method sort of list object at 0x000002B39186D340>\n"
     ]
    }
   ],
   "source": [
    "my_list=[10,20,34,56,78,45,67,657,56,]\n",
    "x=my_list.sort\n",
    "print(x)"
   ]
  },
  {
   "cell_type": "code",
   "execution_count": 17,
   "id": "b31c1ff1",
   "metadata": {},
   "outputs": [
    {
     "name": "stdout",
     "output_type": "stream",
     "text": [
      "[10, 20, 34, 45, 56, 56, 67, 78, 657]\n"
     ]
    }
   ],
   "source": [
    "my_list=[10,20,34,56,78,45,67,657,56]\n",
    "sorted_list=list(sorted(my_list))\n",
    "print(sorted_list)"
   ]
  },
  {
   "cell_type": "code",
   "execution_count": 24,
   "id": "b00511b9",
   "metadata": {},
   "outputs": [
    {
     "name": "stdout",
     "output_type": "stream",
     "text": [
      "56\n"
     ]
    }
   ],
   "source": [
    "x=len(sorted_list)//2\n",
    "middle_object=sorted_list[x]\n",
    "print(middle_object)"
   ]
  },
  {
   "cell_type": "code",
   "execution_count": 39,
   "id": "4fa36db8",
   "metadata": {},
   "outputs": [
    {
     "name": "stdout",
     "output_type": "stream",
     "text": [
      "['raj']\n",
      "['no', 'raj']\n",
      "['no', 'raj', 'yes', 45.89, 10j]\n",
      "['honey', 'raj', 'yes', 45.89, 10j]\n",
      "['raj', 'yes', 45.89, 10j]\n",
      "['yes', 45.89, 10j]\n",
      "[]\n",
      "['raj']\n"
     ]
    }
   ],
   "source": [
    "sorted_list.append(\"raj\")\n",
    "print(sorted_list)\n",
    "sorted_list.insert(0,\"no\")\n",
    "print(sorted_list)\n",
    "sorted_list.extend([\"yes\",45.89,10j])\n",
    "print(sorted_list)\n",
    "sorted_list[0]=\"honey\"\n",
    "print(sorted_list)\n",
    "sorted_list.remove(\"honey\")\n",
    "print(sorted_list)\n",
    "sorted_list.pop(0)\n",
    "print(sorted_list)\n",
    "del sorted_list[:]\n",
    "print(sorted_list)\n",
    "sorted_list.append(\"raj\")\n",
    "print(sorted_list)"
   ]
  },
  {
   "cell_type": "code",
   "execution_count": 44,
   "id": "0f1580f3",
   "metadata": {},
   "outputs": [
    {
     "name": "stdout",
     "output_type": "stream",
     "text": [
      "({34, 67, 10, 45, 78, 657, 20, 56}, frozenset({1, 2, 3, 4, 5, 6, 'raj'}))\n",
      "<class 'tuple'>\n"
     ]
    }
   ],
   "source": [
    "my_list={10,20,34,56,78,45,67,657,56}\n",
    "list=[1,2,3,4,5,6,\"raj\"]\n",
    "x=set(frozenset(my_list)),frozenset(list)\n",
    "print(x)  \n",
    "print(type(x))"
   ]
  },
  {
   "cell_type": "code",
   "execution_count": 47,
   "id": "3f09e10a",
   "metadata": {},
   "outputs": [
    {
     "name": "stdout",
     "output_type": "stream",
     "text": [
      "[10, 20, 34, 56, 78, 45, 67, 657, 56]\n"
     ]
    }
   ],
   "source": [
    "my_list=[10,20,34,56,78,45,67,657,56]\n",
    "x=my_list[0::]\n",
    "print(x)"
   ]
  },
  {
   "cell_type": "code",
   "execution_count": 49,
   "id": "f030a593",
   "metadata": {},
   "outputs": [
    {
     "name": "stdout",
     "output_type": "stream",
     "text": [
      "[10, 20, 34, 45, 56, 56, 67, 78, 657]\n"
     ]
    }
   ],
   "source": [
    "my_list=[10,20,34,56,78,45,67,657,56]\n",
    "sorted_list=list(sorted(my_list))\n",
    "print(sorted_list)"
   ]
  },
  {
   "cell_type": "code",
   "execution_count": 53,
   "id": "f9ae9993",
   "metadata": {},
   "outputs": [
    {
     "name": "stdout",
     "output_type": "stream",
     "text": [
      "[10, 20, 34, 45, 56, 56, 67, 78, 657, 'raj']\n"
     ]
    }
   ],
   "source": [
    "sorted_list.append(\"raj\")\n",
    "print(sorted_list)   "
   ]
  },
  {
   "cell_type": "code",
   "execution_count": 57,
   "id": "479f0640",
   "metadata": {},
   "outputs": [
    {
     "name": "stdout",
     "output_type": "stream",
     "text": [
      "[10, 20, 34, 45, 56, 56, 67, 78, 657, 'raj', 1, 2, 3, 4, 5, 1, 2, 3, 4, 5, {1, 2, 3, 4, 5}]\n"
     ]
    }
   ],
   "source": [
    "set={1,2,3,4,5}\n",
    "sorted_list.extend([set])\n",
    "print(sorted_list)"
   ]
  },
  {
   "cell_type": "code",
   "execution_count": 5,
   "id": "055f5c18",
   "metadata": {},
   "outputs": [
    {
     "name": "stdout",
     "output_type": "stream",
     "text": [
      "[]\n"
     ]
    }
   ],
   "source": [
    "my_list=[\"raj\",34,-45,True,False,4.9,45j,]\n",
    "del my_list[::]\n",
    "print(my_list)\n"
   ]
  },
  {
   "cell_type": "code",
   "execution_count": 6,
   "id": "f4f0ceaa",
   "metadata": {},
   "outputs": [
    {
     "name": "stdout",
     "output_type": "stream",
     "text": [
      "[]\n",
      "1549989013568\n"
     ]
    }
   ],
   "source": [
    "print(my_list)\n",
    "print(id(my_list))"
   ]
  },
  {
   "cell_type": "code",
   "execution_count": 2,
   "id": "d25ae349",
   "metadata": {},
   "outputs": [
    {
     "name": "stdout",
     "output_type": "stream",
     "text": [
      "['raj', 34, -45, True, False, 4.9, 45j, [[1, 2, 3, 4]]]\n"
     ]
    }
   ],
   "source": [
    "my_list=[\"raj\",34,-45,True,False,4.9,45j,]\n",
    "list=[1,2,3,4]\n",
    "\n",
    "my_list.append([list])\n",
    "print(my_list)"
   ]
  },
  {
   "cell_type": "code",
   "execution_count": 7,
   "id": "d3c0bea8",
   "metadata": {},
   "outputs": [
    {
     "name": "stdout",
     "output_type": "stream",
     "text": [
      "[[1, 2, 3, 4], 'raj', 34, -45, True, False, 4.9, 45j]\n"
     ]
    }
   ],
   "source": [
    "my_list=[\"raj\",34,-45,True,False,4.9,45j,]\n",
    "list=[1,2,3,4]\n",
    "my_list.insert(0,list)\n",
    "print(my_list)"
   ]
  },
  {
   "cell_type": "markdown",
   "id": "9b3b6ffa",
   "metadata": {},
   "source": [
    "# important question of list"
   ]
  },
  {
   "cell_type": "code",
   "execution_count": 37,
   "id": "fefc7f99",
   "metadata": {},
   "outputs": [
    {
     "name": "stdout",
     "output_type": "stream",
     "text": [
      "[21, 11, 33, 28, 55, 'yash', 'Raj', 'Arya']\n"
     ]
    }
   ],
   "source": [
    "# short the list while using loop.\n",
    "my_list=[21,11,\"yash\",33,\"Raj\",28,55,\"Arya\"]\n",
    "new_list=[]\n",
    "for item in my_list:\n",
    "    if type(item)==int :\n",
    "         new_list.append(item)\n",
    "            \n",
    "else:\n",
    "    for item in my_list:\n",
    "        if type(item)==str:\n",
    "            new_list.append(item)\n",
    "print(new_list)            \n",
    "            "
   ]
  },
  {
   "cell_type": "code",
   "execution_count": 10,
   "id": "b11bfb5e",
   "metadata": {},
   "outputs": [
    {
     "name": "stdout",
     "output_type": "stream",
     "text": [
      "[21, 11, 33, 28, 55, 'yash', 'Raj', 'Arya']\n"
     ]
    }
   ],
   "source": [
    "my_list=[21,11,\"yash\",33,\"Raj\",28,55,\"Arya\"]\n",
    "new_list=[]\n",
    "for item in my_list:\n",
    "    if type(item)==int:\n",
    "        new_list.append(item)\n",
    "        \n",
    "else:\n",
    "    for item in my_list:\n",
    "        if type(item)==str:\n",
    "            new_list.append(item)\n",
    "print(new_list)            \n",
    "            "
   ]
  },
  {
   "cell_type": "code",
   "execution_count": null,
   "id": "aa7499a6",
   "metadata": {},
   "outputs": [],
   "source": []
  },
  {
   "cell_type": "code",
   "execution_count": 11,
   "id": "36ca9128",
   "metadata": {},
   "outputs": [
    {
     "name": "stdout",
     "output_type": "stream",
     "text": [
      "10\n",
      "50\n",
      "60\n",
      "22\n",
      "Raj\n",
      "Arya\n",
      "yes\n"
     ]
    }
   ],
   "source": [
    "my_list=[10,\"Raj\",50,\"Arya\",60,\"yes\",22]\n",
    "\n",
    "for item in my_list:\n",
    "    if type(item)==int:\n",
    "        print(item)\n",
    "else:\n",
    "    for item in my_list:\n",
    "        if type(item)==str:\n",
    "            print(item)"
   ]
  },
  {
   "cell_type": "code",
   "execution_count": 58,
   "id": "56e3a232",
   "metadata": {},
   "outputs": [
    {
     "name": "stdout",
     "output_type": "stream",
     "text": [
      "60\n"
     ]
    }
   ],
   "source": [
    "my_list=[10,50,60,22]\n",
    "print(max(my_list))"
   ]
  },
  {
   "cell_type": "code",
   "execution_count": 18,
   "id": "194ceafc",
   "metadata": {},
   "outputs": [
    {
     "name": "stdout",
     "output_type": "stream",
     "text": [
      "[1, 2, 19, 21, 25]\n"
     ]
    }
   ],
   "source": [
    "# remove duplicate item using loop\n",
    "my_list=[1,2,19,21,5,25,5,5,5,5,5,5,5,5] \n",
    "\n",
    "new_list=[]\n",
    "\n",
    "for item in my_list:\n",
    "    if item!=5:\n",
    "        new_list.append(item)\n",
    "print(new_list)"
   ]
  },
  {
   "cell_type": "code",
   "execution_count": 12,
   "id": "573351b9",
   "metadata": {},
   "outputs": [
    {
     "name": "stdout",
     "output_type": "stream",
     "text": [
      "[1, 2, 19, 21, 25]\n"
     ]
    }
   ],
   "source": [
    "my_list=[1,2,19,21,5,25,5,5,5,5,5,5,5,5]\n",
    "new_list=[]\n",
    "for item in my_list:\n",
    "    if item!=5:\n",
    "        new_list.append(item)\n",
    "print(new_list)        "
   ]
  },
  {
   "cell_type": "code",
   "execution_count": 20,
   "id": "4d918ff0",
   "metadata": {},
   "outputs": [
    {
     "name": "stdout",
     "output_type": "stream",
     "text": [
      "Duplicate number is: {5}\n",
      "1\n",
      "2\n",
      "19\n",
      "21\n",
      "25\n",
      "Raj\n"
     ]
    }
   ],
   "source": [
    "my_list=[1,2,19,21,5,25,5,5,5,5,5,5,5,5,\"Raj\"]\n",
    "new_list=[]\n",
    "for item in my_list:\n",
    "    if my_list.count(item)>1:\n",
    "        new_list.append(item)\n",
    "x=set(new_list)\n",
    "print(\"Duplicate number is:\",x)\n",
    "for item in my_list:\n",
    "    if item!=5:\n",
    "        print(item)\n",
    "\n",
    "        \n",
    "        "
   ]
  },
  {
   "cell_type": "code",
   "execution_count": 6,
   "id": "3ab80404",
   "metadata": {},
   "outputs": [
    {
     "name": "stdout",
     "output_type": "stream",
     "text": [
      "duplicate numbers: {10, 55}\n",
      "[100, 10, 43, 'Raj', 20, 55, 56]\n"
     ]
    }
   ],
   "source": [
    "# remove and find the duplicates in a list.\n",
    "my_list=[10,55,20,10,55,\"Raj\",10,55,100,55,10,10,43,56,55,10,10,55]\n",
    "new_list=[]\n",
    "for item in my_list:\n",
    "    if my_list.count(item)>1:\n",
    "        new_list.append(item)\n",
    "new_list1=set(new_list)\n",
    "print('duplicate numbers:',new_list1)\n",
    "removed_duplicates=set(my_list)\n",
    "list_1=list(removed_duplicates)\n",
    "print(list_1)\n",
    "        "
   ]
  },
  {
   "cell_type": "code",
   "execution_count": 1,
   "id": "db6993b5",
   "metadata": {},
   "outputs": [
    {
     "name": "stdout",
     "output_type": "stream",
     "text": [
      "Duplicate number: {10, 55}\n",
      "[100, 10, 43, 'Raj', 20, 55, 56]\n",
      "duplicate number:10\n",
      "number of duplicate: 6\n"
     ]
    }
   ],
   "source": [
    "# remove and find the duplicates in a list.\n",
    "my_list=[10,55,20,10,55,\"Raj\",10,55,100,55,10,10,43,56,55,10,10,55]\n",
    "new_list=[]\n",
    "for item in my_list:\n",
    "    if my_list.count(item)>1:\n",
    "        new_list.append(item)\n",
    "my_set=set(new_list)\n",
    "print(\"Duplicate number:\",my_set)\n",
    "removed_duplicate=set(my_list)\n",
    "list_1=list(removed_duplicate)\n",
    "print(list_1)\n",
    "number=int(input(\"duplicate number:\"))\n",
    "print(\"number of duplicate:\",new_list.count(item))\n"
   ]
  },
  {
   "cell_type": "code",
   "execution_count": 24,
   "id": "512868e2",
   "metadata": {},
   "outputs": [
    {
     "name": "stdout",
     "output_type": "stream",
     "text": [
      "Duplicate number: {10, 55}\n",
      "[100, 10, 43, 20, 'Raj', 55, 56]\n"
     ]
    }
   ],
   "source": [
    "# remove and find the duplicates in a list.\n",
    "my_list=[10,55,20,10,55,\"Raj\",10,55,100,55,10,10,43,56,55,10,10,55]\n",
    "new_list=[]\n",
    "for item in my_list:\n",
    "    if my_list.count(item)>1:\n",
    "        new_list.append(item)\n",
    "my_set=set(new_list)\n",
    "print(\"Duplicate number:\",my_set)\n",
    "x=set(my_list)\n",
    "y=list(x)\n",
    "print(y)\n",
    "\n"
   ]
  },
  {
   "cell_type": "code",
   "execution_count": 2,
   "id": "b41de1e5",
   "metadata": {},
   "outputs": [
    {
     "name": "stdout",
     "output_type": "stream",
     "text": [
      "Duplicate number in a list= [10, 55]\n",
      "[100, 10, 43, 'Raj', 20, 55, 56]\n",
      "Enter the dulicate number:55\n",
      "number of dupplicate is: 6\n"
     ]
    }
   ],
   "source": [
    "my_list=[10,55,20,10,55,\"Raj\",10,55,100,55,10,10,43,56,55,10,10,55]\n",
    "new_list=[]\n",
    "for item in my_list:\n",
    "    if my_list.count(item)>1:\n",
    "        new_list.append(item)\n",
    "duplicate_num=set(new_list)\n",
    "list_1=list(duplicate_num)\n",
    "print(\"Duplicate number in a list=\",list_1)\n",
    "removed_duplicate=set(my_list)\n",
    "\n",
    "list_2=list(removed_duplicate)\n",
    "print(list_2)\n",
    "numbers=int(input(\"Enter the dulicate number:\"))\n",
    "print(\"number of dupplicate is:\",new_list.count(item))\n",
    "\n"
   ]
  },
  {
   "cell_type": "code",
   "execution_count": null,
   "id": "df6cbb3c",
   "metadata": {},
   "outputs": [],
   "source": [
    "my_Ballance=80000\n",
    "withdrawl_limit=range(0,25000)\n",
    "amount=int(input(\"withdrawl money:\"))\n",
    "\n",
    "\n",
    "for item in withdrawl_limit: \n",
    "    if amount>25000:  \n",
    "        print(\"Your limit is only 25000\")\n",
    "else:\n",
    "    if amount<25000:\n",
    "        \n",
    "        print(\"Balance money\",my_Ballance-amount)"
   ]
  },
  {
   "cell_type": "code",
   "execution_count": 13,
   "id": "e8587397",
   "metadata": {},
   "outputs": [
    {
     "name": "stdout",
     "output_type": "stream",
     "text": [
      "withdrawl money:20000\n",
      "Balance money 60000\n"
     ]
    }
   ],
   "source": [
    "# Atm program\n",
    "my_Ballance=80000\n",
    "withdrawl_limit=range(0,25000)\n",
    "amount=int(input(\"withdrawl money:\"))\n",
    "\n",
    "\n",
    "if amount>25000:  \n",
    "        print(\"Your limit is only 25000\")\n",
    "else:\n",
    "    if amount<25000:\n",
    "        \n",
    "        print(\"Balance money\",my_Ballance-amount)\n",
    "        "
   ]
  },
  {
   "cell_type": "code",
   "execution_count": 25,
   "id": "c7b8eeb0",
   "metadata": {},
   "outputs": [
    {
     "name": "stdout",
     "output_type": "stream",
     "text": [
      "['Raj']\n"
     ]
    }
   ],
   "source": [
    "my_list=[]\n",
    "my_list.append(\"Raj\")\n",
    "print(my_list)"
   ]
  },
  {
   "cell_type": "code",
   "execution_count": 26,
   "id": "167d68a1",
   "metadata": {},
   "outputs": [
    {
     "name": "stdout",
     "output_type": "stream",
     "text": [
      "['Raj', 'Arya']\n"
     ]
    }
   ],
   "source": [
    "my_list.insert(1,\"Arya\")\n",
    "print(my_list)"
   ]
  },
  {
   "cell_type": "code",
   "execution_count": 27,
   "id": "09111e60",
   "metadata": {},
   "outputs": [
    {
     "name": "stdout",
     "output_type": "stream",
     "text": [
      "['Raj', 'Arya', 10, 20, 'Boy']\n"
     ]
    }
   ],
   "source": [
    "my_list.extend([10,20,\"Boy\"])\n",
    "print(my_list)"
   ]
  },
  {
   "cell_type": "code",
   "execution_count": 28,
   "id": "7092797b",
   "metadata": {},
   "outputs": [
    {
     "name": "stdout",
     "output_type": "stream",
     "text": [
      "['Raj', 'Arya']\n"
     ]
    }
   ],
   "source": [
    "x=my_list[0:2]\n",
    "print(x)"
   ]
  },
  {
   "cell_type": "code",
   "execution_count": 31,
   "id": "72676be5",
   "metadata": {},
   "outputs": [
    {
     "name": "stdout",
     "output_type": "stream",
     "text": [
      "['Raj', 'Arya', 10]\n"
     ]
    }
   ],
   "source": [
    "y=my_list[0:-2:1]\n",
    "print(y)"
   ]
  },
  {
   "cell_type": "code",
   "execution_count": 32,
   "id": "a357fb0d",
   "metadata": {},
   "outputs": [
    {
     "name": "stdout",
     "output_type": "stream",
     "text": [
      "['Raj', 'Arya', 10, 20, 'Boy']\n"
     ]
    }
   ],
   "source": [
    "print(my_list)"
   ]
  },
  {
   "cell_type": "code",
   "execution_count": 33,
   "id": "a0b377e5",
   "metadata": {},
   "outputs": [
    {
     "name": "stdout",
     "output_type": "stream",
     "text": [
      "0\n"
     ]
    }
   ],
   "source": [
    "x=my_list.index(\"Raj\")\n",
    "print(x)"
   ]
  },
  {
   "cell_type": "code",
   "execution_count": 35,
   "id": "a4a3afcc",
   "metadata": {},
   "outputs": [
    {
     "name": "stdout",
     "output_type": "stream",
     "text": [
      "['Raj arya is the best', 28]\n"
     ]
    }
   ],
   "source": [
    "my_list[0:2]=\"Raj arya is the best\",28\n",
    "print(my_list)"
   ]
  },
  {
   "cell_type": "code",
   "execution_count": 43,
   "id": "fe62b310",
   "metadata": {},
   "outputs": [
    {
     "name": "stdout",
     "output_type": "stream",
     "text": [
      "7\n"
     ]
    }
   ],
   "source": [
    "my_list=[\"Raj\",\"Rohit\",\"Raju\",\"Ravi\",\"Rohan\",\"ankit\",\"ayushman\"]\n",
    "new_list=[]\n",
    "for item in my_list:\n",
    "    new_list.append(item.count(\"a\"))\n",
    "print(sum(new_list))"
   ]
  },
  {
   "cell_type": "code",
   "execution_count": 1,
   "id": "537e4e48",
   "metadata": {},
   "outputs": [
    {
     "name": "stdout",
     "output_type": "stream",
     "text": [
      "Duplicates number is: {62, 55}\n",
      "[100, 10, 'yes', 'Raj', 55, 88, 62]\n",
      "find number of duplicates:62\n",
      "number of duplicate is: 0\n"
     ]
    }
   ],
   "source": [
    "my_list=[\"Raj\",55,10,62,62,100,62,55,88,\"yes\"]\n",
    "new_list=[]\n",
    "for item in my_list:\n",
    "    if my_list.count(item)>1:\n",
    "        new_list.append(item)\n",
    "duplicates=set(new_list)\n",
    "print(\"Duplicates number is:\",duplicates)\n",
    "removed_duplicates=set(my_list)\n",
    "x=list(removed_duplicates)\n",
    "print(x)\n",
    "numbers=int(input(\"find number of duplicates:\"))\n",
    "print(\"number of duplicate is:\",new_list.count(item))\n"
   ]
  },
  {
   "cell_type": "code",
   "execution_count": null,
   "id": "a2283d39",
   "metadata": {},
   "outputs": [],
   "source": []
  }
 ],
 "metadata": {
  "kernelspec": {
   "display_name": "Python 3 (ipykernel)",
   "language": "python",
   "name": "python3"
  },
  "language_info": {
   "codemirror_mode": {
    "name": "ipython",
    "version": 3
   },
   "file_extension": ".py",
   "mimetype": "text/x-python",
   "name": "python",
   "nbconvert_exporter": "python",
   "pygments_lexer": "ipython3",
   "version": "3.10.9"
  }
 },
 "nbformat": 4,
 "nbformat_minor": 5
}
