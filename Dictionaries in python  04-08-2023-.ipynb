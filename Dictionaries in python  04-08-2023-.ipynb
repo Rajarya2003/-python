{
 "cells": [
  {
   "cell_type": "markdown",
   "id": "d78829a2",
   "metadata": {},
   "source": [
    "# Dictionaries in Python\n",
    "in python version 3.7 and onwards,dictionaries are ordered.In python 3.6 and \n",
    "earlier,dictionaries are unordered."
   ]
  },
  {
   "cell_type": "markdown",
   "id": "51156885",
   "metadata": {},
   "source": [
    "#dictionaries Characteristics\n",
    "\n",
    "- ordered\n",
    "- unique=as mentioned above each value has a key ;the keys in Dictionaries \n",
    "  should be unique.\n",
    "- Mutable \n",
    "- in dictionaries use this bracket{}.\n",
    "\n",
    "Note:\n",
    "\n",
    "-  A dictionary value of any type ,and duplicates are allowed in that.\n",
    "\n",
    "- Keys in the dictionary must be unique and of immutable types like string,number and tuple.\n",
    "\n"
   ]
  },
  {
   "cell_type": "code",
   "execution_count": 1,
   "id": "e24e6749",
   "metadata": {},
   "outputs": [
    {
     "ename": "TypeError",
     "evalue": "unhashable type: 'list'",
     "output_type": "error",
     "traceback": [
      "\u001b[1;31m---------------------------------------------------------------------------\u001b[0m",
      "\u001b[1;31mTypeError\u001b[0m                                 Traceback (most recent call last)",
      "Cell \u001b[1;32mIn[1], line 1\u001b[0m\n\u001b[1;32m----> 1\u001b[0m person\u001b[38;5;241m=\u001b[39m{[\u001b[38;5;124m\"\u001b[39m\u001b[38;5;124mname\u001b[39m\u001b[38;5;124m\"\u001b[39m]:\u001b[38;5;124m\"\u001b[39m\u001b[38;5;124mkhushi\u001b[39m\u001b[38;5;124m\"\u001b[39m,\u001b[38;5;124m\"\u001b[39m\u001b[38;5;124mcountry\u001b[39m\u001b[38;5;124m\"\u001b[39m:\u001b[38;5;124m\"\u001b[39m\u001b[38;5;124mUSA\u001b[39m\u001b[38;5;124m\"\u001b[39m,\u001b[38;5;124m\"\u001b[39m\u001b[38;5;124mtelephone\u001b[39m\u001b[38;5;124m\"\u001b[39m:\u001b[38;5;241m8191\u001b[39m}\n\u001b[0;32m      2\u001b[0m \u001b[38;5;28mprint\u001b[39m(person)\n",
      "\u001b[1;31mTypeError\u001b[0m: unhashable type: 'list'"
     ]
    }
   ],
   "source": [
    "person={[\"name\"]:\"khushi\",\"country\":\"USA\",\"telephone\":8191}\n",
    "print(person)"
   ]
  },
  {
   "cell_type": "code",
   "execution_count": 3,
   "id": "5445f01d",
   "metadata": {},
   "outputs": [
    {
     "name": "stdout",
     "output_type": "stream",
     "text": [
      "{'name': ['khushi'], 'country': 'USA', 'telephone': 8191}\n",
      "3\n"
     ]
    }
   ],
   "source": [
    "person={\"name\":[\"khushi\"],\"country\":\"USA\",\"telephone\":8191}\n",
    "print(person)\n",
    "print(len(person))"
   ]
  },
  {
   "cell_type": "code",
   "execution_count": null,
   "id": "0eab445e",
   "metadata": {},
   "outputs": [],
   "source": [
    "person={\"name\":\"khushi\",\"country\":\"USA\",\"telephone\":8191}\n",
    "print(person)"
   ]
  },
  {
   "cell_type": "code",
   "execution_count": 3,
   "id": "13ea6305",
   "metadata": {
    "scrolled": true
   },
   "outputs": [
    {
     "ename": "SyntaxError",
     "evalue": "':' expected after dictionary key (1903738604.py, line 1)",
     "output_type": "error",
     "traceback": [
      "\u001b[1;36m  Cell \u001b[1;32mIn[3], line 1\u001b[1;36m\u001b[0m\n\u001b[1;33m    person={\"name\":\"khushi\",\"khushi\",\"country\":\"USA\",\"india\",\"telephone\":8191,1234}\u001b[0m\n\u001b[1;37m                                   ^\u001b[0m\n\u001b[1;31mSyntaxError\u001b[0m\u001b[1;31m:\u001b[0m ':' expected after dictionary key\n"
     ]
    }
   ],
   "source": [
    "person={\"name\":\"khushi\",\"khushi\",\"country\":\"USA\",\"india\",\"telephone\":8191,1234}\n",
    "print(person)"
   ]
  },
  {
   "cell_type": "code",
   "execution_count": 13,
   "id": "8cec43af",
   "metadata": {},
   "outputs": [
    {
     "name": "stdout",
     "output_type": "stream",
     "text": [
      "{'name': 'raj', 'country': 'USA', 'telephone': 8191}\n"
     ]
    }
   ],
   "source": [
    "person={\"name\":\"khushi\",\"name\":\"raj\",\"country\":\"USA\",\"telephone\":8191}\n",
    "print(person)"
   ]
  },
  {
   "cell_type": "code",
   "execution_count": 10,
   "id": "67c91a77",
   "metadata": {},
   "outputs": [
    {
     "name": "stdout",
     "output_type": "stream",
     "text": [
      "{'name': 'khushi', 'telephones': [1178, 2563, 4568]}\n"
     ]
    }
   ],
   "source": [
    "person={\"name\":\"khushi\",\"telephones\":[1178,2563,4568]}\n",
    "print(person)"
   ]
  },
  {
   "cell_type": "code",
   "execution_count": 11,
   "id": "a375f0de",
   "metadata": {},
   "outputs": [
    {
     "ename": "TypeError",
     "evalue": "unhashable type: 'list'",
     "output_type": "error",
     "traceback": [
      "\u001b[1;31m---------------------------------------------------------------------------\u001b[0m",
      "\u001b[1;31mTypeError\u001b[0m                                 Traceback (most recent call last)",
      "Cell \u001b[1;32mIn[11], line 1\u001b[0m\n\u001b[1;32m----> 1\u001b[0m person\u001b[38;5;241m=\u001b[39m{[\u001b[38;5;124m\"\u001b[39m\u001b[38;5;124mname\u001b[39m\u001b[38;5;124m\"\u001b[39m]:\u001b[38;5;124m\"\u001b[39m\u001b[38;5;124mkhushi\u001b[39m\u001b[38;5;124m\"\u001b[39m,\u001b[38;5;124m\"\u001b[39m\u001b[38;5;124mtelephones\u001b[39m\u001b[38;5;124m\"\u001b[39m:[\u001b[38;5;241m1178\u001b[39m,\u001b[38;5;241m2563\u001b[39m,\u001b[38;5;241m4568\u001b[39m]}\n\u001b[0;32m      2\u001b[0m \u001b[38;5;28mprint\u001b[39m(person)\n",
      "\u001b[1;31mTypeError\u001b[0m: unhashable type: 'list'"
     ]
    }
   ],
   "source": [
    "person={[\"name\"]:\"khushi\",\"telephones\":[1178,2563,4568]}\n",
    "print(person)              # keys in the dictionary must be unique and immutable\n",
    "                          # type like string,number,or tuple"
   ]
  },
  {
   "cell_type": "code",
   "execution_count": 16,
   "id": "4c96a806",
   "metadata": {},
   "outputs": [
    {
     "name": "stdout",
     "output_type": "stream",
     "text": [
      "{'name': 'raj', 'country': 'raj', 'telephone': 8191}\n"
     ]
    }
   ],
   "source": [
    "person={\"name\":\"khushi\",\"name\":\"raj\",\"country\":\"raj\",\"telephone\":8191}\n",
    "print(person)                 #value should be immutable or take duplicate."
   ]
  },
  {
   "cell_type": "code",
   "execution_count": 18,
   "id": "109e04b7",
   "metadata": {},
   "outputs": [
    {
     "ename": "AttributeError",
     "evalue": "'dict' object has no attribute 'add'",
     "output_type": "error",
     "traceback": [
      "\u001b[1;31m---------------------------------------------------------------------------\u001b[0m",
      "\u001b[1;31mAttributeError\u001b[0m                            Traceback (most recent call last)",
      "Cell \u001b[1;32mIn[18], line 2\u001b[0m\n\u001b[0;32m      1\u001b[0m person\u001b[38;5;241m=\u001b[39m{\u001b[38;5;124m\"\u001b[39m\u001b[38;5;124mname\u001b[39m\u001b[38;5;124m\"\u001b[39m:\u001b[38;5;124m\"\u001b[39m\u001b[38;5;124mkhushi\u001b[39m\u001b[38;5;124m\"\u001b[39m,\u001b[38;5;124m\"\u001b[39m\u001b[38;5;124mname\u001b[39m\u001b[38;5;124m\"\u001b[39m:\u001b[38;5;124m\"\u001b[39m\u001b[38;5;124mraj\u001b[39m\u001b[38;5;124m\"\u001b[39m,\u001b[38;5;124m\"\u001b[39m\u001b[38;5;124mcountry\u001b[39m\u001b[38;5;124m\"\u001b[39m:\u001b[38;5;124m\"\u001b[39m\u001b[38;5;124mUSA\u001b[39m\u001b[38;5;124m\"\u001b[39m,\u001b[38;5;124m\"\u001b[39m\u001b[38;5;124mtelephone\u001b[39m\u001b[38;5;124m\"\u001b[39m:\u001b[38;5;241m8191\u001b[39m}\n\u001b[1;32m----> 2\u001b[0m \u001b[43mperson\u001b[49m\u001b[38;5;241;43m.\u001b[39;49m\u001b[43madd\u001b[49m(\u001b[38;5;124m\"\u001b[39m\u001b[38;5;124madd\u001b[39m\u001b[38;5;124m\"\u001b[39m,\u001b[38;5;124m\"\u001b[39m\u001b[38;5;124mhaldwani\u001b[39m\u001b[38;5;124m\"\u001b[39m)\n\u001b[0;32m      3\u001b[0m \u001b[38;5;28mprint\u001b[39m(person)\n",
      "\u001b[1;31mAttributeError\u001b[0m: 'dict' object has no attribute 'add'"
     ]
    }
   ],
   "source": [
    "person={\"name\":\"khushi\",\"name\":\"raj\",\"country\":\"USA\",\"telephone\":8191}\n",
    "person.add(\"add\",\"haldwani\")\n",
    "print(person)"
   ]
  },
  {
   "cell_type": "code",
   "execution_count": 47,
   "id": "56b89e6a",
   "metadata": {},
   "outputs": [
    {
     "name": "stdout",
     "output_type": "stream",
     "text": [
      "{'name': 'raj', 'country': 'india', 'telephone': 8191}\n"
     ]
    }
   ],
   "source": [
    "person={\"name\":\"khushi\",\"name\":\"raj\",\"country\":\"india\",\"telephone\":8191}\n",
    "\n",
    "\n",
    "\n",
    "\n",
    "person.update\n",
    "print(person)"
   ]
  },
  {
   "cell_type": "code",
   "execution_count": 23,
   "id": "c7967225",
   "metadata": {},
   "outputs": [
    {
     "ename": "AttributeError",
     "evalue": "'dict' object has no attribute 'remove'",
     "output_type": "error",
     "traceback": [
      "\u001b[1;31m---------------------------------------------------------------------------\u001b[0m",
      "\u001b[1;31mAttributeError\u001b[0m                            Traceback (most recent call last)",
      "Cell \u001b[1;32mIn[23], line 2\u001b[0m\n\u001b[0;32m      1\u001b[0m person\u001b[38;5;241m=\u001b[39m{\u001b[38;5;124m\"\u001b[39m\u001b[38;5;124mname\u001b[39m\u001b[38;5;124m\"\u001b[39m:\u001b[38;5;124m\"\u001b[39m\u001b[38;5;124mkhushi\u001b[39m\u001b[38;5;124m\"\u001b[39m,\u001b[38;5;124m\"\u001b[39m\u001b[38;5;124mname\u001b[39m\u001b[38;5;124m\"\u001b[39m:\u001b[38;5;124m\"\u001b[39m\u001b[38;5;124mraj\u001b[39m\u001b[38;5;124m\"\u001b[39m,\u001b[38;5;124m\"\u001b[39m\u001b[38;5;124mcountry\u001b[39m\u001b[38;5;124m\"\u001b[39m:\u001b[38;5;124m\"\u001b[39m\u001b[38;5;124mUSA\u001b[39m\u001b[38;5;124m\"\u001b[39m,\u001b[38;5;124m\"\u001b[39m\u001b[38;5;124mtelephone\u001b[39m\u001b[38;5;124m\"\u001b[39m:\u001b[38;5;241m8191\u001b[39m}\n\u001b[1;32m----> 2\u001b[0m \u001b[43mperson\u001b[49m\u001b[38;5;241;43m.\u001b[39;49m\u001b[43mremove\u001b[49m(\u001b[38;5;124m\"\u001b[39m\u001b[38;5;124mname\u001b[39m\u001b[38;5;124m\"\u001b[39m,\u001b[38;5;124m\"\u001b[39m\u001b[38;5;124mkhushi\u001b[39m\u001b[38;5;124m\"\u001b[39m)\n\u001b[0;32m      3\u001b[0m \u001b[38;5;28mprint\u001b[39m(person)\n",
      "\u001b[1;31mAttributeError\u001b[0m: 'dict' object has no attribute 'remove'"
     ]
    }
   ],
   "source": [
    "person={\"name\":\"khushi\",\"name\":\"raj\",\"country\":\"USA\",\"telephone\":8191}\n",
    "person.remove(\"name\",\"khushi\")\n",
    "print(person)"
   ]
  },
  {
   "cell_type": "code",
   "execution_count": 24,
   "id": "64a99ed8",
   "metadata": {},
   "outputs": [
    {
     "ename": "AttributeError",
     "evalue": "'dict' object has no attribute 'discard'",
     "output_type": "error",
     "traceback": [
      "\u001b[1;31m---------------------------------------------------------------------------\u001b[0m",
      "\u001b[1;31mAttributeError\u001b[0m                            Traceback (most recent call last)",
      "Cell \u001b[1;32mIn[24], line 2\u001b[0m\n\u001b[0;32m      1\u001b[0m person\u001b[38;5;241m=\u001b[39m{\u001b[38;5;124m\"\u001b[39m\u001b[38;5;124mname\u001b[39m\u001b[38;5;124m\"\u001b[39m:\u001b[38;5;124m\"\u001b[39m\u001b[38;5;124mkhushi\u001b[39m\u001b[38;5;124m\"\u001b[39m,\u001b[38;5;124m\"\u001b[39m\u001b[38;5;124mname\u001b[39m\u001b[38;5;124m\"\u001b[39m:\u001b[38;5;124m\"\u001b[39m\u001b[38;5;124mraj\u001b[39m\u001b[38;5;124m\"\u001b[39m,\u001b[38;5;124m\"\u001b[39m\u001b[38;5;124mcountry\u001b[39m\u001b[38;5;124m\"\u001b[39m:\u001b[38;5;124m\"\u001b[39m\u001b[38;5;124mUSA\u001b[39m\u001b[38;5;124m\"\u001b[39m,\u001b[38;5;124m\"\u001b[39m\u001b[38;5;124mtelephone\u001b[39m\u001b[38;5;124m\"\u001b[39m:\u001b[38;5;241m8191\u001b[39m}\n\u001b[1;32m----> 2\u001b[0m \u001b[43mperson\u001b[49m\u001b[38;5;241;43m.\u001b[39;49m\u001b[43mdiscard\u001b[49m(\u001b[38;5;124m\"\u001b[39m\u001b[38;5;124mname\u001b[39m\u001b[38;5;124m\"\u001b[39m,\u001b[38;5;124m\"\u001b[39m\u001b[38;5;124mkhushi\u001b[39m\u001b[38;5;124m\"\u001b[39m)\n\u001b[0;32m      3\u001b[0m \u001b[38;5;28mprint\u001b[39m(person)\n",
      "\u001b[1;31mAttributeError\u001b[0m: 'dict' object has no attribute 'discard'"
     ]
    }
   ],
   "source": [
    "person={\"name\":\"khushi\",\"name\":\"raj\",\"country\":\"USA\",\"telephone\":8191}\n",
    "person.discard(\"name\",\"khushi\")\n",
    "print(person)"
   ]
  },
  {
   "cell_type": "code",
   "execution_count": 36,
   "id": "1d734d10",
   "metadata": {},
   "outputs": [
    {
     "name": "stdout",
     "output_type": "stream",
     "text": [
      "{'name': 'khushi', 'country': 'USA', 'telephone': 8191}\n"
     ]
    }
   ],
   "source": [
    "person={\"name\":\"khushi\",\"country\":\"USA\",\"telephone\":8191}\n",
    "person.pop(0,1)\n",
    "print(person)"
   ]
  },
  {
   "cell_type": "code",
   "execution_count": 35,
   "id": "c0c8edc7",
   "metadata": {},
   "outputs": [
    {
     "name": "stdout",
     "output_type": "stream",
     "text": [
      "{}\n"
     ]
    }
   ],
   "source": [
    "person={\"name\":\"khushi\",\"country\":\"USA\",\"telephone\":8191}\n",
    "person.clear()\n",
    "print(person)"
   ]
  },
  {
   "cell_type": "code",
   "execution_count": 34,
   "id": "f28e8f79",
   "metadata": {},
   "outputs": [
    {
     "ename": "SyntaxError",
     "evalue": "invalid syntax (1215153652.py, line 2)",
     "output_type": "error",
     "traceback": [
      "\u001b[1;36m  Cell \u001b[1;32mIn[34], line 2\u001b[1;36m\u001b[0m\n\u001b[1;33m    del person(0:4)\u001b[0m\n\u001b[1;37m                ^\u001b[0m\n\u001b[1;31mSyntaxError\u001b[0m\u001b[1;31m:\u001b[0m invalid syntax\n"
     ]
    }
   ],
   "source": [
    "person={\"name\":\"khushi\",\"country\":\"USA\",\"telephone\":8191}\n",
    "del person(0:4)\n",
    "print(person)"
   ]
  },
  {
   "cell_type": "code",
   "execution_count": 37,
   "id": "30a1f85d",
   "metadata": {},
   "outputs": [
    {
     "name": "stdout",
     "output_type": "stream",
     "text": [
      "3\n"
     ]
    }
   ],
   "source": [
    "person={\"name\":\"khushi\",\"country\":\"USA\",\"telephone\":8191}\n",
    "print(len(person))"
   ]
  },
  {
   "cell_type": "code",
   "execution_count": 40,
   "id": "93b849eb",
   "metadata": {},
   "outputs": [
    {
     "ename": "KeyError",
     "evalue": "0",
     "output_type": "error",
     "traceback": [
      "\u001b[1;31m---------------------------------------------------------------------------\u001b[0m",
      "\u001b[1;31mKeyError\u001b[0m                                  Traceback (most recent call last)",
      "Cell \u001b[1;32mIn[40], line 2\u001b[0m\n\u001b[0;32m      1\u001b[0m person\u001b[38;5;241m=\u001b[39m{\u001b[38;5;124m\"\u001b[39m\u001b[38;5;124mname\u001b[39m\u001b[38;5;124m\"\u001b[39m:\u001b[38;5;124m\"\u001b[39m\u001b[38;5;124mkhushi\u001b[39m\u001b[38;5;124m\"\u001b[39m,\u001b[38;5;124m\"\u001b[39m\u001b[38;5;124mcountry\u001b[39m\u001b[38;5;124m\"\u001b[39m:\u001b[38;5;124m\"\u001b[39m\u001b[38;5;124mUSA\u001b[39m\u001b[38;5;124m\"\u001b[39m,\u001b[38;5;124m\"\u001b[39m\u001b[38;5;124mtelephone\u001b[39m\u001b[38;5;124m\"\u001b[39m:\u001b[38;5;241m8191\u001b[39m}\n\u001b[1;32m----> 2\u001b[0m \u001b[43mperson\u001b[49m\u001b[43m[\u001b[49m\u001b[38;5;241;43m0\u001b[39;49m\u001b[43m]\u001b[49m\n\u001b[0;32m      3\u001b[0m \u001b[38;5;28mprint\u001b[39m(person)\n",
      "\u001b[1;31mKeyError\u001b[0m: 0"
     ]
    }
   ],
   "source": [
    "person={\"name\":\"khushi\",\"country\":\"USA\",\"telephone\":8191}\n",
    "person[0]\n",
    "print(person)"
   ]
  },
  {
   "cell_type": "code",
   "execution_count": 44,
   "id": "ca53f76f",
   "metadata": {},
   "outputs": [
    {
     "name": "stdout",
     "output_type": "stream",
     "text": [
      "name\n"
     ]
    }
   ],
   "source": [
    "person={\"name\":\"khushi\",\"country\":\"USA\",\"telephone\":8191}\n",
    "x=\"name\"\n",
    "if x in person:\n",
    "        print(x)\n",
    "else:\n",
    "    print(\"no\")\n"
   ]
  },
  {
   "cell_type": "code",
   "execution_count": 4,
   "id": "5af72641",
   "metadata": {},
   "outputs": [
    {
     "name": "stdout",
     "output_type": "stream",
     "text": [
      "khushi\n"
     ]
    }
   ],
   "source": [
    "person={\"name\":\"khushi\",\"country\":\"USA\",\"telephone\":8191}\n",
    "print(person[\"name\"])"
   ]
  },
  {
   "cell_type": "code",
   "execution_count": 4,
   "id": "f8f15608",
   "metadata": {},
   "outputs": [
    {
     "name": "stdout",
     "output_type": "stream",
     "text": [
      "USA\n"
     ]
    }
   ],
   "source": [
    "person={\"name\":\"Jyoti\",\"country\":\"USA\",\"telephone\":\"1178\"}\n",
    "print(person[\"country\"])"
   ]
  },
  {
   "cell_type": "code",
   "execution_count": 9,
   "id": "7dad74f2",
   "metadata": {},
   "outputs": [
    {
     "ename": "KeyError",
     "evalue": "'khushi'",
     "output_type": "error",
     "traceback": [
      "\u001b[1;31m---------------------------------------------------------------------------\u001b[0m",
      "\u001b[1;31mKeyError\u001b[0m                                  Traceback (most recent call last)",
      "Cell \u001b[1;32mIn[9], line 2\u001b[0m\n\u001b[0;32m      1\u001b[0m person\u001b[38;5;241m=\u001b[39m{\u001b[38;5;124m\"\u001b[39m\u001b[38;5;124mname\u001b[39m\u001b[38;5;124m\"\u001b[39m:\u001b[38;5;124m\"\u001b[39m\u001b[38;5;124mkhushi\u001b[39m\u001b[38;5;124m\"\u001b[39m,\u001b[38;5;124m\"\u001b[39m\u001b[38;5;124mcountry\u001b[39m\u001b[38;5;124m\"\u001b[39m:\u001b[38;5;124m\"\u001b[39m\u001b[38;5;124mUSA\u001b[39m\u001b[38;5;124m\"\u001b[39m,\u001b[38;5;124m\"\u001b[39m\u001b[38;5;124mtelephone\u001b[39m\u001b[38;5;124m\"\u001b[39m:\u001b[38;5;241m8191\u001b[39m}\n\u001b[1;32m----> 2\u001b[0m \u001b[38;5;28mprint\u001b[39m(\u001b[43mperson\u001b[49m\u001b[43m[\u001b[49m\u001b[38;5;124;43m\"\u001b[39;49m\u001b[38;5;124;43mkhushi\u001b[39;49m\u001b[38;5;124;43m\"\u001b[39;49m\u001b[43m]\u001b[49m)\n",
      "\u001b[1;31mKeyError\u001b[0m: 'khushi'"
     ]
    }
   ],
   "source": [
    "person={\"name\":\"khushi\",\"country\":\"USA\",\"telephone\":8191}\n",
    "print(person[\"khushi\"])"
   ]
  },
  {
   "cell_type": "code",
   "execution_count": 8,
   "id": "2e51d655",
   "metadata": {},
   "outputs": [
    {
     "ename": "KeyError",
     "evalue": "('name', 'country')",
     "output_type": "error",
     "traceback": [
      "\u001b[1;31m---------------------------------------------------------------------------\u001b[0m",
      "\u001b[1;31mKeyError\u001b[0m                                  Traceback (most recent call last)",
      "Cell \u001b[1;32mIn[8], line 2\u001b[0m\n\u001b[0;32m      1\u001b[0m person\u001b[38;5;241m=\u001b[39m{\u001b[38;5;124m\"\u001b[39m\u001b[38;5;124mname\u001b[39m\u001b[38;5;124m\"\u001b[39m:\u001b[38;5;124m\"\u001b[39m\u001b[38;5;124mkhushi\u001b[39m\u001b[38;5;124m\"\u001b[39m,\u001b[38;5;124m\"\u001b[39m\u001b[38;5;124mcountry\u001b[39m\u001b[38;5;124m\"\u001b[39m:\u001b[38;5;124m\"\u001b[39m\u001b[38;5;124mUSA\u001b[39m\u001b[38;5;124m\"\u001b[39m,\u001b[38;5;124m\"\u001b[39m\u001b[38;5;124mtelephone\u001b[39m\u001b[38;5;124m\"\u001b[39m:\u001b[38;5;241m8191\u001b[39m}\n\u001b[1;32m----> 2\u001b[0m \u001b[38;5;28mprint\u001b[39m(\u001b[43mperson\u001b[49m\u001b[43m[\u001b[49m\u001b[38;5;124;43m\"\u001b[39;49m\u001b[38;5;124;43mname\u001b[39;49m\u001b[38;5;124;43m\"\u001b[39;49m\u001b[43m,\u001b[49m\u001b[38;5;124;43m\"\u001b[39;49m\u001b[38;5;124;43mcountry\u001b[39;49m\u001b[38;5;124;43m\"\u001b[39;49m\u001b[43m]\u001b[49m),person([\u001b[38;5;124m\"\u001b[39m\u001b[38;5;124mcountry\u001b[39m\u001b[38;5;124m\"\u001b[39m])\n",
      "\u001b[1;31mKeyError\u001b[0m: ('name', 'country')"
     ]
    }
   ],
   "source": [
    "person={\"name\":\"khushi\",\"country\":\"USA\",\"telephone\":8191}\n",
    "print(person[\"name\",\"country\"]),person([\"country\"])"
   ]
  },
  {
   "cell_type": "code",
   "execution_count": 18,
   "id": "3bb9caf8",
   "metadata": {},
   "outputs": [
    {
     "ename": "TypeError",
     "evalue": "unhashable type: 'list'",
     "output_type": "error",
     "traceback": [
      "\u001b[1;31m---------------------------------------------------------------------------\u001b[0m",
      "\u001b[1;31mTypeError\u001b[0m                                 Traceback (most recent call last)",
      "Cell \u001b[1;32mIn[18], line 3\u001b[0m\n\u001b[0;32m      1\u001b[0m person\u001b[38;5;241m=\u001b[39m{\u001b[38;5;124m\"\u001b[39m\u001b[38;5;124mname\u001b[39m\u001b[38;5;124m\"\u001b[39m:\u001b[38;5;124m\"\u001b[39m\u001b[38;5;124mkhushi\u001b[39m\u001b[38;5;124m\"\u001b[39m,\u001b[38;5;124m\"\u001b[39m\u001b[38;5;124mcountry\u001b[39m\u001b[38;5;124m\"\u001b[39m:\u001b[38;5;124m\"\u001b[39m\u001b[38;5;124mUSA\u001b[39m\u001b[38;5;124m\"\u001b[39m,\u001b[38;5;124m\"\u001b[39m\u001b[38;5;124mtelephone\u001b[39m\u001b[38;5;124m\"\u001b[39m:\u001b[38;5;241m8191\u001b[39m}\n\u001b[0;32m      2\u001b[0m \u001b[38;5;66;03m# get key value using key name in.get()\u001b[39;00m\n\u001b[1;32m----> 3\u001b[0m \u001b[38;5;28mprint\u001b[39m(\u001b[43mperson\u001b[49m\u001b[38;5;241;43m.\u001b[39;49m\u001b[43mget\u001b[49m\u001b[43m(\u001b[49m\u001b[43m[\u001b[49m\u001b[38;5;124;43m\"\u001b[39;49m\u001b[38;5;124;43mname\u001b[39;49m\u001b[38;5;124;43m\"\u001b[39;49m\u001b[43m]\u001b[49m\u001b[43m)\u001b[49m)\n",
      "\u001b[1;31mTypeError\u001b[0m: unhashable type: 'list'"
     ]
    }
   ],
   "source": [
    "person={\"name\":\"khushi\",\"country\":\"USA\",\"telephone\":8191}\n",
    "# get key value using key name in.get()\n",
    "print(person.get([\"name\"]))\n"
   ]
  },
  {
   "cell_type": "code",
   "execution_count": 20,
   "id": "d05bbaf1",
   "metadata": {},
   "outputs": [
    {
     "name": "stdout",
     "output_type": "stream",
     "text": [
      "khushi\n"
     ]
    }
   ],
   "source": [
    "person={\"name\":\"khushi\",\"country\":\"USA\",\"telephone\":8191}\n",
    "print(person.get(\"name\"))"
   ]
  },
  {
   "cell_type": "markdown",
   "id": "0101bfb0",
   "metadata": {},
   "source": [
    "# Dictionary method\n",
    "\n",
    "1.keys()= returns the list of all keys present in the dictionary.\n",
    "\n",
    "2.values()= returns the list of all values present in the dictionary.\n",
    "\n",
    "3.item()= returns all the item present in the dic.each item will inside a tuple \n",
    "\n",
    "# these three method dont take any argument."
   ]
  },
  {
   "cell_type": "code",
   "execution_count": 24,
   "id": "38d94059",
   "metadata": {},
   "outputs": [
    {
     "name": "stdout",
     "output_type": "stream",
     "text": [
      "dict_keys(['name', 'country', 'telephone'])\n",
      "<class 'dict'>\n"
     ]
    }
   ],
   "source": [
    "person={\"name\":\"Jyoti\",\"country\":\"USA\",\"telephone\":\"1178\"}\n",
    "# get all keys\n",
    "print(person.keys())\n",
    "print(type(person))"
   ]
  },
  {
   "cell_type": "code",
   "execution_count": 5,
   "id": "c77cb915",
   "metadata": {},
   "outputs": [
    {
     "name": "stdout",
     "output_type": "stream",
     "text": [
      "dict_keys(['name', 'country', 'telephone', 'Age', 'Weight'])\n"
     ]
    }
   ],
   "source": [
    "person={\"name\":\"Jyoti\",\"country\":\"USA\",\"telephone\":\"1178\",\"Age\":22,\"Weight\":65}\n",
    "print(person.keys())\n"
   ]
  },
  {
   "cell_type": "code",
   "execution_count": 5,
   "id": "ddf8de00",
   "metadata": {},
   "outputs": [
    {
     "name": "stdout",
     "output_type": "stream",
     "text": [
      "2447097767168\n",
      "<class 'dict'>\n",
      "3\n",
      "dict_keys(['name', 'country', 'telephone'])\n",
      "2447092971936\n",
      "<class 'dict_keys'>\n",
      "3\n"
     ]
    }
   ],
   "source": [
    "person={\"name\":\"Jyoti\",\"country\":\"USA\",\"telephone\":\"1178\"}\n",
    "print(id(person))\n",
    "print(type(person))\n",
    "print(len(person))\n",
    "keys=person.keys()\n",
    "print(keys)\n",
    "print(id(keys))\n",
    "print(type(keys))\n",
    "print(len(keys))"
   ]
  },
  {
   "cell_type": "code",
   "execution_count": 5,
   "id": "5243a7b8",
   "metadata": {},
   "outputs": [
    {
     "name": "stdout",
     "output_type": "stream",
     "text": [
      "dict_keys(['name', 'country', 'telephone'])\n",
      "3\n"
     ]
    }
   ],
   "source": [
    "person={\"name\":\"Jyoti\",\"country\":\"USA\",\"telephone\":\"1178\"}\n",
    "keys=person.keys()\n",
    "print(keys)\n",
    "print(len(keys))"
   ]
  },
  {
   "cell_type": "code",
   "execution_count": 3,
   "id": "f219c260",
   "metadata": {},
   "outputs": [
    {
     "name": "stdout",
     "output_type": "stream",
     "text": [
      "dict_keys(['name', 'country', 'telephone'])\n"
     ]
    }
   ],
   "source": [
    "person={\"name\":\"Jyoti\",\"country\":\"USA\",\"telephone\":\"1178\"}\n",
    "print(person.keys())\n"
   ]
  },
  {
   "cell_type": "code",
   "execution_count": 25,
   "id": "9637a955",
   "metadata": {},
   "outputs": [
    {
     "name": "stdout",
     "output_type": "stream",
     "text": [
      "dict_values(['Jyoti', 'USA', '1178'])\n",
      "<class 'dict'>\n"
     ]
    }
   ],
   "source": [
    "person={\"name\":\"Jyoti\",\"country\":\"USA\",\"telephone\":\"1178\"}\n",
    "# get all values.\n",
    "print(person.values())\n",
    "print(type(person))"
   ]
  },
  {
   "cell_type": "code",
   "execution_count": 6,
   "id": "889a9790",
   "metadata": {},
   "outputs": [
    {
     "name": "stdout",
     "output_type": "stream",
     "text": [
      "2447097768832\n",
      "<class 'dict'>\n",
      "3\n",
      "dict_values(['Jyoti', 'USA', '1178'])\n",
      "2447092959696\n",
      "<class 'dict_values'>\n",
      "3\n"
     ]
    }
   ],
   "source": [
    "person={\"name\":\"Jyoti\",\"country\":\"USA\",\"telephone\":\"1178\"}\n",
    "print(id(person))\n",
    "print(type(person))\n",
    "print(len(person))\n",
    "values=person.values()\n",
    "print(values)\n",
    "print(id(values))\n",
    "print(type(values))\n",
    "print(len(values))"
   ]
  },
  {
   "cell_type": "code",
   "execution_count": 6,
   "id": "54b37623",
   "metadata": {},
   "outputs": [
    {
     "name": "stdout",
     "output_type": "stream",
     "text": [
      "dict_values(['Jyoti', 'USA', '1178'])\n"
     ]
    }
   ],
   "source": [
    "person={\"name\":\"Jyoti\",\"country\":\"USA\",\"telephone\":\"1178\"}\n",
    "values=person.values()\n",
    "print(values)"
   ]
  },
  {
   "cell_type": "code",
   "execution_count": 5,
   "id": "98b18c19",
   "metadata": {},
   "outputs": [
    {
     "name": "stdout",
     "output_type": "stream",
     "text": [
      "dict_values(['Jyoti', 'USA', '1178'])\n"
     ]
    }
   ],
   "source": [
    "person={\"name\":\"Jyoti\",\"country\":\"USA\",\"telephone\":\"1178\"}\n",
    "print(person.values())"
   ]
  },
  {
   "cell_type": "code",
   "execution_count": 27,
   "id": "0e9026bb",
   "metadata": {},
   "outputs": [
    {
     "name": "stdout",
     "output_type": "stream",
     "text": [
      "dict_items([('name', 'Jyoti'), ('country', 'USA'), ('telephone', '1178')])\n",
      "<class 'dict'>\n"
     ]
    }
   ],
   "source": [
    "person={\"name\":\"Jyoti\",\"country\":\"USA\",\"telephone\":\"1178\"}\n",
    "# get all keys and values.\n",
    "print(person.items())\n",
    "print(type(person))"
   ]
  },
  {
   "cell_type": "code",
   "execution_count": 7,
   "id": "088d6e05",
   "metadata": {},
   "outputs": [
    {
     "name": "stdout",
     "output_type": "stream",
     "text": [
      "2447097554816\n",
      "<class 'dict'>\n",
      "3\n",
      "dict_items([('name', 'Jyoti'), ('country', 'USA'), ('telephone', '1178')])\n",
      "2447093099984\n",
      "<class 'dict_items'>\n",
      "3\n"
     ]
    }
   ],
   "source": [
    "person={\"name\":\"Jyoti\",\"country\":\"USA\",\"telephone\":\"1178\"}\n",
    "print(id(person))\n",
    "print(type(person))\n",
    "print(len(person))\n",
    "items=person.items()\n",
    "print(items)\n",
    "print(id(items))\n",
    "print(type(items))\n",
    "print(len(items))\n"
   ]
  },
  {
   "cell_type": "code",
   "execution_count": 8,
   "id": "33d5a897",
   "metadata": {},
   "outputs": [
    {
     "name": "stdout",
     "output_type": "stream",
     "text": [
      "dict_items([('name', 'Jyoti'), ('country', 'USA'), ('telephone', '1178')])\n"
     ]
    }
   ],
   "source": [
    "person={\"name\":\"Jyoti\",\"country\":\"USA\",\"telephone\":\"1178\"}\n",
    "items=person.items()\n",
    "print(items)"
   ]
  },
  {
   "cell_type": "code",
   "execution_count": 6,
   "id": "d3ae84f8",
   "metadata": {},
   "outputs": [
    {
     "name": "stdout",
     "output_type": "stream",
     "text": [
      "dict_items([('name', 'Jyoti'), ('country', 'USA'), ('telephone', '1178')])\n"
     ]
    }
   ],
   "source": [
    "person={\"name\":\"Jyoti\",\"country\":\"USA\",\"telephone\":\"1178\"}\n",
    "print(person.items())"
   ]
  },
  {
   "cell_type": "code",
   "execution_count": 28,
   "id": "95e9c3a8",
   "metadata": {},
   "outputs": [
    {
     "name": "stdout",
     "output_type": "stream",
     "text": [
      "USA\n"
     ]
    }
   ],
   "source": [
    "person={\"name\":\"Jyoti\",\"country\":\"USA\",\"telephone\":\"1178\"}\n",
    "print(person.get(\"country\"))"
   ]
  },
  {
   "cell_type": "code",
   "execution_count": 29,
   "id": "7f6c8be0",
   "metadata": {},
   "outputs": [
    {
     "ename": "AttributeError",
     "evalue": "'dict' object has no attribute 'value'",
     "output_type": "error",
     "traceback": [
      "\u001b[1;31m---------------------------------------------------------------------------\u001b[0m",
      "\u001b[1;31mAttributeError\u001b[0m                            Traceback (most recent call last)",
      "Cell \u001b[1;32mIn[29], line 1\u001b[0m\n\u001b[1;32m----> 1\u001b[0m \u001b[38;5;28mprint\u001b[39m(\u001b[43mperson\u001b[49m\u001b[38;5;241;43m.\u001b[39;49m\u001b[43mvalue\u001b[49m(\u001b[38;5;124m\"\u001b[39m\u001b[38;5;124mkhushi\u001b[39m\u001b[38;5;124m\"\u001b[39m))\n",
      "\u001b[1;31mAttributeError\u001b[0m: 'dict' object has no attribute 'value'"
     ]
    }
   ],
   "source": [
    "print(person.value(\"khushi\"))"
   ]
  },
  {
   "cell_type": "code",
   "execution_count": 30,
   "id": "ec8a05b0",
   "metadata": {},
   "outputs": [
    {
     "ename": "AttributeError",
     "evalue": "'dict' object has no attribute 'value'",
     "output_type": "error",
     "traceback": [
      "\u001b[1;31m---------------------------------------------------------------------------\u001b[0m",
      "\u001b[1;31mAttributeError\u001b[0m                            Traceback (most recent call last)",
      "Cell \u001b[1;32mIn[30], line 1\u001b[0m\n\u001b[1;32m----> 1\u001b[0m \u001b[38;5;28mprint\u001b[39m(\u001b[43mperson\u001b[49m\u001b[38;5;241;43m.\u001b[39;49m\u001b[43mvalue\u001b[49m(\u001b[38;5;124m\"\u001b[39m\u001b[38;5;124mname\u001b[39m\u001b[38;5;124m\"\u001b[39m))\n",
      "\u001b[1;31mAttributeError\u001b[0m: 'dict' object has no attribute 'value'"
     ]
    }
   ],
   "source": [
    "print(person.value(\"name\"))"
   ]
  },
  {
   "cell_type": "code",
   "execution_count": 31,
   "id": "04222887",
   "metadata": {},
   "outputs": [
    {
     "ename": "TypeError",
     "evalue": "dict.keys() takes no arguments (1 given)",
     "output_type": "error",
     "traceback": [
      "\u001b[1;31m---------------------------------------------------------------------------\u001b[0m",
      "\u001b[1;31mTypeError\u001b[0m                                 Traceback (most recent call last)",
      "Cell \u001b[1;32mIn[31], line 1\u001b[0m\n\u001b[1;32m----> 1\u001b[0m \u001b[38;5;28mprint\u001b[39m(\u001b[43mperson\u001b[49m\u001b[38;5;241;43m.\u001b[39;49m\u001b[43mkeys\u001b[49m\u001b[43m(\u001b[49m\u001b[38;5;124;43m\"\u001b[39;49m\u001b[38;5;124;43mname\u001b[39;49m\u001b[38;5;124;43m\"\u001b[39;49m\u001b[43m)\u001b[49m)\n",
      "\u001b[1;31mTypeError\u001b[0m: dict.keys() takes no arguments (1 given)"
     ]
    }
   ],
   "source": [
    "print(person.keys(\"name\"))"
   ]
  },
  {
   "cell_type": "code",
   "execution_count": null,
   "id": "b5dc9efd",
   "metadata": {},
   "outputs": [],
   "source": [
    "print(person.item(\"name\"))"
   ]
  },
  {
   "cell_type": "markdown",
   "id": "d70ccf9e",
   "metadata": {},
   "source": [
    "## Find the length of dictionary.\n"
   ]
  },
  {
   "cell_type": "code",
   "execution_count": 32,
   "id": "a558a51a",
   "metadata": {},
   "outputs": [
    {
     "name": "stdout",
     "output_type": "stream",
     "text": [
      "3\n"
     ]
    }
   ],
   "source": [
    "person={\"name\":\"Jyoti\",\"country\":\"USA\",\"telephone\":\"1178\"}\n",
    "print(len(person))"
   ]
  },
  {
   "cell_type": "markdown",
   "id": "682e95a8",
   "metadata": {},
   "source": [
    "# Adding item to the dictionary.\n",
    "\n",
    "- using key-value assignment=if we add 2 keys so they become a one key\n",
    "\n",
    "- using update()Method= makes multiple keys."
   ]
  },
  {
   "cell_type": "code",
   "execution_count": 35,
   "id": "0702f671",
   "metadata": {},
   "outputs": [
    {
     "name": "stdout",
     "output_type": "stream",
     "text": [
      "{'name': 'Jyoti', 'country': 'USA', 'telephone': '1178', 'weight': 50, 'height': 6}\n"
     ]
    }
   ],
   "source": [
    "person={\"name\":\"Jyoti\",\"country\":\"USA\",\"telephone\":\"1178\"}\n",
    "person[\"weight\"]=50\n",
    "person.update({\"height\":6})\n",
    "print(person)              "
   ]
  },
  {
   "cell_type": "code",
   "execution_count": 9,
   "id": "03db42ee",
   "metadata": {},
   "outputs": [
    {
     "name": "stdout",
     "output_type": "stream",
     "text": [
      "2447096963072\n",
      "3\n",
      "{'name': 'Jyoti', 'country': 'USA', 'telephone': '1178', 'Age': 20}\n",
      "2447096963072\n",
      "4\n"
     ]
    }
   ],
   "source": [
    "person={\"name\":\"Jyoti\",\"country\":\"USA\",\"telephone\":\"1178\"}\n",
    "print(id(person))\n",
    "print(len(person))\n",
    "person[\"Age\"]=20\n",
    "print(person)\n",
    "print(id(person))\n",
    "print(len(person))"
   ]
  },
  {
   "cell_type": "code",
   "execution_count": 36,
   "id": "8c67a5e8",
   "metadata": {},
   "outputs": [
    {
     "name": "stdout",
     "output_type": "stream",
     "text": [
      "{'name': 'Jyoti', 'country': 'USA', 'telephone': '1178', ('weight', 'height'): (50, 6)}\n"
     ]
    }
   ],
   "source": [
    "person={\"name\":\"Jyoti\",\"country\":\"USA\",\"telephone\":\"1178\"}   # if we add 2 keys so they become a one key\n",
    "person[\"weight\",\"height\"]=50,6\n",
    "print(person)"
   ]
  },
  {
   "cell_type": "code",
   "execution_count": 10,
   "id": "079d3734",
   "metadata": {},
   "outputs": [
    {
     "name": "stdout",
     "output_type": "stream",
     "text": [
      "2447096930560\n",
      "3\n",
      "2447096930560\n",
      "6\n",
      "{'name': 'Jyoti', 'country': 'USA', 'telephone': '1178', 'Age': 20, 'Weight': 65, 'Add': 'Haldwani'}\n"
     ]
    }
   ],
   "source": [
    "person={\"name\":\"Jyoti\",\"country\":\"USA\",\"telephone\":\"1178\"} \n",
    "print(id(person))\n",
    "print(len(person))\n",
    "person.update({\"Age\":20,\"Weight\":65,\"Add\":\"Haldwani\"})\n",
    "print(id(person))\n",
    "print(len(person))\n",
    "print(person)"
   ]
  },
  {
   "cell_type": "code",
   "execution_count": 38,
   "id": "a8a76661",
   "metadata": {},
   "outputs": [
    {
     "name": "stdout",
     "output_type": "stream",
     "text": [
      "{'name': 'Jyoti', 'country': 'USA', 'telephone': '1178', 'height': 6, 'weight': 65}\n",
      "5\n"
     ]
    }
   ],
   "source": [
    "person={\"name\":\"Jyoti\",\"country\":\"USA\",\"telephone\":\"1178\"}\n",
    "\n",
    "person.update({\"height\":6,\"weight\":65})\n",
    "print(person)  \n",
    "print(len(person))"
   ]
  },
  {
   "cell_type": "code",
   "execution_count": 40,
   "id": "49658b56",
   "metadata": {},
   "outputs": [
    {
     "name": "stdout",
     "output_type": "stream",
     "text": [
      "2896021350592\n",
      "{'name': 'Jyoti', 'country': 'USA', 'telephone': '1178', 'height': 6, 'weight': 65, 'Age': 20}\n",
      "6\n",
      "2896021350592\n"
     ]
    }
   ],
   "source": [
    "person={\"name\":\"Jyoti\",\"country\":\"USA\",\"telephone\":\"1178\"}\n",
    "print(id(person))\n",
    "\n",
    "person.update({\"height\":6,\"weight\":65,\"Age\":20})\n",
    "print(person)  \n",
    "print(len(person))\n",
    "print(id(person))"
   ]
  },
  {
   "cell_type": "code",
   "execution_count": 7,
   "id": "a5817b44",
   "metadata": {},
   "outputs": [
    {
     "name": "stdout",
     "output_type": "stream",
     "text": [
      "{'name': 'raj', 'country': 'USA', 'telephone': '1178'}\n"
     ]
    }
   ],
   "source": [
    "person={\"name\":\"Jyoti\",\"country\":\"USA\",\"telephone\":\"1178\"}\n",
    "person[\"name\"]=\"raj\"\n",
    "print(person)"
   ]
  },
  {
   "cell_type": "code",
   "execution_count": 11,
   "id": "64b1dea5",
   "metadata": {},
   "outputs": [
    {
     "name": "stdout",
     "output_type": "stream",
     "text": [
      "{'name': 'Jyoti', 'country': 'USA', 'telephone': '1178', ('weight', 'age'): (50, 20)}\n",
      "4\n"
     ]
    }
   ],
   "source": [
    "person={\"name\":\"Jyoti\",\"country\":\"USA\",\"telephone\":\"1178\"}\n",
    "person[\"weight\",\"age\"]=50,20\n",
    "print(person)\n",
    "print(len(person))\n"
   ]
  },
  {
   "cell_type": "code",
   "execution_count": 12,
   "id": "a94592d5",
   "metadata": {},
   "outputs": [
    {
     "name": "stdout",
     "output_type": "stream",
     "text": [
      "{'name': 'Jyoti', 'country': 'USA', 'telephone': '1178', ('name', 'country'): ('raj', 'India')}\n"
     ]
    }
   ],
   "source": [
    "person={\"name\":\"Jyoti\",\"country\":\"USA\",\"telephone\":\"1178\"}\n",
    "person[\"name\",\"country\"]=\"raj\",\"India\"\n",
    "print(person)"
   ]
  },
  {
   "cell_type": "code",
   "execution_count": 13,
   "id": "d2e0a4b0",
   "metadata": {},
   "outputs": [
    {
     "name": "stdout",
     "output_type": "stream",
     "text": [
      "{'name': ('raj', 'India'), 'country': 'USA', 'telephone': '1178'}\n"
     ]
    }
   ],
   "source": [
    "person={\"name\":\"Jyoti\",\"country\":\"USA\",\"telephone\":\"1178\"}\n",
    "person[\"name\"]=\"raj\",\"India\"\n",
    "print(person)"
   ]
  },
  {
   "cell_type": "code",
   "execution_count": 16,
   "id": "49639f40",
   "metadata": {},
   "outputs": [
    {
     "name": "stdout",
     "output_type": "stream",
     "text": [
      "{'name': 'arya', 'country': 'USA', 'telephone': '1178', 'height': '6ft'}\n"
     ]
    }
   ],
   "source": [
    "person={\"name\":\"Jyoti\",\"country\":\"USA\",\"telephone\":\"1178\"}\n",
    "person.update({\"name\":\"arya\",\"height\":\"6ft\"})\n",
    "print(person)"
   ]
  },
  {
   "cell_type": "code",
   "execution_count": 9,
   "id": "df64cc32",
   "metadata": {},
   "outputs": [
    {
     "name": "stdout",
     "output_type": "stream",
     "text": [
      "{'name': 'raj', 'country': 'USA', 'telephone': '1178'}\n"
     ]
    }
   ],
   "source": [
    "person={\"name\":\"Jyoti\",\"country\":\"USA\",\"telephone\":\"1178\"}\n",
    "person[\"name\"]=\"raj\"\n",
    "print(person)"
   ]
  },
  {
   "cell_type": "code",
   "execution_count": 10,
   "id": "3e31e36b",
   "metadata": {},
   "outputs": [
    {
     "name": "stdout",
     "output_type": "stream",
     "text": [
      "{'name': 'Jyoti', 'country': 'USA', 'telephone': '1178', 'Age': 20}\n"
     ]
    }
   ],
   "source": [
    "person={\"name\":\"Jyoti\",\"country\":\"USA\",\"telephone\":\"1178\"}\n",
    "person[\"Age\"]=20\n",
    "print(person)"
   ]
  },
  {
   "cell_type": "code",
   "execution_count": 14,
   "id": "c145baf5",
   "metadata": {},
   "outputs": [
    {
     "name": "stdout",
     "output_type": "stream",
     "text": [
      "2262859419584\n",
      "{'name': 'Raj', 'country': 'USA', 'telephone': '1178', 'Age': 20, 'weight': 65}\n",
      "2262859419584\n"
     ]
    }
   ],
   "source": [
    "person={\"name\":\"Jyoti\",\"country\":\"USA\",\"telephone\":\"1178\"}\n",
    "print(id(person))\n",
    "person.update({\"name\":\"Raj\",\"Age\":20,\"weight\":65})\n",
    "\n",
    "print(person)\n",
    "print(id(person))"
   ]
  },
  {
   "cell_type": "markdown",
   "id": "df07936d",
   "metadata": {},
   "source": [
    "# Note :we can also add more than one key to use update method"
   ]
  },
  {
   "cell_type": "markdown",
   "id": "b26d617e",
   "metadata": {},
   "source": [
    "# Set default value to a key\n",
    "\n",
    "using the setdefault()method default value can be assigned to a key in the dictionary . in case the key doesn't exist already \n",
    "\n",
    "then the key will be inserted into a dictionary , and the value become the default value and none wiil be inserted if a value \n",
    "is not mentioned.\n",
    "\n",
    "In case the key exists, then it will return the value of a key.\n",
    "\n",
    "Example."
   ]
  },
  {
   "cell_type": "code",
   "execution_count": 7,
   "id": "7fdedba8",
   "metadata": {},
   "outputs": [
    {
     "name": "stdout",
     "output_type": "stream",
     "text": [
      "{'name': 'Jyoti', 'country': 'USA', 'telephone': '1178', 'Age': '17'}\n"
     ]
    }
   ],
   "source": [
    "person={\"name\":\"Jyoti\",\"country\":\"USA\",\"telephone\":\"1178\"}   # takes only two argument.\n",
    "person.setdefault(\"Age\",\"17\")                                 # add one key or value.\n",
    "print(person)\n"
   ]
  },
  {
   "cell_type": "code",
   "execution_count": 12,
   "id": "9b819d37",
   "metadata": {},
   "outputs": [
    {
     "name": "stdout",
     "output_type": "stream",
     "text": [
      "2447097763456\n",
      "3\n",
      "{'name': 'Jyoti', 'country': 'USA', 'telephone': '1178', 'ADD': 'Halwani'}\n",
      "2447097763456\n",
      "4\n"
     ]
    }
   ],
   "source": [
    "person={\"name\":\"Jyoti\",\"country\":\"USA\",\"telephone\":\"1178\"}\n",
    "print(id(person))\n",
    "print(len(person))\n",
    "person.setdefault(\"ADD\",\"Halwani\")\n",
    "print(person)\n",
    "print(id(person))\n",
    "print(len(person))"
   ]
  },
  {
   "cell_type": "code",
   "execution_count": 13,
   "id": "d0f310bd",
   "metadata": {},
   "outputs": [
    {
     "name": "stdout",
     "output_type": "stream",
     "text": [
      "2447097746944\n",
      "3\n",
      "{'name': 'Jyoti', 'country': 'USA', 'telephone': '1178', 'ADD': None}\n",
      "2447097746944\n",
      "4\n"
     ]
    }
   ],
   "source": [
    "person={\"name\":\"Jyoti\",\"country\":\"USA\",\"telephone\":\"1178\"}\n",
    "print(id(person))\n",
    "print(len(person))\n",
    "person.setdefault(\"ADD\",)\n",
    "print(person)\n",
    "print(id(person))\n",
    "print(len(person))"
   ]
  },
  {
   "cell_type": "code",
   "execution_count": 18,
   "id": "8a0f5457",
   "metadata": {},
   "outputs": [
    {
     "name": "stdout",
     "output_type": "stream",
     "text": [
      "2447096963072\n",
      "3\n",
      "{'name': 'Jyoti', 'country': 'USA', 'telephone': '1178'}\n",
      "2447096963072\n",
      "3\n"
     ]
    }
   ],
   "source": [
    "person={\"name\":\"Jyoti\",\"country\":\"USA\",\"telephone\":\"1178\"}\n",
    "print(id(person))\n",
    "print(len(person))\n",
    "person.setdefault(\"name\",\"Raj\")\n",
    "print(person)\n",
    "print(id(person))\n",
    "print(len(person))"
   ]
  },
  {
   "cell_type": "code",
   "execution_count": 19,
   "id": "bf1d221b",
   "metadata": {},
   "outputs": [
    {
     "name": "stdout",
     "output_type": "stream",
     "text": [
      "{'name': 'Jyoti', 'country': 'USA', 'telephone': '1178', 'add': 'Haldwai'}\n"
     ]
    }
   ],
   "source": [
    "person={\"name\":\"Jyoti\",\"country\":\"USA\",\"telephone\":\"1178\"}\n",
    "person.setdefault(\"add\",\"Haldwai\")\n",
    "print(person)"
   ]
  },
  {
   "cell_type": "code",
   "execution_count": 10,
   "id": "2b868526",
   "metadata": {},
   "outputs": [
    {
     "name": "stdout",
     "output_type": "stream",
     "text": [
      "{'name': 'Jyoti', 'country': 'USA', 'telephone': '1178'}\n"
     ]
    }
   ],
   "source": [
    "person={\"name\":\"Jyoti\",\"country\":\"USA\",\"telephone\":\"1178\"} \n",
    "person.setdefault(\"name\",\"Raj\")\n",
    "print(person)"
   ]
  },
  {
   "cell_type": "code",
   "execution_count": 17,
   "id": "7d70ef9f",
   "metadata": {},
   "outputs": [
    {
     "name": "stdout",
     "output_type": "stream",
     "text": [
      "{'name': 'Jyoti', 'country': 'USA', 'telephone': '1178'}\n"
     ]
    }
   ],
   "source": [
    "person={\"name\":\"Jyoti\",\"country\":\"USA\",\"telephone\":\"1178\"} \n",
    "person.setdefault(\"name\")\n",
    "print(person)"
   ]
  },
  {
   "cell_type": "code",
   "execution_count": 11,
   "id": "c3b44306",
   "metadata": {},
   "outputs": [
    {
     "name": "stdout",
     "output_type": "stream",
     "text": [
      "{'name': 'Jyoti', 'country': 'USA', 'telephone': '1178', 'weight': None}\n"
     ]
    }
   ],
   "source": [
    "person={\"name\":\"Jyoti\",\"country\":\"USA\",\"telephone\":\"1178\"}  # if we add unique key so value assign\n",
    "                                                           # none type.\n",
    "person.setdefault(\"weight\")\n",
    "print(person)"
   ]
  },
  {
   "cell_type": "code",
   "execution_count": 14,
   "id": "8cdf2d7e",
   "metadata": {},
   "outputs": [
    {
     "name": "stdout",
     "output_type": "stream",
     "text": [
      "{'name': 'Jyoti', 'country': 'USA', 'telephone': '1178'}\n"
     ]
    }
   ],
   "source": [
    "person={\"name\":\"Jyoti\",\"country\":\"USA\",\"telephone\":\"1178\"} \n",
    "person.setdefault(\"name\",\"raj\")\n",
    "print(person)"
   ]
  },
  {
   "cell_type": "markdown",
   "id": "ac3de1a1",
   "metadata": {},
   "source": [
    "# Modify the values of the dictionary keys.\n",
    "\n",
    "we can modify the values of the existing dictionary keys .\n",
    "\n",
    "1.using key name:\n",
    "    \n",
    "2.using update()method.    "
   ]
  },
  {
   "cell_type": "code",
   "execution_count": 21,
   "id": "1dc43d9d",
   "metadata": {},
   "outputs": [
    {
     "name": "stdout",
     "output_type": "stream",
     "text": [
      "{'name': 'Raj', 'country': 'USA', 'telephone': '1178'}\n"
     ]
    }
   ],
   "source": [
    "person={\"name\":\"Jyoti\",\"country\":\"USA\",\"telephone\":\"1178\"} \n",
    "person[\"name\"]=\"Raj\"\n",
    "print(person)"
   ]
  },
  {
   "cell_type": "code",
   "execution_count": 40,
   "id": "e65eb679",
   "metadata": {},
   "outputs": [
    {
     "name": "stdout",
     "output_type": "stream",
     "text": [
      "{'name': 'Jyoti', 'country': 'india', 'telephone': '1178'}\n"
     ]
    }
   ],
   "source": [
    "person={\"name\":\"Jyoti\",\"country\":\"USA\",\"telephone\":\"1178\"}\n",
    "person.update({\"country\":\"india\"})\n",
    "print(person)"
   ]
  },
  {
   "cell_type": "code",
   "execution_count": 19,
   "id": "36197755",
   "metadata": {},
   "outputs": [
    {
     "name": "stdout",
     "output_type": "stream",
     "text": [
      "{'name': 'Raj', 'country': 'USA', 'telephone': '1178'}\n"
     ]
    }
   ],
   "source": [
    "person={\"name\":\"Jyoti\",\"country\":\"USA\",\"telephone\":\"1178\"}\n",
    "person.update({\"name\":\"Raj\"})\n",
    "print(person)"
   ]
  },
  {
   "cell_type": "markdown",
   "id": "19607094",
   "metadata": {},
   "source": [
    "# Removing item from the dict\n",
    "\n",
    "1.pop(key[,d]\n",
    "2.popitem()\n",
    "3.del key\n",
    "4.clear\n",
    "5.del"
   ]
  },
  {
   "cell_type": "code",
   "execution_count": 23,
   "id": "dc22dce7",
   "metadata": {},
   "outputs": [
    {
     "name": "stdout",
     "output_type": "stream",
     "text": [
      "{'country': 'USA', 'telephone': '1178'}\n"
     ]
    }
   ],
   "source": [
    "person={\"name\":\"Jyoti\",\"country\":\"USA\",\"telephone\":\"1178\"}\n",
    "#pop delete only one key at a time.and delete specific key.\n",
    "person.pop(\"name\")\n",
    "print(person)"
   ]
  },
  {
   "cell_type": "code",
   "execution_count": 26,
   "id": "6b73df0e",
   "metadata": {},
   "outputs": [
    {
     "name": "stdout",
     "output_type": "stream",
     "text": [
      "{'name': 'Jyoti', 'country': 'USA'}\n"
     ]
    }
   ],
   "source": [
    "person={\"name\":\"Jyoti\",\"country\":\"USA\",\"telephone\":\"1178\"}\n",
    "person.popitem()\n",
    "print(person)"
   ]
  },
  {
   "cell_type": "code",
   "execution_count": 33,
   "id": "bfd30dcb",
   "metadata": {},
   "outputs": [
    {
     "name": "stdout",
     "output_type": "stream",
     "text": [
      "{'name': 'Jyoti', 'country': 'USA', 'telephone': '1178', 'Age': 20}\n"
     ]
    }
   ],
   "source": [
    "person={\"name\":\"Jyoti\",\"country\":\"USA\",\"telephone\":\"1178\",\"Age\":20,\"Weight\":65}\n",
    "# popitem takes no argument and delete the last key.\n",
    "person.popitem()\n",
    "print(person)"
   ]
  },
  {
   "cell_type": "code",
   "execution_count": 57,
   "id": "98bce725",
   "metadata": {},
   "outputs": [
    {
     "name": "stdout",
     "output_type": "stream",
     "text": [
      "None\n",
      "0\n"
     ]
    }
   ],
   "source": [
    "person={\"name\":\"Jyoti\",\"country\":\"USA\",\"telephone\":\"1178\",\"Age\":20,\"Weight\":65}\n",
    "# clear takes no argument.and remove all the dictionary\n",
    "print(person.clear())\n",
    "print(len(person))\n"
   ]
  },
  {
   "cell_type": "code",
   "execution_count": 58,
   "id": "f6a43aa8",
   "metadata": {},
   "outputs": [
    {
     "name": "stdout",
     "output_type": "stream",
     "text": [
      "{'name': 'Jyoti', 'country': 'USA', 'telephone': '1178', 'Age': 20, 'Weight': 65}\n"
     ]
    }
   ],
   "source": [
    "person={\"name\":\"Jyoti\",\"country\":\"USA\",\"telephone\":\"1178\",\"Age\":20,\"Weight\":65}\n",
    "print(person)"
   ]
  },
  {
   "cell_type": "code",
   "execution_count": 59,
   "id": "5c88bd63",
   "metadata": {},
   "outputs": [
    {
     "ename": "NameError",
     "evalue": "name 'person' is not defined",
     "output_type": "error",
     "traceback": [
      "\u001b[1;31m---------------------------------------------------------------------------\u001b[0m",
      "\u001b[1;31mNameError\u001b[0m                                 Traceback (most recent call last)",
      "Cell \u001b[1;32mIn[59], line 3\u001b[0m\n\u001b[0;32m      1\u001b[0m person\u001b[38;5;241m=\u001b[39m{\u001b[38;5;124m\"\u001b[39m\u001b[38;5;124mname\u001b[39m\u001b[38;5;124m\"\u001b[39m:\u001b[38;5;124m\"\u001b[39m\u001b[38;5;124mJyoti\u001b[39m\u001b[38;5;124m\"\u001b[39m,\u001b[38;5;124m\"\u001b[39m\u001b[38;5;124mcountry\u001b[39m\u001b[38;5;124m\"\u001b[39m:\u001b[38;5;124m\"\u001b[39m\u001b[38;5;124mUSA\u001b[39m\u001b[38;5;124m\"\u001b[39m,\u001b[38;5;124m\"\u001b[39m\u001b[38;5;124mtelephone\u001b[39m\u001b[38;5;124m\"\u001b[39m:\u001b[38;5;124m\"\u001b[39m\u001b[38;5;124m1178\u001b[39m\u001b[38;5;124m\"\u001b[39m,\u001b[38;5;124m\"\u001b[39m\u001b[38;5;124mAge\u001b[39m\u001b[38;5;124m\"\u001b[39m:\u001b[38;5;241m20\u001b[39m,\u001b[38;5;124m\"\u001b[39m\u001b[38;5;124mWeight\u001b[39m\u001b[38;5;124m\"\u001b[39m:\u001b[38;5;241m65\u001b[39m}\n\u001b[0;32m      2\u001b[0m \u001b[38;5;28;01mdel\u001b[39;00m (person)\n\u001b[1;32m----> 3\u001b[0m \u001b[38;5;28mprint\u001b[39m(\u001b[43mperson\u001b[49m)\n\u001b[0;32m      4\u001b[0m \u001b[38;5;28mprint\u001b[39m(\u001b[38;5;28mlen\u001b[39m(person))\n",
      "\u001b[1;31mNameError\u001b[0m: name 'person' is not defined"
     ]
    }
   ],
   "source": [
    "person={\"name\":\"Jyoti\",\"country\":\"USA\",\"telephone\":\"1178\",\"Age\":20,\"Weight\":65}\n",
    "del (person)\n",
    "print(person)\n",
    "print(len(person))\n"
   ]
  },
  {
   "cell_type": "markdown",
   "id": "d0958cbf",
   "metadata": {},
   "source": [
    "# joint dictionary\n",
    "\n",
    "using **kwards to unpack"
   ]
  },
  {
   "cell_type": "code",
   "execution_count": 1,
   "id": "ae733ecb",
   "metadata": {},
   "outputs": [
    {
     "name": "stdout",
     "output_type": "stream",
     "text": [
      "{'Name': 'Raj', 'Age': 20, 'Weight': 65}\n"
     ]
    }
   ],
   "source": [
    "person={\"Name\":\"Raj\"}\n",
    "person_1={\"Age\":20}\n",
    "person_2={\"Weight\":65}\n",
    "person_dict={**person,**person_1,**person_2}\n",
    "print(person_dict)"
   ]
  },
  {
   "cell_type": "code",
   "execution_count": 13,
   "id": "a4834776",
   "metadata": {},
   "outputs": [
    {
     "name": "stdout",
     "output_type": "stream",
     "text": [
      "{'Name': 'Raj', 'Age': 20, 'Weight': 65, 'Add': 'Hld'}\n"
     ]
    }
   ],
   "source": [
    "person={\"Name\":\"Raj\"}\n",
    "person_1={\"Age\":20}\n",
    "person_2={\"Weight\":65}\n",
    "person_3={\"Add\":\"Hld\"}\n",
    "x={**person,**person_1,**person_2,**person_3}\n",
    "print(x)"
   ]
  },
  {
   "cell_type": "code",
   "execution_count": 60,
   "id": "cf297da5",
   "metadata": {},
   "outputs": [
    {
     "name": "stdout",
     "output_type": "stream",
     "text": [
      "2447126552000\n",
      "3\n",
      "<class 'dict'>\n",
      "{'name': 'Jyoti', 'country': 'USA', 'telephone': '1178', 'Age': 20, 'weight': 65, 'Add': 'Haldwani'}\n",
      "2447126760832\n",
      "6\n",
      "<class 'dict'>\n"
     ]
    }
   ],
   "source": [
    "person={\"name\":\"Jyoti\",\"country\":\"USA\",\"telephone\":\"1178\"}\n",
    "print(id(person))\n",
    "print(len(person))\n",
    "print(type(person))\n",
    "person_1={\"Age\":20,\"weight\":65}\n",
    "person_2={\"Add\":\"Haldwani\"}\n",
    "new_dict={**person,**person_1,**person_2}\n",
    "print(new_dict)\n",
    "print(id(new_dict))\n",
    "print(len(new_dict))\n",
    "print(type(new_dict))"
   ]
  },
  {
   "cell_type": "code",
   "execution_count": 62,
   "id": "7b5c9fdb",
   "metadata": {},
   "outputs": [
    {
     "name": "stdout",
     "output_type": "stream",
     "text": [
      "2447126550016\n",
      "3\n",
      "<class 'dict'>\n",
      "{'Add': 'Haldwani', 'Age': 20, 'weight': 65, 'name': 'Jyoti', 'country': 'USA', 'telephone': '1178'}\n",
      "2447126552000\n",
      "6\n",
      "<class 'dict'>\n"
     ]
    }
   ],
   "source": [
    "person={\"name\":\"Jyoti\",\"country\":\"USA\",\"telephone\":\"1178\"}\n",
    "print(id(person))\n",
    "print(len(person))\n",
    "print(type(person))\n",
    "person_1={\"Age\":20,\"weight\":65}\n",
    "person_2={\"Add\":\"Haldwani\"}\n",
    "new_dict={**person_2,**person_1,**person}\n",
    "print(new_dict)\n",
    "print(id(new_dict))\n",
    "print(len(new_dict))\n",
    "print(type(new_dict))"
   ]
  },
  {
   "cell_type": "markdown",
   "id": "bb914e66",
   "metadata": {},
   "source": [
    "# Copy Dictionary=id will be change"
   ]
  },
  {
   "cell_type": "code",
   "execution_count": 2,
   "id": "8f48ba0e",
   "metadata": {},
   "outputs": [
    {
     "name": "stdout",
     "output_type": "stream",
     "text": [
      "2404514239616\n",
      "{'Name': 'Raj'}\n",
      "2404514239104\n",
      "{'Name': 'Raj'}\n",
      "2404508197376\n"
     ]
    }
   ],
   "source": [
    "person={\"Name\":\"Raj\"}\n",
    "print(id(person))\n",
    "person_1=person.copy()\n",
    "print(person_1)\n",
    "print(id(person_1))\n",
    "dict_2=dict(person)\n",
    "print(dict_2)\n",
    "print(id(dict_2))"
   ]
  },
  {
   "cell_type": "code",
   "execution_count": 15,
   "id": "f9e2c8fb",
   "metadata": {},
   "outputs": [
    {
     "name": "stdout",
     "output_type": "stream",
     "text": [
      "{'Name': 'Raj'}\n",
      "<class 'dict'>\n"
     ]
    }
   ],
   "source": [
    "x={\"name\":\"Raj\"}\n",
    "y=person.copy()\n",
    "print(y)\n",
    "print(type(y))"
   ]
  },
  {
   "cell_type": "code",
   "execution_count": 67,
   "id": "f388d72b",
   "metadata": {},
   "outputs": [
    {
     "name": "stdout",
     "output_type": "stream",
     "text": [
      "2447126553024\n",
      "3\n",
      "{'name': 'Jyoti', 'country': 'USA', 'telephone': '1178'}\n",
      "2447126550016\n",
      "3\n",
      "{'name': 'Jyoti', 'country': 'USA', 'telephone': '1178'}\n"
     ]
    }
   ],
   "source": [
    "person={\"name\":\"Jyoti\",\"country\":\"USA\",\"telephone\":\"1178\"}\n",
    "print(id(person))\n",
    "print(len(person))\n",
    "x=person.copy()\n",
    "print(x)\n",
    "print(id(x))\n",
    "print(len(x))\n",
    "y=dict(x)\n",
    "print(y)"
   ]
  },
  {
   "cell_type": "markdown",
   "id": "e86372f4",
   "metadata": {},
   "source": [
    "# Copy using Assignment operator\n",
    "\n",
    "\n",
    "# We can simpolay use the '='operator to create the dictionary\n",
    "\n",
    "# Note: When you use set dict2=dict1 you can are making them refer to the same dict object,so when \n",
    "you modify one of them all reference associate with that object refelect the current state of the \n",
    "object so did't use the assignment operator to copy the dictionary instead use the copy ()method.\n"
   ]
  },
  {
   "cell_type": "code",
   "execution_count": 4,
   "id": "5987b6bf",
   "metadata": {},
   "outputs": [
    {
     "name": "stdout",
     "output_type": "stream",
     "text": [
      "2404514234752\n",
      "{'name': 'yash', 'country': 'India', 'Telephone': 12345}\n",
      "2404514234752\n"
     ]
    }
   ],
   "source": [
    "person={\"name\":\"yash\",\"country\":\"India\",\"Telephone\":12345}\n",
    "print(id(person))\n",
    "person_1=person\n",
    "print(person_1)\n",
    "print(id(person_1))"
   ]
  },
  {
   "cell_type": "code",
   "execution_count": 68,
   "id": "45c5b54d",
   "metadata": {},
   "outputs": [
    {
     "name": "stdout",
     "output_type": "stream",
     "text": [
      "2447097553728\n",
      "{'name': 'Jyoti', 'country': 'USA', 'telephone': '1178'}\n",
      "2447097553728\n"
     ]
    }
   ],
   "source": [
    "person={\"name\":\"Jyoti\",\"country\":\"USA\",\"telephone\":\"1178\"}\n",
    "print(id(person))\n",
    "person_1=person\n",
    "print(person_1)\n",
    "print(id(person))"
   ]
  },
  {
   "cell_type": "markdown",
   "id": "90407827",
   "metadata": {},
   "source": [
    "# nested dictionary"
   ]
  },
  {
   "cell_type": "code",
   "execution_count": 4,
   "id": "ff6880ce",
   "metadata": {},
   "outputs": [
    {
     "name": "stdout",
     "output_type": "stream",
     "text": [
      "{'name': 'Jyoti', 'country': 'USA', 'telephone': '1178', 'Age': 20, 'Weight': 65}\n"
     ]
    }
   ],
   "source": [
    "person={\"name\":\"Jyoti\",\"country\":\"USA\",\"telephone\":\"1178\"}\n",
    "person_2={\"Age\":20,\"Weight\":65}\n",
    "person_3={**person,**person_2}\n",
    "print(person_3)"
   ]
  },
  {
   "cell_type": "code",
   "execution_count": 17,
   "id": "09e4176a",
   "metadata": {},
   "outputs": [
    {
     "ename": "TypeError",
     "evalue": "unhashable type: 'dict'",
     "output_type": "error",
     "traceback": [
      "\u001b[1;31m---------------------------------------------------------------------------\u001b[0m",
      "\u001b[1;31mTypeError\u001b[0m                                 Traceback (most recent call last)",
      "Cell \u001b[1;32mIn[17], line 3\u001b[0m\n\u001b[0;32m      1\u001b[0m x\u001b[38;5;241m=\u001b[39m{\u001b[38;5;124m\"\u001b[39m\u001b[38;5;124mName\u001b[39m\u001b[38;5;124m\"\u001b[39m:\u001b[38;5;124m\"\u001b[39m\u001b[38;5;124mRaj\u001b[39m\u001b[38;5;124m\"\u001b[39m}\n\u001b[0;32m      2\u001b[0m y\u001b[38;5;241m=\u001b[39m{\u001b[38;5;124m\"\u001b[39m\u001b[38;5;124mAge\u001b[39m\u001b[38;5;124m\"\u001b[39m:\u001b[38;5;241m20\u001b[39m}\n\u001b[1;32m----> 3\u001b[0m x\u001b[38;5;241m.\u001b[39mupdate({y})\n\u001b[0;32m      4\u001b[0m \u001b[38;5;28mprint\u001b[39m(x)\n",
      "\u001b[1;31mTypeError\u001b[0m: unhashable type: 'dict'"
     ]
    }
   ],
   "source": [
    "x={\"Name\":\"Raj\"}\n",
    "y={\"Age\":20}\n",
    "x.update({y})\n",
    "print(x)"
   ]
  },
  {
   "cell_type": "code",
   "execution_count": 5,
   "id": "10bf4107",
   "metadata": {},
   "outputs": [
    {
     "name": "stdout",
     "output_type": "stream",
     "text": [
      "1178\n"
     ]
    }
   ],
   "source": [
    "person={\"name\":\"Jyoti\",\"country\":\"USA\",\"telephone\":\"1178\"}\n",
    "x=person.get(\"telephone\")\n",
    "print(x)"
   ]
  },
  {
   "cell_type": "markdown",
   "id": "a05e115b",
   "metadata": {},
   "source": [
    "# revision"
   ]
  },
  {
   "cell_type": "code",
   "execution_count": 3,
   "id": "ec5244d6",
   "metadata": {},
   "outputs": [
    {
     "name": "stdout",
     "output_type": "stream",
     "text": [
      "{'name': 'Jyoti', 'country': 'USA', 'telephone': '1178'}\n"
     ]
    }
   ],
   "source": [
    "person={\"name\":\"Jyoti\",\"country\":\"USA\",\"telephone\":\"1178\"}\n",
    "person.keys()\n",
    "print(person)"
   ]
  },
  {
   "cell_type": "code",
   "execution_count": 6,
   "id": "77e8dbec",
   "metadata": {},
   "outputs": [
    {
     "name": "stdout",
     "output_type": "stream",
     "text": [
      "dict_keys(['name', 'country', 'telephone', 'Age', 'Weight'])\n"
     ]
    }
   ],
   "source": [
    "# to find a all keys of dictionary.\n",
    "person={\"name\":\"Jyoti\",\"country\":\"USA\",\"telephone\":\"1178\",\"Age\":22,\"Weight\":65}\n",
    "print(person.keys())"
   ]
  },
  {
   "cell_type": "code",
   "execution_count": 7,
   "id": "28c8db77",
   "metadata": {},
   "outputs": [
    {
     "name": "stdout",
     "output_type": "stream",
     "text": [
      "dict_values(['Jyoti', 'USA', '1178', 22, 65])\n"
     ]
    }
   ],
   "source": [
    "# find a values of dictionary\n",
    "person={\"name\":\"Jyoti\",\"country\":\"USA\",\"telephone\":\"1178\",\"Age\":22,\"Weight\":65}\n",
    "print(person.values())\n"
   ]
  },
  {
   "cell_type": "code",
   "execution_count": 8,
   "id": "76bee028",
   "metadata": {},
   "outputs": [
    {
     "name": "stdout",
     "output_type": "stream",
     "text": [
      "dict_items([('name', 'Jyoti'), ('country', 'USA'), ('telephone', '1178'), ('Age', 22), ('Weight', 65)])\n"
     ]
    }
   ],
   "source": [
    "# find the all item in a dictionary.\n",
    "person={\"name\":\"Jyoti\",\"country\":\"USA\",\"telephone\":\"1178\",\"Age\":22,\"Weight\":65}\n",
    "print(person.items())"
   ]
  },
  {
   "cell_type": "code",
   "execution_count": null,
   "id": "5d691319",
   "metadata": {},
   "outputs": [],
   "source": []
  }
 ],
 "metadata": {
  "kernelspec": {
   "display_name": "Python 3 (ipykernel)",
   "language": "python",
   "name": "python3"
  },
  "language_info": {
   "codemirror_mode": {
    "name": "ipython",
    "version": 3
   },
   "file_extension": ".py",
   "mimetype": "text/x-python",
   "name": "python",
   "nbconvert_exporter": "python",
   "pygments_lexer": "ipython3",
   "version": "3.10.9"
  }
 },
 "nbformat": 4,
 "nbformat_minor": 5
}
